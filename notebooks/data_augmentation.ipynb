{
 "cells": [
  {
   "cell_type": "code",
   "execution_count": 1,
   "metadata": {},
   "outputs": [],
   "source": [
    "import pandas as pd\n",
    "import numpy as np\n"
   ]
  },
  {
   "cell_type": "markdown",
   "metadata": {},
   "source": [
    "### Augmented measures\n",
    "\n",
    "The original sensor data $a_f$, $a_l$, $a_v$ (front, vertical, and lateral sensors, respectively) are augmented messures as described in Wickramasinghe et al (2017, appendix B). Firstly angles $\\theta$, $\\alpha$, and $\\beta$ are defined as follows:\n",
    "\n",
    "\n",
    "$\\theta \\approx \\tan^{-1}(a_f / \\sqrt{a_v^2 + a_l ^2})$\n",
    "\n",
    "$\\alpha \\approx \\tan^{-1}(a_l / a_v)$\n",
    "\n",
    "$\\beta \\approx \\tan^{-1}(a_l / a_f)$\n",
    "\n",
    "\n",
    "Then approximate acceleration signals $a_x$, $a_y$, and $a_z$ are derived as shown below:\n",
    "\n",
    "$a_x \\approx a_c\\sin(\\theta) + a_f\\cos(\\theta)$\n",
    "\n",
    "$a_y \\approx a_v\\sin(\\alpha) + a_l\\cos(\\alpha)$\n",
    "\n",
    "$a_z \\approx 1 + a_v\\cos(\\theta)\\cos(\\alpha) + a_l\\sin(\\alpha) + a_f\\sin(\\theta)$\n",
    "\n",
    "### Features\n",
    "\n",
    "Features are taken over a window $X_{[t_i - \\delta t, t_i]}$:\n",
    "\n",
    "| Feature | Description |\n",
    "|:-:|:-|\n",
    "| $a_f$ | Frontal acceleration |\n",
    "| $a_l$ | Lateral acceleration |\n",
    "| $a_v$ | Vertical acceleration |\n",
    "| $\\theta$ | Angle on Sagittal plane |\n",
    "| $\\alpha$ | Angle on Coronal plane |\n",
    "| $\\beta$ | Angle on Transverse plane |\n",
    "| $a_x$ | Anteroposterior acceleration |\n",
    "| $a_y$ | Mediolateral acceleration |\n",
    "| $a_z$ | Dorsvental acceleration |\n",
    "| mean$(a_f)$; mean$(a_l)$; mean$(a_v)$ | \n",
    "| max$(a_f)$; max$(a_l)$; max$(a_v)$ | \n",
    "| min$(a_f)$; min$(a_l)$; min$(a_v)$ | \n",
    "| corr$(a_f, a_l)$; corr$(a_f, a_v)$; corr$(a_l, a_v)$ |\n",
    "| mean$(a_x)$; mean$(a_y)$; mean$(a_z)$ | \n",
    "| mean$(\\theta)$; mean$(\\alpha)$; mean$(\\beta)$ | \n",
    "| max$(\\theta)$; max$(\\alpha)$; max$(\\beta)$ | \n",
    "| min$(\\theta)$; max$(\\alpha)$; max$(\\beta)$ | "
   ]
  },
  {
   "cell_type": "markdown",
   "metadata": {},
   "source": []
  },
  {
   "cell_type": "code",
   "execution_count": null,
   "metadata": {},
   "outputs": [],
   "source": []
  }
 ],
 "metadata": {
  "kernelspec": {
   "display_name": "Python 3",
   "language": "python",
   "name": "python3"
  },
  "language_info": {
   "codemirror_mode": {
    "name": "ipython",
    "version": 3
   },
   "file_extension": ".py",
   "mimetype": "text/x-python",
   "name": "python",
   "nbconvert_exporter": "python",
   "pygments_lexer": "ipython3",
   "version": "3.8.5"
  }
 },
 "nbformat": 4,
 "nbformat_minor": 4
}
