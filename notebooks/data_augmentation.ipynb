{
 "cells": [
  {
   "cell_type": "code",
   "execution_count": 1,
   "metadata": {},
   "outputs": [],
   "source": [
    "import pandas as pd\n",
    "import numpy as np\n"
   ]
  },
  {
   "cell_type": "markdown",
   "metadata": {},
   "source": [
    "### Augmented measures\n",
    "\n",
    "The original sensor data $a_f$, $a_l$, $a_v$ (front, vertical, and lateral sensors, respectively) are augmented messures as described in Wickramasinghe et al (2017, appendix B). Firstly angles $\\theta$, $\\alpha$, and $\\beta$ are defined as follows:\n",
    "\n",
    "\n",
    "$\\theta \\approx \\tan^{-1}(a_f / \\sqrt{a_v^2 + a_l ^2})$\n",
    "\n",
    "$\\alpha \\approx \\tan^{-1}(a_l / a_v)$\n",
    "\n",
    "$\\beta \\approx \\tan^{-1}(a_l / a_f)$\n",
    "\n",
    "\n",
    "Then approximate acceleration signals $a_x$, $a_y$, and $a_z$ are derived as shown below:\n",
    "\n",
    "$a_x \\approx a_c\\sin(\\theta) + a_f\\cos(\\theta)$\n",
    "\n",
    "$a_y \\approx a_v\\sin(\\alpha) + a_l\\cos(\\alpha)$\n",
    "\n",
    "$a_z \\approx 1 + a_v\\cos(\\theta)\\cos(\\alpha) + a_l\\sin(\\alpha) + a_f\\sin(\\theta)$\n",
    "\n",
    "### Features\n",
    "\n",
    "Features are taken over a window $X_{[t_i - \\delta t, t_i]}$:\n",
    "\n",
    "| Feature | Description |\n",
    "|:-:|:-|\n",
    "| $a_f$ | Frontal acceleration |\n",
    "| $a_l$ | Lateral acceleration |\n",
    "| $a_v$ | Vertical acceleration |\n",
    "| $\\theta$ | Angle on Sagittal plane |\n",
    "| $\\alpha$ | Angle on Coronal plane |\n",
    "| $\\beta$ | Angle on Transverse plane |\n",
    "| $a_x$ | Anteroposterior acceleration |\n",
    "| $a_y$ | Mediolateral acceleration |\n",
    "| $a_z$ | Dorsvental acceleration |\n",
    "| $\\mbox{mean}$$(a_f)$; $\\mbox{mean}$$(a_l)$; $\\mbox{mean}$$(a_v)$ |\n",
    "| $\\mbox{max}$$(a_f)$; $\\mbox{max}$$(a_l)$; $\\mbox{max}$$(a_v)$ |\n",
    "| $\\mbox{min}$$(a_f)$; $\\mbox{min}$$(a_l)$; $\\mbox{min}$$(a_v)$ |\n",
    "| $\\mbox{corr}$$(a_f\\mbox{,}a_l)$; $\\mbox{corr}$$(a_f\\mbox{,}a_v)$; $\\mbox{corr}$$(a_l\\mbox{,}a_v)$ |\n",
    "| $\\mbox{mean}$ $(a_x)$; $\\mbox{mean}$ $(a_y)$; $\\mbox{mean}$ $(a_z)$ | \n",
    "| $\\mbox{mean}$$(\\theta)$; $\\mbox{mean}$$(\\alpha)$; $\\mbox{mean}$$(\\beta)$ |\n",
    "| $\\mbox{max}$$(\\theta)$; $\\mbox{max}$$(\\alpha)$; $\\mbox{max}$$(\\beta)$ |\n",
    "| $\\mbox{min}$$(\\theta)$; $\\mbox{min}$$(\\alpha)$; $\\mbox{min}$$(\\beta)$ |"
   ]
  },
  {
   "cell_type": "code",
   "execution_count": null,
   "metadata": {},
   "outputs": [],
   "source": []
  }
 ],
 "metadata": {
  "kernelspec": {
   "display_name": "Python 3",
   "language": "python",
   "name": "python3"
  },
  "language_info": {
   "codemirror_mode": {
    "name": "ipython",
    "version": 3
   },
   "file_extension": ".py",
   "mimetype": "text/x-python",
   "name": "python",
   "nbconvert_exporter": "python",
   "pygments_lexer": "ipython3",
   "version": "3.8.5"
  }
 },
 "nbformat": 4,
 "nbformat_minor": 4
}
