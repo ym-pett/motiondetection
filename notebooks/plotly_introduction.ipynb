{
 "cells": [
  {
   "cell_type": "markdown",
   "metadata": {},
   "source": [
    "# Plotting participant data using plotly\n",
    "\n",
    "[Plotly](https://plotly.com/graphing-libraries/) is a open source graphing libray for Python, R, and Javascript which is easier to use than [matplotlib](https://matplotlib.org/) and somewhat less opinionated/constrained than [seaborn](https://seaborn.pydata.org/). When used with [Dash](https://dash.plotly.com/) it provides relatively simple ways to produce iteractive plots for dashboards.\n",
    "\n",
    "This notebook provides a quick introduction/cookbook/tutorial on producing plots using Plotly and uses it to plot some motion sensor data from the [UCI Machine Learning repository](https://archive.ics.uci.edu/ml/datasets/Activity+recognition+with+healthy+older+people+using+a+batteryless+wearable+sensor#)."
   ]
  },
  {
   "cell_type": "markdown",
   "metadata": {},
   "source": [
    "## Load the data\n",
    "\n",
    "First we load the downloaded data into a [pandas](https://pandas.pydata.org/) dataframe and add use useful columns:"
   ]
  },
  {
   "cell_type": "code",
   "execution_count": 3,
   "metadata": {},
   "outputs": [
    {
     "data": {
      "text/html": [
       "<div>\n",
       "<style scoped>\n",
       "    .dataframe tbody tr th:only-of-type {\n",
       "        vertical-align: middle;\n",
       "    }\n",
       "\n",
       "    .dataframe tbody tr th {\n",
       "        vertical-align: top;\n",
       "    }\n",
       "\n",
       "    .dataframe thead th {\n",
       "        text-align: right;\n",
       "    }\n",
       "</style>\n",
       "<table border=\"1\" class=\"dataframe\">\n",
       "  <thead>\n",
       "    <tr style=\"text-align: right;\">\n",
       "      <th></th>\n",
       "      <th>time</th>\n",
       "      <th>front</th>\n",
       "      <th>vertical</th>\n",
       "      <th>lateral</th>\n",
       "      <th>sensor_id</th>\n",
       "      <th>rssi</th>\n",
       "      <th>phase</th>\n",
       "      <th>frequency</th>\n",
       "      <th>activity</th>\n",
       "      <th>activity_label</th>\n",
       "      <th>gender_label</th>\n",
       "      <th>participant</th>\n",
       "      <th>activity_sequence</th>\n",
       "    </tr>\n",
       "  </thead>\n",
       "  <tbody>\n",
       "    <tr>\n",
       "      <th>0</th>\n",
       "      <td>0.00</td>\n",
       "      <td>0.27203</td>\n",
       "      <td>1.00820</td>\n",
       "      <td>-0.082102</td>\n",
       "      <td>1</td>\n",
       "      <td>-63.5</td>\n",
       "      <td>2.4252</td>\n",
       "      <td>924.25</td>\n",
       "      <td>1</td>\n",
       "      <td>bed</td>\n",
       "      <td>M</td>\n",
       "      <td>d1p01M</td>\n",
       "      <td>1</td>\n",
       "    </tr>\n",
       "    <tr>\n",
       "      <th>1</th>\n",
       "      <td>0.50</td>\n",
       "      <td>0.27203</td>\n",
       "      <td>1.00820</td>\n",
       "      <td>-0.082102</td>\n",
       "      <td>1</td>\n",
       "      <td>-63.0</td>\n",
       "      <td>4.7369</td>\n",
       "      <td>921.75</td>\n",
       "      <td>1</td>\n",
       "      <td>bed</td>\n",
       "      <td>M</td>\n",
       "      <td>d1p01M</td>\n",
       "      <td>1</td>\n",
       "    </tr>\n",
       "    <tr>\n",
       "      <th>2</th>\n",
       "      <td>1.50</td>\n",
       "      <td>0.44791</td>\n",
       "      <td>0.91636</td>\n",
       "      <td>-0.013684</td>\n",
       "      <td>1</td>\n",
       "      <td>-63.5</td>\n",
       "      <td>3.0311</td>\n",
       "      <td>923.75</td>\n",
       "      <td>1</td>\n",
       "      <td>bed</td>\n",
       "      <td>M</td>\n",
       "      <td>d1p01M</td>\n",
       "      <td>1</td>\n",
       "    </tr>\n",
       "    <tr>\n",
       "      <th>3</th>\n",
       "      <td>1.75</td>\n",
       "      <td>0.44791</td>\n",
       "      <td>0.91636</td>\n",
       "      <td>-0.013684</td>\n",
       "      <td>1</td>\n",
       "      <td>-63.0</td>\n",
       "      <td>2.0371</td>\n",
       "      <td>921.25</td>\n",
       "      <td>1</td>\n",
       "      <td>bed</td>\n",
       "      <td>M</td>\n",
       "      <td>d1p01M</td>\n",
       "      <td>1</td>\n",
       "    </tr>\n",
       "    <tr>\n",
       "      <th>4</th>\n",
       "      <td>2.50</td>\n",
       "      <td>0.34238</td>\n",
       "      <td>0.96229</td>\n",
       "      <td>-0.059296</td>\n",
       "      <td>1</td>\n",
       "      <td>-63.5</td>\n",
       "      <td>5.8920</td>\n",
       "      <td>920.25</td>\n",
       "      <td>1</td>\n",
       "      <td>bed</td>\n",
       "      <td>M</td>\n",
       "      <td>d1p01M</td>\n",
       "      <td>1</td>\n",
       "    </tr>\n",
       "  </tbody>\n",
       "</table>\n",
       "</div>"
      ],
      "text/plain": [
       "   time    front  vertical   lateral  sensor_id  rssi   phase  frequency  \\\n",
       "0  0.00  0.27203   1.00820 -0.082102          1 -63.5  2.4252     924.25   \n",
       "1  0.50  0.27203   1.00820 -0.082102          1 -63.0  4.7369     921.75   \n",
       "2  1.50  0.44791   0.91636 -0.013684          1 -63.5  3.0311     923.75   \n",
       "3  1.75  0.44791   0.91636 -0.013684          1 -63.0  2.0371     921.25   \n",
       "4  2.50  0.34238   0.96229 -0.059296          1 -63.5  5.8920     920.25   \n",
       "\n",
       "   activity activity_label gender_label participant  activity_sequence  \n",
       "0         1            bed            M      d1p01M                  1  \n",
       "1         1            bed            M      d1p01M                  1  \n",
       "2         1            bed            M      d1p01M                  1  \n",
       "3         1            bed            M      d1p01M                  1  \n",
       "4         1            bed            M      d1p01M                  1  "
      ]
     },
     "execution_count": 3,
     "metadata": {},
     "output_type": "execute_result"
    }
   ],
   "source": [
    "from pathlib import Path\n",
    "\n",
    "import pandas as pd\n",
    "\n",
    "DATA_ROOT = Path('..') / 'data'\n",
    "\n",
    "dfs = []\n",
    "activity_labels = ['bed', 'chair', 'lying', 'ambulating']\n",
    "default_names = ['time', 'front', 'vertical', 'lateral', 'sensor_id', 'rssi', 'phase', 'frequency', 'activity']\n",
    "for data_file in Path(DATA_ROOT).rglob('d[12]p??[FM]'):\n",
    "    df = pd.read_csv(data_file, names=default_names)\n",
    "    df['activity_label'] = df['activity'].apply(lambda i: activity_labels[i - 1])\n",
    "    df['gender_label'] = str(data_file)[-1]\n",
    "    df['participant'] = data_file.name\n",
    "    \n",
    "    # Add a column indicating order of the activities for a particiapnt.\n",
    "    df = df.sort_values(by=['time'])\n",
    "    df['activity_sequence'] = (df['activity'].shift(1) != df['activity']).cumsum()\n",
    "    dfs.append(df)\n",
    "\n",
    "sensor_df = pd.concat(dfs, axis='index')\n",
    "sensor_df = sensor_df.sort_values(by=['participant', 'time'])\n",
    "\n",
    "sensor_df.head()"
   ]
  },
  {
   "cell_type": "markdown",
   "metadata": {},
   "source": [
    "We are going to plot one participant's data so we subset the data for one participant:"
   ]
  },
  {
   "cell_type": "code",
   "execution_count": 4,
   "metadata": {},
   "outputs": [
    {
     "data": {
      "text/html": [
       "<div>\n",
       "<style scoped>\n",
       "    .dataframe tbody tr th:only-of-type {\n",
       "        vertical-align: middle;\n",
       "    }\n",
       "\n",
       "    .dataframe tbody tr th {\n",
       "        vertical-align: top;\n",
       "    }\n",
       "\n",
       "    .dataframe thead th {\n",
       "        text-align: right;\n",
       "    }\n",
       "</style>\n",
       "<table border=\"1\" class=\"dataframe\">\n",
       "  <thead>\n",
       "    <tr style=\"text-align: right;\">\n",
       "      <th></th>\n",
       "      <th>time</th>\n",
       "      <th>front</th>\n",
       "      <th>vertical</th>\n",
       "      <th>lateral</th>\n",
       "      <th>sensor_id</th>\n",
       "      <th>rssi</th>\n",
       "      <th>phase</th>\n",
       "      <th>frequency</th>\n",
       "      <th>activity</th>\n",
       "      <th>activity_label</th>\n",
       "      <th>gender_label</th>\n",
       "      <th>participant</th>\n",
       "      <th>activity_sequence</th>\n",
       "    </tr>\n",
       "  </thead>\n",
       "  <tbody>\n",
       "    <tr>\n",
       "      <th>0</th>\n",
       "      <td>0.00</td>\n",
       "      <td>0.27203</td>\n",
       "      <td>1.00820</td>\n",
       "      <td>-0.082102</td>\n",
       "      <td>1</td>\n",
       "      <td>-63.5</td>\n",
       "      <td>2.4252</td>\n",
       "      <td>924.25</td>\n",
       "      <td>1</td>\n",
       "      <td>bed</td>\n",
       "      <td>M</td>\n",
       "      <td>d1p01M</td>\n",
       "      <td>1</td>\n",
       "    </tr>\n",
       "    <tr>\n",
       "      <th>1</th>\n",
       "      <td>0.50</td>\n",
       "      <td>0.27203</td>\n",
       "      <td>1.00820</td>\n",
       "      <td>-0.082102</td>\n",
       "      <td>1</td>\n",
       "      <td>-63.0</td>\n",
       "      <td>4.7369</td>\n",
       "      <td>921.75</td>\n",
       "      <td>1</td>\n",
       "      <td>bed</td>\n",
       "      <td>M</td>\n",
       "      <td>d1p01M</td>\n",
       "      <td>1</td>\n",
       "    </tr>\n",
       "    <tr>\n",
       "      <th>2</th>\n",
       "      <td>1.50</td>\n",
       "      <td>0.44791</td>\n",
       "      <td>0.91636</td>\n",
       "      <td>-0.013684</td>\n",
       "      <td>1</td>\n",
       "      <td>-63.5</td>\n",
       "      <td>3.0311</td>\n",
       "      <td>923.75</td>\n",
       "      <td>1</td>\n",
       "      <td>bed</td>\n",
       "      <td>M</td>\n",
       "      <td>d1p01M</td>\n",
       "      <td>1</td>\n",
       "    </tr>\n",
       "    <tr>\n",
       "      <th>3</th>\n",
       "      <td>1.75</td>\n",
       "      <td>0.44791</td>\n",
       "      <td>0.91636</td>\n",
       "      <td>-0.013684</td>\n",
       "      <td>1</td>\n",
       "      <td>-63.0</td>\n",
       "      <td>2.0371</td>\n",
       "      <td>921.25</td>\n",
       "      <td>1</td>\n",
       "      <td>bed</td>\n",
       "      <td>M</td>\n",
       "      <td>d1p01M</td>\n",
       "      <td>1</td>\n",
       "    </tr>\n",
       "    <tr>\n",
       "      <th>4</th>\n",
       "      <td>2.50</td>\n",
       "      <td>0.34238</td>\n",
       "      <td>0.96229</td>\n",
       "      <td>-0.059296</td>\n",
       "      <td>1</td>\n",
       "      <td>-63.5</td>\n",
       "      <td>5.8920</td>\n",
       "      <td>920.25</td>\n",
       "      <td>1</td>\n",
       "      <td>bed</td>\n",
       "      <td>M</td>\n",
       "      <td>d1p01M</td>\n",
       "      <td>1</td>\n",
       "    </tr>\n",
       "  </tbody>\n",
       "</table>\n",
       "</div>"
      ],
      "text/plain": [
       "   time    front  vertical   lateral  sensor_id  rssi   phase  frequency  \\\n",
       "0  0.00  0.27203   1.00820 -0.082102          1 -63.5  2.4252     924.25   \n",
       "1  0.50  0.27203   1.00820 -0.082102          1 -63.0  4.7369     921.75   \n",
       "2  1.50  0.44791   0.91636 -0.013684          1 -63.5  3.0311     923.75   \n",
       "3  1.75  0.44791   0.91636 -0.013684          1 -63.0  2.0371     921.25   \n",
       "4  2.50  0.34238   0.96229 -0.059296          1 -63.5  5.8920     920.25   \n",
       "\n",
       "   activity activity_label gender_label participant  activity_sequence  \n",
       "0         1            bed            M      d1p01M                  1  \n",
       "1         1            bed            M      d1p01M                  1  \n",
       "2         1            bed            M      d1p01M                  1  \n",
       "3         1            bed            M      d1p01M                  1  \n",
       "4         1            bed            M      d1p01M                  1  "
      ]
     },
     "execution_count": 4,
     "metadata": {},
     "output_type": "execute_result"
    }
   ],
   "source": [
    "participants = sensor_df['participant'].unique()\n",
    "participant = participants[0]\n",
    "participant_df = sensor_df[sensor_df['participant'] == participant]\n",
    "participant_df.head()"
   ]
  },
  {
   "cell_type": "markdown",
   "metadata": {},
   "source": [
    "## Plotting data\n",
    "\n",
    "Plotly comes with two APIs for producing plots, a higher level API `plotly.express`, which creates complete figures typically in one command, and a lower lever API `plotly.graph_objects` which provides greater flexibility at the expense of some verbosity.\n",
    "\n",
    "We will focus on the `graph_objects` API as it is actually easier to produce plots with multiple elements (known as \"traces\") and also add, hide or customise legends."
   ]
  },
  {
   "cell_type": "markdown",
   "metadata": {},
   "source": [
    "Firstly, we import the `graph_objects` API."
   ]
  },
  {
   "cell_type": "code",
   "execution_count": 8,
   "metadata": {},
   "outputs": [],
   "source": [
    "import plotly.graph_objects as go"
   ]
  },
  {
   "cell_type": "markdown",
   "metadata": {},
   "source": [
    "Now, we can plot the front sensor data for the participant. This involves\n",
    "- create a figure using `go.Figure()`\n",
    "- adding a trace to the plot using the `add_trace` method\n"
   ]
  },
  {
   "cell_type": "code",
   "execution_count": 26,
   "metadata": {},
   "outputs": [
    {
     "data": {
      "application/vnd.plotly.v1+json": {
       "config": {
        "plotlyServerURL": "https://plot.ly"
       },
       "data": [
        {
         "type": "scatter",
         "x": [
          0,
          0.5,
          1.5,
          1.75,
          2.5,
          3.25,
          4,
          5,
          5.5,
          6,
          6.5,
          6.75,
          7.75,
          8,
          9,
          9.75,
          10,
          10.5,
          10.75,
          12,
          12.5,
          13,
          14,
          15.25,
          15.5,
          16.5,
          17.5,
          18.5,
          18.75,
          19.25,
          20,
          21,
          22.75,
          23,
          23.25,
          24.5,
          26.25,
          27.75,
          28.5,
          29,
          29.5,
          29.75,
          30.5,
          30.75,
          31.75,
          32.5,
          33,
          33.5,
          34,
          34.5,
          35.5,
          35.6,
          35.75,
          36.25,
          37,
          37.75,
          38,
          38.1,
          38.5,
          38.75,
          38.85,
          39.25,
          39.35,
          39.75,
          40.25,
          40.5,
          41.5,
          41.6,
          42,
          42.25,
          42.5,
          43,
          43.1,
          43.25,
          43.35,
          43.5,
          44,
          44.1,
          44.25,
          44.5,
          44.75,
          45.75,
          45.85,
          46,
          46.25,
          46.5,
          46.575,
          47.25,
          47.5,
          47.575,
          48,
          48.5,
          48.75,
          49,
          49.1,
          50,
          50.5,
          50.75,
          50.825,
          51.75,
          52,
          52.75,
          52.85,
          53.5,
          53.6,
          53.75,
          53.825,
          54,
          54.25,
          54.5,
          55,
          55.25,
          55.325,
          55.5,
          56,
          56.25,
          56.5,
          57.25,
          57.35,
          57.5,
          58.5,
          58.75,
          58.825,
          59.25,
          60.25,
          60.5,
          61.75,
          62.25,
          62.5,
          62.6,
          62.75,
          63,
          63.75,
          63.825,
          64,
          64.25,
          64.75,
          64.875,
          65,
          65.1,
          65.25,
          65.5,
          65.6,
          65.65,
          65.75,
          66.5,
          66.75,
          67.5,
          67.6,
          67.75,
          68,
          68.525,
          68.6,
          68.65,
          69,
          69.25,
          70,
          70.1,
          71.625,
          71.725,
          71.775,
          71.825,
          71.85,
          72.25,
          72.5,
          72.6,
          73.5,
          73.75,
          74,
          74.075,
          74.125,
          74.25,
          76,
          76.5,
          77.25,
          77.5,
          77.75,
          78,
          79,
          80,
          80.75,
          81,
          81.5,
          82.25,
          82.75,
          83.25,
          84.5,
          84.75,
          85.25,
          86.5,
          87,
          87.75,
          88.25,
          88.75,
          89.75,
          90,
          90.25,
          90.75,
          92,
          92.5,
          93.5,
          94.25,
          94.75,
          95,
          95.25,
          96,
          96.5,
          96.75,
          97.25,
          98.25,
          98.5,
          99,
          99.5,
          100,
          101.25,
          101.5,
          102,
          102.5,
          103.25,
          104,
          106.75,
          107.25,
          111.5,
          116,
          116.5,
          118,
          120.5,
          126.5,
          127,
          128.5,
          130.25,
          131.25,
          132.75,
          133,
          135,
          136.25,
          137.25,
          138.25,
          139,
          140,
          140.5,
          140.75,
          141.25,
          142,
          142.25,
          142.75,
          143,
          143.5,
          145,
          146,
          146.75,
          148,
          148.5,
          149.75,
          150.5,
          151,
          152.5,
          153,
          153.5,
          155.28,
          156,
          157.25,
          157.5,
          158,
          158.75,
          159.75,
          160.5,
          162.25,
          163,
          163.5,
          164,
          164.5,
          165.75,
          166.25,
          166.5,
          168,
          168.5,
          169,
          169.5,
          178.75,
          184.5,
          186,
          193,
          194.5,
          196.25,
          198.25,
          199.5,
          199.75,
          200.25,
          200.33,
          200.75,
          201,
          201.53,
          202.25,
          203.25,
          204.25,
          205.25,
          206,
          206.25,
          208,
          208.75,
          209,
          210,
          211.75,
          211.85,
          212.25,
          212.35,
          212.5,
          212.75,
          213,
          213.08,
          213.25,
          213.5,
          213.75,
          213.83,
          214.25,
          214.75,
          215,
          215.25,
          215.75,
          217.25,
          217.5,
          217.75,
          218,
          218.75,
          220,
          220.25,
          221,
          222.75,
          224.25,
          224.5,
          225,
          225.25,
          225.5,
          225.75,
          226.5,
          227.75,
          227.85,
          228.5,
          228.58,
          229,
          230,
          230.5,
          231.25,
          231.5,
          231.75,
          232,
          232.5,
          234.25,
          234.5,
          234.75,
          235,
          235.25,
          235.5,
          235.75,
          235.85,
          236.25,
          236.5,
          237,
          237.08,
          237.25,
          237.35,
          237.5,
          237.6,
          237.63,
          238,
          238.5,
          238.75,
          239.75,
          240.5,
          241.25,
          241.5,
          241.75,
          242,
          243,
          243.5,
          244,
          244.25,
          244.35,
          244.5,
          244.58,
          244.75,
          245,
          245.08,
          245.25,
          245.33,
          246,
          246.75,
          247,
          247.25,
          247.75,
          247.85,
          248,
          250,
          250.5,
          250.75,
          251,
          251.25,
          251.5,
          253.25,
          254
         ],
         "y": [
          0.27203,
          0.27203,
          0.44791000000000003,
          0.44791000000000003,
          0.34238,
          0.34238,
          0.30721,
          0.27203,
          0.23685,
          0.23685,
          0.23685,
          0.23685,
          0.31893,
          0.31893,
          0.47136000000000006,
          0.40101,
          0.40101,
          0.40101,
          0.40101,
          0.30721,
          0.30721,
          0.30721,
          0.41273000000000004,
          0.27203,
          0.27203,
          0.24858000000000002,
          0.2603,
          0.31893,
          0.31893,
          0.31893,
          0.43618999999999997,
          0.47136000000000006,
          0.2134,
          0.2134,
          0.2134,
          0.23685,
          0.23685,
          0.20168,
          0.50654,
          0.50654,
          0.50654,
          0.50654,
          0.42446000000000006,
          0.42446000000000006,
          0.24858000000000002,
          0.34238,
          0.34238,
          0.30721,
          0.15478,
          0.15478,
          0.56517,
          0.56517,
          0.56517,
          0.56517,
          0.56517,
          1.0694,
          1.0694,
          1.0694,
          0.8231200000000001,
          1.0576,
          1.0576,
          1.1632,
          1.1632,
          0.9052,
          1.1397,
          0.92865,
          0.9169299999999999,
          0.9169299999999999,
          1.3156,
          0.9052,
          0.9052,
          1.2452,
          1.2452,
          0.87003,
          0.87003,
          0.9521,
          0.87003,
          0.87003,
          0.87003,
          0.8934799999999999,
          0.8934799999999999,
          1.0342,
          1.0342,
          1.0342,
          1.3156,
          0.92865,
          0.92865,
          1.0342,
          1.0342,
          1.0342,
          0.9052,
          1.1514,
          0.9052,
          1.3039,
          1.3039,
          0.9403799999999999,
          0.92865,
          0.92865,
          0.92865,
          1.1866,
          1.1866,
          0.9403799999999999,
          0.9403799999999999,
          1.0342,
          1.0342,
          1.0342,
          1.0342,
          0.88175,
          0.88175,
          0.88175,
          1.1983,
          1.1983,
          0.9990100000000001,
          0.9990100000000001,
          1.1045,
          0.9521,
          0.9521,
          1.1632,
          1.1632,
          1.1632,
          1.0811,
          0.96383,
          0.96383,
          0.88175,
          0.88175,
          1.0459,
          1.1983,
          0.9403799999999999,
          0.8934799999999999,
          0.8934799999999999,
          0.8934799999999999,
          0.8583,
          0.9052,
          0.96383,
          0.96383,
          0.96383,
          0.92865,
          0.92865,
          0.92865,
          1.2101,
          1.2101,
          1.2101,
          0.8934799999999999,
          0.8934799999999999,
          0.8934799999999999,
          0.9052,
          0.9052,
          0.9169299999999999,
          0.9169299999999999,
          0.9169299999999999,
          0.8934799999999999,
          0.9169299999999999,
          0.88175,
          0.88175,
          1.0107,
          1.0107,
          0.9169299999999999,
          0.9169299999999999,
          0.88175,
          0.88175,
          0.88175,
          1.128,
          1.128,
          0.9052,
          0.9052,
          0.9052,
          0.88175,
          0.88175,
          0.88175,
          0.9403799999999999,
          0.9403799999999999,
          0.9403799999999999,
          0.7176,
          0.7176,
          0.7176,
          0.7176,
          0.7176,
          0.7176,
          0.42446000000000006,
          0.23685,
          0.23685,
          0.23685,
          0.23685,
          0.29548,
          0.29548,
          0.29548,
          0.33066,
          0.33066,
          0.33066,
          0.5534399999999999,
          0.5534399999999999,
          0.37756,
          0.37756,
          0.37756,
          0.31893,
          0.31893,
          0.31893,
          0.31893,
          0.30721,
          0.30721,
          0.33066,
          0.33066,
          0.33066,
          0.33066,
          0.33066,
          0.28376,
          0.28376,
          0.28376,
          0.28376,
          0.54171,
          0.54171,
          0.54171,
          0.54171,
          0.54171,
          0.29548,
          0.29548,
          0.29548,
          0.29548,
          0.41273000000000004,
          0.41273000000000004,
          0.22513000000000002,
          0.60034,
          0.2603,
          0.83485,
          0.83485,
          0.88175,
          0.88175,
          0.8465799999999999,
          0.8465799999999999,
          1.0928,
          0.83485,
          1.0928,
          0.78795,
          0.78795,
          0.8583,
          0.8583,
          0.8583,
          0.8934799999999999,
          0.8934799999999999,
          0.88175,
          0.88175,
          0.88175,
          0.88175,
          0.88175,
          0.88175,
          0.88175,
          0.88175,
          0.88175,
          0.8583,
          0.9052,
          0.9052,
          0.96383,
          0.96383,
          0.88175,
          0.88175,
          0.88175,
          1.1163,
          1.1163,
          1.1163,
          0.8465799999999999,
          0.8465799999999999,
          0.88175,
          0.88175,
          0.88175,
          0.88175,
          0.87003,
          0.87003,
          0.87003,
          0.87003,
          0.87003,
          0.87003,
          0.87003,
          0.8934799999999999,
          0.8934799999999999,
          0.8934799999999999,
          0.88175,
          0.88175,
          0.88175,
          0.88175,
          0.88175,
          0.8231200000000001,
          0.87003,
          0.8465799999999999,
          0.77622,
          0.096148,
          0.096148,
          -0.51357,
          -0.51357,
          -0.51357,
          -0.51357,
          0.92865,
          1.2335,
          1.0928,
          1.2101,
          1.2687,
          1.0928,
          1.2687,
          1.2921,
          1.2921,
          1.0694,
          1.0928,
          1.0928,
          1.128,
          0.9169299999999999,
          0.9169299999999999,
          0.9521,
          1.2687,
          1.0107,
          1.0107,
          0.88175,
          0.88175,
          0.9169299999999999,
          0.9990100000000001,
          0.9990100000000001,
          0.9990100000000001,
          1.1397,
          0.9169299999999999,
          0.9169299999999999,
          0.9169299999999999,
          1.1632,
          0.9169299999999999,
          1.1514,
          1.0107,
          0.88175,
          0.96383,
          0.9052,
          1.0225,
          1.0342,
          0.92865,
          1.1163,
          0.9403799999999999,
          0.9169299999999999,
          0.92865,
          1.1045,
          1.0694,
          0.9169299999999999,
          1.0459,
          1.0459,
          1.1163,
          1.1163,
          0.96383,
          1.1045,
          0.92865,
          0.9169299999999999,
          0.9403799999999999,
          0.9403799999999999,
          0.9052,
          0.92865,
          1.2804,
          0.92865,
          1.128,
          1.0694,
          0.9169299999999999,
          0.9521,
          0.9521,
          0.88175,
          0.9521,
          0.92865,
          1.1045,
          1.1045,
          0.9052,
          0.9052,
          0.9052,
          0.9052,
          0.88175,
          0.9403799999999999,
          1.2101,
          1.2101,
          1.0342,
          0.88175,
          0.8934799999999999,
          1.1866,
          0.92865,
          0.9169299999999999,
          0.97555,
          0.9872799999999999,
          1.1514,
          0.92865,
          1.0107,
          1.1163,
          1.1163,
          0.9052,
          0.9521,
          0.9403799999999999,
          0.9169299999999999,
          0.9169299999999999,
          1.1163,
          0.9403799999999999,
          1.1397,
          1.1045,
          0.8934799999999999,
          0.9052,
          1.2218,
          0.87003,
          0.87003,
          0.87003,
          0.87003,
          0.87003,
          0.87003,
          -0.0093803,
          -0.0093803
         ]
        }
       ],
       "layout": {
        "template": {
         "data": {
          "bar": [
           {
            "error_x": {
             "color": "#2a3f5f"
            },
            "error_y": {
             "color": "#2a3f5f"
            },
            "marker": {
             "line": {
              "color": "#E5ECF6",
              "width": 0.5
             }
            },
            "type": "bar"
           }
          ],
          "barpolar": [
           {
            "marker": {
             "line": {
              "color": "#E5ECF6",
              "width": 0.5
             }
            },
            "type": "barpolar"
           }
          ],
          "carpet": [
           {
            "aaxis": {
             "endlinecolor": "#2a3f5f",
             "gridcolor": "white",
             "linecolor": "white",
             "minorgridcolor": "white",
             "startlinecolor": "#2a3f5f"
            },
            "baxis": {
             "endlinecolor": "#2a3f5f",
             "gridcolor": "white",
             "linecolor": "white",
             "minorgridcolor": "white",
             "startlinecolor": "#2a3f5f"
            },
            "type": "carpet"
           }
          ],
          "choropleth": [
           {
            "colorbar": {
             "outlinewidth": 0,
             "ticks": ""
            },
            "type": "choropleth"
           }
          ],
          "contour": [
           {
            "colorbar": {
             "outlinewidth": 0,
             "ticks": ""
            },
            "colorscale": [
             [
              0,
              "#0d0887"
             ],
             [
              0.1111111111111111,
              "#46039f"
             ],
             [
              0.2222222222222222,
              "#7201a8"
             ],
             [
              0.3333333333333333,
              "#9c179e"
             ],
             [
              0.4444444444444444,
              "#bd3786"
             ],
             [
              0.5555555555555556,
              "#d8576b"
             ],
             [
              0.6666666666666666,
              "#ed7953"
             ],
             [
              0.7777777777777778,
              "#fb9f3a"
             ],
             [
              0.8888888888888888,
              "#fdca26"
             ],
             [
              1,
              "#f0f921"
             ]
            ],
            "type": "contour"
           }
          ],
          "contourcarpet": [
           {
            "colorbar": {
             "outlinewidth": 0,
             "ticks": ""
            },
            "type": "contourcarpet"
           }
          ],
          "heatmap": [
           {
            "colorbar": {
             "outlinewidth": 0,
             "ticks": ""
            },
            "colorscale": [
             [
              0,
              "#0d0887"
             ],
             [
              0.1111111111111111,
              "#46039f"
             ],
             [
              0.2222222222222222,
              "#7201a8"
             ],
             [
              0.3333333333333333,
              "#9c179e"
             ],
             [
              0.4444444444444444,
              "#bd3786"
             ],
             [
              0.5555555555555556,
              "#d8576b"
             ],
             [
              0.6666666666666666,
              "#ed7953"
             ],
             [
              0.7777777777777778,
              "#fb9f3a"
             ],
             [
              0.8888888888888888,
              "#fdca26"
             ],
             [
              1,
              "#f0f921"
             ]
            ],
            "type": "heatmap"
           }
          ],
          "heatmapgl": [
           {
            "colorbar": {
             "outlinewidth": 0,
             "ticks": ""
            },
            "colorscale": [
             [
              0,
              "#0d0887"
             ],
             [
              0.1111111111111111,
              "#46039f"
             ],
             [
              0.2222222222222222,
              "#7201a8"
             ],
             [
              0.3333333333333333,
              "#9c179e"
             ],
             [
              0.4444444444444444,
              "#bd3786"
             ],
             [
              0.5555555555555556,
              "#d8576b"
             ],
             [
              0.6666666666666666,
              "#ed7953"
             ],
             [
              0.7777777777777778,
              "#fb9f3a"
             ],
             [
              0.8888888888888888,
              "#fdca26"
             ],
             [
              1,
              "#f0f921"
             ]
            ],
            "type": "heatmapgl"
           }
          ],
          "histogram": [
           {
            "marker": {
             "colorbar": {
              "outlinewidth": 0,
              "ticks": ""
             }
            },
            "type": "histogram"
           }
          ],
          "histogram2d": [
           {
            "colorbar": {
             "outlinewidth": 0,
             "ticks": ""
            },
            "colorscale": [
             [
              0,
              "#0d0887"
             ],
             [
              0.1111111111111111,
              "#46039f"
             ],
             [
              0.2222222222222222,
              "#7201a8"
             ],
             [
              0.3333333333333333,
              "#9c179e"
             ],
             [
              0.4444444444444444,
              "#bd3786"
             ],
             [
              0.5555555555555556,
              "#d8576b"
             ],
             [
              0.6666666666666666,
              "#ed7953"
             ],
             [
              0.7777777777777778,
              "#fb9f3a"
             ],
             [
              0.8888888888888888,
              "#fdca26"
             ],
             [
              1,
              "#f0f921"
             ]
            ],
            "type": "histogram2d"
           }
          ],
          "histogram2dcontour": [
           {
            "colorbar": {
             "outlinewidth": 0,
             "ticks": ""
            },
            "colorscale": [
             [
              0,
              "#0d0887"
             ],
             [
              0.1111111111111111,
              "#46039f"
             ],
             [
              0.2222222222222222,
              "#7201a8"
             ],
             [
              0.3333333333333333,
              "#9c179e"
             ],
             [
              0.4444444444444444,
              "#bd3786"
             ],
             [
              0.5555555555555556,
              "#d8576b"
             ],
             [
              0.6666666666666666,
              "#ed7953"
             ],
             [
              0.7777777777777778,
              "#fb9f3a"
             ],
             [
              0.8888888888888888,
              "#fdca26"
             ],
             [
              1,
              "#f0f921"
             ]
            ],
            "type": "histogram2dcontour"
           }
          ],
          "mesh3d": [
           {
            "colorbar": {
             "outlinewidth": 0,
             "ticks": ""
            },
            "type": "mesh3d"
           }
          ],
          "parcoords": [
           {
            "line": {
             "colorbar": {
              "outlinewidth": 0,
              "ticks": ""
             }
            },
            "type": "parcoords"
           }
          ],
          "pie": [
           {
            "automargin": true,
            "type": "pie"
           }
          ],
          "scatter": [
           {
            "marker": {
             "colorbar": {
              "outlinewidth": 0,
              "ticks": ""
             }
            },
            "type": "scatter"
           }
          ],
          "scatter3d": [
           {
            "line": {
             "colorbar": {
              "outlinewidth": 0,
              "ticks": ""
             }
            },
            "marker": {
             "colorbar": {
              "outlinewidth": 0,
              "ticks": ""
             }
            },
            "type": "scatter3d"
           }
          ],
          "scattercarpet": [
           {
            "marker": {
             "colorbar": {
              "outlinewidth": 0,
              "ticks": ""
             }
            },
            "type": "scattercarpet"
           }
          ],
          "scattergeo": [
           {
            "marker": {
             "colorbar": {
              "outlinewidth": 0,
              "ticks": ""
             }
            },
            "type": "scattergeo"
           }
          ],
          "scattergl": [
           {
            "marker": {
             "colorbar": {
              "outlinewidth": 0,
              "ticks": ""
             }
            },
            "type": "scattergl"
           }
          ],
          "scattermapbox": [
           {
            "marker": {
             "colorbar": {
              "outlinewidth": 0,
              "ticks": ""
             }
            },
            "type": "scattermapbox"
           }
          ],
          "scatterpolar": [
           {
            "marker": {
             "colorbar": {
              "outlinewidth": 0,
              "ticks": ""
             }
            },
            "type": "scatterpolar"
           }
          ],
          "scatterpolargl": [
           {
            "marker": {
             "colorbar": {
              "outlinewidth": 0,
              "ticks": ""
             }
            },
            "type": "scatterpolargl"
           }
          ],
          "scatterternary": [
           {
            "marker": {
             "colorbar": {
              "outlinewidth": 0,
              "ticks": ""
             }
            },
            "type": "scatterternary"
           }
          ],
          "surface": [
           {
            "colorbar": {
             "outlinewidth": 0,
             "ticks": ""
            },
            "colorscale": [
             [
              0,
              "#0d0887"
             ],
             [
              0.1111111111111111,
              "#46039f"
             ],
             [
              0.2222222222222222,
              "#7201a8"
             ],
             [
              0.3333333333333333,
              "#9c179e"
             ],
             [
              0.4444444444444444,
              "#bd3786"
             ],
             [
              0.5555555555555556,
              "#d8576b"
             ],
             [
              0.6666666666666666,
              "#ed7953"
             ],
             [
              0.7777777777777778,
              "#fb9f3a"
             ],
             [
              0.8888888888888888,
              "#fdca26"
             ],
             [
              1,
              "#f0f921"
             ]
            ],
            "type": "surface"
           }
          ],
          "table": [
           {
            "cells": {
             "fill": {
              "color": "#EBF0F8"
             },
             "line": {
              "color": "white"
             }
            },
            "header": {
             "fill": {
              "color": "#C8D4E3"
             },
             "line": {
              "color": "white"
             }
            },
            "type": "table"
           }
          ]
         },
         "layout": {
          "annotationdefaults": {
           "arrowcolor": "#2a3f5f",
           "arrowhead": 0,
           "arrowwidth": 1
          },
          "coloraxis": {
           "colorbar": {
            "outlinewidth": 0,
            "ticks": ""
           }
          },
          "colorscale": {
           "diverging": [
            [
             0,
             "#8e0152"
            ],
            [
             0.1,
             "#c51b7d"
            ],
            [
             0.2,
             "#de77ae"
            ],
            [
             0.3,
             "#f1b6da"
            ],
            [
             0.4,
             "#fde0ef"
            ],
            [
             0.5,
             "#f7f7f7"
            ],
            [
             0.6,
             "#e6f5d0"
            ],
            [
             0.7,
             "#b8e186"
            ],
            [
             0.8,
             "#7fbc41"
            ],
            [
             0.9,
             "#4d9221"
            ],
            [
             1,
             "#276419"
            ]
           ],
           "sequential": [
            [
             0,
             "#0d0887"
            ],
            [
             0.1111111111111111,
             "#46039f"
            ],
            [
             0.2222222222222222,
             "#7201a8"
            ],
            [
             0.3333333333333333,
             "#9c179e"
            ],
            [
             0.4444444444444444,
             "#bd3786"
            ],
            [
             0.5555555555555556,
             "#d8576b"
            ],
            [
             0.6666666666666666,
             "#ed7953"
            ],
            [
             0.7777777777777778,
             "#fb9f3a"
            ],
            [
             0.8888888888888888,
             "#fdca26"
            ],
            [
             1,
             "#f0f921"
            ]
           ],
           "sequentialminus": [
            [
             0,
             "#0d0887"
            ],
            [
             0.1111111111111111,
             "#46039f"
            ],
            [
             0.2222222222222222,
             "#7201a8"
            ],
            [
             0.3333333333333333,
             "#9c179e"
            ],
            [
             0.4444444444444444,
             "#bd3786"
            ],
            [
             0.5555555555555556,
             "#d8576b"
            ],
            [
             0.6666666666666666,
             "#ed7953"
            ],
            [
             0.7777777777777778,
             "#fb9f3a"
            ],
            [
             0.8888888888888888,
             "#fdca26"
            ],
            [
             1,
             "#f0f921"
            ]
           ]
          },
          "colorway": [
           "#636efa",
           "#EF553B",
           "#00cc96",
           "#ab63fa",
           "#FFA15A",
           "#19d3f3",
           "#FF6692",
           "#B6E880",
           "#FF97FF",
           "#FECB52"
          ],
          "font": {
           "color": "#2a3f5f"
          },
          "geo": {
           "bgcolor": "white",
           "lakecolor": "white",
           "landcolor": "#E5ECF6",
           "showlakes": true,
           "showland": true,
           "subunitcolor": "white"
          },
          "hoverlabel": {
           "align": "left"
          },
          "hovermode": "closest",
          "mapbox": {
           "style": "light"
          },
          "paper_bgcolor": "white",
          "plot_bgcolor": "#E5ECF6",
          "polar": {
           "angularaxis": {
            "gridcolor": "white",
            "linecolor": "white",
            "ticks": ""
           },
           "bgcolor": "#E5ECF6",
           "radialaxis": {
            "gridcolor": "white",
            "linecolor": "white",
            "ticks": ""
           }
          },
          "scene": {
           "xaxis": {
            "backgroundcolor": "#E5ECF6",
            "gridcolor": "white",
            "gridwidth": 2,
            "linecolor": "white",
            "showbackground": true,
            "ticks": "",
            "zerolinecolor": "white"
           },
           "yaxis": {
            "backgroundcolor": "#E5ECF6",
            "gridcolor": "white",
            "gridwidth": 2,
            "linecolor": "white",
            "showbackground": true,
            "ticks": "",
            "zerolinecolor": "white"
           },
           "zaxis": {
            "backgroundcolor": "#E5ECF6",
            "gridcolor": "white",
            "gridwidth": 2,
            "linecolor": "white",
            "showbackground": true,
            "ticks": "",
            "zerolinecolor": "white"
           }
          },
          "shapedefaults": {
           "line": {
            "color": "#2a3f5f"
           }
          },
          "ternary": {
           "aaxis": {
            "gridcolor": "white",
            "linecolor": "white",
            "ticks": ""
           },
           "baxis": {
            "gridcolor": "white",
            "linecolor": "white",
            "ticks": ""
           },
           "bgcolor": "#E5ECF6",
           "caxis": {
            "gridcolor": "white",
            "linecolor": "white",
            "ticks": ""
           }
          },
          "title": {
           "x": 0.05
          },
          "xaxis": {
           "automargin": true,
           "gridcolor": "white",
           "linecolor": "white",
           "ticks": "",
           "title": {
            "standoff": 15
           },
           "zerolinecolor": "white",
           "zerolinewidth": 2
          },
          "yaxis": {
           "automargin": true,
           "gridcolor": "white",
           "linecolor": "white",
           "ticks": "",
           "title": {
            "standoff": 15
           },
           "zerolinecolor": "white",
           "zerolinewidth": 2
          }
         }
        }
       }
      },
      "text/html": [
       "<div>\n",
       "        \n",
       "        \n",
       "            <div id=\"a9a05f1a-351e-44b2-8d50-f7415c0e7c4f\" class=\"plotly-graph-div\" style=\"height:525px; width:100%;\"></div>\n",
       "            <script type=\"text/javascript\">\n",
       "                require([\"plotly\"], function(Plotly) {\n",
       "                    window.PLOTLYENV=window.PLOTLYENV || {};\n",
       "                    \n",
       "                if (document.getElementById(\"a9a05f1a-351e-44b2-8d50-f7415c0e7c4f\")) {\n",
       "                    Plotly.newPlot(\n",
       "                        'a9a05f1a-351e-44b2-8d50-f7415c0e7c4f',\n",
       "                        [{\"type\": \"scatter\", \"x\": [0.0, 0.5, 1.5, 1.75, 2.5, 3.25, 4.0, 5.0, 5.5, 6.0, 6.5, 6.75, 7.75, 8.0, 9.0, 9.75, 10.0, 10.5, 10.75, 12.0, 12.5, 13.0, 14.0, 15.25, 15.5, 16.5, 17.5, 18.5, 18.75, 19.25, 20.0, 21.0, 22.75, 23.0, 23.25, 24.5, 26.25, 27.75, 28.5, 29.0, 29.5, 29.75, 30.5, 30.75, 31.75, 32.5, 33.0, 33.5, 34.0, 34.5, 35.5, 35.6, 35.75, 36.25, 37.0, 37.75, 38.0, 38.1, 38.5, 38.75, 38.85, 39.25, 39.35, 39.75, 40.25, 40.5, 41.5, 41.6, 42.0, 42.25, 42.5, 43.0, 43.1, 43.25, 43.35, 43.5, 44.0, 44.1, 44.25, 44.5, 44.75, 45.75, 45.85, 46.0, 46.25, 46.5, 46.575, 47.25, 47.5, 47.575, 48.0, 48.5, 48.75, 49.0, 49.1, 50.0, 50.5, 50.75, 50.825, 51.75, 52.0, 52.75, 52.85, 53.5, 53.6, 53.75, 53.825, 54.0, 54.25, 54.5, 55.0, 55.25, 55.325, 55.5, 56.0, 56.25, 56.5, 57.25, 57.35, 57.5, 58.5, 58.75, 58.825, 59.25, 60.25, 60.5, 61.75, 62.25, 62.5, 62.6, 62.75, 63.0, 63.75, 63.825, 64.0, 64.25, 64.75, 64.875, 65.0, 65.1, 65.25, 65.5, 65.6, 65.65, 65.75, 66.5, 66.75, 67.5, 67.6, 67.75, 68.0, 68.525, 68.6, 68.65, 69.0, 69.25, 70.0, 70.1, 71.625, 71.725, 71.775, 71.825, 71.85, 72.25, 72.5, 72.6, 73.5, 73.75, 74.0, 74.075, 74.125, 74.25, 76.0, 76.5, 77.25, 77.5, 77.75, 78.0, 79.0, 80.0, 80.75, 81.0, 81.5, 82.25, 82.75, 83.25, 84.5, 84.75, 85.25, 86.5, 87.0, 87.75, 88.25, 88.75, 89.75, 90.0, 90.25, 90.75, 92.0, 92.5, 93.5, 94.25, 94.75, 95.0, 95.25, 96.0, 96.5, 96.75, 97.25, 98.25, 98.5, 99.0, 99.5, 100.0, 101.25, 101.5, 102.0, 102.5, 103.25, 104.0, 106.75, 107.25, 111.5, 116.0, 116.5, 118.0, 120.5, 126.5, 127.0, 128.5, 130.25, 131.25, 132.75, 133.0, 135.0, 136.25, 137.25, 138.25, 139.0, 140.0, 140.5, 140.75, 141.25, 142.0, 142.25, 142.75, 143.0, 143.5, 145.0, 146.0, 146.75, 148.0, 148.5, 149.75, 150.5, 151.0, 152.5, 153.0, 153.5, 155.28, 156.0, 157.25, 157.5, 158.0, 158.75, 159.75, 160.5, 162.25, 163.0, 163.5, 164.0, 164.5, 165.75, 166.25, 166.5, 168.0, 168.5, 169.0, 169.5, 178.75, 184.5, 186.0, 193.0, 194.5, 196.25, 198.25, 199.5, 199.75, 200.25, 200.33, 200.75, 201.0, 201.53, 202.25, 203.25, 204.25, 205.25, 206.0, 206.25, 208.0, 208.75, 209.0, 210.0, 211.75, 211.85, 212.25, 212.35, 212.5, 212.75, 213.0, 213.08, 213.25, 213.5, 213.75, 213.83, 214.25, 214.75, 215.0, 215.25, 215.75, 217.25, 217.5, 217.75, 218.0, 218.75, 220.0, 220.25, 221.0, 222.75, 224.25, 224.5, 225.0, 225.25, 225.5, 225.75, 226.5, 227.75, 227.85, 228.5, 228.58, 229.0, 230.0, 230.5, 231.25, 231.5, 231.75, 232.0, 232.5, 234.25, 234.5, 234.75, 235.0, 235.25, 235.5, 235.75, 235.85, 236.25, 236.5, 237.0, 237.08, 237.25, 237.35, 237.5, 237.6, 237.63, 238.0, 238.5, 238.75, 239.75, 240.5, 241.25, 241.5, 241.75, 242.0, 243.0, 243.5, 244.0, 244.25, 244.35, 244.5, 244.58, 244.75, 245.0, 245.08, 245.25, 245.33, 246.0, 246.75, 247.0, 247.25, 247.75, 247.85, 248.0, 250.0, 250.5, 250.75, 251.0, 251.25, 251.5, 253.25, 254.0], \"y\": [0.27203, 0.27203, 0.44791000000000003, 0.44791000000000003, 0.34238, 0.34238, 0.30721, 0.27203, 0.23685, 0.23685, 0.23685, 0.23685, 0.31893, 0.31893, 0.47136000000000006, 0.40101, 0.40101, 0.40101, 0.40101, 0.30721, 0.30721, 0.30721, 0.41273000000000004, 0.27203, 0.27203, 0.24858000000000002, 0.2603, 0.31893, 0.31893, 0.31893, 0.43618999999999997, 0.47136000000000006, 0.2134, 0.2134, 0.2134, 0.23685, 0.23685, 0.20168, 0.50654, 0.50654, 0.50654, 0.50654, 0.42446000000000006, 0.42446000000000006, 0.24858000000000002, 0.34238, 0.34238, 0.30721, 0.15478, 0.15478, 0.56517, 0.56517, 0.56517, 0.56517, 0.56517, 1.0694, 1.0694, 1.0694, 0.8231200000000001, 1.0576, 1.0576, 1.1632, 1.1632, 0.9052, 1.1397, 0.92865, 0.9169299999999999, 0.9169299999999999, 1.3156, 0.9052, 0.9052, 1.2452, 1.2452, 0.87003, 0.87003, 0.9521, 0.87003, 0.87003, 0.87003, 0.8934799999999999, 0.8934799999999999, 1.0342, 1.0342, 1.0342, 1.3156, 0.92865, 0.92865, 1.0342, 1.0342, 1.0342, 0.9052, 1.1514, 0.9052, 1.3039, 1.3039, 0.9403799999999999, 0.92865, 0.92865, 0.92865, 1.1866, 1.1866, 0.9403799999999999, 0.9403799999999999, 1.0342, 1.0342, 1.0342, 1.0342, 0.88175, 0.88175, 0.88175, 1.1983, 1.1983, 0.9990100000000001, 0.9990100000000001, 1.1045, 0.9521, 0.9521, 1.1632, 1.1632, 1.1632, 1.0811, 0.96383, 0.96383, 0.88175, 0.88175, 1.0459, 1.1983, 0.9403799999999999, 0.8934799999999999, 0.8934799999999999, 0.8934799999999999, 0.8583, 0.9052, 0.96383, 0.96383, 0.96383, 0.92865, 0.92865, 0.92865, 1.2101, 1.2101, 1.2101, 0.8934799999999999, 0.8934799999999999, 0.8934799999999999, 0.9052, 0.9052, 0.9169299999999999, 0.9169299999999999, 0.9169299999999999, 0.8934799999999999, 0.9169299999999999, 0.88175, 0.88175, 1.0107, 1.0107, 0.9169299999999999, 0.9169299999999999, 0.88175, 0.88175, 0.88175, 1.128, 1.128, 0.9052, 0.9052, 0.9052, 0.88175, 0.88175, 0.88175, 0.9403799999999999, 0.9403799999999999, 0.9403799999999999, 0.7176, 0.7176, 0.7176, 0.7176, 0.7176, 0.7176, 0.42446000000000006, 0.23685, 0.23685, 0.23685, 0.23685, 0.29548, 0.29548, 0.29548, 0.33066, 0.33066, 0.33066, 0.5534399999999999, 0.5534399999999999, 0.37756, 0.37756, 0.37756, 0.31893, 0.31893, 0.31893, 0.31893, 0.30721, 0.30721, 0.33066, 0.33066, 0.33066, 0.33066, 0.33066, 0.28376, 0.28376, 0.28376, 0.28376, 0.54171, 0.54171, 0.54171, 0.54171, 0.54171, 0.29548, 0.29548, 0.29548, 0.29548, 0.41273000000000004, 0.41273000000000004, 0.22513000000000002, 0.60034, 0.2603, 0.83485, 0.83485, 0.88175, 0.88175, 0.8465799999999999, 0.8465799999999999, 1.0928, 0.83485, 1.0928, 0.78795, 0.78795, 0.8583, 0.8583, 0.8583, 0.8934799999999999, 0.8934799999999999, 0.88175, 0.88175, 0.88175, 0.88175, 0.88175, 0.88175, 0.88175, 0.88175, 0.88175, 0.8583, 0.9052, 0.9052, 0.96383, 0.96383, 0.88175, 0.88175, 0.88175, 1.1163, 1.1163, 1.1163, 0.8465799999999999, 0.8465799999999999, 0.88175, 0.88175, 0.88175, 0.88175, 0.87003, 0.87003, 0.87003, 0.87003, 0.87003, 0.87003, 0.87003, 0.8934799999999999, 0.8934799999999999, 0.8934799999999999, 0.88175, 0.88175, 0.88175, 0.88175, 0.88175, 0.8231200000000001, 0.87003, 0.8465799999999999, 0.77622, 0.096148, 0.096148, -0.51357, -0.51357, -0.51357, -0.51357, 0.92865, 1.2335, 1.0928, 1.2101, 1.2687, 1.0928, 1.2687, 1.2921, 1.2921, 1.0694, 1.0928, 1.0928, 1.128, 0.9169299999999999, 0.9169299999999999, 0.9521, 1.2687, 1.0107, 1.0107, 0.88175, 0.88175, 0.9169299999999999, 0.9990100000000001, 0.9990100000000001, 0.9990100000000001, 1.1397, 0.9169299999999999, 0.9169299999999999, 0.9169299999999999, 1.1632, 0.9169299999999999, 1.1514, 1.0107, 0.88175, 0.96383, 0.9052, 1.0225, 1.0342, 0.92865, 1.1163, 0.9403799999999999, 0.9169299999999999, 0.92865, 1.1045, 1.0694, 0.9169299999999999, 1.0459, 1.0459, 1.1163, 1.1163, 0.96383, 1.1045, 0.92865, 0.9169299999999999, 0.9403799999999999, 0.9403799999999999, 0.9052, 0.92865, 1.2804, 0.92865, 1.128, 1.0694, 0.9169299999999999, 0.9521, 0.9521, 0.88175, 0.9521, 0.92865, 1.1045, 1.1045, 0.9052, 0.9052, 0.9052, 0.9052, 0.88175, 0.9403799999999999, 1.2101, 1.2101, 1.0342, 0.88175, 0.8934799999999999, 1.1866, 0.92865, 0.9169299999999999, 0.97555, 0.9872799999999999, 1.1514, 0.92865, 1.0107, 1.1163, 1.1163, 0.9052, 0.9521, 0.9403799999999999, 0.9169299999999999, 0.9169299999999999, 1.1163, 0.9403799999999999, 1.1397, 1.1045, 0.8934799999999999, 0.9052, 1.2218, 0.87003, 0.87003, 0.87003, 0.87003, 0.87003, 0.87003, -0.0093803, -0.0093803]}],\n",
       "                        {\"template\": {\"data\": {\"bar\": [{\"error_x\": {\"color\": \"#2a3f5f\"}, \"error_y\": {\"color\": \"#2a3f5f\"}, \"marker\": {\"line\": {\"color\": \"#E5ECF6\", \"width\": 0.5}}, \"type\": \"bar\"}], \"barpolar\": [{\"marker\": {\"line\": {\"color\": \"#E5ECF6\", \"width\": 0.5}}, \"type\": \"barpolar\"}], \"carpet\": [{\"aaxis\": {\"endlinecolor\": \"#2a3f5f\", \"gridcolor\": \"white\", \"linecolor\": \"white\", \"minorgridcolor\": \"white\", \"startlinecolor\": \"#2a3f5f\"}, \"baxis\": {\"endlinecolor\": \"#2a3f5f\", \"gridcolor\": \"white\", \"linecolor\": \"white\", \"minorgridcolor\": \"white\", \"startlinecolor\": \"#2a3f5f\"}, \"type\": \"carpet\"}], \"choropleth\": [{\"colorbar\": {\"outlinewidth\": 0, \"ticks\": \"\"}, \"type\": \"choropleth\"}], \"contour\": [{\"colorbar\": {\"outlinewidth\": 0, \"ticks\": \"\"}, \"colorscale\": [[0.0, \"#0d0887\"], [0.1111111111111111, \"#46039f\"], [0.2222222222222222, \"#7201a8\"], [0.3333333333333333, \"#9c179e\"], [0.4444444444444444, \"#bd3786\"], [0.5555555555555556, \"#d8576b\"], [0.6666666666666666, \"#ed7953\"], [0.7777777777777778, \"#fb9f3a\"], [0.8888888888888888, \"#fdca26\"], [1.0, \"#f0f921\"]], \"type\": \"contour\"}], \"contourcarpet\": [{\"colorbar\": {\"outlinewidth\": 0, \"ticks\": \"\"}, \"type\": \"contourcarpet\"}], \"heatmap\": [{\"colorbar\": {\"outlinewidth\": 0, \"ticks\": \"\"}, \"colorscale\": [[0.0, \"#0d0887\"], [0.1111111111111111, \"#46039f\"], [0.2222222222222222, \"#7201a8\"], [0.3333333333333333, \"#9c179e\"], [0.4444444444444444, \"#bd3786\"], [0.5555555555555556, \"#d8576b\"], [0.6666666666666666, \"#ed7953\"], [0.7777777777777778, \"#fb9f3a\"], [0.8888888888888888, \"#fdca26\"], [1.0, \"#f0f921\"]], \"type\": \"heatmap\"}], \"heatmapgl\": [{\"colorbar\": {\"outlinewidth\": 0, \"ticks\": \"\"}, \"colorscale\": [[0.0, \"#0d0887\"], [0.1111111111111111, \"#46039f\"], [0.2222222222222222, \"#7201a8\"], [0.3333333333333333, \"#9c179e\"], [0.4444444444444444, \"#bd3786\"], [0.5555555555555556, \"#d8576b\"], [0.6666666666666666, \"#ed7953\"], [0.7777777777777778, \"#fb9f3a\"], [0.8888888888888888, \"#fdca26\"], [1.0, \"#f0f921\"]], \"type\": \"heatmapgl\"}], \"histogram\": [{\"marker\": {\"colorbar\": {\"outlinewidth\": 0, \"ticks\": \"\"}}, \"type\": \"histogram\"}], \"histogram2d\": [{\"colorbar\": {\"outlinewidth\": 0, \"ticks\": \"\"}, \"colorscale\": [[0.0, \"#0d0887\"], [0.1111111111111111, \"#46039f\"], [0.2222222222222222, \"#7201a8\"], [0.3333333333333333, \"#9c179e\"], [0.4444444444444444, \"#bd3786\"], [0.5555555555555556, \"#d8576b\"], [0.6666666666666666, \"#ed7953\"], [0.7777777777777778, \"#fb9f3a\"], [0.8888888888888888, \"#fdca26\"], [1.0, \"#f0f921\"]], \"type\": \"histogram2d\"}], \"histogram2dcontour\": [{\"colorbar\": {\"outlinewidth\": 0, \"ticks\": \"\"}, \"colorscale\": [[0.0, \"#0d0887\"], [0.1111111111111111, \"#46039f\"], [0.2222222222222222, \"#7201a8\"], [0.3333333333333333, \"#9c179e\"], [0.4444444444444444, \"#bd3786\"], [0.5555555555555556, \"#d8576b\"], [0.6666666666666666, \"#ed7953\"], [0.7777777777777778, \"#fb9f3a\"], [0.8888888888888888, \"#fdca26\"], [1.0, \"#f0f921\"]], \"type\": \"histogram2dcontour\"}], \"mesh3d\": [{\"colorbar\": {\"outlinewidth\": 0, \"ticks\": \"\"}, \"type\": \"mesh3d\"}], \"parcoords\": [{\"line\": {\"colorbar\": {\"outlinewidth\": 0, \"ticks\": \"\"}}, \"type\": \"parcoords\"}], \"pie\": [{\"automargin\": true, \"type\": \"pie\"}], \"scatter\": [{\"marker\": {\"colorbar\": {\"outlinewidth\": 0, \"ticks\": \"\"}}, \"type\": \"scatter\"}], \"scatter3d\": [{\"line\": {\"colorbar\": {\"outlinewidth\": 0, \"ticks\": \"\"}}, \"marker\": {\"colorbar\": {\"outlinewidth\": 0, \"ticks\": \"\"}}, \"type\": \"scatter3d\"}], \"scattercarpet\": [{\"marker\": {\"colorbar\": {\"outlinewidth\": 0, \"ticks\": \"\"}}, \"type\": \"scattercarpet\"}], \"scattergeo\": [{\"marker\": {\"colorbar\": {\"outlinewidth\": 0, \"ticks\": \"\"}}, \"type\": \"scattergeo\"}], \"scattergl\": [{\"marker\": {\"colorbar\": {\"outlinewidth\": 0, \"ticks\": \"\"}}, \"type\": \"scattergl\"}], \"scattermapbox\": [{\"marker\": {\"colorbar\": {\"outlinewidth\": 0, \"ticks\": \"\"}}, \"type\": \"scattermapbox\"}], \"scatterpolar\": [{\"marker\": {\"colorbar\": {\"outlinewidth\": 0, \"ticks\": \"\"}}, \"type\": \"scatterpolar\"}], \"scatterpolargl\": [{\"marker\": {\"colorbar\": {\"outlinewidth\": 0, \"ticks\": \"\"}}, \"type\": \"scatterpolargl\"}], \"scatterternary\": [{\"marker\": {\"colorbar\": {\"outlinewidth\": 0, \"ticks\": \"\"}}, \"type\": \"scatterternary\"}], \"surface\": [{\"colorbar\": {\"outlinewidth\": 0, \"ticks\": \"\"}, \"colorscale\": [[0.0, \"#0d0887\"], [0.1111111111111111, \"#46039f\"], [0.2222222222222222, \"#7201a8\"], [0.3333333333333333, \"#9c179e\"], [0.4444444444444444, \"#bd3786\"], [0.5555555555555556, \"#d8576b\"], [0.6666666666666666, \"#ed7953\"], [0.7777777777777778, \"#fb9f3a\"], [0.8888888888888888, \"#fdca26\"], [1.0, \"#f0f921\"]], \"type\": \"surface\"}], \"table\": [{\"cells\": {\"fill\": {\"color\": \"#EBF0F8\"}, \"line\": {\"color\": \"white\"}}, \"header\": {\"fill\": {\"color\": \"#C8D4E3\"}, \"line\": {\"color\": \"white\"}}, \"type\": \"table\"}]}, \"layout\": {\"annotationdefaults\": {\"arrowcolor\": \"#2a3f5f\", \"arrowhead\": 0, \"arrowwidth\": 1}, \"coloraxis\": {\"colorbar\": {\"outlinewidth\": 0, \"ticks\": \"\"}}, \"colorscale\": {\"diverging\": [[0, \"#8e0152\"], [0.1, \"#c51b7d\"], [0.2, \"#de77ae\"], [0.3, \"#f1b6da\"], [0.4, \"#fde0ef\"], [0.5, \"#f7f7f7\"], [0.6, \"#e6f5d0\"], [0.7, \"#b8e186\"], [0.8, \"#7fbc41\"], [0.9, \"#4d9221\"], [1, \"#276419\"]], \"sequential\": [[0.0, \"#0d0887\"], [0.1111111111111111, \"#46039f\"], [0.2222222222222222, \"#7201a8\"], [0.3333333333333333, \"#9c179e\"], [0.4444444444444444, \"#bd3786\"], [0.5555555555555556, \"#d8576b\"], [0.6666666666666666, \"#ed7953\"], [0.7777777777777778, \"#fb9f3a\"], [0.8888888888888888, \"#fdca26\"], [1.0, \"#f0f921\"]], \"sequentialminus\": [[0.0, \"#0d0887\"], [0.1111111111111111, \"#46039f\"], [0.2222222222222222, \"#7201a8\"], [0.3333333333333333, \"#9c179e\"], [0.4444444444444444, \"#bd3786\"], [0.5555555555555556, \"#d8576b\"], [0.6666666666666666, \"#ed7953\"], [0.7777777777777778, \"#fb9f3a\"], [0.8888888888888888, \"#fdca26\"], [1.0, \"#f0f921\"]]}, \"colorway\": [\"#636efa\", \"#EF553B\", \"#00cc96\", \"#ab63fa\", \"#FFA15A\", \"#19d3f3\", \"#FF6692\", \"#B6E880\", \"#FF97FF\", \"#FECB52\"], \"font\": {\"color\": \"#2a3f5f\"}, \"geo\": {\"bgcolor\": \"white\", \"lakecolor\": \"white\", \"landcolor\": \"#E5ECF6\", \"showlakes\": true, \"showland\": true, \"subunitcolor\": \"white\"}, \"hoverlabel\": {\"align\": \"left\"}, \"hovermode\": \"closest\", \"mapbox\": {\"style\": \"light\"}, \"paper_bgcolor\": \"white\", \"plot_bgcolor\": \"#E5ECF6\", \"polar\": {\"angularaxis\": {\"gridcolor\": \"white\", \"linecolor\": \"white\", \"ticks\": \"\"}, \"bgcolor\": \"#E5ECF6\", \"radialaxis\": {\"gridcolor\": \"white\", \"linecolor\": \"white\", \"ticks\": \"\"}}, \"scene\": {\"xaxis\": {\"backgroundcolor\": \"#E5ECF6\", \"gridcolor\": \"white\", \"gridwidth\": 2, \"linecolor\": \"white\", \"showbackground\": true, \"ticks\": \"\", \"zerolinecolor\": \"white\"}, \"yaxis\": {\"backgroundcolor\": \"#E5ECF6\", \"gridcolor\": \"white\", \"gridwidth\": 2, \"linecolor\": \"white\", \"showbackground\": true, \"ticks\": \"\", \"zerolinecolor\": \"white\"}, \"zaxis\": {\"backgroundcolor\": \"#E5ECF6\", \"gridcolor\": \"white\", \"gridwidth\": 2, \"linecolor\": \"white\", \"showbackground\": true, \"ticks\": \"\", \"zerolinecolor\": \"white\"}}, \"shapedefaults\": {\"line\": {\"color\": \"#2a3f5f\"}}, \"ternary\": {\"aaxis\": {\"gridcolor\": \"white\", \"linecolor\": \"white\", \"ticks\": \"\"}, \"baxis\": {\"gridcolor\": \"white\", \"linecolor\": \"white\", \"ticks\": \"\"}, \"bgcolor\": \"#E5ECF6\", \"caxis\": {\"gridcolor\": \"white\", \"linecolor\": \"white\", \"ticks\": \"\"}}, \"title\": {\"x\": 0.05}, \"xaxis\": {\"automargin\": true, \"gridcolor\": \"white\", \"linecolor\": \"white\", \"ticks\": \"\", \"title\": {\"standoff\": 15}, \"zerolinecolor\": \"white\", \"zerolinewidth\": 2}, \"yaxis\": {\"automargin\": true, \"gridcolor\": \"white\", \"linecolor\": \"white\", \"ticks\": \"\", \"title\": {\"standoff\": 15}, \"zerolinecolor\": \"white\", \"zerolinewidth\": 2}}}},\n",
       "                        {\"responsive\": true}\n",
       "                    ).then(function(){\n",
       "                            \n",
       "var gd = document.getElementById('a9a05f1a-351e-44b2-8d50-f7415c0e7c4f');\n",
       "var x = new MutationObserver(function (mutations, observer) {{\n",
       "        var display = window.getComputedStyle(gd).display;\n",
       "        if (!display || display === 'none') {{\n",
       "            console.log([gd, 'removed!']);\n",
       "            Plotly.purge(gd);\n",
       "            observer.disconnect();\n",
       "        }}\n",
       "}});\n",
       "\n",
       "// Listen for the removal of the full notebook cells\n",
       "var notebookContainer = gd.closest('#notebook-container');\n",
       "if (notebookContainer) {{\n",
       "    x.observe(notebookContainer, {childList: true});\n",
       "}}\n",
       "\n",
       "// Listen for the clearing of the current output cell\n",
       "var outputEl = gd.closest('.output');\n",
       "if (outputEl) {{\n",
       "    x.observe(outputEl, {childList: true});\n",
       "}}\n",
       "\n",
       "                        })\n",
       "                };\n",
       "                });\n",
       "            </script>\n",
       "        </div>"
      ]
     },
     "metadata": {},
     "output_type": "display_data"
    }
   ],
   "source": [
    "df = participant_df # For brevity\n",
    "\n",
    "fig = go.Figure()\n",
    "fig.add_trace(go.Scatter(x=df['time'], y=df['front']))\n",
    "fig.show()"
   ]
  },
  {
   "cell_type": "markdown",
   "metadata": {},
   "source": [
    "This is rather large, so we can set up the figure layout using `layout` keyword in the `Figure` constructor, to set the width and height of the figure and adjust the margins:"
   ]
  },
  {
   "cell_type": "code",
   "execution_count": 37,
   "metadata": {},
   "outputs": [
    {
     "data": {
      "application/vnd.plotly.v1+json": {
       "config": {
        "plotlyServerURL": "https://plot.ly"
       },
       "data": [
        {
         "type": "scatter",
         "x": [
          0,
          0.5,
          1.5,
          1.75,
          2.5,
          3.25,
          4,
          5,
          5.5,
          6,
          6.5,
          6.75,
          7.75,
          8,
          9,
          9.75,
          10,
          10.5,
          10.75,
          12,
          12.5,
          13,
          14,
          15.25,
          15.5,
          16.5,
          17.5,
          18.5,
          18.75,
          19.25,
          20,
          21,
          22.75,
          23,
          23.25,
          24.5,
          26.25,
          27.75,
          28.5,
          29,
          29.5,
          29.75,
          30.5,
          30.75,
          31.75,
          32.5,
          33,
          33.5,
          34,
          34.5,
          35.5,
          35.6,
          35.75,
          36.25,
          37,
          37.75,
          38,
          38.1,
          38.5,
          38.75,
          38.85,
          39.25,
          39.35,
          39.75,
          40.25,
          40.5,
          41.5,
          41.6,
          42,
          42.25,
          42.5,
          43,
          43.1,
          43.25,
          43.35,
          43.5,
          44,
          44.1,
          44.25,
          44.5,
          44.75,
          45.75,
          45.85,
          46,
          46.25,
          46.5,
          46.575,
          47.25,
          47.5,
          47.575,
          48,
          48.5,
          48.75,
          49,
          49.1,
          50,
          50.5,
          50.75,
          50.825,
          51.75,
          52,
          52.75,
          52.85,
          53.5,
          53.6,
          53.75,
          53.825,
          54,
          54.25,
          54.5,
          55,
          55.25,
          55.325,
          55.5,
          56,
          56.25,
          56.5,
          57.25,
          57.35,
          57.5,
          58.5,
          58.75,
          58.825,
          59.25,
          60.25,
          60.5,
          61.75,
          62.25,
          62.5,
          62.6,
          62.75,
          63,
          63.75,
          63.825,
          64,
          64.25,
          64.75,
          64.875,
          65,
          65.1,
          65.25,
          65.5,
          65.6,
          65.65,
          65.75,
          66.5,
          66.75,
          67.5,
          67.6,
          67.75,
          68,
          68.525,
          68.6,
          68.65,
          69,
          69.25,
          70,
          70.1,
          71.625,
          71.725,
          71.775,
          71.825,
          71.85,
          72.25,
          72.5,
          72.6,
          73.5,
          73.75,
          74,
          74.075,
          74.125,
          74.25,
          76,
          76.5,
          77.25,
          77.5,
          77.75,
          78,
          79,
          80,
          80.75,
          81,
          81.5,
          82.25,
          82.75,
          83.25,
          84.5,
          84.75,
          85.25,
          86.5,
          87,
          87.75,
          88.25,
          88.75,
          89.75,
          90,
          90.25,
          90.75,
          92,
          92.5,
          93.5,
          94.25,
          94.75,
          95,
          95.25,
          96,
          96.5,
          96.75,
          97.25,
          98.25,
          98.5,
          99,
          99.5,
          100,
          101.25,
          101.5,
          102,
          102.5,
          103.25,
          104,
          106.75,
          107.25,
          111.5,
          116,
          116.5,
          118,
          120.5,
          126.5,
          127,
          128.5,
          130.25,
          131.25,
          132.75,
          133,
          135,
          136.25,
          137.25,
          138.25,
          139,
          140,
          140.5,
          140.75,
          141.25,
          142,
          142.25,
          142.75,
          143,
          143.5,
          145,
          146,
          146.75,
          148,
          148.5,
          149.75,
          150.5,
          151,
          152.5,
          153,
          153.5,
          155.28,
          156,
          157.25,
          157.5,
          158,
          158.75,
          159.75,
          160.5,
          162.25,
          163,
          163.5,
          164,
          164.5,
          165.75,
          166.25,
          166.5,
          168,
          168.5,
          169,
          169.5,
          178.75,
          184.5,
          186,
          193,
          194.5,
          196.25,
          198.25,
          199.5,
          199.75,
          200.25,
          200.33,
          200.75,
          201,
          201.53,
          202.25,
          203.25,
          204.25,
          205.25,
          206,
          206.25,
          208,
          208.75,
          209,
          210,
          211.75,
          211.85,
          212.25,
          212.35,
          212.5,
          212.75,
          213,
          213.08,
          213.25,
          213.5,
          213.75,
          213.83,
          214.25,
          214.75,
          215,
          215.25,
          215.75,
          217.25,
          217.5,
          217.75,
          218,
          218.75,
          220,
          220.25,
          221,
          222.75,
          224.25,
          224.5,
          225,
          225.25,
          225.5,
          225.75,
          226.5,
          227.75,
          227.85,
          228.5,
          228.58,
          229,
          230,
          230.5,
          231.25,
          231.5,
          231.75,
          232,
          232.5,
          234.25,
          234.5,
          234.75,
          235,
          235.25,
          235.5,
          235.75,
          235.85,
          236.25,
          236.5,
          237,
          237.08,
          237.25,
          237.35,
          237.5,
          237.6,
          237.63,
          238,
          238.5,
          238.75,
          239.75,
          240.5,
          241.25,
          241.5,
          241.75,
          242,
          243,
          243.5,
          244,
          244.25,
          244.35,
          244.5,
          244.58,
          244.75,
          245,
          245.08,
          245.25,
          245.33,
          246,
          246.75,
          247,
          247.25,
          247.75,
          247.85,
          248,
          250,
          250.5,
          250.75,
          251,
          251.25,
          251.5,
          253.25,
          254
         ],
         "y": [
          0.27203,
          0.27203,
          0.44791000000000003,
          0.44791000000000003,
          0.34238,
          0.34238,
          0.30721,
          0.27203,
          0.23685,
          0.23685,
          0.23685,
          0.23685,
          0.31893,
          0.31893,
          0.47136000000000006,
          0.40101,
          0.40101,
          0.40101,
          0.40101,
          0.30721,
          0.30721,
          0.30721,
          0.41273000000000004,
          0.27203,
          0.27203,
          0.24858000000000002,
          0.2603,
          0.31893,
          0.31893,
          0.31893,
          0.43618999999999997,
          0.47136000000000006,
          0.2134,
          0.2134,
          0.2134,
          0.23685,
          0.23685,
          0.20168,
          0.50654,
          0.50654,
          0.50654,
          0.50654,
          0.42446000000000006,
          0.42446000000000006,
          0.24858000000000002,
          0.34238,
          0.34238,
          0.30721,
          0.15478,
          0.15478,
          0.56517,
          0.56517,
          0.56517,
          0.56517,
          0.56517,
          1.0694,
          1.0694,
          1.0694,
          0.8231200000000001,
          1.0576,
          1.0576,
          1.1632,
          1.1632,
          0.9052,
          1.1397,
          0.92865,
          0.9169299999999999,
          0.9169299999999999,
          1.3156,
          0.9052,
          0.9052,
          1.2452,
          1.2452,
          0.87003,
          0.87003,
          0.9521,
          0.87003,
          0.87003,
          0.87003,
          0.8934799999999999,
          0.8934799999999999,
          1.0342,
          1.0342,
          1.0342,
          1.3156,
          0.92865,
          0.92865,
          1.0342,
          1.0342,
          1.0342,
          0.9052,
          1.1514,
          0.9052,
          1.3039,
          1.3039,
          0.9403799999999999,
          0.92865,
          0.92865,
          0.92865,
          1.1866,
          1.1866,
          0.9403799999999999,
          0.9403799999999999,
          1.0342,
          1.0342,
          1.0342,
          1.0342,
          0.88175,
          0.88175,
          0.88175,
          1.1983,
          1.1983,
          0.9990100000000001,
          0.9990100000000001,
          1.1045,
          0.9521,
          0.9521,
          1.1632,
          1.1632,
          1.1632,
          1.0811,
          0.96383,
          0.96383,
          0.88175,
          0.88175,
          1.0459,
          1.1983,
          0.9403799999999999,
          0.8934799999999999,
          0.8934799999999999,
          0.8934799999999999,
          0.8583,
          0.9052,
          0.96383,
          0.96383,
          0.96383,
          0.92865,
          0.92865,
          0.92865,
          1.2101,
          1.2101,
          1.2101,
          0.8934799999999999,
          0.8934799999999999,
          0.8934799999999999,
          0.9052,
          0.9052,
          0.9169299999999999,
          0.9169299999999999,
          0.9169299999999999,
          0.8934799999999999,
          0.9169299999999999,
          0.88175,
          0.88175,
          1.0107,
          1.0107,
          0.9169299999999999,
          0.9169299999999999,
          0.88175,
          0.88175,
          0.88175,
          1.128,
          1.128,
          0.9052,
          0.9052,
          0.9052,
          0.88175,
          0.88175,
          0.88175,
          0.9403799999999999,
          0.9403799999999999,
          0.9403799999999999,
          0.7176,
          0.7176,
          0.7176,
          0.7176,
          0.7176,
          0.7176,
          0.42446000000000006,
          0.23685,
          0.23685,
          0.23685,
          0.23685,
          0.29548,
          0.29548,
          0.29548,
          0.33066,
          0.33066,
          0.33066,
          0.5534399999999999,
          0.5534399999999999,
          0.37756,
          0.37756,
          0.37756,
          0.31893,
          0.31893,
          0.31893,
          0.31893,
          0.30721,
          0.30721,
          0.33066,
          0.33066,
          0.33066,
          0.33066,
          0.33066,
          0.28376,
          0.28376,
          0.28376,
          0.28376,
          0.54171,
          0.54171,
          0.54171,
          0.54171,
          0.54171,
          0.29548,
          0.29548,
          0.29548,
          0.29548,
          0.41273000000000004,
          0.41273000000000004,
          0.22513000000000002,
          0.60034,
          0.2603,
          0.83485,
          0.83485,
          0.88175,
          0.88175,
          0.8465799999999999,
          0.8465799999999999,
          1.0928,
          0.83485,
          1.0928,
          0.78795,
          0.78795,
          0.8583,
          0.8583,
          0.8583,
          0.8934799999999999,
          0.8934799999999999,
          0.88175,
          0.88175,
          0.88175,
          0.88175,
          0.88175,
          0.88175,
          0.88175,
          0.88175,
          0.88175,
          0.8583,
          0.9052,
          0.9052,
          0.96383,
          0.96383,
          0.88175,
          0.88175,
          0.88175,
          1.1163,
          1.1163,
          1.1163,
          0.8465799999999999,
          0.8465799999999999,
          0.88175,
          0.88175,
          0.88175,
          0.88175,
          0.87003,
          0.87003,
          0.87003,
          0.87003,
          0.87003,
          0.87003,
          0.87003,
          0.8934799999999999,
          0.8934799999999999,
          0.8934799999999999,
          0.88175,
          0.88175,
          0.88175,
          0.88175,
          0.88175,
          0.8231200000000001,
          0.87003,
          0.8465799999999999,
          0.77622,
          0.096148,
          0.096148,
          -0.51357,
          -0.51357,
          -0.51357,
          -0.51357,
          0.92865,
          1.2335,
          1.0928,
          1.2101,
          1.2687,
          1.0928,
          1.2687,
          1.2921,
          1.2921,
          1.0694,
          1.0928,
          1.0928,
          1.128,
          0.9169299999999999,
          0.9169299999999999,
          0.9521,
          1.2687,
          1.0107,
          1.0107,
          0.88175,
          0.88175,
          0.9169299999999999,
          0.9990100000000001,
          0.9990100000000001,
          0.9990100000000001,
          1.1397,
          0.9169299999999999,
          0.9169299999999999,
          0.9169299999999999,
          1.1632,
          0.9169299999999999,
          1.1514,
          1.0107,
          0.88175,
          0.96383,
          0.9052,
          1.0225,
          1.0342,
          0.92865,
          1.1163,
          0.9403799999999999,
          0.9169299999999999,
          0.92865,
          1.1045,
          1.0694,
          0.9169299999999999,
          1.0459,
          1.0459,
          1.1163,
          1.1163,
          0.96383,
          1.1045,
          0.92865,
          0.9169299999999999,
          0.9403799999999999,
          0.9403799999999999,
          0.9052,
          0.92865,
          1.2804,
          0.92865,
          1.128,
          1.0694,
          0.9169299999999999,
          0.9521,
          0.9521,
          0.88175,
          0.9521,
          0.92865,
          1.1045,
          1.1045,
          0.9052,
          0.9052,
          0.9052,
          0.9052,
          0.88175,
          0.9403799999999999,
          1.2101,
          1.2101,
          1.0342,
          0.88175,
          0.8934799999999999,
          1.1866,
          0.92865,
          0.9169299999999999,
          0.97555,
          0.9872799999999999,
          1.1514,
          0.92865,
          1.0107,
          1.1163,
          1.1163,
          0.9052,
          0.9521,
          0.9403799999999999,
          0.9169299999999999,
          0.9169299999999999,
          1.1163,
          0.9403799999999999,
          1.1397,
          1.1045,
          0.8934799999999999,
          0.9052,
          1.2218,
          0.87003,
          0.87003,
          0.87003,
          0.87003,
          0.87003,
          0.87003,
          -0.0093803,
          -0.0093803
         ]
        }
       ],
       "layout": {
        "height": 300,
        "margin": {
         "b": 0,
         "l": 0,
         "r": 0,
         "t": 32
        },
        "template": {
         "data": {
          "bar": [
           {
            "error_x": {
             "color": "#2a3f5f"
            },
            "error_y": {
             "color": "#2a3f5f"
            },
            "marker": {
             "line": {
              "color": "#E5ECF6",
              "width": 0.5
             }
            },
            "type": "bar"
           }
          ],
          "barpolar": [
           {
            "marker": {
             "line": {
              "color": "#E5ECF6",
              "width": 0.5
             }
            },
            "type": "barpolar"
           }
          ],
          "carpet": [
           {
            "aaxis": {
             "endlinecolor": "#2a3f5f",
             "gridcolor": "white",
             "linecolor": "white",
             "minorgridcolor": "white",
             "startlinecolor": "#2a3f5f"
            },
            "baxis": {
             "endlinecolor": "#2a3f5f",
             "gridcolor": "white",
             "linecolor": "white",
             "minorgridcolor": "white",
             "startlinecolor": "#2a3f5f"
            },
            "type": "carpet"
           }
          ],
          "choropleth": [
           {
            "colorbar": {
             "outlinewidth": 0,
             "ticks": ""
            },
            "type": "choropleth"
           }
          ],
          "contour": [
           {
            "colorbar": {
             "outlinewidth": 0,
             "ticks": ""
            },
            "colorscale": [
             [
              0,
              "#0d0887"
             ],
             [
              0.1111111111111111,
              "#46039f"
             ],
             [
              0.2222222222222222,
              "#7201a8"
             ],
             [
              0.3333333333333333,
              "#9c179e"
             ],
             [
              0.4444444444444444,
              "#bd3786"
             ],
             [
              0.5555555555555556,
              "#d8576b"
             ],
             [
              0.6666666666666666,
              "#ed7953"
             ],
             [
              0.7777777777777778,
              "#fb9f3a"
             ],
             [
              0.8888888888888888,
              "#fdca26"
             ],
             [
              1,
              "#f0f921"
             ]
            ],
            "type": "contour"
           }
          ],
          "contourcarpet": [
           {
            "colorbar": {
             "outlinewidth": 0,
             "ticks": ""
            },
            "type": "contourcarpet"
           }
          ],
          "heatmap": [
           {
            "colorbar": {
             "outlinewidth": 0,
             "ticks": ""
            },
            "colorscale": [
             [
              0,
              "#0d0887"
             ],
             [
              0.1111111111111111,
              "#46039f"
             ],
             [
              0.2222222222222222,
              "#7201a8"
             ],
             [
              0.3333333333333333,
              "#9c179e"
             ],
             [
              0.4444444444444444,
              "#bd3786"
             ],
             [
              0.5555555555555556,
              "#d8576b"
             ],
             [
              0.6666666666666666,
              "#ed7953"
             ],
             [
              0.7777777777777778,
              "#fb9f3a"
             ],
             [
              0.8888888888888888,
              "#fdca26"
             ],
             [
              1,
              "#f0f921"
             ]
            ],
            "type": "heatmap"
           }
          ],
          "heatmapgl": [
           {
            "colorbar": {
             "outlinewidth": 0,
             "ticks": ""
            },
            "colorscale": [
             [
              0,
              "#0d0887"
             ],
             [
              0.1111111111111111,
              "#46039f"
             ],
             [
              0.2222222222222222,
              "#7201a8"
             ],
             [
              0.3333333333333333,
              "#9c179e"
             ],
             [
              0.4444444444444444,
              "#bd3786"
             ],
             [
              0.5555555555555556,
              "#d8576b"
             ],
             [
              0.6666666666666666,
              "#ed7953"
             ],
             [
              0.7777777777777778,
              "#fb9f3a"
             ],
             [
              0.8888888888888888,
              "#fdca26"
             ],
             [
              1,
              "#f0f921"
             ]
            ],
            "type": "heatmapgl"
           }
          ],
          "histogram": [
           {
            "marker": {
             "colorbar": {
              "outlinewidth": 0,
              "ticks": ""
             }
            },
            "type": "histogram"
           }
          ],
          "histogram2d": [
           {
            "colorbar": {
             "outlinewidth": 0,
             "ticks": ""
            },
            "colorscale": [
             [
              0,
              "#0d0887"
             ],
             [
              0.1111111111111111,
              "#46039f"
             ],
             [
              0.2222222222222222,
              "#7201a8"
             ],
             [
              0.3333333333333333,
              "#9c179e"
             ],
             [
              0.4444444444444444,
              "#bd3786"
             ],
             [
              0.5555555555555556,
              "#d8576b"
             ],
             [
              0.6666666666666666,
              "#ed7953"
             ],
             [
              0.7777777777777778,
              "#fb9f3a"
             ],
             [
              0.8888888888888888,
              "#fdca26"
             ],
             [
              1,
              "#f0f921"
             ]
            ],
            "type": "histogram2d"
           }
          ],
          "histogram2dcontour": [
           {
            "colorbar": {
             "outlinewidth": 0,
             "ticks": ""
            },
            "colorscale": [
             [
              0,
              "#0d0887"
             ],
             [
              0.1111111111111111,
              "#46039f"
             ],
             [
              0.2222222222222222,
              "#7201a8"
             ],
             [
              0.3333333333333333,
              "#9c179e"
             ],
             [
              0.4444444444444444,
              "#bd3786"
             ],
             [
              0.5555555555555556,
              "#d8576b"
             ],
             [
              0.6666666666666666,
              "#ed7953"
             ],
             [
              0.7777777777777778,
              "#fb9f3a"
             ],
             [
              0.8888888888888888,
              "#fdca26"
             ],
             [
              1,
              "#f0f921"
             ]
            ],
            "type": "histogram2dcontour"
           }
          ],
          "mesh3d": [
           {
            "colorbar": {
             "outlinewidth": 0,
             "ticks": ""
            },
            "type": "mesh3d"
           }
          ],
          "parcoords": [
           {
            "line": {
             "colorbar": {
              "outlinewidth": 0,
              "ticks": ""
             }
            },
            "type": "parcoords"
           }
          ],
          "pie": [
           {
            "automargin": true,
            "type": "pie"
           }
          ],
          "scatter": [
           {
            "marker": {
             "colorbar": {
              "outlinewidth": 0,
              "ticks": ""
             }
            },
            "type": "scatter"
           }
          ],
          "scatter3d": [
           {
            "line": {
             "colorbar": {
              "outlinewidth": 0,
              "ticks": ""
             }
            },
            "marker": {
             "colorbar": {
              "outlinewidth": 0,
              "ticks": ""
             }
            },
            "type": "scatter3d"
           }
          ],
          "scattercarpet": [
           {
            "marker": {
             "colorbar": {
              "outlinewidth": 0,
              "ticks": ""
             }
            },
            "type": "scattercarpet"
           }
          ],
          "scattergeo": [
           {
            "marker": {
             "colorbar": {
              "outlinewidth": 0,
              "ticks": ""
             }
            },
            "type": "scattergeo"
           }
          ],
          "scattergl": [
           {
            "marker": {
             "colorbar": {
              "outlinewidth": 0,
              "ticks": ""
             }
            },
            "type": "scattergl"
           }
          ],
          "scattermapbox": [
           {
            "marker": {
             "colorbar": {
              "outlinewidth": 0,
              "ticks": ""
             }
            },
            "type": "scattermapbox"
           }
          ],
          "scatterpolar": [
           {
            "marker": {
             "colorbar": {
              "outlinewidth": 0,
              "ticks": ""
             }
            },
            "type": "scatterpolar"
           }
          ],
          "scatterpolargl": [
           {
            "marker": {
             "colorbar": {
              "outlinewidth": 0,
              "ticks": ""
             }
            },
            "type": "scatterpolargl"
           }
          ],
          "scatterternary": [
           {
            "marker": {
             "colorbar": {
              "outlinewidth": 0,
              "ticks": ""
             }
            },
            "type": "scatterternary"
           }
          ],
          "surface": [
           {
            "colorbar": {
             "outlinewidth": 0,
             "ticks": ""
            },
            "colorscale": [
             [
              0,
              "#0d0887"
             ],
             [
              0.1111111111111111,
              "#46039f"
             ],
             [
              0.2222222222222222,
              "#7201a8"
             ],
             [
              0.3333333333333333,
              "#9c179e"
             ],
             [
              0.4444444444444444,
              "#bd3786"
             ],
             [
              0.5555555555555556,
              "#d8576b"
             ],
             [
              0.6666666666666666,
              "#ed7953"
             ],
             [
              0.7777777777777778,
              "#fb9f3a"
             ],
             [
              0.8888888888888888,
              "#fdca26"
             ],
             [
              1,
              "#f0f921"
             ]
            ],
            "type": "surface"
           }
          ],
          "table": [
           {
            "cells": {
             "fill": {
              "color": "#EBF0F8"
             },
             "line": {
              "color": "white"
             }
            },
            "header": {
             "fill": {
              "color": "#C8D4E3"
             },
             "line": {
              "color": "white"
             }
            },
            "type": "table"
           }
          ]
         },
         "layout": {
          "annotationdefaults": {
           "arrowcolor": "#2a3f5f",
           "arrowhead": 0,
           "arrowwidth": 1
          },
          "coloraxis": {
           "colorbar": {
            "outlinewidth": 0,
            "ticks": ""
           }
          },
          "colorscale": {
           "diverging": [
            [
             0,
             "#8e0152"
            ],
            [
             0.1,
             "#c51b7d"
            ],
            [
             0.2,
             "#de77ae"
            ],
            [
             0.3,
             "#f1b6da"
            ],
            [
             0.4,
             "#fde0ef"
            ],
            [
             0.5,
             "#f7f7f7"
            ],
            [
             0.6,
             "#e6f5d0"
            ],
            [
             0.7,
             "#b8e186"
            ],
            [
             0.8,
             "#7fbc41"
            ],
            [
             0.9,
             "#4d9221"
            ],
            [
             1,
             "#276419"
            ]
           ],
           "sequential": [
            [
             0,
             "#0d0887"
            ],
            [
             0.1111111111111111,
             "#46039f"
            ],
            [
             0.2222222222222222,
             "#7201a8"
            ],
            [
             0.3333333333333333,
             "#9c179e"
            ],
            [
             0.4444444444444444,
             "#bd3786"
            ],
            [
             0.5555555555555556,
             "#d8576b"
            ],
            [
             0.6666666666666666,
             "#ed7953"
            ],
            [
             0.7777777777777778,
             "#fb9f3a"
            ],
            [
             0.8888888888888888,
             "#fdca26"
            ],
            [
             1,
             "#f0f921"
            ]
           ],
           "sequentialminus": [
            [
             0,
             "#0d0887"
            ],
            [
             0.1111111111111111,
             "#46039f"
            ],
            [
             0.2222222222222222,
             "#7201a8"
            ],
            [
             0.3333333333333333,
             "#9c179e"
            ],
            [
             0.4444444444444444,
             "#bd3786"
            ],
            [
             0.5555555555555556,
             "#d8576b"
            ],
            [
             0.6666666666666666,
             "#ed7953"
            ],
            [
             0.7777777777777778,
             "#fb9f3a"
            ],
            [
             0.8888888888888888,
             "#fdca26"
            ],
            [
             1,
             "#f0f921"
            ]
           ]
          },
          "colorway": [
           "#636efa",
           "#EF553B",
           "#00cc96",
           "#ab63fa",
           "#FFA15A",
           "#19d3f3",
           "#FF6692",
           "#B6E880",
           "#FF97FF",
           "#FECB52"
          ],
          "font": {
           "color": "#2a3f5f"
          },
          "geo": {
           "bgcolor": "white",
           "lakecolor": "white",
           "landcolor": "#E5ECF6",
           "showlakes": true,
           "showland": true,
           "subunitcolor": "white"
          },
          "hoverlabel": {
           "align": "left"
          },
          "hovermode": "closest",
          "mapbox": {
           "style": "light"
          },
          "paper_bgcolor": "white",
          "plot_bgcolor": "#E5ECF6",
          "polar": {
           "angularaxis": {
            "gridcolor": "white",
            "linecolor": "white",
            "ticks": ""
           },
           "bgcolor": "#E5ECF6",
           "radialaxis": {
            "gridcolor": "white",
            "linecolor": "white",
            "ticks": ""
           }
          },
          "scene": {
           "xaxis": {
            "backgroundcolor": "#E5ECF6",
            "gridcolor": "white",
            "gridwidth": 2,
            "linecolor": "white",
            "showbackground": true,
            "ticks": "",
            "zerolinecolor": "white"
           },
           "yaxis": {
            "backgroundcolor": "#E5ECF6",
            "gridcolor": "white",
            "gridwidth": 2,
            "linecolor": "white",
            "showbackground": true,
            "ticks": "",
            "zerolinecolor": "white"
           },
           "zaxis": {
            "backgroundcolor": "#E5ECF6",
            "gridcolor": "white",
            "gridwidth": 2,
            "linecolor": "white",
            "showbackground": true,
            "ticks": "",
            "zerolinecolor": "white"
           }
          },
          "shapedefaults": {
           "line": {
            "color": "#2a3f5f"
           }
          },
          "ternary": {
           "aaxis": {
            "gridcolor": "white",
            "linecolor": "white",
            "ticks": ""
           },
           "baxis": {
            "gridcolor": "white",
            "linecolor": "white",
            "ticks": ""
           },
           "bgcolor": "#E5ECF6",
           "caxis": {
            "gridcolor": "white",
            "linecolor": "white",
            "ticks": ""
           }
          },
          "title": {
           "x": 0.05
          },
          "xaxis": {
           "automargin": true,
           "gridcolor": "white",
           "linecolor": "white",
           "ticks": "",
           "title": {
            "standoff": 15
           },
           "zerolinecolor": "white",
           "zerolinewidth": 2
          },
          "yaxis": {
           "automargin": true,
           "gridcolor": "white",
           "linecolor": "white",
           "ticks": "",
           "title": {
            "standoff": 15
           },
           "zerolinecolor": "white",
           "zerolinewidth": 2
          }
         }
        },
        "width": 400
       }
      },
      "text/html": [
       "<div>\n",
       "        \n",
       "        \n",
       "            <div id=\"8263f574-2518-4012-84e6-cab59c5c773d\" class=\"plotly-graph-div\" style=\"height:300px; width:400px;\"></div>\n",
       "            <script type=\"text/javascript\">\n",
       "                require([\"plotly\"], function(Plotly) {\n",
       "                    window.PLOTLYENV=window.PLOTLYENV || {};\n",
       "                    \n",
       "                if (document.getElementById(\"8263f574-2518-4012-84e6-cab59c5c773d\")) {\n",
       "                    Plotly.newPlot(\n",
       "                        '8263f574-2518-4012-84e6-cab59c5c773d',\n",
       "                        [{\"type\": \"scatter\", \"x\": [0.0, 0.5, 1.5, 1.75, 2.5, 3.25, 4.0, 5.0, 5.5, 6.0, 6.5, 6.75, 7.75, 8.0, 9.0, 9.75, 10.0, 10.5, 10.75, 12.0, 12.5, 13.0, 14.0, 15.25, 15.5, 16.5, 17.5, 18.5, 18.75, 19.25, 20.0, 21.0, 22.75, 23.0, 23.25, 24.5, 26.25, 27.75, 28.5, 29.0, 29.5, 29.75, 30.5, 30.75, 31.75, 32.5, 33.0, 33.5, 34.0, 34.5, 35.5, 35.6, 35.75, 36.25, 37.0, 37.75, 38.0, 38.1, 38.5, 38.75, 38.85, 39.25, 39.35, 39.75, 40.25, 40.5, 41.5, 41.6, 42.0, 42.25, 42.5, 43.0, 43.1, 43.25, 43.35, 43.5, 44.0, 44.1, 44.25, 44.5, 44.75, 45.75, 45.85, 46.0, 46.25, 46.5, 46.575, 47.25, 47.5, 47.575, 48.0, 48.5, 48.75, 49.0, 49.1, 50.0, 50.5, 50.75, 50.825, 51.75, 52.0, 52.75, 52.85, 53.5, 53.6, 53.75, 53.825, 54.0, 54.25, 54.5, 55.0, 55.25, 55.325, 55.5, 56.0, 56.25, 56.5, 57.25, 57.35, 57.5, 58.5, 58.75, 58.825, 59.25, 60.25, 60.5, 61.75, 62.25, 62.5, 62.6, 62.75, 63.0, 63.75, 63.825, 64.0, 64.25, 64.75, 64.875, 65.0, 65.1, 65.25, 65.5, 65.6, 65.65, 65.75, 66.5, 66.75, 67.5, 67.6, 67.75, 68.0, 68.525, 68.6, 68.65, 69.0, 69.25, 70.0, 70.1, 71.625, 71.725, 71.775, 71.825, 71.85, 72.25, 72.5, 72.6, 73.5, 73.75, 74.0, 74.075, 74.125, 74.25, 76.0, 76.5, 77.25, 77.5, 77.75, 78.0, 79.0, 80.0, 80.75, 81.0, 81.5, 82.25, 82.75, 83.25, 84.5, 84.75, 85.25, 86.5, 87.0, 87.75, 88.25, 88.75, 89.75, 90.0, 90.25, 90.75, 92.0, 92.5, 93.5, 94.25, 94.75, 95.0, 95.25, 96.0, 96.5, 96.75, 97.25, 98.25, 98.5, 99.0, 99.5, 100.0, 101.25, 101.5, 102.0, 102.5, 103.25, 104.0, 106.75, 107.25, 111.5, 116.0, 116.5, 118.0, 120.5, 126.5, 127.0, 128.5, 130.25, 131.25, 132.75, 133.0, 135.0, 136.25, 137.25, 138.25, 139.0, 140.0, 140.5, 140.75, 141.25, 142.0, 142.25, 142.75, 143.0, 143.5, 145.0, 146.0, 146.75, 148.0, 148.5, 149.75, 150.5, 151.0, 152.5, 153.0, 153.5, 155.28, 156.0, 157.25, 157.5, 158.0, 158.75, 159.75, 160.5, 162.25, 163.0, 163.5, 164.0, 164.5, 165.75, 166.25, 166.5, 168.0, 168.5, 169.0, 169.5, 178.75, 184.5, 186.0, 193.0, 194.5, 196.25, 198.25, 199.5, 199.75, 200.25, 200.33, 200.75, 201.0, 201.53, 202.25, 203.25, 204.25, 205.25, 206.0, 206.25, 208.0, 208.75, 209.0, 210.0, 211.75, 211.85, 212.25, 212.35, 212.5, 212.75, 213.0, 213.08, 213.25, 213.5, 213.75, 213.83, 214.25, 214.75, 215.0, 215.25, 215.75, 217.25, 217.5, 217.75, 218.0, 218.75, 220.0, 220.25, 221.0, 222.75, 224.25, 224.5, 225.0, 225.25, 225.5, 225.75, 226.5, 227.75, 227.85, 228.5, 228.58, 229.0, 230.0, 230.5, 231.25, 231.5, 231.75, 232.0, 232.5, 234.25, 234.5, 234.75, 235.0, 235.25, 235.5, 235.75, 235.85, 236.25, 236.5, 237.0, 237.08, 237.25, 237.35, 237.5, 237.6, 237.63, 238.0, 238.5, 238.75, 239.75, 240.5, 241.25, 241.5, 241.75, 242.0, 243.0, 243.5, 244.0, 244.25, 244.35, 244.5, 244.58, 244.75, 245.0, 245.08, 245.25, 245.33, 246.0, 246.75, 247.0, 247.25, 247.75, 247.85, 248.0, 250.0, 250.5, 250.75, 251.0, 251.25, 251.5, 253.25, 254.0], \"y\": [0.27203, 0.27203, 0.44791000000000003, 0.44791000000000003, 0.34238, 0.34238, 0.30721, 0.27203, 0.23685, 0.23685, 0.23685, 0.23685, 0.31893, 0.31893, 0.47136000000000006, 0.40101, 0.40101, 0.40101, 0.40101, 0.30721, 0.30721, 0.30721, 0.41273000000000004, 0.27203, 0.27203, 0.24858000000000002, 0.2603, 0.31893, 0.31893, 0.31893, 0.43618999999999997, 0.47136000000000006, 0.2134, 0.2134, 0.2134, 0.23685, 0.23685, 0.20168, 0.50654, 0.50654, 0.50654, 0.50654, 0.42446000000000006, 0.42446000000000006, 0.24858000000000002, 0.34238, 0.34238, 0.30721, 0.15478, 0.15478, 0.56517, 0.56517, 0.56517, 0.56517, 0.56517, 1.0694, 1.0694, 1.0694, 0.8231200000000001, 1.0576, 1.0576, 1.1632, 1.1632, 0.9052, 1.1397, 0.92865, 0.9169299999999999, 0.9169299999999999, 1.3156, 0.9052, 0.9052, 1.2452, 1.2452, 0.87003, 0.87003, 0.9521, 0.87003, 0.87003, 0.87003, 0.8934799999999999, 0.8934799999999999, 1.0342, 1.0342, 1.0342, 1.3156, 0.92865, 0.92865, 1.0342, 1.0342, 1.0342, 0.9052, 1.1514, 0.9052, 1.3039, 1.3039, 0.9403799999999999, 0.92865, 0.92865, 0.92865, 1.1866, 1.1866, 0.9403799999999999, 0.9403799999999999, 1.0342, 1.0342, 1.0342, 1.0342, 0.88175, 0.88175, 0.88175, 1.1983, 1.1983, 0.9990100000000001, 0.9990100000000001, 1.1045, 0.9521, 0.9521, 1.1632, 1.1632, 1.1632, 1.0811, 0.96383, 0.96383, 0.88175, 0.88175, 1.0459, 1.1983, 0.9403799999999999, 0.8934799999999999, 0.8934799999999999, 0.8934799999999999, 0.8583, 0.9052, 0.96383, 0.96383, 0.96383, 0.92865, 0.92865, 0.92865, 1.2101, 1.2101, 1.2101, 0.8934799999999999, 0.8934799999999999, 0.8934799999999999, 0.9052, 0.9052, 0.9169299999999999, 0.9169299999999999, 0.9169299999999999, 0.8934799999999999, 0.9169299999999999, 0.88175, 0.88175, 1.0107, 1.0107, 0.9169299999999999, 0.9169299999999999, 0.88175, 0.88175, 0.88175, 1.128, 1.128, 0.9052, 0.9052, 0.9052, 0.88175, 0.88175, 0.88175, 0.9403799999999999, 0.9403799999999999, 0.9403799999999999, 0.7176, 0.7176, 0.7176, 0.7176, 0.7176, 0.7176, 0.42446000000000006, 0.23685, 0.23685, 0.23685, 0.23685, 0.29548, 0.29548, 0.29548, 0.33066, 0.33066, 0.33066, 0.5534399999999999, 0.5534399999999999, 0.37756, 0.37756, 0.37756, 0.31893, 0.31893, 0.31893, 0.31893, 0.30721, 0.30721, 0.33066, 0.33066, 0.33066, 0.33066, 0.33066, 0.28376, 0.28376, 0.28376, 0.28376, 0.54171, 0.54171, 0.54171, 0.54171, 0.54171, 0.29548, 0.29548, 0.29548, 0.29548, 0.41273000000000004, 0.41273000000000004, 0.22513000000000002, 0.60034, 0.2603, 0.83485, 0.83485, 0.88175, 0.88175, 0.8465799999999999, 0.8465799999999999, 1.0928, 0.83485, 1.0928, 0.78795, 0.78795, 0.8583, 0.8583, 0.8583, 0.8934799999999999, 0.8934799999999999, 0.88175, 0.88175, 0.88175, 0.88175, 0.88175, 0.88175, 0.88175, 0.88175, 0.88175, 0.8583, 0.9052, 0.9052, 0.96383, 0.96383, 0.88175, 0.88175, 0.88175, 1.1163, 1.1163, 1.1163, 0.8465799999999999, 0.8465799999999999, 0.88175, 0.88175, 0.88175, 0.88175, 0.87003, 0.87003, 0.87003, 0.87003, 0.87003, 0.87003, 0.87003, 0.8934799999999999, 0.8934799999999999, 0.8934799999999999, 0.88175, 0.88175, 0.88175, 0.88175, 0.88175, 0.8231200000000001, 0.87003, 0.8465799999999999, 0.77622, 0.096148, 0.096148, -0.51357, -0.51357, -0.51357, -0.51357, 0.92865, 1.2335, 1.0928, 1.2101, 1.2687, 1.0928, 1.2687, 1.2921, 1.2921, 1.0694, 1.0928, 1.0928, 1.128, 0.9169299999999999, 0.9169299999999999, 0.9521, 1.2687, 1.0107, 1.0107, 0.88175, 0.88175, 0.9169299999999999, 0.9990100000000001, 0.9990100000000001, 0.9990100000000001, 1.1397, 0.9169299999999999, 0.9169299999999999, 0.9169299999999999, 1.1632, 0.9169299999999999, 1.1514, 1.0107, 0.88175, 0.96383, 0.9052, 1.0225, 1.0342, 0.92865, 1.1163, 0.9403799999999999, 0.9169299999999999, 0.92865, 1.1045, 1.0694, 0.9169299999999999, 1.0459, 1.0459, 1.1163, 1.1163, 0.96383, 1.1045, 0.92865, 0.9169299999999999, 0.9403799999999999, 0.9403799999999999, 0.9052, 0.92865, 1.2804, 0.92865, 1.128, 1.0694, 0.9169299999999999, 0.9521, 0.9521, 0.88175, 0.9521, 0.92865, 1.1045, 1.1045, 0.9052, 0.9052, 0.9052, 0.9052, 0.88175, 0.9403799999999999, 1.2101, 1.2101, 1.0342, 0.88175, 0.8934799999999999, 1.1866, 0.92865, 0.9169299999999999, 0.97555, 0.9872799999999999, 1.1514, 0.92865, 1.0107, 1.1163, 1.1163, 0.9052, 0.9521, 0.9403799999999999, 0.9169299999999999, 0.9169299999999999, 1.1163, 0.9403799999999999, 1.1397, 1.1045, 0.8934799999999999, 0.9052, 1.2218, 0.87003, 0.87003, 0.87003, 0.87003, 0.87003, 0.87003, -0.0093803, -0.0093803]}],\n",
       "                        {\"height\": 300, \"margin\": {\"b\": 0, \"l\": 0, \"r\": 0, \"t\": 32}, \"template\": {\"data\": {\"bar\": [{\"error_x\": {\"color\": \"#2a3f5f\"}, \"error_y\": {\"color\": \"#2a3f5f\"}, \"marker\": {\"line\": {\"color\": \"#E5ECF6\", \"width\": 0.5}}, \"type\": \"bar\"}], \"barpolar\": [{\"marker\": {\"line\": {\"color\": \"#E5ECF6\", \"width\": 0.5}}, \"type\": \"barpolar\"}], \"carpet\": [{\"aaxis\": {\"endlinecolor\": \"#2a3f5f\", \"gridcolor\": \"white\", \"linecolor\": \"white\", \"minorgridcolor\": \"white\", \"startlinecolor\": \"#2a3f5f\"}, \"baxis\": {\"endlinecolor\": \"#2a3f5f\", \"gridcolor\": \"white\", \"linecolor\": \"white\", \"minorgridcolor\": \"white\", \"startlinecolor\": \"#2a3f5f\"}, \"type\": \"carpet\"}], \"choropleth\": [{\"colorbar\": {\"outlinewidth\": 0, \"ticks\": \"\"}, \"type\": \"choropleth\"}], \"contour\": [{\"colorbar\": {\"outlinewidth\": 0, \"ticks\": \"\"}, \"colorscale\": [[0.0, \"#0d0887\"], [0.1111111111111111, \"#46039f\"], [0.2222222222222222, \"#7201a8\"], [0.3333333333333333, \"#9c179e\"], [0.4444444444444444, \"#bd3786\"], [0.5555555555555556, \"#d8576b\"], [0.6666666666666666, \"#ed7953\"], [0.7777777777777778, \"#fb9f3a\"], [0.8888888888888888, \"#fdca26\"], [1.0, \"#f0f921\"]], \"type\": \"contour\"}], \"contourcarpet\": [{\"colorbar\": {\"outlinewidth\": 0, \"ticks\": \"\"}, \"type\": \"contourcarpet\"}], \"heatmap\": [{\"colorbar\": {\"outlinewidth\": 0, \"ticks\": \"\"}, \"colorscale\": [[0.0, \"#0d0887\"], [0.1111111111111111, \"#46039f\"], [0.2222222222222222, \"#7201a8\"], [0.3333333333333333, \"#9c179e\"], [0.4444444444444444, \"#bd3786\"], [0.5555555555555556, \"#d8576b\"], [0.6666666666666666, \"#ed7953\"], [0.7777777777777778, \"#fb9f3a\"], [0.8888888888888888, \"#fdca26\"], [1.0, \"#f0f921\"]], \"type\": \"heatmap\"}], \"heatmapgl\": [{\"colorbar\": {\"outlinewidth\": 0, \"ticks\": \"\"}, \"colorscale\": [[0.0, \"#0d0887\"], [0.1111111111111111, \"#46039f\"], [0.2222222222222222, \"#7201a8\"], [0.3333333333333333, \"#9c179e\"], [0.4444444444444444, \"#bd3786\"], [0.5555555555555556, \"#d8576b\"], [0.6666666666666666, \"#ed7953\"], [0.7777777777777778, \"#fb9f3a\"], [0.8888888888888888, \"#fdca26\"], [1.0, \"#f0f921\"]], \"type\": \"heatmapgl\"}], \"histogram\": [{\"marker\": {\"colorbar\": {\"outlinewidth\": 0, \"ticks\": \"\"}}, \"type\": \"histogram\"}], \"histogram2d\": [{\"colorbar\": {\"outlinewidth\": 0, \"ticks\": \"\"}, \"colorscale\": [[0.0, \"#0d0887\"], [0.1111111111111111, \"#46039f\"], [0.2222222222222222, \"#7201a8\"], [0.3333333333333333, \"#9c179e\"], [0.4444444444444444, \"#bd3786\"], [0.5555555555555556, \"#d8576b\"], [0.6666666666666666, \"#ed7953\"], [0.7777777777777778, \"#fb9f3a\"], [0.8888888888888888, \"#fdca26\"], [1.0, \"#f0f921\"]], \"type\": \"histogram2d\"}], \"histogram2dcontour\": [{\"colorbar\": {\"outlinewidth\": 0, \"ticks\": \"\"}, \"colorscale\": [[0.0, \"#0d0887\"], [0.1111111111111111, \"#46039f\"], [0.2222222222222222, \"#7201a8\"], [0.3333333333333333, \"#9c179e\"], [0.4444444444444444, \"#bd3786\"], [0.5555555555555556, \"#d8576b\"], [0.6666666666666666, \"#ed7953\"], [0.7777777777777778, \"#fb9f3a\"], [0.8888888888888888, \"#fdca26\"], [1.0, \"#f0f921\"]], \"type\": \"histogram2dcontour\"}], \"mesh3d\": [{\"colorbar\": {\"outlinewidth\": 0, \"ticks\": \"\"}, \"type\": \"mesh3d\"}], \"parcoords\": [{\"line\": {\"colorbar\": {\"outlinewidth\": 0, \"ticks\": \"\"}}, \"type\": \"parcoords\"}], \"pie\": [{\"automargin\": true, \"type\": \"pie\"}], \"scatter\": [{\"marker\": {\"colorbar\": {\"outlinewidth\": 0, \"ticks\": \"\"}}, \"type\": \"scatter\"}], \"scatter3d\": [{\"line\": {\"colorbar\": {\"outlinewidth\": 0, \"ticks\": \"\"}}, \"marker\": {\"colorbar\": {\"outlinewidth\": 0, \"ticks\": \"\"}}, \"type\": \"scatter3d\"}], \"scattercarpet\": [{\"marker\": {\"colorbar\": {\"outlinewidth\": 0, \"ticks\": \"\"}}, \"type\": \"scattercarpet\"}], \"scattergeo\": [{\"marker\": {\"colorbar\": {\"outlinewidth\": 0, \"ticks\": \"\"}}, \"type\": \"scattergeo\"}], \"scattergl\": [{\"marker\": {\"colorbar\": {\"outlinewidth\": 0, \"ticks\": \"\"}}, \"type\": \"scattergl\"}], \"scattermapbox\": [{\"marker\": {\"colorbar\": {\"outlinewidth\": 0, \"ticks\": \"\"}}, \"type\": \"scattermapbox\"}], \"scatterpolar\": [{\"marker\": {\"colorbar\": {\"outlinewidth\": 0, \"ticks\": \"\"}}, \"type\": \"scatterpolar\"}], \"scatterpolargl\": [{\"marker\": {\"colorbar\": {\"outlinewidth\": 0, \"ticks\": \"\"}}, \"type\": \"scatterpolargl\"}], \"scatterternary\": [{\"marker\": {\"colorbar\": {\"outlinewidth\": 0, \"ticks\": \"\"}}, \"type\": \"scatterternary\"}], \"surface\": [{\"colorbar\": {\"outlinewidth\": 0, \"ticks\": \"\"}, \"colorscale\": [[0.0, \"#0d0887\"], [0.1111111111111111, \"#46039f\"], [0.2222222222222222, \"#7201a8\"], [0.3333333333333333, \"#9c179e\"], [0.4444444444444444, \"#bd3786\"], [0.5555555555555556, \"#d8576b\"], [0.6666666666666666, \"#ed7953\"], [0.7777777777777778, \"#fb9f3a\"], [0.8888888888888888, \"#fdca26\"], [1.0, \"#f0f921\"]], \"type\": \"surface\"}], \"table\": [{\"cells\": {\"fill\": {\"color\": \"#EBF0F8\"}, \"line\": {\"color\": \"white\"}}, \"header\": {\"fill\": {\"color\": \"#C8D4E3\"}, \"line\": {\"color\": \"white\"}}, \"type\": \"table\"}]}, \"layout\": {\"annotationdefaults\": {\"arrowcolor\": \"#2a3f5f\", \"arrowhead\": 0, \"arrowwidth\": 1}, \"coloraxis\": {\"colorbar\": {\"outlinewidth\": 0, \"ticks\": \"\"}}, \"colorscale\": {\"diverging\": [[0, \"#8e0152\"], [0.1, \"#c51b7d\"], [0.2, \"#de77ae\"], [0.3, \"#f1b6da\"], [0.4, \"#fde0ef\"], [0.5, \"#f7f7f7\"], [0.6, \"#e6f5d0\"], [0.7, \"#b8e186\"], [0.8, \"#7fbc41\"], [0.9, \"#4d9221\"], [1, \"#276419\"]], \"sequential\": [[0.0, \"#0d0887\"], [0.1111111111111111, \"#46039f\"], [0.2222222222222222, \"#7201a8\"], [0.3333333333333333, \"#9c179e\"], [0.4444444444444444, \"#bd3786\"], [0.5555555555555556, \"#d8576b\"], [0.6666666666666666, \"#ed7953\"], [0.7777777777777778, \"#fb9f3a\"], [0.8888888888888888, \"#fdca26\"], [1.0, \"#f0f921\"]], \"sequentialminus\": [[0.0, \"#0d0887\"], [0.1111111111111111, \"#46039f\"], [0.2222222222222222, \"#7201a8\"], [0.3333333333333333, \"#9c179e\"], [0.4444444444444444, \"#bd3786\"], [0.5555555555555556, \"#d8576b\"], [0.6666666666666666, \"#ed7953\"], [0.7777777777777778, \"#fb9f3a\"], [0.8888888888888888, \"#fdca26\"], [1.0, \"#f0f921\"]]}, \"colorway\": [\"#636efa\", \"#EF553B\", \"#00cc96\", \"#ab63fa\", \"#FFA15A\", \"#19d3f3\", \"#FF6692\", \"#B6E880\", \"#FF97FF\", \"#FECB52\"], \"font\": {\"color\": \"#2a3f5f\"}, \"geo\": {\"bgcolor\": \"white\", \"lakecolor\": \"white\", \"landcolor\": \"#E5ECF6\", \"showlakes\": true, \"showland\": true, \"subunitcolor\": \"white\"}, \"hoverlabel\": {\"align\": \"left\"}, \"hovermode\": \"closest\", \"mapbox\": {\"style\": \"light\"}, \"paper_bgcolor\": \"white\", \"plot_bgcolor\": \"#E5ECF6\", \"polar\": {\"angularaxis\": {\"gridcolor\": \"white\", \"linecolor\": \"white\", \"ticks\": \"\"}, \"bgcolor\": \"#E5ECF6\", \"radialaxis\": {\"gridcolor\": \"white\", \"linecolor\": \"white\", \"ticks\": \"\"}}, \"scene\": {\"xaxis\": {\"backgroundcolor\": \"#E5ECF6\", \"gridcolor\": \"white\", \"gridwidth\": 2, \"linecolor\": \"white\", \"showbackground\": true, \"ticks\": \"\", \"zerolinecolor\": \"white\"}, \"yaxis\": {\"backgroundcolor\": \"#E5ECF6\", \"gridcolor\": \"white\", \"gridwidth\": 2, \"linecolor\": \"white\", \"showbackground\": true, \"ticks\": \"\", \"zerolinecolor\": \"white\"}, \"zaxis\": {\"backgroundcolor\": \"#E5ECF6\", \"gridcolor\": \"white\", \"gridwidth\": 2, \"linecolor\": \"white\", \"showbackground\": true, \"ticks\": \"\", \"zerolinecolor\": \"white\"}}, \"shapedefaults\": {\"line\": {\"color\": \"#2a3f5f\"}}, \"ternary\": {\"aaxis\": {\"gridcolor\": \"white\", \"linecolor\": \"white\", \"ticks\": \"\"}, \"baxis\": {\"gridcolor\": \"white\", \"linecolor\": \"white\", \"ticks\": \"\"}, \"bgcolor\": \"#E5ECF6\", \"caxis\": {\"gridcolor\": \"white\", \"linecolor\": \"white\", \"ticks\": \"\"}}, \"title\": {\"x\": 0.05}, \"xaxis\": {\"automargin\": true, \"gridcolor\": \"white\", \"linecolor\": \"white\", \"ticks\": \"\", \"title\": {\"standoff\": 15}, \"zerolinecolor\": \"white\", \"zerolinewidth\": 2}, \"yaxis\": {\"automargin\": true, \"gridcolor\": \"white\", \"linecolor\": \"white\", \"ticks\": \"\", \"title\": {\"standoff\": 15}, \"zerolinecolor\": \"white\", \"zerolinewidth\": 2}}}, \"width\": 400},\n",
       "                        {\"responsive\": true}\n",
       "                    ).then(function(){\n",
       "                            \n",
       "var gd = document.getElementById('8263f574-2518-4012-84e6-cab59c5c773d');\n",
       "var x = new MutationObserver(function (mutations, observer) {{\n",
       "        var display = window.getComputedStyle(gd).display;\n",
       "        if (!display || display === 'none') {{\n",
       "            console.log([gd, 'removed!']);\n",
       "            Plotly.purge(gd);\n",
       "            observer.disconnect();\n",
       "        }}\n",
       "}});\n",
       "\n",
       "// Listen for the removal of the full notebook cells\n",
       "var notebookContainer = gd.closest('#notebook-container');\n",
       "if (notebookContainer) {{\n",
       "    x.observe(notebookContainer, {childList: true});\n",
       "}}\n",
       "\n",
       "// Listen for the clearing of the current output cell\n",
       "var outputEl = gd.closest('.output');\n",
       "if (outputEl) {{\n",
       "    x.observe(outputEl, {childList: true});\n",
       "}}\n",
       "\n",
       "                        })\n",
       "                };\n",
       "                });\n",
       "            </script>\n",
       "        </div>"
      ]
     },
     "metadata": {},
     "output_type": "display_data"
    }
   ],
   "source": [
    "layout = dict(width=400, height=300, margin=dict(l=0, r=0, t=32, b=0))\n",
    "fig = go.Figure(layout=layout)\n",
    "fig.add_trace(go.Scatter(x=df['time'], y=df['front']))\n",
    "fig.show()"
   ]
  },
  {
   "cell_type": "markdown",
   "metadata": {},
   "source": [
    "Note, that we used the `Scatter` class even though this is a line plot. If we want to just use markers we can change the 'mode' of the plot. The following example shows how we can use lines, markers and lines and markers in the same plot. Note, that Plotly automatically adds an interactive legend. The entries can be clicked to show or hide individual traces. The `name` keyword argument in the `Scatter` constructor determines the label shown in the legend."
   ]
  },
  {
   "cell_type": "code",
   "execution_count": 42,
   "metadata": {},
   "outputs": [
    {
     "data": {
      "application/vnd.plotly.v1+json": {
       "config": {
        "plotlyServerURL": "https://plot.ly"
       },
       "data": [
        {
         "mode": "lines",
         "name": "lines",
         "type": "scatter",
         "x": [
          0,
          0.5,
          1.5,
          1.75,
          2.5,
          3.25,
          4,
          5,
          5.5,
          6,
          6.5,
          6.75,
          7.75,
          8,
          9,
          9.75,
          10,
          10.5,
          10.75,
          12,
          12.5,
          13,
          14,
          15.25,
          15.5,
          16.5,
          17.5,
          18.5,
          18.75,
          19.25,
          20,
          21,
          22.75,
          23,
          23.25,
          24.5,
          26.25,
          27.75,
          28.5,
          29,
          29.5,
          29.75,
          30.5,
          30.75,
          31.75,
          32.5,
          33,
          33.5,
          34,
          34.5,
          35.5,
          35.6,
          35.75,
          36.25,
          37,
          37.75,
          38,
          38.1,
          38.5,
          38.75,
          38.85,
          39.25,
          39.35,
          39.75,
          40.25,
          40.5,
          41.5,
          41.6,
          42,
          42.25,
          42.5,
          43,
          43.1,
          43.25,
          43.35,
          43.5,
          44,
          44.1,
          44.25,
          44.5,
          44.75,
          45.75,
          45.85,
          46,
          46.25,
          46.5,
          46.575,
          47.25,
          47.5,
          47.575,
          48,
          48.5,
          48.75,
          49,
          49.1,
          50,
          50.5,
          50.75,
          50.825,
          51.75,
          52,
          52.75,
          52.85,
          53.5,
          53.6,
          53.75,
          53.825,
          54,
          54.25,
          54.5,
          55,
          55.25,
          55.325,
          55.5,
          56,
          56.25,
          56.5,
          57.25,
          57.35,
          57.5,
          58.5,
          58.75,
          58.825,
          59.25,
          60.25,
          60.5,
          61.75,
          62.25,
          62.5,
          62.6,
          62.75,
          63,
          63.75,
          63.825,
          64,
          64.25,
          64.75,
          64.875,
          65,
          65.1,
          65.25,
          65.5,
          65.6,
          65.65,
          65.75,
          66.5,
          66.75,
          67.5,
          67.6,
          67.75,
          68,
          68.525,
          68.6,
          68.65,
          69,
          69.25,
          70,
          70.1,
          71.625,
          71.725,
          71.775,
          71.825,
          71.85,
          72.25,
          72.5,
          72.6,
          73.5,
          73.75,
          74,
          74.075,
          74.125,
          74.25,
          76,
          76.5,
          77.25,
          77.5,
          77.75,
          78,
          79,
          80,
          80.75,
          81,
          81.5,
          82.25,
          82.75,
          83.25,
          84.5,
          84.75,
          85.25,
          86.5,
          87,
          87.75,
          88.25,
          88.75,
          89.75,
          90,
          90.25,
          90.75,
          92,
          92.5,
          93.5,
          94.25,
          94.75,
          95,
          95.25,
          96,
          96.5,
          96.75,
          97.25,
          98.25,
          98.5,
          99,
          99.5,
          100,
          101.25,
          101.5,
          102,
          102.5,
          103.25,
          104,
          106.75,
          107.25,
          111.5,
          116,
          116.5,
          118,
          120.5,
          126.5,
          127,
          128.5,
          130.25,
          131.25,
          132.75,
          133,
          135,
          136.25,
          137.25,
          138.25,
          139,
          140,
          140.5,
          140.75,
          141.25,
          142,
          142.25,
          142.75,
          143,
          143.5,
          145,
          146,
          146.75,
          148,
          148.5,
          149.75,
          150.5,
          151,
          152.5,
          153,
          153.5,
          155.28,
          156,
          157.25,
          157.5,
          158,
          158.75,
          159.75,
          160.5,
          162.25,
          163,
          163.5,
          164,
          164.5,
          165.75,
          166.25,
          166.5,
          168,
          168.5,
          169,
          169.5,
          178.75,
          184.5,
          186,
          193,
          194.5,
          196.25,
          198.25,
          199.5,
          199.75,
          200.25,
          200.33,
          200.75,
          201,
          201.53,
          202.25,
          203.25,
          204.25,
          205.25,
          206,
          206.25,
          208,
          208.75,
          209,
          210,
          211.75,
          211.85,
          212.25,
          212.35,
          212.5,
          212.75,
          213,
          213.08,
          213.25,
          213.5,
          213.75,
          213.83,
          214.25,
          214.75,
          215,
          215.25,
          215.75,
          217.25,
          217.5,
          217.75,
          218,
          218.75,
          220,
          220.25,
          221,
          222.75,
          224.25,
          224.5,
          225,
          225.25,
          225.5,
          225.75,
          226.5,
          227.75,
          227.85,
          228.5,
          228.58,
          229,
          230,
          230.5,
          231.25,
          231.5,
          231.75,
          232,
          232.5,
          234.25,
          234.5,
          234.75,
          235,
          235.25,
          235.5,
          235.75,
          235.85,
          236.25,
          236.5,
          237,
          237.08,
          237.25,
          237.35,
          237.5,
          237.6,
          237.63,
          238,
          238.5,
          238.75,
          239.75,
          240.5,
          241.25,
          241.5,
          241.75,
          242,
          243,
          243.5,
          244,
          244.25,
          244.35,
          244.5,
          244.58,
          244.75,
          245,
          245.08,
          245.25,
          245.33,
          246,
          246.75,
          247,
          247.25,
          247.75,
          247.85,
          248,
          250,
          250.5,
          250.75,
          251,
          251.25,
          251.5,
          253.25,
          254
         ],
         "y": [
          0.27203,
          0.27203,
          0.44791000000000003,
          0.44791000000000003,
          0.34238,
          0.34238,
          0.30721,
          0.27203,
          0.23685,
          0.23685,
          0.23685,
          0.23685,
          0.31893,
          0.31893,
          0.47136000000000006,
          0.40101,
          0.40101,
          0.40101,
          0.40101,
          0.30721,
          0.30721,
          0.30721,
          0.41273000000000004,
          0.27203,
          0.27203,
          0.24858000000000002,
          0.2603,
          0.31893,
          0.31893,
          0.31893,
          0.43618999999999997,
          0.47136000000000006,
          0.2134,
          0.2134,
          0.2134,
          0.23685,
          0.23685,
          0.20168,
          0.50654,
          0.50654,
          0.50654,
          0.50654,
          0.42446000000000006,
          0.42446000000000006,
          0.24858000000000002,
          0.34238,
          0.34238,
          0.30721,
          0.15478,
          0.15478,
          0.56517,
          0.56517,
          0.56517,
          0.56517,
          0.56517,
          1.0694,
          1.0694,
          1.0694,
          0.8231200000000001,
          1.0576,
          1.0576,
          1.1632,
          1.1632,
          0.9052,
          1.1397,
          0.92865,
          0.9169299999999999,
          0.9169299999999999,
          1.3156,
          0.9052,
          0.9052,
          1.2452,
          1.2452,
          0.87003,
          0.87003,
          0.9521,
          0.87003,
          0.87003,
          0.87003,
          0.8934799999999999,
          0.8934799999999999,
          1.0342,
          1.0342,
          1.0342,
          1.3156,
          0.92865,
          0.92865,
          1.0342,
          1.0342,
          1.0342,
          0.9052,
          1.1514,
          0.9052,
          1.3039,
          1.3039,
          0.9403799999999999,
          0.92865,
          0.92865,
          0.92865,
          1.1866,
          1.1866,
          0.9403799999999999,
          0.9403799999999999,
          1.0342,
          1.0342,
          1.0342,
          1.0342,
          0.88175,
          0.88175,
          0.88175,
          1.1983,
          1.1983,
          0.9990100000000001,
          0.9990100000000001,
          1.1045,
          0.9521,
          0.9521,
          1.1632,
          1.1632,
          1.1632,
          1.0811,
          0.96383,
          0.96383,
          0.88175,
          0.88175,
          1.0459,
          1.1983,
          0.9403799999999999,
          0.8934799999999999,
          0.8934799999999999,
          0.8934799999999999,
          0.8583,
          0.9052,
          0.96383,
          0.96383,
          0.96383,
          0.92865,
          0.92865,
          0.92865,
          1.2101,
          1.2101,
          1.2101,
          0.8934799999999999,
          0.8934799999999999,
          0.8934799999999999,
          0.9052,
          0.9052,
          0.9169299999999999,
          0.9169299999999999,
          0.9169299999999999,
          0.8934799999999999,
          0.9169299999999999,
          0.88175,
          0.88175,
          1.0107,
          1.0107,
          0.9169299999999999,
          0.9169299999999999,
          0.88175,
          0.88175,
          0.88175,
          1.128,
          1.128,
          0.9052,
          0.9052,
          0.9052,
          0.88175,
          0.88175,
          0.88175,
          0.9403799999999999,
          0.9403799999999999,
          0.9403799999999999,
          0.7176,
          0.7176,
          0.7176,
          0.7176,
          0.7176,
          0.7176,
          0.42446000000000006,
          0.23685,
          0.23685,
          0.23685,
          0.23685,
          0.29548,
          0.29548,
          0.29548,
          0.33066,
          0.33066,
          0.33066,
          0.5534399999999999,
          0.5534399999999999,
          0.37756,
          0.37756,
          0.37756,
          0.31893,
          0.31893,
          0.31893,
          0.31893,
          0.30721,
          0.30721,
          0.33066,
          0.33066,
          0.33066,
          0.33066,
          0.33066,
          0.28376,
          0.28376,
          0.28376,
          0.28376,
          0.54171,
          0.54171,
          0.54171,
          0.54171,
          0.54171,
          0.29548,
          0.29548,
          0.29548,
          0.29548,
          0.41273000000000004,
          0.41273000000000004,
          0.22513000000000002,
          0.60034,
          0.2603,
          0.83485,
          0.83485,
          0.88175,
          0.88175,
          0.8465799999999999,
          0.8465799999999999,
          1.0928,
          0.83485,
          1.0928,
          0.78795,
          0.78795,
          0.8583,
          0.8583,
          0.8583,
          0.8934799999999999,
          0.8934799999999999,
          0.88175,
          0.88175,
          0.88175,
          0.88175,
          0.88175,
          0.88175,
          0.88175,
          0.88175,
          0.88175,
          0.8583,
          0.9052,
          0.9052,
          0.96383,
          0.96383,
          0.88175,
          0.88175,
          0.88175,
          1.1163,
          1.1163,
          1.1163,
          0.8465799999999999,
          0.8465799999999999,
          0.88175,
          0.88175,
          0.88175,
          0.88175,
          0.87003,
          0.87003,
          0.87003,
          0.87003,
          0.87003,
          0.87003,
          0.87003,
          0.8934799999999999,
          0.8934799999999999,
          0.8934799999999999,
          0.88175,
          0.88175,
          0.88175,
          0.88175,
          0.88175,
          0.8231200000000001,
          0.87003,
          0.8465799999999999,
          0.77622,
          0.096148,
          0.096148,
          -0.51357,
          -0.51357,
          -0.51357,
          -0.51357,
          0.92865,
          1.2335,
          1.0928,
          1.2101,
          1.2687,
          1.0928,
          1.2687,
          1.2921,
          1.2921,
          1.0694,
          1.0928,
          1.0928,
          1.128,
          0.9169299999999999,
          0.9169299999999999,
          0.9521,
          1.2687,
          1.0107,
          1.0107,
          0.88175,
          0.88175,
          0.9169299999999999,
          0.9990100000000001,
          0.9990100000000001,
          0.9990100000000001,
          1.1397,
          0.9169299999999999,
          0.9169299999999999,
          0.9169299999999999,
          1.1632,
          0.9169299999999999,
          1.1514,
          1.0107,
          0.88175,
          0.96383,
          0.9052,
          1.0225,
          1.0342,
          0.92865,
          1.1163,
          0.9403799999999999,
          0.9169299999999999,
          0.92865,
          1.1045,
          1.0694,
          0.9169299999999999,
          1.0459,
          1.0459,
          1.1163,
          1.1163,
          0.96383,
          1.1045,
          0.92865,
          0.9169299999999999,
          0.9403799999999999,
          0.9403799999999999,
          0.9052,
          0.92865,
          1.2804,
          0.92865,
          1.128,
          1.0694,
          0.9169299999999999,
          0.9521,
          0.9521,
          0.88175,
          0.9521,
          0.92865,
          1.1045,
          1.1045,
          0.9052,
          0.9052,
          0.9052,
          0.9052,
          0.88175,
          0.9403799999999999,
          1.2101,
          1.2101,
          1.0342,
          0.88175,
          0.8934799999999999,
          1.1866,
          0.92865,
          0.9169299999999999,
          0.97555,
          0.9872799999999999,
          1.1514,
          0.92865,
          1.0107,
          1.1163,
          1.1163,
          0.9052,
          0.9521,
          0.9403799999999999,
          0.9169299999999999,
          0.9169299999999999,
          1.1163,
          0.9403799999999999,
          1.1397,
          1.1045,
          0.8934799999999999,
          0.9052,
          1.2218,
          0.87003,
          0.87003,
          0.87003,
          0.87003,
          0.87003,
          0.87003,
          -0.0093803,
          -0.0093803
         ]
        },
        {
         "mode": "markers",
         "name": "markers",
         "type": "scatter",
         "x": [
          0,
          0.5,
          1.5,
          1.75,
          2.5,
          3.25,
          4,
          5,
          5.5,
          6,
          6.5,
          6.75,
          7.75,
          8,
          9,
          9.75,
          10,
          10.5,
          10.75,
          12,
          12.5,
          13,
          14,
          15.25,
          15.5,
          16.5,
          17.5,
          18.5,
          18.75,
          19.25,
          20,
          21,
          22.75,
          23,
          23.25,
          24.5,
          26.25,
          27.75,
          28.5,
          29,
          29.5,
          29.75,
          30.5,
          30.75,
          31.75,
          32.5,
          33,
          33.5,
          34,
          34.5,
          35.5,
          35.6,
          35.75,
          36.25,
          37,
          37.75,
          38,
          38.1,
          38.5,
          38.75,
          38.85,
          39.25,
          39.35,
          39.75,
          40.25,
          40.5,
          41.5,
          41.6,
          42,
          42.25,
          42.5,
          43,
          43.1,
          43.25,
          43.35,
          43.5,
          44,
          44.1,
          44.25,
          44.5,
          44.75,
          45.75,
          45.85,
          46,
          46.25,
          46.5,
          46.575,
          47.25,
          47.5,
          47.575,
          48,
          48.5,
          48.75,
          49,
          49.1,
          50,
          50.5,
          50.75,
          50.825,
          51.75,
          52,
          52.75,
          52.85,
          53.5,
          53.6,
          53.75,
          53.825,
          54,
          54.25,
          54.5,
          55,
          55.25,
          55.325,
          55.5,
          56,
          56.25,
          56.5,
          57.25,
          57.35,
          57.5,
          58.5,
          58.75,
          58.825,
          59.25,
          60.25,
          60.5,
          61.75,
          62.25,
          62.5,
          62.6,
          62.75,
          63,
          63.75,
          63.825,
          64,
          64.25,
          64.75,
          64.875,
          65,
          65.1,
          65.25,
          65.5,
          65.6,
          65.65,
          65.75,
          66.5,
          66.75,
          67.5,
          67.6,
          67.75,
          68,
          68.525,
          68.6,
          68.65,
          69,
          69.25,
          70,
          70.1,
          71.625,
          71.725,
          71.775,
          71.825,
          71.85,
          72.25,
          72.5,
          72.6,
          73.5,
          73.75,
          74,
          74.075,
          74.125,
          74.25,
          76,
          76.5,
          77.25,
          77.5,
          77.75,
          78,
          79,
          80,
          80.75,
          81,
          81.5,
          82.25,
          82.75,
          83.25,
          84.5,
          84.75,
          85.25,
          86.5,
          87,
          87.75,
          88.25,
          88.75,
          89.75,
          90,
          90.25,
          90.75,
          92,
          92.5,
          93.5,
          94.25,
          94.75,
          95,
          95.25,
          96,
          96.5,
          96.75,
          97.25,
          98.25,
          98.5,
          99,
          99.5,
          100,
          101.25,
          101.5,
          102,
          102.5,
          103.25,
          104,
          106.75,
          107.25,
          111.5,
          116,
          116.5,
          118,
          120.5,
          126.5,
          127,
          128.5,
          130.25,
          131.25,
          132.75,
          133,
          135,
          136.25,
          137.25,
          138.25,
          139,
          140,
          140.5,
          140.75,
          141.25,
          142,
          142.25,
          142.75,
          143,
          143.5,
          145,
          146,
          146.75,
          148,
          148.5,
          149.75,
          150.5,
          151,
          152.5,
          153,
          153.5,
          155.28,
          156,
          157.25,
          157.5,
          158,
          158.75,
          159.75,
          160.5,
          162.25,
          163,
          163.5,
          164,
          164.5,
          165.75,
          166.25,
          166.5,
          168,
          168.5,
          169,
          169.5,
          178.75,
          184.5,
          186,
          193,
          194.5,
          196.25,
          198.25,
          199.5,
          199.75,
          200.25,
          200.33,
          200.75,
          201,
          201.53,
          202.25,
          203.25,
          204.25,
          205.25,
          206,
          206.25,
          208,
          208.75,
          209,
          210,
          211.75,
          211.85,
          212.25,
          212.35,
          212.5,
          212.75,
          213,
          213.08,
          213.25,
          213.5,
          213.75,
          213.83,
          214.25,
          214.75,
          215,
          215.25,
          215.75,
          217.25,
          217.5,
          217.75,
          218,
          218.75,
          220,
          220.25,
          221,
          222.75,
          224.25,
          224.5,
          225,
          225.25,
          225.5,
          225.75,
          226.5,
          227.75,
          227.85,
          228.5,
          228.58,
          229,
          230,
          230.5,
          231.25,
          231.5,
          231.75,
          232,
          232.5,
          234.25,
          234.5,
          234.75,
          235,
          235.25,
          235.5,
          235.75,
          235.85,
          236.25,
          236.5,
          237,
          237.08,
          237.25,
          237.35,
          237.5,
          237.6,
          237.63,
          238,
          238.5,
          238.75,
          239.75,
          240.5,
          241.25,
          241.5,
          241.75,
          242,
          243,
          243.5,
          244,
          244.25,
          244.35,
          244.5,
          244.58,
          244.75,
          245,
          245.08,
          245.25,
          245.33,
          246,
          246.75,
          247,
          247.25,
          247.75,
          247.85,
          248,
          250,
          250.5,
          250.75,
          251,
          251.25,
          251.5,
          253.25,
          254
         ],
         "y": [
          1.0082,
          1.0082,
          0.9163600000000001,
          0.9163600000000001,
          0.96229,
          0.96229,
          0.99674,
          0.99674,
          1.0312,
          1.0312,
          1.0312,
          1.0312,
          0.99674,
          0.99674,
          0.92784,
          0.93932,
          0.93932,
          0.93932,
          0.93932,
          0.99674,
          0.99674,
          0.99674,
          0.93932,
          1.0082,
          1.0082,
          1.0312,
          1.0197,
          0.99674,
          0.99674,
          0.99674,
          0.9163600000000001,
          0.92784,
          1.0312,
          1.0312,
          1.0312,
          1.0197,
          1.0197,
          1.0312,
          0.9163600000000001,
          0.9163600000000001,
          0.9163600000000001,
          0.9163600000000001,
          0.9163600000000001,
          0.9163600000000001,
          1.0082,
          0.97377,
          0.97377,
          0.97377,
          1.0197,
          1.0197,
          0.8704200000000001,
          0.8704200000000001,
          0.8704200000000001,
          0.8704200000000001,
          0.8704200000000001,
          0.29627,
          0.29627,
          0.29627,
          -0.07119600000000001,
          -0.28938,
          -0.28938,
          -0.27789,
          -0.27789,
          -0.20899,
          -0.27789,
          -0.19751,
          -0.19751,
          -0.19751,
          -0.34679,
          -0.19751,
          -0.19751,
          -0.34679,
          -0.34679,
          -0.19751,
          -0.19751,
          -0.18603,
          -0.20899,
          -0.20899,
          -0.20899,
          -0.19751,
          -0.19751,
          -0.20899,
          -0.20899,
          -0.20899,
          -0.36976,
          -0.18603,
          -0.18603,
          -0.23196,
          -0.23196,
          -0.23196,
          -0.19751,
          -0.30086,
          -0.17454,
          -0.33531,
          -0.33531,
          -0.18603,
          -0.19751,
          -0.19751,
          -0.19751,
          -0.30086,
          -0.30086,
          -0.17454,
          -0.17454,
          -0.20899,
          -0.20899,
          -0.20899,
          -0.20899,
          -0.17454,
          -0.17454,
          -0.17454,
          -0.28938,
          -0.28938,
          -0.17454,
          -0.17454,
          -0.24344000000000002,
          -0.17454,
          -0.17454,
          -0.27789,
          -0.27789,
          -0.27789,
          -0.23196,
          -0.17454,
          -0.17454,
          -0.17454,
          -0.17454,
          -0.20899,
          -0.28938,
          -0.17454,
          -0.18603,
          -0.18603,
          -0.18603,
          -0.18603,
          -0.16305999999999998,
          -0.16305999999999998,
          -0.16305999999999998,
          -0.16305999999999998,
          -0.16305999999999998,
          -0.17454,
          -0.17454,
          -0.28938,
          -0.28938,
          -0.28938,
          -0.17454,
          -0.17454,
          -0.17454,
          -0.17454,
          -0.17454,
          -0.18603,
          -0.18603,
          -0.18603,
          -0.17454,
          -0.17454,
          -0.17454,
          -0.17454,
          -0.19751,
          -0.19751,
          -0.17454,
          -0.17454,
          -0.15158,
          -0.15158,
          -0.15158,
          -0.24344000000000002,
          -0.24344000000000002,
          -0.17454,
          -0.17454,
          -0.17454,
          -0.17454,
          -0.17454,
          -0.17454,
          0.1355,
          0.1355,
          0.1355,
          0.89339,
          0.89339,
          0.89339,
          0.89339,
          0.89339,
          0.89339,
          0.96229,
          1.0082,
          1.0082,
          1.0082,
          1.0082,
          0.99674,
          0.99674,
          0.99674,
          0.99674,
          0.99674,
          0.99674,
          0.89339,
          0.89339,
          0.97377,
          0.97377,
          0.97377,
          0.97377,
          0.97377,
          0.97377,
          0.97377,
          0.99674,
          0.99674,
          0.98526,
          0.98526,
          0.98526,
          0.98526,
          0.98526,
          1.0082,
          1.0082,
          1.0082,
          1.0082,
          0.9048700000000001,
          0.9048700000000001,
          0.9048700000000001,
          0.9048700000000001,
          0.9048700000000001,
          0.99674,
          0.99674,
          0.99674,
          0.99674,
          0.93932,
          0.93932,
          0.89339,
          1.0082,
          0.99674,
          0.6752100000000001,
          0.6752100000000001,
          0.66373,
          0.64076,
          0.66373,
          0.66373,
          0.5489,
          0.66373,
          0.56038,
          0.6752100000000001,
          0.6752100000000001,
          0.6522399999999999,
          0.66373,
          0.66373,
          0.6292800000000001,
          0.6292800000000001,
          0.64076,
          0.64076,
          0.64076,
          0.64076,
          0.64076,
          0.64076,
          0.64076,
          0.64076,
          0.64076,
          0.6292800000000001,
          0.6292800000000001,
          0.6292800000000001,
          0.60631,
          0.60631,
          0.64076,
          0.64076,
          0.64076,
          0.5489,
          0.5489,
          0.5489,
          0.6522399999999999,
          0.6522399999999999,
          0.64076,
          0.64076,
          0.64076,
          0.64076,
          0.64076,
          0.64076,
          0.6522399999999999,
          0.6522399999999999,
          0.6522399999999999,
          0.6522399999999999,
          0.6522399999999999,
          0.6292800000000001,
          0.6292800000000001,
          0.6292800000000001,
          0.64076,
          0.64076,
          0.64076,
          0.64076,
          0.6292800000000001,
          0.6866899999999999,
          0.64076,
          0.66373,
          0.66373,
          0.93932,
          0.93932,
          0.98526,
          0.98526,
          0.98526,
          0.98526,
          0.26182,
          -0.15158,
          -0.25493000000000005,
          -0.31234,
          -0.32383,
          -0.28938,
          -0.36976,
          -0.38124,
          -0.38124,
          -0.26641,
          -0.26641,
          -0.26641,
          -0.28938,
          -0.18603,
          -0.18603,
          -0.18603,
          -0.33531,
          -0.23196,
          -0.23196,
          -0.18603,
          -0.18603,
          -0.19751,
          -0.22048,
          -0.22048,
          -0.22048,
          -0.28938,
          -0.18603,
          -0.18603,
          -0.18603,
          -0.30086,
          -0.19751,
          -0.27789,
          -0.19751,
          -0.18603,
          -0.19751,
          -0.19751,
          -0.20899,
          -0.19751,
          -0.18603,
          -0.26641,
          -0.19751,
          -0.18603,
          -0.19751,
          -0.27789,
          -0.23196,
          -0.19751,
          -0.24344000000000002,
          -0.24344000000000002,
          -0.26641,
          -0.26641,
          -0.19751,
          -0.26641,
          -0.19751,
          -0.19751,
          -0.19751,
          -0.19751,
          -0.18603,
          -0.18603,
          -0.35827,
          -0.20899,
          -0.27789,
          -0.24344000000000002,
          -0.18603,
          -0.19751,
          -0.19751,
          -0.19751,
          -0.19751,
          -0.19751,
          -0.26641,
          -0.26641,
          -0.19751,
          -0.19751,
          -0.19751,
          -0.19751,
          -0.19751,
          -0.20899,
          -0.32383,
          -0.32383,
          -0.22048,
          -0.19751,
          -0.19751,
          -0.31234,
          -0.19751,
          -0.19751,
          -0.19751,
          -0.20899,
          -0.30086,
          -0.18603,
          -0.20899,
          -0.28938,
          -0.28938,
          -0.19751,
          -0.19751,
          -0.19751,
          -0.19751,
          -0.19751,
          -0.24344000000000002,
          -0.20899,
          -0.27789,
          -0.26641,
          -0.19751,
          -0.19751,
          -0.32383,
          0.46851000000000004,
          0.46851000000000004,
          0.46851000000000004,
          0.46851000000000004,
          0.46851000000000004,
          0.46851000000000004,
          0.95081,
          0.95081
         ]
        },
        {
         "mode": "lines+markers",
         "name": "lines+markers",
         "type": "scatter",
         "x": [
          0,
          0.5,
          1.5,
          1.75,
          2.5,
          3.25,
          4,
          5,
          5.5,
          6,
          6.5,
          6.75,
          7.75,
          8,
          9,
          9.75,
          10,
          10.5,
          10.75,
          12,
          12.5,
          13,
          14,
          15.25,
          15.5,
          16.5,
          17.5,
          18.5,
          18.75,
          19.25,
          20,
          21,
          22.75,
          23,
          23.25,
          24.5,
          26.25,
          27.75,
          28.5,
          29,
          29.5,
          29.75,
          30.5,
          30.75,
          31.75,
          32.5,
          33,
          33.5,
          34,
          34.5,
          35.5,
          35.6,
          35.75,
          36.25,
          37,
          37.75,
          38,
          38.1,
          38.5,
          38.75,
          38.85,
          39.25,
          39.35,
          39.75,
          40.25,
          40.5,
          41.5,
          41.6,
          42,
          42.25,
          42.5,
          43,
          43.1,
          43.25,
          43.35,
          43.5,
          44,
          44.1,
          44.25,
          44.5,
          44.75,
          45.75,
          45.85,
          46,
          46.25,
          46.5,
          46.575,
          47.25,
          47.5,
          47.575,
          48,
          48.5,
          48.75,
          49,
          49.1,
          50,
          50.5,
          50.75,
          50.825,
          51.75,
          52,
          52.75,
          52.85,
          53.5,
          53.6,
          53.75,
          53.825,
          54,
          54.25,
          54.5,
          55,
          55.25,
          55.325,
          55.5,
          56,
          56.25,
          56.5,
          57.25,
          57.35,
          57.5,
          58.5,
          58.75,
          58.825,
          59.25,
          60.25,
          60.5,
          61.75,
          62.25,
          62.5,
          62.6,
          62.75,
          63,
          63.75,
          63.825,
          64,
          64.25,
          64.75,
          64.875,
          65,
          65.1,
          65.25,
          65.5,
          65.6,
          65.65,
          65.75,
          66.5,
          66.75,
          67.5,
          67.6,
          67.75,
          68,
          68.525,
          68.6,
          68.65,
          69,
          69.25,
          70,
          70.1,
          71.625,
          71.725,
          71.775,
          71.825,
          71.85,
          72.25,
          72.5,
          72.6,
          73.5,
          73.75,
          74,
          74.075,
          74.125,
          74.25,
          76,
          76.5,
          77.25,
          77.5,
          77.75,
          78,
          79,
          80,
          80.75,
          81,
          81.5,
          82.25,
          82.75,
          83.25,
          84.5,
          84.75,
          85.25,
          86.5,
          87,
          87.75,
          88.25,
          88.75,
          89.75,
          90,
          90.25,
          90.75,
          92,
          92.5,
          93.5,
          94.25,
          94.75,
          95,
          95.25,
          96,
          96.5,
          96.75,
          97.25,
          98.25,
          98.5,
          99,
          99.5,
          100,
          101.25,
          101.5,
          102,
          102.5,
          103.25,
          104,
          106.75,
          107.25,
          111.5,
          116,
          116.5,
          118,
          120.5,
          126.5,
          127,
          128.5,
          130.25,
          131.25,
          132.75,
          133,
          135,
          136.25,
          137.25,
          138.25,
          139,
          140,
          140.5,
          140.75,
          141.25,
          142,
          142.25,
          142.75,
          143,
          143.5,
          145,
          146,
          146.75,
          148,
          148.5,
          149.75,
          150.5,
          151,
          152.5,
          153,
          153.5,
          155.28,
          156,
          157.25,
          157.5,
          158,
          158.75,
          159.75,
          160.5,
          162.25,
          163,
          163.5,
          164,
          164.5,
          165.75,
          166.25,
          166.5,
          168,
          168.5,
          169,
          169.5,
          178.75,
          184.5,
          186,
          193,
          194.5,
          196.25,
          198.25,
          199.5,
          199.75,
          200.25,
          200.33,
          200.75,
          201,
          201.53,
          202.25,
          203.25,
          204.25,
          205.25,
          206,
          206.25,
          208,
          208.75,
          209,
          210,
          211.75,
          211.85,
          212.25,
          212.35,
          212.5,
          212.75,
          213,
          213.08,
          213.25,
          213.5,
          213.75,
          213.83,
          214.25,
          214.75,
          215,
          215.25,
          215.75,
          217.25,
          217.5,
          217.75,
          218,
          218.75,
          220,
          220.25,
          221,
          222.75,
          224.25,
          224.5,
          225,
          225.25,
          225.5,
          225.75,
          226.5,
          227.75,
          227.85,
          228.5,
          228.58,
          229,
          230,
          230.5,
          231.25,
          231.5,
          231.75,
          232,
          232.5,
          234.25,
          234.5,
          234.75,
          235,
          235.25,
          235.5,
          235.75,
          235.85,
          236.25,
          236.5,
          237,
          237.08,
          237.25,
          237.35,
          237.5,
          237.6,
          237.63,
          238,
          238.5,
          238.75,
          239.75,
          240.5,
          241.25,
          241.5,
          241.75,
          242,
          243,
          243.5,
          244,
          244.25,
          244.35,
          244.5,
          244.58,
          244.75,
          245,
          245.08,
          245.25,
          245.33,
          246,
          246.75,
          247,
          247.25,
          247.75,
          247.85,
          248,
          250,
          250.5,
          250.75,
          251,
          251.25,
          251.5,
          253.25,
          254
         ],
         "y": [
          -0.082102,
          -0.082102,
          -0.013684,
          -0.013684,
          -0.059296,
          -0.059296,
          -0.070699,
          -0.09350499999999999,
          -0.12771,
          -0.12771,
          -0.12771,
          -0.12771,
          -0.070699,
          -0.070699,
          -0.0022806,
          -0.025087,
          -0.025087,
          -0.025087,
          -0.025087,
          -0.070699,
          -0.070699,
          -0.070699,
          -0.0022806,
          -0.10490999999999999,
          -0.10490999999999999,
          -0.09350499999999999,
          -0.10490999999999999,
          -0.070699,
          -0.070699,
          -0.070699,
          0.0091224,
          0.020525,
          -0.12771,
          -0.12771,
          -0.12771,
          -0.10490999999999999,
          -0.10490999999999999,
          -0.11631,
          0.020525,
          0.020525,
          0.020525,
          0.020525,
          -0.0022806,
          -0.0022806,
          -0.16192,
          -0.047893,
          -0.047893,
          -0.036489999999999995,
          -0.13912,
          -0.13912,
          0.11175,
          0.11175,
          0.11175,
          0.11175,
          0.11175,
          -0.013684,
          -0.013684,
          -0.013684,
          -0.10490999999999999,
          -0.036489999999999995,
          -0.036489999999999995,
          -0.059296,
          -0.059296,
          -0.15052000000000001,
          -0.070699,
          -0.16192,
          -0.16192,
          -0.16192,
          -0.013684,
          -0.16192,
          -0.16192,
          -0.025087,
          -0.025087,
          -0.17332999999999998,
          -0.17332999999999998,
          -0.15052000000000001,
          -0.17332999999999998,
          -0.17332999999999998,
          -0.17332999999999998,
          -0.16192,
          -0.16192,
          -0.12771,
          -0.12771,
          -0.12771,
          -0.013684,
          -0.15052000000000001,
          -0.15052000000000001,
          -0.11631,
          -0.11631,
          -0.11631,
          -0.17332999999999998,
          -0.047893,
          -0.17332999999999998,
          -0.0022806,
          -0.0022806,
          -0.16192,
          -0.15052000000000001,
          -0.15052000000000001,
          -0.15052000000000001,
          -0.036489999999999995,
          -0.036489999999999995,
          -0.15052000000000001,
          -0.15052000000000001,
          -0.11631,
          -0.11631,
          -0.11631,
          -0.11631,
          -0.16192,
          -0.16192,
          -0.16192,
          -0.036489999999999995,
          -0.036489999999999995,
          -0.13912,
          -0.13912,
          -0.070699,
          -0.15052000000000001,
          -0.15052000000000001,
          -0.059296,
          -0.059296,
          -0.059296,
          -0.10490999999999999,
          -0.16192,
          -0.16192,
          -0.17332999999999998,
          -0.16192,
          -0.11631,
          -0.047893,
          -0.15052000000000001,
          -0.16192,
          -0.16192,
          -0.16192,
          -0.16192,
          -0.16192,
          -0.15052000000000001,
          -0.15052000000000001,
          -0.15052000000000001,
          -0.15052000000000001,
          -0.16192,
          -0.16192,
          -0.036489999999999995,
          -0.036489999999999995,
          -0.036489999999999995,
          -0.17332999999999998,
          -0.17332999999999998,
          -0.17332999999999998,
          -0.16192,
          -0.16192,
          -0.17332999999999998,
          -0.17332999999999998,
          -0.17332999999999998,
          -0.16192,
          -0.15052000000000001,
          -0.16192,
          -0.16192,
          -0.11631,
          -0.11631,
          -0.17332999999999998,
          -0.17332999999999998,
          -0.16192,
          -0.16192,
          -0.16192,
          -0.070699,
          -0.070699,
          -0.16192,
          -0.16192,
          -0.16192,
          -0.16192,
          -0.16192,
          -0.16192,
          -0.32156999999999997,
          -0.32156999999999997,
          -0.32156999999999997,
          0.043332,
          0.043332,
          0.043332,
          0.043332,
          0.043332,
          0.043332,
          -0.082102,
          -0.12771,
          -0.12771,
          -0.12771,
          -0.12771,
          -0.082102,
          -0.082102,
          -0.082102,
          -0.070699,
          -0.070699,
          -0.070699,
          0.0091224,
          0.0091224,
          -0.059296,
          -0.059296,
          -0.059296,
          -0.082102,
          -0.082102,
          -0.082102,
          -0.082102,
          -0.070699,
          -0.070699,
          -0.082102,
          -0.082102,
          -0.082102,
          -0.082102,
          -0.082102,
          -0.11631,
          -0.11631,
          -0.11631,
          -0.11631,
          0.0091224,
          0.0091224,
          0.0091224,
          0.0091224,
          0.0091224,
          -0.10490999999999999,
          -0.10490999999999999,
          -0.10490999999999999,
          -0.10490999999999999,
          -0.025087,
          -0.025087,
          -0.17332999999999998,
          -0.047893,
          -0.059296,
          -0.13912,
          -0.13912,
          -0.082102,
          -0.09350499999999999,
          -0.12771,
          -0.12771,
          -0.013684,
          -0.12771,
          -0.013684,
          -0.15052000000000001,
          -0.15052000000000001,
          -0.10490999999999999,
          -0.10490999999999999,
          -0.10490999999999999,
          -0.09350499999999999,
          -0.09350499999999999,
          -0.09350499999999999,
          -0.09350499999999999,
          -0.09350499999999999,
          -0.09350499999999999,
          -0.09350499999999999,
          -0.09350499999999999,
          -0.09350499999999999,
          -0.09350499999999999,
          -0.09350499999999999,
          -0.10490999999999999,
          -0.09350499999999999,
          -0.09350499999999999,
          -0.047893,
          -0.047893,
          -0.082102,
          -0.082102,
          -0.082102,
          -0.013684,
          -0.013684,
          -0.013684,
          -0.10490999999999999,
          -0.10490999999999999,
          -0.070699,
          -0.070699,
          -0.070699,
          -0.070699,
          -0.10490999999999999,
          -0.10490999999999999,
          -0.10490999999999999,
          -0.10490999999999999,
          -0.10490999999999999,
          -0.10490999999999999,
          -0.10490999999999999,
          -0.09350499999999999,
          -0.09350499999999999,
          -0.09350499999999999,
          -0.09350499999999999,
          -0.09350499999999999,
          -0.09350499999999999,
          -0.09350499999999999,
          -0.10490999999999999,
          -0.13912,
          -0.11631,
          -0.13912,
          0.020525,
          -0.16192,
          -0.16192,
          -0.25315,
          -0.25315,
          -0.25315,
          -0.25315,
          -0.13912,
          -0.12771,
          -0.036489999999999995,
          0.077541,
          0.043332,
          -0.059296,
          0.0091224,
          0.020525,
          0.020525,
          -0.082102,
          -0.082102,
          -0.082102,
          -0.059296,
          -0.12771,
          -0.12771,
          -0.12771,
          0.020525,
          -0.10490999999999999,
          -0.10490999999999999,
          -0.13912,
          -0.13912,
          -0.12771,
          -0.11631,
          -0.11631,
          -0.11631,
          -0.013684,
          -0.13912,
          -0.13912,
          -0.13912,
          -0.036489999999999995,
          -0.12771,
          -0.025087,
          -0.09350499999999999,
          -0.13912,
          -0.11631,
          -0.12771,
          -0.10490999999999999,
          -0.09350499999999999,
          -0.10490999999999999,
          -0.036489999999999995,
          -0.11631,
          -0.11631,
          -0.11631,
          -0.047893,
          -0.082102,
          -0.12771,
          -0.082102,
          -0.082102,
          -0.025087,
          -0.025087,
          -0.11631,
          -0.036489999999999995,
          -0.11631,
          -0.11631,
          -0.10490999999999999,
          -0.10490999999999999,
          -0.12771,
          -0.10490999999999999,
          0.031928,
          -0.10490999999999999,
          -0.036489999999999995,
          -0.047893,
          -0.11631,
          -0.10490999999999999,
          -0.10490999999999999,
          -0.12771,
          -0.11631,
          -0.10490999999999999,
          -0.025087,
          -0.025087,
          -0.11631,
          -0.11631,
          -0.12771,
          -0.12771,
          -0.12771,
          -0.11631,
          0.0091224,
          0.0091224,
          -0.082102,
          -0.12771,
          -0.12771,
          -0.0022806,
          -0.11631,
          -0.11631,
          -0.11631,
          -0.10490999999999999,
          -0.013684,
          -0.10490999999999999,
          -0.082102,
          -0.036489999999999995,
          -0.036489999999999995,
          -0.11631,
          -0.10490999999999999,
          -0.11631,
          -0.11631,
          -0.11631,
          -0.036489999999999995,
          -0.12771,
          -0.025087,
          -0.036489999999999995,
          -0.12771,
          -0.12771,
          0.020525,
          0.0091224,
          0.0091224,
          0.0091224,
          0.0091224,
          0.0091224,
          0.0091224,
          -0.11631,
          -0.11631
         ]
        }
       ],
       "layout": {
        "height": 300,
        "margin": {
         "b": 0,
         "l": 0,
         "r": 0,
         "t": 32
        },
        "template": {
         "data": {
          "bar": [
           {
            "error_x": {
             "color": "#2a3f5f"
            },
            "error_y": {
             "color": "#2a3f5f"
            },
            "marker": {
             "line": {
              "color": "#E5ECF6",
              "width": 0.5
             }
            },
            "type": "bar"
           }
          ],
          "barpolar": [
           {
            "marker": {
             "line": {
              "color": "#E5ECF6",
              "width": 0.5
             }
            },
            "type": "barpolar"
           }
          ],
          "carpet": [
           {
            "aaxis": {
             "endlinecolor": "#2a3f5f",
             "gridcolor": "white",
             "linecolor": "white",
             "minorgridcolor": "white",
             "startlinecolor": "#2a3f5f"
            },
            "baxis": {
             "endlinecolor": "#2a3f5f",
             "gridcolor": "white",
             "linecolor": "white",
             "minorgridcolor": "white",
             "startlinecolor": "#2a3f5f"
            },
            "type": "carpet"
           }
          ],
          "choropleth": [
           {
            "colorbar": {
             "outlinewidth": 0,
             "ticks": ""
            },
            "type": "choropleth"
           }
          ],
          "contour": [
           {
            "colorbar": {
             "outlinewidth": 0,
             "ticks": ""
            },
            "colorscale": [
             [
              0,
              "#0d0887"
             ],
             [
              0.1111111111111111,
              "#46039f"
             ],
             [
              0.2222222222222222,
              "#7201a8"
             ],
             [
              0.3333333333333333,
              "#9c179e"
             ],
             [
              0.4444444444444444,
              "#bd3786"
             ],
             [
              0.5555555555555556,
              "#d8576b"
             ],
             [
              0.6666666666666666,
              "#ed7953"
             ],
             [
              0.7777777777777778,
              "#fb9f3a"
             ],
             [
              0.8888888888888888,
              "#fdca26"
             ],
             [
              1,
              "#f0f921"
             ]
            ],
            "type": "contour"
           }
          ],
          "contourcarpet": [
           {
            "colorbar": {
             "outlinewidth": 0,
             "ticks": ""
            },
            "type": "contourcarpet"
           }
          ],
          "heatmap": [
           {
            "colorbar": {
             "outlinewidth": 0,
             "ticks": ""
            },
            "colorscale": [
             [
              0,
              "#0d0887"
             ],
             [
              0.1111111111111111,
              "#46039f"
             ],
             [
              0.2222222222222222,
              "#7201a8"
             ],
             [
              0.3333333333333333,
              "#9c179e"
             ],
             [
              0.4444444444444444,
              "#bd3786"
             ],
             [
              0.5555555555555556,
              "#d8576b"
             ],
             [
              0.6666666666666666,
              "#ed7953"
             ],
             [
              0.7777777777777778,
              "#fb9f3a"
             ],
             [
              0.8888888888888888,
              "#fdca26"
             ],
             [
              1,
              "#f0f921"
             ]
            ],
            "type": "heatmap"
           }
          ],
          "heatmapgl": [
           {
            "colorbar": {
             "outlinewidth": 0,
             "ticks": ""
            },
            "colorscale": [
             [
              0,
              "#0d0887"
             ],
             [
              0.1111111111111111,
              "#46039f"
             ],
             [
              0.2222222222222222,
              "#7201a8"
             ],
             [
              0.3333333333333333,
              "#9c179e"
             ],
             [
              0.4444444444444444,
              "#bd3786"
             ],
             [
              0.5555555555555556,
              "#d8576b"
             ],
             [
              0.6666666666666666,
              "#ed7953"
             ],
             [
              0.7777777777777778,
              "#fb9f3a"
             ],
             [
              0.8888888888888888,
              "#fdca26"
             ],
             [
              1,
              "#f0f921"
             ]
            ],
            "type": "heatmapgl"
           }
          ],
          "histogram": [
           {
            "marker": {
             "colorbar": {
              "outlinewidth": 0,
              "ticks": ""
             }
            },
            "type": "histogram"
           }
          ],
          "histogram2d": [
           {
            "colorbar": {
             "outlinewidth": 0,
             "ticks": ""
            },
            "colorscale": [
             [
              0,
              "#0d0887"
             ],
             [
              0.1111111111111111,
              "#46039f"
             ],
             [
              0.2222222222222222,
              "#7201a8"
             ],
             [
              0.3333333333333333,
              "#9c179e"
             ],
             [
              0.4444444444444444,
              "#bd3786"
             ],
             [
              0.5555555555555556,
              "#d8576b"
             ],
             [
              0.6666666666666666,
              "#ed7953"
             ],
             [
              0.7777777777777778,
              "#fb9f3a"
             ],
             [
              0.8888888888888888,
              "#fdca26"
             ],
             [
              1,
              "#f0f921"
             ]
            ],
            "type": "histogram2d"
           }
          ],
          "histogram2dcontour": [
           {
            "colorbar": {
             "outlinewidth": 0,
             "ticks": ""
            },
            "colorscale": [
             [
              0,
              "#0d0887"
             ],
             [
              0.1111111111111111,
              "#46039f"
             ],
             [
              0.2222222222222222,
              "#7201a8"
             ],
             [
              0.3333333333333333,
              "#9c179e"
             ],
             [
              0.4444444444444444,
              "#bd3786"
             ],
             [
              0.5555555555555556,
              "#d8576b"
             ],
             [
              0.6666666666666666,
              "#ed7953"
             ],
             [
              0.7777777777777778,
              "#fb9f3a"
             ],
             [
              0.8888888888888888,
              "#fdca26"
             ],
             [
              1,
              "#f0f921"
             ]
            ],
            "type": "histogram2dcontour"
           }
          ],
          "mesh3d": [
           {
            "colorbar": {
             "outlinewidth": 0,
             "ticks": ""
            },
            "type": "mesh3d"
           }
          ],
          "parcoords": [
           {
            "line": {
             "colorbar": {
              "outlinewidth": 0,
              "ticks": ""
             }
            },
            "type": "parcoords"
           }
          ],
          "pie": [
           {
            "automargin": true,
            "type": "pie"
           }
          ],
          "scatter": [
           {
            "marker": {
             "colorbar": {
              "outlinewidth": 0,
              "ticks": ""
             }
            },
            "type": "scatter"
           }
          ],
          "scatter3d": [
           {
            "line": {
             "colorbar": {
              "outlinewidth": 0,
              "ticks": ""
             }
            },
            "marker": {
             "colorbar": {
              "outlinewidth": 0,
              "ticks": ""
             }
            },
            "type": "scatter3d"
           }
          ],
          "scattercarpet": [
           {
            "marker": {
             "colorbar": {
              "outlinewidth": 0,
              "ticks": ""
             }
            },
            "type": "scattercarpet"
           }
          ],
          "scattergeo": [
           {
            "marker": {
             "colorbar": {
              "outlinewidth": 0,
              "ticks": ""
             }
            },
            "type": "scattergeo"
           }
          ],
          "scattergl": [
           {
            "marker": {
             "colorbar": {
              "outlinewidth": 0,
              "ticks": ""
             }
            },
            "type": "scattergl"
           }
          ],
          "scattermapbox": [
           {
            "marker": {
             "colorbar": {
              "outlinewidth": 0,
              "ticks": ""
             }
            },
            "type": "scattermapbox"
           }
          ],
          "scatterpolar": [
           {
            "marker": {
             "colorbar": {
              "outlinewidth": 0,
              "ticks": ""
             }
            },
            "type": "scatterpolar"
           }
          ],
          "scatterpolargl": [
           {
            "marker": {
             "colorbar": {
              "outlinewidth": 0,
              "ticks": ""
             }
            },
            "type": "scatterpolargl"
           }
          ],
          "scatterternary": [
           {
            "marker": {
             "colorbar": {
              "outlinewidth": 0,
              "ticks": ""
             }
            },
            "type": "scatterternary"
           }
          ],
          "surface": [
           {
            "colorbar": {
             "outlinewidth": 0,
             "ticks": ""
            },
            "colorscale": [
             [
              0,
              "#0d0887"
             ],
             [
              0.1111111111111111,
              "#46039f"
             ],
             [
              0.2222222222222222,
              "#7201a8"
             ],
             [
              0.3333333333333333,
              "#9c179e"
             ],
             [
              0.4444444444444444,
              "#bd3786"
             ],
             [
              0.5555555555555556,
              "#d8576b"
             ],
             [
              0.6666666666666666,
              "#ed7953"
             ],
             [
              0.7777777777777778,
              "#fb9f3a"
             ],
             [
              0.8888888888888888,
              "#fdca26"
             ],
             [
              1,
              "#f0f921"
             ]
            ],
            "type": "surface"
           }
          ],
          "table": [
           {
            "cells": {
             "fill": {
              "color": "#EBF0F8"
             },
             "line": {
              "color": "white"
             }
            },
            "header": {
             "fill": {
              "color": "#C8D4E3"
             },
             "line": {
              "color": "white"
             }
            },
            "type": "table"
           }
          ]
         },
         "layout": {
          "annotationdefaults": {
           "arrowcolor": "#2a3f5f",
           "arrowhead": 0,
           "arrowwidth": 1
          },
          "coloraxis": {
           "colorbar": {
            "outlinewidth": 0,
            "ticks": ""
           }
          },
          "colorscale": {
           "diverging": [
            [
             0,
             "#8e0152"
            ],
            [
             0.1,
             "#c51b7d"
            ],
            [
             0.2,
             "#de77ae"
            ],
            [
             0.3,
             "#f1b6da"
            ],
            [
             0.4,
             "#fde0ef"
            ],
            [
             0.5,
             "#f7f7f7"
            ],
            [
             0.6,
             "#e6f5d0"
            ],
            [
             0.7,
             "#b8e186"
            ],
            [
             0.8,
             "#7fbc41"
            ],
            [
             0.9,
             "#4d9221"
            ],
            [
             1,
             "#276419"
            ]
           ],
           "sequential": [
            [
             0,
             "#0d0887"
            ],
            [
             0.1111111111111111,
             "#46039f"
            ],
            [
             0.2222222222222222,
             "#7201a8"
            ],
            [
             0.3333333333333333,
             "#9c179e"
            ],
            [
             0.4444444444444444,
             "#bd3786"
            ],
            [
             0.5555555555555556,
             "#d8576b"
            ],
            [
             0.6666666666666666,
             "#ed7953"
            ],
            [
             0.7777777777777778,
             "#fb9f3a"
            ],
            [
             0.8888888888888888,
             "#fdca26"
            ],
            [
             1,
             "#f0f921"
            ]
           ],
           "sequentialminus": [
            [
             0,
             "#0d0887"
            ],
            [
             0.1111111111111111,
             "#46039f"
            ],
            [
             0.2222222222222222,
             "#7201a8"
            ],
            [
             0.3333333333333333,
             "#9c179e"
            ],
            [
             0.4444444444444444,
             "#bd3786"
            ],
            [
             0.5555555555555556,
             "#d8576b"
            ],
            [
             0.6666666666666666,
             "#ed7953"
            ],
            [
             0.7777777777777778,
             "#fb9f3a"
            ],
            [
             0.8888888888888888,
             "#fdca26"
            ],
            [
             1,
             "#f0f921"
            ]
           ]
          },
          "colorway": [
           "#636efa",
           "#EF553B",
           "#00cc96",
           "#ab63fa",
           "#FFA15A",
           "#19d3f3",
           "#FF6692",
           "#B6E880",
           "#FF97FF",
           "#FECB52"
          ],
          "font": {
           "color": "#2a3f5f"
          },
          "geo": {
           "bgcolor": "white",
           "lakecolor": "white",
           "landcolor": "#E5ECF6",
           "showlakes": true,
           "showland": true,
           "subunitcolor": "white"
          },
          "hoverlabel": {
           "align": "left"
          },
          "hovermode": "closest",
          "mapbox": {
           "style": "light"
          },
          "paper_bgcolor": "white",
          "plot_bgcolor": "#E5ECF6",
          "polar": {
           "angularaxis": {
            "gridcolor": "white",
            "linecolor": "white",
            "ticks": ""
           },
           "bgcolor": "#E5ECF6",
           "radialaxis": {
            "gridcolor": "white",
            "linecolor": "white",
            "ticks": ""
           }
          },
          "scene": {
           "xaxis": {
            "backgroundcolor": "#E5ECF6",
            "gridcolor": "white",
            "gridwidth": 2,
            "linecolor": "white",
            "showbackground": true,
            "ticks": "",
            "zerolinecolor": "white"
           },
           "yaxis": {
            "backgroundcolor": "#E5ECF6",
            "gridcolor": "white",
            "gridwidth": 2,
            "linecolor": "white",
            "showbackground": true,
            "ticks": "",
            "zerolinecolor": "white"
           },
           "zaxis": {
            "backgroundcolor": "#E5ECF6",
            "gridcolor": "white",
            "gridwidth": 2,
            "linecolor": "white",
            "showbackground": true,
            "ticks": "",
            "zerolinecolor": "white"
           }
          },
          "shapedefaults": {
           "line": {
            "color": "#2a3f5f"
           }
          },
          "ternary": {
           "aaxis": {
            "gridcolor": "white",
            "linecolor": "white",
            "ticks": ""
           },
           "baxis": {
            "gridcolor": "white",
            "linecolor": "white",
            "ticks": ""
           },
           "bgcolor": "#E5ECF6",
           "caxis": {
            "gridcolor": "white",
            "linecolor": "white",
            "ticks": ""
           }
          },
          "title": {
           "x": 0.05
          },
          "xaxis": {
           "automargin": true,
           "gridcolor": "white",
           "linecolor": "white",
           "ticks": "",
           "title": {
            "standoff": 15
           },
           "zerolinecolor": "white",
           "zerolinewidth": 2
          },
          "yaxis": {
           "automargin": true,
           "gridcolor": "white",
           "linecolor": "white",
           "ticks": "",
           "title": {
            "standoff": 15
           },
           "zerolinecolor": "white",
           "zerolinewidth": 2
          }
         }
        },
        "width": 600
       }
      },
      "text/html": [
       "<div>\n",
       "        \n",
       "        \n",
       "            <div id=\"88aee6a6-5c11-4488-8880-f70035db8882\" class=\"plotly-graph-div\" style=\"height:300px; width:600px;\"></div>\n",
       "            <script type=\"text/javascript\">\n",
       "                require([\"plotly\"], function(Plotly) {\n",
       "                    window.PLOTLYENV=window.PLOTLYENV || {};\n",
       "                    \n",
       "                if (document.getElementById(\"88aee6a6-5c11-4488-8880-f70035db8882\")) {\n",
       "                    Plotly.newPlot(\n",
       "                        '88aee6a6-5c11-4488-8880-f70035db8882',\n",
       "                        [{\"mode\": \"lines\", \"name\": \"lines\", \"type\": \"scatter\", \"x\": [0.0, 0.5, 1.5, 1.75, 2.5, 3.25, 4.0, 5.0, 5.5, 6.0, 6.5, 6.75, 7.75, 8.0, 9.0, 9.75, 10.0, 10.5, 10.75, 12.0, 12.5, 13.0, 14.0, 15.25, 15.5, 16.5, 17.5, 18.5, 18.75, 19.25, 20.0, 21.0, 22.75, 23.0, 23.25, 24.5, 26.25, 27.75, 28.5, 29.0, 29.5, 29.75, 30.5, 30.75, 31.75, 32.5, 33.0, 33.5, 34.0, 34.5, 35.5, 35.6, 35.75, 36.25, 37.0, 37.75, 38.0, 38.1, 38.5, 38.75, 38.85, 39.25, 39.35, 39.75, 40.25, 40.5, 41.5, 41.6, 42.0, 42.25, 42.5, 43.0, 43.1, 43.25, 43.35, 43.5, 44.0, 44.1, 44.25, 44.5, 44.75, 45.75, 45.85, 46.0, 46.25, 46.5, 46.575, 47.25, 47.5, 47.575, 48.0, 48.5, 48.75, 49.0, 49.1, 50.0, 50.5, 50.75, 50.825, 51.75, 52.0, 52.75, 52.85, 53.5, 53.6, 53.75, 53.825, 54.0, 54.25, 54.5, 55.0, 55.25, 55.325, 55.5, 56.0, 56.25, 56.5, 57.25, 57.35, 57.5, 58.5, 58.75, 58.825, 59.25, 60.25, 60.5, 61.75, 62.25, 62.5, 62.6, 62.75, 63.0, 63.75, 63.825, 64.0, 64.25, 64.75, 64.875, 65.0, 65.1, 65.25, 65.5, 65.6, 65.65, 65.75, 66.5, 66.75, 67.5, 67.6, 67.75, 68.0, 68.525, 68.6, 68.65, 69.0, 69.25, 70.0, 70.1, 71.625, 71.725, 71.775, 71.825, 71.85, 72.25, 72.5, 72.6, 73.5, 73.75, 74.0, 74.075, 74.125, 74.25, 76.0, 76.5, 77.25, 77.5, 77.75, 78.0, 79.0, 80.0, 80.75, 81.0, 81.5, 82.25, 82.75, 83.25, 84.5, 84.75, 85.25, 86.5, 87.0, 87.75, 88.25, 88.75, 89.75, 90.0, 90.25, 90.75, 92.0, 92.5, 93.5, 94.25, 94.75, 95.0, 95.25, 96.0, 96.5, 96.75, 97.25, 98.25, 98.5, 99.0, 99.5, 100.0, 101.25, 101.5, 102.0, 102.5, 103.25, 104.0, 106.75, 107.25, 111.5, 116.0, 116.5, 118.0, 120.5, 126.5, 127.0, 128.5, 130.25, 131.25, 132.75, 133.0, 135.0, 136.25, 137.25, 138.25, 139.0, 140.0, 140.5, 140.75, 141.25, 142.0, 142.25, 142.75, 143.0, 143.5, 145.0, 146.0, 146.75, 148.0, 148.5, 149.75, 150.5, 151.0, 152.5, 153.0, 153.5, 155.28, 156.0, 157.25, 157.5, 158.0, 158.75, 159.75, 160.5, 162.25, 163.0, 163.5, 164.0, 164.5, 165.75, 166.25, 166.5, 168.0, 168.5, 169.0, 169.5, 178.75, 184.5, 186.0, 193.0, 194.5, 196.25, 198.25, 199.5, 199.75, 200.25, 200.33, 200.75, 201.0, 201.53, 202.25, 203.25, 204.25, 205.25, 206.0, 206.25, 208.0, 208.75, 209.0, 210.0, 211.75, 211.85, 212.25, 212.35, 212.5, 212.75, 213.0, 213.08, 213.25, 213.5, 213.75, 213.83, 214.25, 214.75, 215.0, 215.25, 215.75, 217.25, 217.5, 217.75, 218.0, 218.75, 220.0, 220.25, 221.0, 222.75, 224.25, 224.5, 225.0, 225.25, 225.5, 225.75, 226.5, 227.75, 227.85, 228.5, 228.58, 229.0, 230.0, 230.5, 231.25, 231.5, 231.75, 232.0, 232.5, 234.25, 234.5, 234.75, 235.0, 235.25, 235.5, 235.75, 235.85, 236.25, 236.5, 237.0, 237.08, 237.25, 237.35, 237.5, 237.6, 237.63, 238.0, 238.5, 238.75, 239.75, 240.5, 241.25, 241.5, 241.75, 242.0, 243.0, 243.5, 244.0, 244.25, 244.35, 244.5, 244.58, 244.75, 245.0, 245.08, 245.25, 245.33, 246.0, 246.75, 247.0, 247.25, 247.75, 247.85, 248.0, 250.0, 250.5, 250.75, 251.0, 251.25, 251.5, 253.25, 254.0], \"y\": [0.27203, 0.27203, 0.44791000000000003, 0.44791000000000003, 0.34238, 0.34238, 0.30721, 0.27203, 0.23685, 0.23685, 0.23685, 0.23685, 0.31893, 0.31893, 0.47136000000000006, 0.40101, 0.40101, 0.40101, 0.40101, 0.30721, 0.30721, 0.30721, 0.41273000000000004, 0.27203, 0.27203, 0.24858000000000002, 0.2603, 0.31893, 0.31893, 0.31893, 0.43618999999999997, 0.47136000000000006, 0.2134, 0.2134, 0.2134, 0.23685, 0.23685, 0.20168, 0.50654, 0.50654, 0.50654, 0.50654, 0.42446000000000006, 0.42446000000000006, 0.24858000000000002, 0.34238, 0.34238, 0.30721, 0.15478, 0.15478, 0.56517, 0.56517, 0.56517, 0.56517, 0.56517, 1.0694, 1.0694, 1.0694, 0.8231200000000001, 1.0576, 1.0576, 1.1632, 1.1632, 0.9052, 1.1397, 0.92865, 0.9169299999999999, 0.9169299999999999, 1.3156, 0.9052, 0.9052, 1.2452, 1.2452, 0.87003, 0.87003, 0.9521, 0.87003, 0.87003, 0.87003, 0.8934799999999999, 0.8934799999999999, 1.0342, 1.0342, 1.0342, 1.3156, 0.92865, 0.92865, 1.0342, 1.0342, 1.0342, 0.9052, 1.1514, 0.9052, 1.3039, 1.3039, 0.9403799999999999, 0.92865, 0.92865, 0.92865, 1.1866, 1.1866, 0.9403799999999999, 0.9403799999999999, 1.0342, 1.0342, 1.0342, 1.0342, 0.88175, 0.88175, 0.88175, 1.1983, 1.1983, 0.9990100000000001, 0.9990100000000001, 1.1045, 0.9521, 0.9521, 1.1632, 1.1632, 1.1632, 1.0811, 0.96383, 0.96383, 0.88175, 0.88175, 1.0459, 1.1983, 0.9403799999999999, 0.8934799999999999, 0.8934799999999999, 0.8934799999999999, 0.8583, 0.9052, 0.96383, 0.96383, 0.96383, 0.92865, 0.92865, 0.92865, 1.2101, 1.2101, 1.2101, 0.8934799999999999, 0.8934799999999999, 0.8934799999999999, 0.9052, 0.9052, 0.9169299999999999, 0.9169299999999999, 0.9169299999999999, 0.8934799999999999, 0.9169299999999999, 0.88175, 0.88175, 1.0107, 1.0107, 0.9169299999999999, 0.9169299999999999, 0.88175, 0.88175, 0.88175, 1.128, 1.128, 0.9052, 0.9052, 0.9052, 0.88175, 0.88175, 0.88175, 0.9403799999999999, 0.9403799999999999, 0.9403799999999999, 0.7176, 0.7176, 0.7176, 0.7176, 0.7176, 0.7176, 0.42446000000000006, 0.23685, 0.23685, 0.23685, 0.23685, 0.29548, 0.29548, 0.29548, 0.33066, 0.33066, 0.33066, 0.5534399999999999, 0.5534399999999999, 0.37756, 0.37756, 0.37756, 0.31893, 0.31893, 0.31893, 0.31893, 0.30721, 0.30721, 0.33066, 0.33066, 0.33066, 0.33066, 0.33066, 0.28376, 0.28376, 0.28376, 0.28376, 0.54171, 0.54171, 0.54171, 0.54171, 0.54171, 0.29548, 0.29548, 0.29548, 0.29548, 0.41273000000000004, 0.41273000000000004, 0.22513000000000002, 0.60034, 0.2603, 0.83485, 0.83485, 0.88175, 0.88175, 0.8465799999999999, 0.8465799999999999, 1.0928, 0.83485, 1.0928, 0.78795, 0.78795, 0.8583, 0.8583, 0.8583, 0.8934799999999999, 0.8934799999999999, 0.88175, 0.88175, 0.88175, 0.88175, 0.88175, 0.88175, 0.88175, 0.88175, 0.88175, 0.8583, 0.9052, 0.9052, 0.96383, 0.96383, 0.88175, 0.88175, 0.88175, 1.1163, 1.1163, 1.1163, 0.8465799999999999, 0.8465799999999999, 0.88175, 0.88175, 0.88175, 0.88175, 0.87003, 0.87003, 0.87003, 0.87003, 0.87003, 0.87003, 0.87003, 0.8934799999999999, 0.8934799999999999, 0.8934799999999999, 0.88175, 0.88175, 0.88175, 0.88175, 0.88175, 0.8231200000000001, 0.87003, 0.8465799999999999, 0.77622, 0.096148, 0.096148, -0.51357, -0.51357, -0.51357, -0.51357, 0.92865, 1.2335, 1.0928, 1.2101, 1.2687, 1.0928, 1.2687, 1.2921, 1.2921, 1.0694, 1.0928, 1.0928, 1.128, 0.9169299999999999, 0.9169299999999999, 0.9521, 1.2687, 1.0107, 1.0107, 0.88175, 0.88175, 0.9169299999999999, 0.9990100000000001, 0.9990100000000001, 0.9990100000000001, 1.1397, 0.9169299999999999, 0.9169299999999999, 0.9169299999999999, 1.1632, 0.9169299999999999, 1.1514, 1.0107, 0.88175, 0.96383, 0.9052, 1.0225, 1.0342, 0.92865, 1.1163, 0.9403799999999999, 0.9169299999999999, 0.92865, 1.1045, 1.0694, 0.9169299999999999, 1.0459, 1.0459, 1.1163, 1.1163, 0.96383, 1.1045, 0.92865, 0.9169299999999999, 0.9403799999999999, 0.9403799999999999, 0.9052, 0.92865, 1.2804, 0.92865, 1.128, 1.0694, 0.9169299999999999, 0.9521, 0.9521, 0.88175, 0.9521, 0.92865, 1.1045, 1.1045, 0.9052, 0.9052, 0.9052, 0.9052, 0.88175, 0.9403799999999999, 1.2101, 1.2101, 1.0342, 0.88175, 0.8934799999999999, 1.1866, 0.92865, 0.9169299999999999, 0.97555, 0.9872799999999999, 1.1514, 0.92865, 1.0107, 1.1163, 1.1163, 0.9052, 0.9521, 0.9403799999999999, 0.9169299999999999, 0.9169299999999999, 1.1163, 0.9403799999999999, 1.1397, 1.1045, 0.8934799999999999, 0.9052, 1.2218, 0.87003, 0.87003, 0.87003, 0.87003, 0.87003, 0.87003, -0.0093803, -0.0093803]}, {\"mode\": \"markers\", \"name\": \"markers\", \"type\": \"scatter\", \"x\": [0.0, 0.5, 1.5, 1.75, 2.5, 3.25, 4.0, 5.0, 5.5, 6.0, 6.5, 6.75, 7.75, 8.0, 9.0, 9.75, 10.0, 10.5, 10.75, 12.0, 12.5, 13.0, 14.0, 15.25, 15.5, 16.5, 17.5, 18.5, 18.75, 19.25, 20.0, 21.0, 22.75, 23.0, 23.25, 24.5, 26.25, 27.75, 28.5, 29.0, 29.5, 29.75, 30.5, 30.75, 31.75, 32.5, 33.0, 33.5, 34.0, 34.5, 35.5, 35.6, 35.75, 36.25, 37.0, 37.75, 38.0, 38.1, 38.5, 38.75, 38.85, 39.25, 39.35, 39.75, 40.25, 40.5, 41.5, 41.6, 42.0, 42.25, 42.5, 43.0, 43.1, 43.25, 43.35, 43.5, 44.0, 44.1, 44.25, 44.5, 44.75, 45.75, 45.85, 46.0, 46.25, 46.5, 46.575, 47.25, 47.5, 47.575, 48.0, 48.5, 48.75, 49.0, 49.1, 50.0, 50.5, 50.75, 50.825, 51.75, 52.0, 52.75, 52.85, 53.5, 53.6, 53.75, 53.825, 54.0, 54.25, 54.5, 55.0, 55.25, 55.325, 55.5, 56.0, 56.25, 56.5, 57.25, 57.35, 57.5, 58.5, 58.75, 58.825, 59.25, 60.25, 60.5, 61.75, 62.25, 62.5, 62.6, 62.75, 63.0, 63.75, 63.825, 64.0, 64.25, 64.75, 64.875, 65.0, 65.1, 65.25, 65.5, 65.6, 65.65, 65.75, 66.5, 66.75, 67.5, 67.6, 67.75, 68.0, 68.525, 68.6, 68.65, 69.0, 69.25, 70.0, 70.1, 71.625, 71.725, 71.775, 71.825, 71.85, 72.25, 72.5, 72.6, 73.5, 73.75, 74.0, 74.075, 74.125, 74.25, 76.0, 76.5, 77.25, 77.5, 77.75, 78.0, 79.0, 80.0, 80.75, 81.0, 81.5, 82.25, 82.75, 83.25, 84.5, 84.75, 85.25, 86.5, 87.0, 87.75, 88.25, 88.75, 89.75, 90.0, 90.25, 90.75, 92.0, 92.5, 93.5, 94.25, 94.75, 95.0, 95.25, 96.0, 96.5, 96.75, 97.25, 98.25, 98.5, 99.0, 99.5, 100.0, 101.25, 101.5, 102.0, 102.5, 103.25, 104.0, 106.75, 107.25, 111.5, 116.0, 116.5, 118.0, 120.5, 126.5, 127.0, 128.5, 130.25, 131.25, 132.75, 133.0, 135.0, 136.25, 137.25, 138.25, 139.0, 140.0, 140.5, 140.75, 141.25, 142.0, 142.25, 142.75, 143.0, 143.5, 145.0, 146.0, 146.75, 148.0, 148.5, 149.75, 150.5, 151.0, 152.5, 153.0, 153.5, 155.28, 156.0, 157.25, 157.5, 158.0, 158.75, 159.75, 160.5, 162.25, 163.0, 163.5, 164.0, 164.5, 165.75, 166.25, 166.5, 168.0, 168.5, 169.0, 169.5, 178.75, 184.5, 186.0, 193.0, 194.5, 196.25, 198.25, 199.5, 199.75, 200.25, 200.33, 200.75, 201.0, 201.53, 202.25, 203.25, 204.25, 205.25, 206.0, 206.25, 208.0, 208.75, 209.0, 210.0, 211.75, 211.85, 212.25, 212.35, 212.5, 212.75, 213.0, 213.08, 213.25, 213.5, 213.75, 213.83, 214.25, 214.75, 215.0, 215.25, 215.75, 217.25, 217.5, 217.75, 218.0, 218.75, 220.0, 220.25, 221.0, 222.75, 224.25, 224.5, 225.0, 225.25, 225.5, 225.75, 226.5, 227.75, 227.85, 228.5, 228.58, 229.0, 230.0, 230.5, 231.25, 231.5, 231.75, 232.0, 232.5, 234.25, 234.5, 234.75, 235.0, 235.25, 235.5, 235.75, 235.85, 236.25, 236.5, 237.0, 237.08, 237.25, 237.35, 237.5, 237.6, 237.63, 238.0, 238.5, 238.75, 239.75, 240.5, 241.25, 241.5, 241.75, 242.0, 243.0, 243.5, 244.0, 244.25, 244.35, 244.5, 244.58, 244.75, 245.0, 245.08, 245.25, 245.33, 246.0, 246.75, 247.0, 247.25, 247.75, 247.85, 248.0, 250.0, 250.5, 250.75, 251.0, 251.25, 251.5, 253.25, 254.0], \"y\": [1.0082, 1.0082, 0.9163600000000001, 0.9163600000000001, 0.96229, 0.96229, 0.99674, 0.99674, 1.0312, 1.0312, 1.0312, 1.0312, 0.99674, 0.99674, 0.92784, 0.93932, 0.93932, 0.93932, 0.93932, 0.99674, 0.99674, 0.99674, 0.93932, 1.0082, 1.0082, 1.0312, 1.0197, 0.99674, 0.99674, 0.99674, 0.9163600000000001, 0.92784, 1.0312, 1.0312, 1.0312, 1.0197, 1.0197, 1.0312, 0.9163600000000001, 0.9163600000000001, 0.9163600000000001, 0.9163600000000001, 0.9163600000000001, 0.9163600000000001, 1.0082, 0.97377, 0.97377, 0.97377, 1.0197, 1.0197, 0.8704200000000001, 0.8704200000000001, 0.8704200000000001, 0.8704200000000001, 0.8704200000000001, 0.29627, 0.29627, 0.29627, -0.07119600000000001, -0.28938, -0.28938, -0.27789, -0.27789, -0.20899, -0.27789, -0.19751, -0.19751, -0.19751, -0.34679, -0.19751, -0.19751, -0.34679, -0.34679, -0.19751, -0.19751, -0.18603, -0.20899, -0.20899, -0.20899, -0.19751, -0.19751, -0.20899, -0.20899, -0.20899, -0.36976, -0.18603, -0.18603, -0.23196, -0.23196, -0.23196, -0.19751, -0.30086, -0.17454, -0.33531, -0.33531, -0.18603, -0.19751, -0.19751, -0.19751, -0.30086, -0.30086, -0.17454, -0.17454, -0.20899, -0.20899, -0.20899, -0.20899, -0.17454, -0.17454, -0.17454, -0.28938, -0.28938, -0.17454, -0.17454, -0.24344000000000002, -0.17454, -0.17454, -0.27789, -0.27789, -0.27789, -0.23196, -0.17454, -0.17454, -0.17454, -0.17454, -0.20899, -0.28938, -0.17454, -0.18603, -0.18603, -0.18603, -0.18603, -0.16305999999999998, -0.16305999999999998, -0.16305999999999998, -0.16305999999999998, -0.16305999999999998, -0.17454, -0.17454, -0.28938, -0.28938, -0.28938, -0.17454, -0.17454, -0.17454, -0.17454, -0.17454, -0.18603, -0.18603, -0.18603, -0.17454, -0.17454, -0.17454, -0.17454, -0.19751, -0.19751, -0.17454, -0.17454, -0.15158, -0.15158, -0.15158, -0.24344000000000002, -0.24344000000000002, -0.17454, -0.17454, -0.17454, -0.17454, -0.17454, -0.17454, 0.1355, 0.1355, 0.1355, 0.89339, 0.89339, 0.89339, 0.89339, 0.89339, 0.89339, 0.96229, 1.0082, 1.0082, 1.0082, 1.0082, 0.99674, 0.99674, 0.99674, 0.99674, 0.99674, 0.99674, 0.89339, 0.89339, 0.97377, 0.97377, 0.97377, 0.97377, 0.97377, 0.97377, 0.97377, 0.99674, 0.99674, 0.98526, 0.98526, 0.98526, 0.98526, 0.98526, 1.0082, 1.0082, 1.0082, 1.0082, 0.9048700000000001, 0.9048700000000001, 0.9048700000000001, 0.9048700000000001, 0.9048700000000001, 0.99674, 0.99674, 0.99674, 0.99674, 0.93932, 0.93932, 0.89339, 1.0082, 0.99674, 0.6752100000000001, 0.6752100000000001, 0.66373, 0.64076, 0.66373, 0.66373, 0.5489, 0.66373, 0.56038, 0.6752100000000001, 0.6752100000000001, 0.6522399999999999, 0.66373, 0.66373, 0.6292800000000001, 0.6292800000000001, 0.64076, 0.64076, 0.64076, 0.64076, 0.64076, 0.64076, 0.64076, 0.64076, 0.64076, 0.6292800000000001, 0.6292800000000001, 0.6292800000000001, 0.60631, 0.60631, 0.64076, 0.64076, 0.64076, 0.5489, 0.5489, 0.5489, 0.6522399999999999, 0.6522399999999999, 0.64076, 0.64076, 0.64076, 0.64076, 0.64076, 0.64076, 0.6522399999999999, 0.6522399999999999, 0.6522399999999999, 0.6522399999999999, 0.6522399999999999, 0.6292800000000001, 0.6292800000000001, 0.6292800000000001, 0.64076, 0.64076, 0.64076, 0.64076, 0.6292800000000001, 0.6866899999999999, 0.64076, 0.66373, 0.66373, 0.93932, 0.93932, 0.98526, 0.98526, 0.98526, 0.98526, 0.26182, -0.15158, -0.25493000000000005, -0.31234, -0.32383, -0.28938, -0.36976, -0.38124, -0.38124, -0.26641, -0.26641, -0.26641, -0.28938, -0.18603, -0.18603, -0.18603, -0.33531, -0.23196, -0.23196, -0.18603, -0.18603, -0.19751, -0.22048, -0.22048, -0.22048, -0.28938, -0.18603, -0.18603, -0.18603, -0.30086, -0.19751, -0.27789, -0.19751, -0.18603, -0.19751, -0.19751, -0.20899, -0.19751, -0.18603, -0.26641, -0.19751, -0.18603, -0.19751, -0.27789, -0.23196, -0.19751, -0.24344000000000002, -0.24344000000000002, -0.26641, -0.26641, -0.19751, -0.26641, -0.19751, -0.19751, -0.19751, -0.19751, -0.18603, -0.18603, -0.35827, -0.20899, -0.27789, -0.24344000000000002, -0.18603, -0.19751, -0.19751, -0.19751, -0.19751, -0.19751, -0.26641, -0.26641, -0.19751, -0.19751, -0.19751, -0.19751, -0.19751, -0.20899, -0.32383, -0.32383, -0.22048, -0.19751, -0.19751, -0.31234, -0.19751, -0.19751, -0.19751, -0.20899, -0.30086, -0.18603, -0.20899, -0.28938, -0.28938, -0.19751, -0.19751, -0.19751, -0.19751, -0.19751, -0.24344000000000002, -0.20899, -0.27789, -0.26641, -0.19751, -0.19751, -0.32383, 0.46851000000000004, 0.46851000000000004, 0.46851000000000004, 0.46851000000000004, 0.46851000000000004, 0.46851000000000004, 0.95081, 0.95081]}, {\"mode\": \"lines+markers\", \"name\": \"lines+markers\", \"type\": \"scatter\", \"x\": [0.0, 0.5, 1.5, 1.75, 2.5, 3.25, 4.0, 5.0, 5.5, 6.0, 6.5, 6.75, 7.75, 8.0, 9.0, 9.75, 10.0, 10.5, 10.75, 12.0, 12.5, 13.0, 14.0, 15.25, 15.5, 16.5, 17.5, 18.5, 18.75, 19.25, 20.0, 21.0, 22.75, 23.0, 23.25, 24.5, 26.25, 27.75, 28.5, 29.0, 29.5, 29.75, 30.5, 30.75, 31.75, 32.5, 33.0, 33.5, 34.0, 34.5, 35.5, 35.6, 35.75, 36.25, 37.0, 37.75, 38.0, 38.1, 38.5, 38.75, 38.85, 39.25, 39.35, 39.75, 40.25, 40.5, 41.5, 41.6, 42.0, 42.25, 42.5, 43.0, 43.1, 43.25, 43.35, 43.5, 44.0, 44.1, 44.25, 44.5, 44.75, 45.75, 45.85, 46.0, 46.25, 46.5, 46.575, 47.25, 47.5, 47.575, 48.0, 48.5, 48.75, 49.0, 49.1, 50.0, 50.5, 50.75, 50.825, 51.75, 52.0, 52.75, 52.85, 53.5, 53.6, 53.75, 53.825, 54.0, 54.25, 54.5, 55.0, 55.25, 55.325, 55.5, 56.0, 56.25, 56.5, 57.25, 57.35, 57.5, 58.5, 58.75, 58.825, 59.25, 60.25, 60.5, 61.75, 62.25, 62.5, 62.6, 62.75, 63.0, 63.75, 63.825, 64.0, 64.25, 64.75, 64.875, 65.0, 65.1, 65.25, 65.5, 65.6, 65.65, 65.75, 66.5, 66.75, 67.5, 67.6, 67.75, 68.0, 68.525, 68.6, 68.65, 69.0, 69.25, 70.0, 70.1, 71.625, 71.725, 71.775, 71.825, 71.85, 72.25, 72.5, 72.6, 73.5, 73.75, 74.0, 74.075, 74.125, 74.25, 76.0, 76.5, 77.25, 77.5, 77.75, 78.0, 79.0, 80.0, 80.75, 81.0, 81.5, 82.25, 82.75, 83.25, 84.5, 84.75, 85.25, 86.5, 87.0, 87.75, 88.25, 88.75, 89.75, 90.0, 90.25, 90.75, 92.0, 92.5, 93.5, 94.25, 94.75, 95.0, 95.25, 96.0, 96.5, 96.75, 97.25, 98.25, 98.5, 99.0, 99.5, 100.0, 101.25, 101.5, 102.0, 102.5, 103.25, 104.0, 106.75, 107.25, 111.5, 116.0, 116.5, 118.0, 120.5, 126.5, 127.0, 128.5, 130.25, 131.25, 132.75, 133.0, 135.0, 136.25, 137.25, 138.25, 139.0, 140.0, 140.5, 140.75, 141.25, 142.0, 142.25, 142.75, 143.0, 143.5, 145.0, 146.0, 146.75, 148.0, 148.5, 149.75, 150.5, 151.0, 152.5, 153.0, 153.5, 155.28, 156.0, 157.25, 157.5, 158.0, 158.75, 159.75, 160.5, 162.25, 163.0, 163.5, 164.0, 164.5, 165.75, 166.25, 166.5, 168.0, 168.5, 169.0, 169.5, 178.75, 184.5, 186.0, 193.0, 194.5, 196.25, 198.25, 199.5, 199.75, 200.25, 200.33, 200.75, 201.0, 201.53, 202.25, 203.25, 204.25, 205.25, 206.0, 206.25, 208.0, 208.75, 209.0, 210.0, 211.75, 211.85, 212.25, 212.35, 212.5, 212.75, 213.0, 213.08, 213.25, 213.5, 213.75, 213.83, 214.25, 214.75, 215.0, 215.25, 215.75, 217.25, 217.5, 217.75, 218.0, 218.75, 220.0, 220.25, 221.0, 222.75, 224.25, 224.5, 225.0, 225.25, 225.5, 225.75, 226.5, 227.75, 227.85, 228.5, 228.58, 229.0, 230.0, 230.5, 231.25, 231.5, 231.75, 232.0, 232.5, 234.25, 234.5, 234.75, 235.0, 235.25, 235.5, 235.75, 235.85, 236.25, 236.5, 237.0, 237.08, 237.25, 237.35, 237.5, 237.6, 237.63, 238.0, 238.5, 238.75, 239.75, 240.5, 241.25, 241.5, 241.75, 242.0, 243.0, 243.5, 244.0, 244.25, 244.35, 244.5, 244.58, 244.75, 245.0, 245.08, 245.25, 245.33, 246.0, 246.75, 247.0, 247.25, 247.75, 247.85, 248.0, 250.0, 250.5, 250.75, 251.0, 251.25, 251.5, 253.25, 254.0], \"y\": [-0.082102, -0.082102, -0.013684, -0.013684, -0.059296, -0.059296, -0.070699, -0.09350499999999999, -0.12771, -0.12771, -0.12771, -0.12771, -0.070699, -0.070699, -0.0022806, -0.025087, -0.025087, -0.025087, -0.025087, -0.070699, -0.070699, -0.070699, -0.0022806, -0.10490999999999999, -0.10490999999999999, -0.09350499999999999, -0.10490999999999999, -0.070699, -0.070699, -0.070699, 0.0091224, 0.020525, -0.12771, -0.12771, -0.12771, -0.10490999999999999, -0.10490999999999999, -0.11631, 0.020525, 0.020525, 0.020525, 0.020525, -0.0022806, -0.0022806, -0.16192, -0.047893, -0.047893, -0.036489999999999995, -0.13912, -0.13912, 0.11175, 0.11175, 0.11175, 0.11175, 0.11175, -0.013684, -0.013684, -0.013684, -0.10490999999999999, -0.036489999999999995, -0.036489999999999995, -0.059296, -0.059296, -0.15052000000000001, -0.070699, -0.16192, -0.16192, -0.16192, -0.013684, -0.16192, -0.16192, -0.025087, -0.025087, -0.17332999999999998, -0.17332999999999998, -0.15052000000000001, -0.17332999999999998, -0.17332999999999998, -0.17332999999999998, -0.16192, -0.16192, -0.12771, -0.12771, -0.12771, -0.013684, -0.15052000000000001, -0.15052000000000001, -0.11631, -0.11631, -0.11631, -0.17332999999999998, -0.047893, -0.17332999999999998, -0.0022806, -0.0022806, -0.16192, -0.15052000000000001, -0.15052000000000001, -0.15052000000000001, -0.036489999999999995, -0.036489999999999995, -0.15052000000000001, -0.15052000000000001, -0.11631, -0.11631, -0.11631, -0.11631, -0.16192, -0.16192, -0.16192, -0.036489999999999995, -0.036489999999999995, -0.13912, -0.13912, -0.070699, -0.15052000000000001, -0.15052000000000001, -0.059296, -0.059296, -0.059296, -0.10490999999999999, -0.16192, -0.16192, -0.17332999999999998, -0.16192, -0.11631, -0.047893, -0.15052000000000001, -0.16192, -0.16192, -0.16192, -0.16192, -0.16192, -0.15052000000000001, -0.15052000000000001, -0.15052000000000001, -0.15052000000000001, -0.16192, -0.16192, -0.036489999999999995, -0.036489999999999995, -0.036489999999999995, -0.17332999999999998, -0.17332999999999998, -0.17332999999999998, -0.16192, -0.16192, -0.17332999999999998, -0.17332999999999998, -0.17332999999999998, -0.16192, -0.15052000000000001, -0.16192, -0.16192, -0.11631, -0.11631, -0.17332999999999998, -0.17332999999999998, -0.16192, -0.16192, -0.16192, -0.070699, -0.070699, -0.16192, -0.16192, -0.16192, -0.16192, -0.16192, -0.16192, -0.32156999999999997, -0.32156999999999997, -0.32156999999999997, 0.043332, 0.043332, 0.043332, 0.043332, 0.043332, 0.043332, -0.082102, -0.12771, -0.12771, -0.12771, -0.12771, -0.082102, -0.082102, -0.082102, -0.070699, -0.070699, -0.070699, 0.0091224, 0.0091224, -0.059296, -0.059296, -0.059296, -0.082102, -0.082102, -0.082102, -0.082102, -0.070699, -0.070699, -0.082102, -0.082102, -0.082102, -0.082102, -0.082102, -0.11631, -0.11631, -0.11631, -0.11631, 0.0091224, 0.0091224, 0.0091224, 0.0091224, 0.0091224, -0.10490999999999999, -0.10490999999999999, -0.10490999999999999, -0.10490999999999999, -0.025087, -0.025087, -0.17332999999999998, -0.047893, -0.059296, -0.13912, -0.13912, -0.082102, -0.09350499999999999, -0.12771, -0.12771, -0.013684, -0.12771, -0.013684, -0.15052000000000001, -0.15052000000000001, -0.10490999999999999, -0.10490999999999999, -0.10490999999999999, -0.09350499999999999, -0.09350499999999999, -0.09350499999999999, -0.09350499999999999, -0.09350499999999999, -0.09350499999999999, -0.09350499999999999, -0.09350499999999999, -0.09350499999999999, -0.09350499999999999, -0.09350499999999999, -0.10490999999999999, -0.09350499999999999, -0.09350499999999999, -0.047893, -0.047893, -0.082102, -0.082102, -0.082102, -0.013684, -0.013684, -0.013684, -0.10490999999999999, -0.10490999999999999, -0.070699, -0.070699, -0.070699, -0.070699, -0.10490999999999999, -0.10490999999999999, -0.10490999999999999, -0.10490999999999999, -0.10490999999999999, -0.10490999999999999, -0.10490999999999999, -0.09350499999999999, -0.09350499999999999, -0.09350499999999999, -0.09350499999999999, -0.09350499999999999, -0.09350499999999999, -0.09350499999999999, -0.10490999999999999, -0.13912, -0.11631, -0.13912, 0.020525, -0.16192, -0.16192, -0.25315, -0.25315, -0.25315, -0.25315, -0.13912, -0.12771, -0.036489999999999995, 0.077541, 0.043332, -0.059296, 0.0091224, 0.020525, 0.020525, -0.082102, -0.082102, -0.082102, -0.059296, -0.12771, -0.12771, -0.12771, 0.020525, -0.10490999999999999, -0.10490999999999999, -0.13912, -0.13912, -0.12771, -0.11631, -0.11631, -0.11631, -0.013684, -0.13912, -0.13912, -0.13912, -0.036489999999999995, -0.12771, -0.025087, -0.09350499999999999, -0.13912, -0.11631, -0.12771, -0.10490999999999999, -0.09350499999999999, -0.10490999999999999, -0.036489999999999995, -0.11631, -0.11631, -0.11631, -0.047893, -0.082102, -0.12771, -0.082102, -0.082102, -0.025087, -0.025087, -0.11631, -0.036489999999999995, -0.11631, -0.11631, -0.10490999999999999, -0.10490999999999999, -0.12771, -0.10490999999999999, 0.031928, -0.10490999999999999, -0.036489999999999995, -0.047893, -0.11631, -0.10490999999999999, -0.10490999999999999, -0.12771, -0.11631, -0.10490999999999999, -0.025087, -0.025087, -0.11631, -0.11631, -0.12771, -0.12771, -0.12771, -0.11631, 0.0091224, 0.0091224, -0.082102, -0.12771, -0.12771, -0.0022806, -0.11631, -0.11631, -0.11631, -0.10490999999999999, -0.013684, -0.10490999999999999, -0.082102, -0.036489999999999995, -0.036489999999999995, -0.11631, -0.10490999999999999, -0.11631, -0.11631, -0.11631, -0.036489999999999995, -0.12771, -0.025087, -0.036489999999999995, -0.12771, -0.12771, 0.020525, 0.0091224, 0.0091224, 0.0091224, 0.0091224, 0.0091224, 0.0091224, -0.11631, -0.11631]}],\n",
       "                        {\"height\": 300, \"margin\": {\"b\": 0, \"l\": 0, \"r\": 0, \"t\": 32}, \"template\": {\"data\": {\"bar\": [{\"error_x\": {\"color\": \"#2a3f5f\"}, \"error_y\": {\"color\": \"#2a3f5f\"}, \"marker\": {\"line\": {\"color\": \"#E5ECF6\", \"width\": 0.5}}, \"type\": \"bar\"}], \"barpolar\": [{\"marker\": {\"line\": {\"color\": \"#E5ECF6\", \"width\": 0.5}}, \"type\": \"barpolar\"}], \"carpet\": [{\"aaxis\": {\"endlinecolor\": \"#2a3f5f\", \"gridcolor\": \"white\", \"linecolor\": \"white\", \"minorgridcolor\": \"white\", \"startlinecolor\": \"#2a3f5f\"}, \"baxis\": {\"endlinecolor\": \"#2a3f5f\", \"gridcolor\": \"white\", \"linecolor\": \"white\", \"minorgridcolor\": \"white\", \"startlinecolor\": \"#2a3f5f\"}, \"type\": \"carpet\"}], \"choropleth\": [{\"colorbar\": {\"outlinewidth\": 0, \"ticks\": \"\"}, \"type\": \"choropleth\"}], \"contour\": [{\"colorbar\": {\"outlinewidth\": 0, \"ticks\": \"\"}, \"colorscale\": [[0.0, \"#0d0887\"], [0.1111111111111111, \"#46039f\"], [0.2222222222222222, \"#7201a8\"], [0.3333333333333333, \"#9c179e\"], [0.4444444444444444, \"#bd3786\"], [0.5555555555555556, \"#d8576b\"], [0.6666666666666666, \"#ed7953\"], [0.7777777777777778, \"#fb9f3a\"], [0.8888888888888888, \"#fdca26\"], [1.0, \"#f0f921\"]], \"type\": \"contour\"}], \"contourcarpet\": [{\"colorbar\": {\"outlinewidth\": 0, \"ticks\": \"\"}, \"type\": \"contourcarpet\"}], \"heatmap\": [{\"colorbar\": {\"outlinewidth\": 0, \"ticks\": \"\"}, \"colorscale\": [[0.0, \"#0d0887\"], [0.1111111111111111, \"#46039f\"], [0.2222222222222222, \"#7201a8\"], [0.3333333333333333, \"#9c179e\"], [0.4444444444444444, \"#bd3786\"], [0.5555555555555556, \"#d8576b\"], [0.6666666666666666, \"#ed7953\"], [0.7777777777777778, \"#fb9f3a\"], [0.8888888888888888, \"#fdca26\"], [1.0, \"#f0f921\"]], \"type\": \"heatmap\"}], \"heatmapgl\": [{\"colorbar\": {\"outlinewidth\": 0, \"ticks\": \"\"}, \"colorscale\": [[0.0, \"#0d0887\"], [0.1111111111111111, \"#46039f\"], [0.2222222222222222, \"#7201a8\"], [0.3333333333333333, \"#9c179e\"], [0.4444444444444444, \"#bd3786\"], [0.5555555555555556, \"#d8576b\"], [0.6666666666666666, \"#ed7953\"], [0.7777777777777778, \"#fb9f3a\"], [0.8888888888888888, \"#fdca26\"], [1.0, \"#f0f921\"]], \"type\": \"heatmapgl\"}], \"histogram\": [{\"marker\": {\"colorbar\": {\"outlinewidth\": 0, \"ticks\": \"\"}}, \"type\": \"histogram\"}], \"histogram2d\": [{\"colorbar\": {\"outlinewidth\": 0, \"ticks\": \"\"}, \"colorscale\": [[0.0, \"#0d0887\"], [0.1111111111111111, \"#46039f\"], [0.2222222222222222, \"#7201a8\"], [0.3333333333333333, \"#9c179e\"], [0.4444444444444444, \"#bd3786\"], [0.5555555555555556, \"#d8576b\"], [0.6666666666666666, \"#ed7953\"], [0.7777777777777778, \"#fb9f3a\"], [0.8888888888888888, \"#fdca26\"], [1.0, \"#f0f921\"]], \"type\": \"histogram2d\"}], \"histogram2dcontour\": [{\"colorbar\": {\"outlinewidth\": 0, \"ticks\": \"\"}, \"colorscale\": [[0.0, \"#0d0887\"], [0.1111111111111111, \"#46039f\"], [0.2222222222222222, \"#7201a8\"], [0.3333333333333333, \"#9c179e\"], [0.4444444444444444, \"#bd3786\"], [0.5555555555555556, \"#d8576b\"], [0.6666666666666666, \"#ed7953\"], [0.7777777777777778, \"#fb9f3a\"], [0.8888888888888888, \"#fdca26\"], [1.0, \"#f0f921\"]], \"type\": \"histogram2dcontour\"}], \"mesh3d\": [{\"colorbar\": {\"outlinewidth\": 0, \"ticks\": \"\"}, \"type\": \"mesh3d\"}], \"parcoords\": [{\"line\": {\"colorbar\": {\"outlinewidth\": 0, \"ticks\": \"\"}}, \"type\": \"parcoords\"}], \"pie\": [{\"automargin\": true, \"type\": \"pie\"}], \"scatter\": [{\"marker\": {\"colorbar\": {\"outlinewidth\": 0, \"ticks\": \"\"}}, \"type\": \"scatter\"}], \"scatter3d\": [{\"line\": {\"colorbar\": {\"outlinewidth\": 0, \"ticks\": \"\"}}, \"marker\": {\"colorbar\": {\"outlinewidth\": 0, \"ticks\": \"\"}}, \"type\": \"scatter3d\"}], \"scattercarpet\": [{\"marker\": {\"colorbar\": {\"outlinewidth\": 0, \"ticks\": \"\"}}, \"type\": \"scattercarpet\"}], \"scattergeo\": [{\"marker\": {\"colorbar\": {\"outlinewidth\": 0, \"ticks\": \"\"}}, \"type\": \"scattergeo\"}], \"scattergl\": [{\"marker\": {\"colorbar\": {\"outlinewidth\": 0, \"ticks\": \"\"}}, \"type\": \"scattergl\"}], \"scattermapbox\": [{\"marker\": {\"colorbar\": {\"outlinewidth\": 0, \"ticks\": \"\"}}, \"type\": \"scattermapbox\"}], \"scatterpolar\": [{\"marker\": {\"colorbar\": {\"outlinewidth\": 0, \"ticks\": \"\"}}, \"type\": \"scatterpolar\"}], \"scatterpolargl\": [{\"marker\": {\"colorbar\": {\"outlinewidth\": 0, \"ticks\": \"\"}}, \"type\": \"scatterpolargl\"}], \"scatterternary\": [{\"marker\": {\"colorbar\": {\"outlinewidth\": 0, \"ticks\": \"\"}}, \"type\": \"scatterternary\"}], \"surface\": [{\"colorbar\": {\"outlinewidth\": 0, \"ticks\": \"\"}, \"colorscale\": [[0.0, \"#0d0887\"], [0.1111111111111111, \"#46039f\"], [0.2222222222222222, \"#7201a8\"], [0.3333333333333333, \"#9c179e\"], [0.4444444444444444, \"#bd3786\"], [0.5555555555555556, \"#d8576b\"], [0.6666666666666666, \"#ed7953\"], [0.7777777777777778, \"#fb9f3a\"], [0.8888888888888888, \"#fdca26\"], [1.0, \"#f0f921\"]], \"type\": \"surface\"}], \"table\": [{\"cells\": {\"fill\": {\"color\": \"#EBF0F8\"}, \"line\": {\"color\": \"white\"}}, \"header\": {\"fill\": {\"color\": \"#C8D4E3\"}, \"line\": {\"color\": \"white\"}}, \"type\": \"table\"}]}, \"layout\": {\"annotationdefaults\": {\"arrowcolor\": \"#2a3f5f\", \"arrowhead\": 0, \"arrowwidth\": 1}, \"coloraxis\": {\"colorbar\": {\"outlinewidth\": 0, \"ticks\": \"\"}}, \"colorscale\": {\"diverging\": [[0, \"#8e0152\"], [0.1, \"#c51b7d\"], [0.2, \"#de77ae\"], [0.3, \"#f1b6da\"], [0.4, \"#fde0ef\"], [0.5, \"#f7f7f7\"], [0.6, \"#e6f5d0\"], [0.7, \"#b8e186\"], [0.8, \"#7fbc41\"], [0.9, \"#4d9221\"], [1, \"#276419\"]], \"sequential\": [[0.0, \"#0d0887\"], [0.1111111111111111, \"#46039f\"], [0.2222222222222222, \"#7201a8\"], [0.3333333333333333, \"#9c179e\"], [0.4444444444444444, \"#bd3786\"], [0.5555555555555556, \"#d8576b\"], [0.6666666666666666, \"#ed7953\"], [0.7777777777777778, \"#fb9f3a\"], [0.8888888888888888, \"#fdca26\"], [1.0, \"#f0f921\"]], \"sequentialminus\": [[0.0, \"#0d0887\"], [0.1111111111111111, \"#46039f\"], [0.2222222222222222, \"#7201a8\"], [0.3333333333333333, \"#9c179e\"], [0.4444444444444444, \"#bd3786\"], [0.5555555555555556, \"#d8576b\"], [0.6666666666666666, \"#ed7953\"], [0.7777777777777778, \"#fb9f3a\"], [0.8888888888888888, \"#fdca26\"], [1.0, \"#f0f921\"]]}, \"colorway\": [\"#636efa\", \"#EF553B\", \"#00cc96\", \"#ab63fa\", \"#FFA15A\", \"#19d3f3\", \"#FF6692\", \"#B6E880\", \"#FF97FF\", \"#FECB52\"], \"font\": {\"color\": \"#2a3f5f\"}, \"geo\": {\"bgcolor\": \"white\", \"lakecolor\": \"white\", \"landcolor\": \"#E5ECF6\", \"showlakes\": true, \"showland\": true, \"subunitcolor\": \"white\"}, \"hoverlabel\": {\"align\": \"left\"}, \"hovermode\": \"closest\", \"mapbox\": {\"style\": \"light\"}, \"paper_bgcolor\": \"white\", \"plot_bgcolor\": \"#E5ECF6\", \"polar\": {\"angularaxis\": {\"gridcolor\": \"white\", \"linecolor\": \"white\", \"ticks\": \"\"}, \"bgcolor\": \"#E5ECF6\", \"radialaxis\": {\"gridcolor\": \"white\", \"linecolor\": \"white\", \"ticks\": \"\"}}, \"scene\": {\"xaxis\": {\"backgroundcolor\": \"#E5ECF6\", \"gridcolor\": \"white\", \"gridwidth\": 2, \"linecolor\": \"white\", \"showbackground\": true, \"ticks\": \"\", \"zerolinecolor\": \"white\"}, \"yaxis\": {\"backgroundcolor\": \"#E5ECF6\", \"gridcolor\": \"white\", \"gridwidth\": 2, \"linecolor\": \"white\", \"showbackground\": true, \"ticks\": \"\", \"zerolinecolor\": \"white\"}, \"zaxis\": {\"backgroundcolor\": \"#E5ECF6\", \"gridcolor\": \"white\", \"gridwidth\": 2, \"linecolor\": \"white\", \"showbackground\": true, \"ticks\": \"\", \"zerolinecolor\": \"white\"}}, \"shapedefaults\": {\"line\": {\"color\": \"#2a3f5f\"}}, \"ternary\": {\"aaxis\": {\"gridcolor\": \"white\", \"linecolor\": \"white\", \"ticks\": \"\"}, \"baxis\": {\"gridcolor\": \"white\", \"linecolor\": \"white\", \"ticks\": \"\"}, \"bgcolor\": \"#E5ECF6\", \"caxis\": {\"gridcolor\": \"white\", \"linecolor\": \"white\", \"ticks\": \"\"}}, \"title\": {\"x\": 0.05}, \"xaxis\": {\"automargin\": true, \"gridcolor\": \"white\", \"linecolor\": \"white\", \"ticks\": \"\", \"title\": {\"standoff\": 15}, \"zerolinecolor\": \"white\", \"zerolinewidth\": 2}, \"yaxis\": {\"automargin\": true, \"gridcolor\": \"white\", \"linecolor\": \"white\", \"ticks\": \"\", \"title\": {\"standoff\": 15}, \"zerolinecolor\": \"white\", \"zerolinewidth\": 2}}}, \"width\": 600},\n",
       "                        {\"responsive\": true}\n",
       "                    ).then(function(){\n",
       "                            \n",
       "var gd = document.getElementById('88aee6a6-5c11-4488-8880-f70035db8882');\n",
       "var x = new MutationObserver(function (mutations, observer) {{\n",
       "        var display = window.getComputedStyle(gd).display;\n",
       "        if (!display || display === 'none') {{\n",
       "            console.log([gd, 'removed!']);\n",
       "            Plotly.purge(gd);\n",
       "            observer.disconnect();\n",
       "        }}\n",
       "}});\n",
       "\n",
       "// Listen for the removal of the full notebook cells\n",
       "var notebookContainer = gd.closest('#notebook-container');\n",
       "if (notebookContainer) {{\n",
       "    x.observe(notebookContainer, {childList: true});\n",
       "}}\n",
       "\n",
       "// Listen for the clearing of the current output cell\n",
       "var outputEl = gd.closest('.output');\n",
       "if (outputEl) {{\n",
       "    x.observe(outputEl, {childList: true});\n",
       "}}\n",
       "\n",
       "                        })\n",
       "                };\n",
       "                });\n",
       "            </script>\n",
       "        </div>"
      ]
     },
     "metadata": {},
     "output_type": "display_data"
    }
   ],
   "source": [
    "fig = go.Figure(layout={**layout, 'width': 600})\n",
    "fig.add_trace(go.Scatter(x=df['time'], y=df['front'], mode='lines', name='lines'))\n",
    "fig.add_trace(go.Scatter(x=df['time'], y=df['vertical'], mode='markers', name='markers'))\n",
    "fig.add_trace(go.Scatter(x=df['time'], y=df['lateral'], mode='lines+markers', name='lines+markers'))\n",
    "fig.show()"
   ]
  },
  {
   "cell_type": "markdown",
   "metadata": {},
   "source": [
    "We can save some keystrokes by using a for loop to plot the sensor data:"
   ]
  },
  {
   "cell_type": "code",
   "execution_count": 44,
   "metadata": {},
   "outputs": [
    {
     "data": {
      "application/vnd.plotly.v1+json": {
       "config": {
        "plotlyServerURL": "https://plot.ly"
       },
       "data": [
        {
         "mode": "lines+markers",
         "name": "front",
         "type": "scatter",
         "x": [
          0,
          0.5,
          1.5,
          1.75,
          2.5,
          3.25,
          4,
          5,
          5.5,
          6,
          6.5,
          6.75,
          7.75,
          8,
          9,
          9.75,
          10,
          10.5,
          10.75,
          12,
          12.5,
          13,
          14,
          15.25,
          15.5,
          16.5,
          17.5,
          18.5,
          18.75,
          19.25,
          20,
          21,
          22.75,
          23,
          23.25,
          24.5,
          26.25,
          27.75,
          28.5,
          29,
          29.5,
          29.75,
          30.5,
          30.75,
          31.75,
          32.5,
          33,
          33.5,
          34,
          34.5,
          35.5,
          35.6,
          35.75,
          36.25,
          37,
          37.75,
          38,
          38.1,
          38.5,
          38.75,
          38.85,
          39.25,
          39.35,
          39.75,
          40.25,
          40.5,
          41.5,
          41.6,
          42,
          42.25,
          42.5,
          43,
          43.1,
          43.25,
          43.35,
          43.5,
          44,
          44.1,
          44.25,
          44.5,
          44.75,
          45.75,
          45.85,
          46,
          46.25,
          46.5,
          46.575,
          47.25,
          47.5,
          47.575,
          48,
          48.5,
          48.75,
          49,
          49.1,
          50,
          50.5,
          50.75,
          50.825,
          51.75,
          52,
          52.75,
          52.85,
          53.5,
          53.6,
          53.75,
          53.825,
          54,
          54.25,
          54.5,
          55,
          55.25,
          55.325,
          55.5,
          56,
          56.25,
          56.5,
          57.25,
          57.35,
          57.5,
          58.5,
          58.75,
          58.825,
          59.25,
          60.25,
          60.5,
          61.75,
          62.25,
          62.5,
          62.6,
          62.75,
          63,
          63.75,
          63.825,
          64,
          64.25,
          64.75,
          64.875,
          65,
          65.1,
          65.25,
          65.5,
          65.6,
          65.65,
          65.75,
          66.5,
          66.75,
          67.5,
          67.6,
          67.75,
          68,
          68.525,
          68.6,
          68.65,
          69,
          69.25,
          70,
          70.1,
          71.625,
          71.725,
          71.775,
          71.825,
          71.85,
          72.25,
          72.5,
          72.6,
          73.5,
          73.75,
          74,
          74.075,
          74.125,
          74.25,
          76,
          76.5,
          77.25,
          77.5,
          77.75,
          78,
          79,
          80,
          80.75,
          81,
          81.5,
          82.25,
          82.75,
          83.25,
          84.5,
          84.75,
          85.25,
          86.5,
          87,
          87.75,
          88.25,
          88.75,
          89.75,
          90,
          90.25,
          90.75,
          92,
          92.5,
          93.5,
          94.25,
          94.75,
          95,
          95.25,
          96,
          96.5,
          96.75,
          97.25,
          98.25,
          98.5,
          99,
          99.5,
          100,
          101.25,
          101.5,
          102,
          102.5,
          103.25,
          104,
          106.75,
          107.25,
          111.5,
          116,
          116.5,
          118,
          120.5,
          126.5,
          127,
          128.5,
          130.25,
          131.25,
          132.75,
          133,
          135,
          136.25,
          137.25,
          138.25,
          139,
          140,
          140.5,
          140.75,
          141.25,
          142,
          142.25,
          142.75,
          143,
          143.5,
          145,
          146,
          146.75,
          148,
          148.5,
          149.75,
          150.5,
          151,
          152.5,
          153,
          153.5,
          155.28,
          156,
          157.25,
          157.5,
          158,
          158.75,
          159.75,
          160.5,
          162.25,
          163,
          163.5,
          164,
          164.5,
          165.75,
          166.25,
          166.5,
          168,
          168.5,
          169,
          169.5,
          178.75,
          184.5,
          186,
          193,
          194.5,
          196.25,
          198.25,
          199.5,
          199.75,
          200.25,
          200.33,
          200.75,
          201,
          201.53,
          202.25,
          203.25,
          204.25,
          205.25,
          206,
          206.25,
          208,
          208.75,
          209,
          210,
          211.75,
          211.85,
          212.25,
          212.35,
          212.5,
          212.75,
          213,
          213.08,
          213.25,
          213.5,
          213.75,
          213.83,
          214.25,
          214.75,
          215,
          215.25,
          215.75,
          217.25,
          217.5,
          217.75,
          218,
          218.75,
          220,
          220.25,
          221,
          222.75,
          224.25,
          224.5,
          225,
          225.25,
          225.5,
          225.75,
          226.5,
          227.75,
          227.85,
          228.5,
          228.58,
          229,
          230,
          230.5,
          231.25,
          231.5,
          231.75,
          232,
          232.5,
          234.25,
          234.5,
          234.75,
          235,
          235.25,
          235.5,
          235.75,
          235.85,
          236.25,
          236.5,
          237,
          237.08,
          237.25,
          237.35,
          237.5,
          237.6,
          237.63,
          238,
          238.5,
          238.75,
          239.75,
          240.5,
          241.25,
          241.5,
          241.75,
          242,
          243,
          243.5,
          244,
          244.25,
          244.35,
          244.5,
          244.58,
          244.75,
          245,
          245.08,
          245.25,
          245.33,
          246,
          246.75,
          247,
          247.25,
          247.75,
          247.85,
          248,
          250,
          250.5,
          250.75,
          251,
          251.25,
          251.5,
          253.25,
          254
         ],
         "y": [
          0.27203,
          0.27203,
          0.44791000000000003,
          0.44791000000000003,
          0.34238,
          0.34238,
          0.30721,
          0.27203,
          0.23685,
          0.23685,
          0.23685,
          0.23685,
          0.31893,
          0.31893,
          0.47136000000000006,
          0.40101,
          0.40101,
          0.40101,
          0.40101,
          0.30721,
          0.30721,
          0.30721,
          0.41273000000000004,
          0.27203,
          0.27203,
          0.24858000000000002,
          0.2603,
          0.31893,
          0.31893,
          0.31893,
          0.43618999999999997,
          0.47136000000000006,
          0.2134,
          0.2134,
          0.2134,
          0.23685,
          0.23685,
          0.20168,
          0.50654,
          0.50654,
          0.50654,
          0.50654,
          0.42446000000000006,
          0.42446000000000006,
          0.24858000000000002,
          0.34238,
          0.34238,
          0.30721,
          0.15478,
          0.15478,
          0.56517,
          0.56517,
          0.56517,
          0.56517,
          0.56517,
          1.0694,
          1.0694,
          1.0694,
          0.8231200000000001,
          1.0576,
          1.0576,
          1.1632,
          1.1632,
          0.9052,
          1.1397,
          0.92865,
          0.9169299999999999,
          0.9169299999999999,
          1.3156,
          0.9052,
          0.9052,
          1.2452,
          1.2452,
          0.87003,
          0.87003,
          0.9521,
          0.87003,
          0.87003,
          0.87003,
          0.8934799999999999,
          0.8934799999999999,
          1.0342,
          1.0342,
          1.0342,
          1.3156,
          0.92865,
          0.92865,
          1.0342,
          1.0342,
          1.0342,
          0.9052,
          1.1514,
          0.9052,
          1.3039,
          1.3039,
          0.9403799999999999,
          0.92865,
          0.92865,
          0.92865,
          1.1866,
          1.1866,
          0.9403799999999999,
          0.9403799999999999,
          1.0342,
          1.0342,
          1.0342,
          1.0342,
          0.88175,
          0.88175,
          0.88175,
          1.1983,
          1.1983,
          0.9990100000000001,
          0.9990100000000001,
          1.1045,
          0.9521,
          0.9521,
          1.1632,
          1.1632,
          1.1632,
          1.0811,
          0.96383,
          0.96383,
          0.88175,
          0.88175,
          1.0459,
          1.1983,
          0.9403799999999999,
          0.8934799999999999,
          0.8934799999999999,
          0.8934799999999999,
          0.8583,
          0.9052,
          0.96383,
          0.96383,
          0.96383,
          0.92865,
          0.92865,
          0.92865,
          1.2101,
          1.2101,
          1.2101,
          0.8934799999999999,
          0.8934799999999999,
          0.8934799999999999,
          0.9052,
          0.9052,
          0.9169299999999999,
          0.9169299999999999,
          0.9169299999999999,
          0.8934799999999999,
          0.9169299999999999,
          0.88175,
          0.88175,
          1.0107,
          1.0107,
          0.9169299999999999,
          0.9169299999999999,
          0.88175,
          0.88175,
          0.88175,
          1.128,
          1.128,
          0.9052,
          0.9052,
          0.9052,
          0.88175,
          0.88175,
          0.88175,
          0.9403799999999999,
          0.9403799999999999,
          0.9403799999999999,
          0.7176,
          0.7176,
          0.7176,
          0.7176,
          0.7176,
          0.7176,
          0.42446000000000006,
          0.23685,
          0.23685,
          0.23685,
          0.23685,
          0.29548,
          0.29548,
          0.29548,
          0.33066,
          0.33066,
          0.33066,
          0.5534399999999999,
          0.5534399999999999,
          0.37756,
          0.37756,
          0.37756,
          0.31893,
          0.31893,
          0.31893,
          0.31893,
          0.30721,
          0.30721,
          0.33066,
          0.33066,
          0.33066,
          0.33066,
          0.33066,
          0.28376,
          0.28376,
          0.28376,
          0.28376,
          0.54171,
          0.54171,
          0.54171,
          0.54171,
          0.54171,
          0.29548,
          0.29548,
          0.29548,
          0.29548,
          0.41273000000000004,
          0.41273000000000004,
          0.22513000000000002,
          0.60034,
          0.2603,
          0.83485,
          0.83485,
          0.88175,
          0.88175,
          0.8465799999999999,
          0.8465799999999999,
          1.0928,
          0.83485,
          1.0928,
          0.78795,
          0.78795,
          0.8583,
          0.8583,
          0.8583,
          0.8934799999999999,
          0.8934799999999999,
          0.88175,
          0.88175,
          0.88175,
          0.88175,
          0.88175,
          0.88175,
          0.88175,
          0.88175,
          0.88175,
          0.8583,
          0.9052,
          0.9052,
          0.96383,
          0.96383,
          0.88175,
          0.88175,
          0.88175,
          1.1163,
          1.1163,
          1.1163,
          0.8465799999999999,
          0.8465799999999999,
          0.88175,
          0.88175,
          0.88175,
          0.88175,
          0.87003,
          0.87003,
          0.87003,
          0.87003,
          0.87003,
          0.87003,
          0.87003,
          0.8934799999999999,
          0.8934799999999999,
          0.8934799999999999,
          0.88175,
          0.88175,
          0.88175,
          0.88175,
          0.88175,
          0.8231200000000001,
          0.87003,
          0.8465799999999999,
          0.77622,
          0.096148,
          0.096148,
          -0.51357,
          -0.51357,
          -0.51357,
          -0.51357,
          0.92865,
          1.2335,
          1.0928,
          1.2101,
          1.2687,
          1.0928,
          1.2687,
          1.2921,
          1.2921,
          1.0694,
          1.0928,
          1.0928,
          1.128,
          0.9169299999999999,
          0.9169299999999999,
          0.9521,
          1.2687,
          1.0107,
          1.0107,
          0.88175,
          0.88175,
          0.9169299999999999,
          0.9990100000000001,
          0.9990100000000001,
          0.9990100000000001,
          1.1397,
          0.9169299999999999,
          0.9169299999999999,
          0.9169299999999999,
          1.1632,
          0.9169299999999999,
          1.1514,
          1.0107,
          0.88175,
          0.96383,
          0.9052,
          1.0225,
          1.0342,
          0.92865,
          1.1163,
          0.9403799999999999,
          0.9169299999999999,
          0.92865,
          1.1045,
          1.0694,
          0.9169299999999999,
          1.0459,
          1.0459,
          1.1163,
          1.1163,
          0.96383,
          1.1045,
          0.92865,
          0.9169299999999999,
          0.9403799999999999,
          0.9403799999999999,
          0.9052,
          0.92865,
          1.2804,
          0.92865,
          1.128,
          1.0694,
          0.9169299999999999,
          0.9521,
          0.9521,
          0.88175,
          0.9521,
          0.92865,
          1.1045,
          1.1045,
          0.9052,
          0.9052,
          0.9052,
          0.9052,
          0.88175,
          0.9403799999999999,
          1.2101,
          1.2101,
          1.0342,
          0.88175,
          0.8934799999999999,
          1.1866,
          0.92865,
          0.9169299999999999,
          0.97555,
          0.9872799999999999,
          1.1514,
          0.92865,
          1.0107,
          1.1163,
          1.1163,
          0.9052,
          0.9521,
          0.9403799999999999,
          0.9169299999999999,
          0.9169299999999999,
          1.1163,
          0.9403799999999999,
          1.1397,
          1.1045,
          0.8934799999999999,
          0.9052,
          1.2218,
          0.87003,
          0.87003,
          0.87003,
          0.87003,
          0.87003,
          0.87003,
          -0.0093803,
          -0.0093803
         ]
        },
        {
         "mode": "lines+markers",
         "name": "vertical",
         "type": "scatter",
         "x": [
          0,
          0.5,
          1.5,
          1.75,
          2.5,
          3.25,
          4,
          5,
          5.5,
          6,
          6.5,
          6.75,
          7.75,
          8,
          9,
          9.75,
          10,
          10.5,
          10.75,
          12,
          12.5,
          13,
          14,
          15.25,
          15.5,
          16.5,
          17.5,
          18.5,
          18.75,
          19.25,
          20,
          21,
          22.75,
          23,
          23.25,
          24.5,
          26.25,
          27.75,
          28.5,
          29,
          29.5,
          29.75,
          30.5,
          30.75,
          31.75,
          32.5,
          33,
          33.5,
          34,
          34.5,
          35.5,
          35.6,
          35.75,
          36.25,
          37,
          37.75,
          38,
          38.1,
          38.5,
          38.75,
          38.85,
          39.25,
          39.35,
          39.75,
          40.25,
          40.5,
          41.5,
          41.6,
          42,
          42.25,
          42.5,
          43,
          43.1,
          43.25,
          43.35,
          43.5,
          44,
          44.1,
          44.25,
          44.5,
          44.75,
          45.75,
          45.85,
          46,
          46.25,
          46.5,
          46.575,
          47.25,
          47.5,
          47.575,
          48,
          48.5,
          48.75,
          49,
          49.1,
          50,
          50.5,
          50.75,
          50.825,
          51.75,
          52,
          52.75,
          52.85,
          53.5,
          53.6,
          53.75,
          53.825,
          54,
          54.25,
          54.5,
          55,
          55.25,
          55.325,
          55.5,
          56,
          56.25,
          56.5,
          57.25,
          57.35,
          57.5,
          58.5,
          58.75,
          58.825,
          59.25,
          60.25,
          60.5,
          61.75,
          62.25,
          62.5,
          62.6,
          62.75,
          63,
          63.75,
          63.825,
          64,
          64.25,
          64.75,
          64.875,
          65,
          65.1,
          65.25,
          65.5,
          65.6,
          65.65,
          65.75,
          66.5,
          66.75,
          67.5,
          67.6,
          67.75,
          68,
          68.525,
          68.6,
          68.65,
          69,
          69.25,
          70,
          70.1,
          71.625,
          71.725,
          71.775,
          71.825,
          71.85,
          72.25,
          72.5,
          72.6,
          73.5,
          73.75,
          74,
          74.075,
          74.125,
          74.25,
          76,
          76.5,
          77.25,
          77.5,
          77.75,
          78,
          79,
          80,
          80.75,
          81,
          81.5,
          82.25,
          82.75,
          83.25,
          84.5,
          84.75,
          85.25,
          86.5,
          87,
          87.75,
          88.25,
          88.75,
          89.75,
          90,
          90.25,
          90.75,
          92,
          92.5,
          93.5,
          94.25,
          94.75,
          95,
          95.25,
          96,
          96.5,
          96.75,
          97.25,
          98.25,
          98.5,
          99,
          99.5,
          100,
          101.25,
          101.5,
          102,
          102.5,
          103.25,
          104,
          106.75,
          107.25,
          111.5,
          116,
          116.5,
          118,
          120.5,
          126.5,
          127,
          128.5,
          130.25,
          131.25,
          132.75,
          133,
          135,
          136.25,
          137.25,
          138.25,
          139,
          140,
          140.5,
          140.75,
          141.25,
          142,
          142.25,
          142.75,
          143,
          143.5,
          145,
          146,
          146.75,
          148,
          148.5,
          149.75,
          150.5,
          151,
          152.5,
          153,
          153.5,
          155.28,
          156,
          157.25,
          157.5,
          158,
          158.75,
          159.75,
          160.5,
          162.25,
          163,
          163.5,
          164,
          164.5,
          165.75,
          166.25,
          166.5,
          168,
          168.5,
          169,
          169.5,
          178.75,
          184.5,
          186,
          193,
          194.5,
          196.25,
          198.25,
          199.5,
          199.75,
          200.25,
          200.33,
          200.75,
          201,
          201.53,
          202.25,
          203.25,
          204.25,
          205.25,
          206,
          206.25,
          208,
          208.75,
          209,
          210,
          211.75,
          211.85,
          212.25,
          212.35,
          212.5,
          212.75,
          213,
          213.08,
          213.25,
          213.5,
          213.75,
          213.83,
          214.25,
          214.75,
          215,
          215.25,
          215.75,
          217.25,
          217.5,
          217.75,
          218,
          218.75,
          220,
          220.25,
          221,
          222.75,
          224.25,
          224.5,
          225,
          225.25,
          225.5,
          225.75,
          226.5,
          227.75,
          227.85,
          228.5,
          228.58,
          229,
          230,
          230.5,
          231.25,
          231.5,
          231.75,
          232,
          232.5,
          234.25,
          234.5,
          234.75,
          235,
          235.25,
          235.5,
          235.75,
          235.85,
          236.25,
          236.5,
          237,
          237.08,
          237.25,
          237.35,
          237.5,
          237.6,
          237.63,
          238,
          238.5,
          238.75,
          239.75,
          240.5,
          241.25,
          241.5,
          241.75,
          242,
          243,
          243.5,
          244,
          244.25,
          244.35,
          244.5,
          244.58,
          244.75,
          245,
          245.08,
          245.25,
          245.33,
          246,
          246.75,
          247,
          247.25,
          247.75,
          247.85,
          248,
          250,
          250.5,
          250.75,
          251,
          251.25,
          251.5,
          253.25,
          254
         ],
         "y": [
          1.0082,
          1.0082,
          0.9163600000000001,
          0.9163600000000001,
          0.96229,
          0.96229,
          0.99674,
          0.99674,
          1.0312,
          1.0312,
          1.0312,
          1.0312,
          0.99674,
          0.99674,
          0.92784,
          0.93932,
          0.93932,
          0.93932,
          0.93932,
          0.99674,
          0.99674,
          0.99674,
          0.93932,
          1.0082,
          1.0082,
          1.0312,
          1.0197,
          0.99674,
          0.99674,
          0.99674,
          0.9163600000000001,
          0.92784,
          1.0312,
          1.0312,
          1.0312,
          1.0197,
          1.0197,
          1.0312,
          0.9163600000000001,
          0.9163600000000001,
          0.9163600000000001,
          0.9163600000000001,
          0.9163600000000001,
          0.9163600000000001,
          1.0082,
          0.97377,
          0.97377,
          0.97377,
          1.0197,
          1.0197,
          0.8704200000000001,
          0.8704200000000001,
          0.8704200000000001,
          0.8704200000000001,
          0.8704200000000001,
          0.29627,
          0.29627,
          0.29627,
          -0.07119600000000001,
          -0.28938,
          -0.28938,
          -0.27789,
          -0.27789,
          -0.20899,
          -0.27789,
          -0.19751,
          -0.19751,
          -0.19751,
          -0.34679,
          -0.19751,
          -0.19751,
          -0.34679,
          -0.34679,
          -0.19751,
          -0.19751,
          -0.18603,
          -0.20899,
          -0.20899,
          -0.20899,
          -0.19751,
          -0.19751,
          -0.20899,
          -0.20899,
          -0.20899,
          -0.36976,
          -0.18603,
          -0.18603,
          -0.23196,
          -0.23196,
          -0.23196,
          -0.19751,
          -0.30086,
          -0.17454,
          -0.33531,
          -0.33531,
          -0.18603,
          -0.19751,
          -0.19751,
          -0.19751,
          -0.30086,
          -0.30086,
          -0.17454,
          -0.17454,
          -0.20899,
          -0.20899,
          -0.20899,
          -0.20899,
          -0.17454,
          -0.17454,
          -0.17454,
          -0.28938,
          -0.28938,
          -0.17454,
          -0.17454,
          -0.24344000000000002,
          -0.17454,
          -0.17454,
          -0.27789,
          -0.27789,
          -0.27789,
          -0.23196,
          -0.17454,
          -0.17454,
          -0.17454,
          -0.17454,
          -0.20899,
          -0.28938,
          -0.17454,
          -0.18603,
          -0.18603,
          -0.18603,
          -0.18603,
          -0.16305999999999998,
          -0.16305999999999998,
          -0.16305999999999998,
          -0.16305999999999998,
          -0.16305999999999998,
          -0.17454,
          -0.17454,
          -0.28938,
          -0.28938,
          -0.28938,
          -0.17454,
          -0.17454,
          -0.17454,
          -0.17454,
          -0.17454,
          -0.18603,
          -0.18603,
          -0.18603,
          -0.17454,
          -0.17454,
          -0.17454,
          -0.17454,
          -0.19751,
          -0.19751,
          -0.17454,
          -0.17454,
          -0.15158,
          -0.15158,
          -0.15158,
          -0.24344000000000002,
          -0.24344000000000002,
          -0.17454,
          -0.17454,
          -0.17454,
          -0.17454,
          -0.17454,
          -0.17454,
          0.1355,
          0.1355,
          0.1355,
          0.89339,
          0.89339,
          0.89339,
          0.89339,
          0.89339,
          0.89339,
          0.96229,
          1.0082,
          1.0082,
          1.0082,
          1.0082,
          0.99674,
          0.99674,
          0.99674,
          0.99674,
          0.99674,
          0.99674,
          0.89339,
          0.89339,
          0.97377,
          0.97377,
          0.97377,
          0.97377,
          0.97377,
          0.97377,
          0.97377,
          0.99674,
          0.99674,
          0.98526,
          0.98526,
          0.98526,
          0.98526,
          0.98526,
          1.0082,
          1.0082,
          1.0082,
          1.0082,
          0.9048700000000001,
          0.9048700000000001,
          0.9048700000000001,
          0.9048700000000001,
          0.9048700000000001,
          0.99674,
          0.99674,
          0.99674,
          0.99674,
          0.93932,
          0.93932,
          0.89339,
          1.0082,
          0.99674,
          0.6752100000000001,
          0.6752100000000001,
          0.66373,
          0.64076,
          0.66373,
          0.66373,
          0.5489,
          0.66373,
          0.56038,
          0.6752100000000001,
          0.6752100000000001,
          0.6522399999999999,
          0.66373,
          0.66373,
          0.6292800000000001,
          0.6292800000000001,
          0.64076,
          0.64076,
          0.64076,
          0.64076,
          0.64076,
          0.64076,
          0.64076,
          0.64076,
          0.64076,
          0.6292800000000001,
          0.6292800000000001,
          0.6292800000000001,
          0.60631,
          0.60631,
          0.64076,
          0.64076,
          0.64076,
          0.5489,
          0.5489,
          0.5489,
          0.6522399999999999,
          0.6522399999999999,
          0.64076,
          0.64076,
          0.64076,
          0.64076,
          0.64076,
          0.64076,
          0.6522399999999999,
          0.6522399999999999,
          0.6522399999999999,
          0.6522399999999999,
          0.6522399999999999,
          0.6292800000000001,
          0.6292800000000001,
          0.6292800000000001,
          0.64076,
          0.64076,
          0.64076,
          0.64076,
          0.6292800000000001,
          0.6866899999999999,
          0.64076,
          0.66373,
          0.66373,
          0.93932,
          0.93932,
          0.98526,
          0.98526,
          0.98526,
          0.98526,
          0.26182,
          -0.15158,
          -0.25493000000000005,
          -0.31234,
          -0.32383,
          -0.28938,
          -0.36976,
          -0.38124,
          -0.38124,
          -0.26641,
          -0.26641,
          -0.26641,
          -0.28938,
          -0.18603,
          -0.18603,
          -0.18603,
          -0.33531,
          -0.23196,
          -0.23196,
          -0.18603,
          -0.18603,
          -0.19751,
          -0.22048,
          -0.22048,
          -0.22048,
          -0.28938,
          -0.18603,
          -0.18603,
          -0.18603,
          -0.30086,
          -0.19751,
          -0.27789,
          -0.19751,
          -0.18603,
          -0.19751,
          -0.19751,
          -0.20899,
          -0.19751,
          -0.18603,
          -0.26641,
          -0.19751,
          -0.18603,
          -0.19751,
          -0.27789,
          -0.23196,
          -0.19751,
          -0.24344000000000002,
          -0.24344000000000002,
          -0.26641,
          -0.26641,
          -0.19751,
          -0.26641,
          -0.19751,
          -0.19751,
          -0.19751,
          -0.19751,
          -0.18603,
          -0.18603,
          -0.35827,
          -0.20899,
          -0.27789,
          -0.24344000000000002,
          -0.18603,
          -0.19751,
          -0.19751,
          -0.19751,
          -0.19751,
          -0.19751,
          -0.26641,
          -0.26641,
          -0.19751,
          -0.19751,
          -0.19751,
          -0.19751,
          -0.19751,
          -0.20899,
          -0.32383,
          -0.32383,
          -0.22048,
          -0.19751,
          -0.19751,
          -0.31234,
          -0.19751,
          -0.19751,
          -0.19751,
          -0.20899,
          -0.30086,
          -0.18603,
          -0.20899,
          -0.28938,
          -0.28938,
          -0.19751,
          -0.19751,
          -0.19751,
          -0.19751,
          -0.19751,
          -0.24344000000000002,
          -0.20899,
          -0.27789,
          -0.26641,
          -0.19751,
          -0.19751,
          -0.32383,
          0.46851000000000004,
          0.46851000000000004,
          0.46851000000000004,
          0.46851000000000004,
          0.46851000000000004,
          0.46851000000000004,
          0.95081,
          0.95081
         ]
        },
        {
         "mode": "lines+markers",
         "name": "lateral",
         "type": "scatter",
         "x": [
          0,
          0.5,
          1.5,
          1.75,
          2.5,
          3.25,
          4,
          5,
          5.5,
          6,
          6.5,
          6.75,
          7.75,
          8,
          9,
          9.75,
          10,
          10.5,
          10.75,
          12,
          12.5,
          13,
          14,
          15.25,
          15.5,
          16.5,
          17.5,
          18.5,
          18.75,
          19.25,
          20,
          21,
          22.75,
          23,
          23.25,
          24.5,
          26.25,
          27.75,
          28.5,
          29,
          29.5,
          29.75,
          30.5,
          30.75,
          31.75,
          32.5,
          33,
          33.5,
          34,
          34.5,
          35.5,
          35.6,
          35.75,
          36.25,
          37,
          37.75,
          38,
          38.1,
          38.5,
          38.75,
          38.85,
          39.25,
          39.35,
          39.75,
          40.25,
          40.5,
          41.5,
          41.6,
          42,
          42.25,
          42.5,
          43,
          43.1,
          43.25,
          43.35,
          43.5,
          44,
          44.1,
          44.25,
          44.5,
          44.75,
          45.75,
          45.85,
          46,
          46.25,
          46.5,
          46.575,
          47.25,
          47.5,
          47.575,
          48,
          48.5,
          48.75,
          49,
          49.1,
          50,
          50.5,
          50.75,
          50.825,
          51.75,
          52,
          52.75,
          52.85,
          53.5,
          53.6,
          53.75,
          53.825,
          54,
          54.25,
          54.5,
          55,
          55.25,
          55.325,
          55.5,
          56,
          56.25,
          56.5,
          57.25,
          57.35,
          57.5,
          58.5,
          58.75,
          58.825,
          59.25,
          60.25,
          60.5,
          61.75,
          62.25,
          62.5,
          62.6,
          62.75,
          63,
          63.75,
          63.825,
          64,
          64.25,
          64.75,
          64.875,
          65,
          65.1,
          65.25,
          65.5,
          65.6,
          65.65,
          65.75,
          66.5,
          66.75,
          67.5,
          67.6,
          67.75,
          68,
          68.525,
          68.6,
          68.65,
          69,
          69.25,
          70,
          70.1,
          71.625,
          71.725,
          71.775,
          71.825,
          71.85,
          72.25,
          72.5,
          72.6,
          73.5,
          73.75,
          74,
          74.075,
          74.125,
          74.25,
          76,
          76.5,
          77.25,
          77.5,
          77.75,
          78,
          79,
          80,
          80.75,
          81,
          81.5,
          82.25,
          82.75,
          83.25,
          84.5,
          84.75,
          85.25,
          86.5,
          87,
          87.75,
          88.25,
          88.75,
          89.75,
          90,
          90.25,
          90.75,
          92,
          92.5,
          93.5,
          94.25,
          94.75,
          95,
          95.25,
          96,
          96.5,
          96.75,
          97.25,
          98.25,
          98.5,
          99,
          99.5,
          100,
          101.25,
          101.5,
          102,
          102.5,
          103.25,
          104,
          106.75,
          107.25,
          111.5,
          116,
          116.5,
          118,
          120.5,
          126.5,
          127,
          128.5,
          130.25,
          131.25,
          132.75,
          133,
          135,
          136.25,
          137.25,
          138.25,
          139,
          140,
          140.5,
          140.75,
          141.25,
          142,
          142.25,
          142.75,
          143,
          143.5,
          145,
          146,
          146.75,
          148,
          148.5,
          149.75,
          150.5,
          151,
          152.5,
          153,
          153.5,
          155.28,
          156,
          157.25,
          157.5,
          158,
          158.75,
          159.75,
          160.5,
          162.25,
          163,
          163.5,
          164,
          164.5,
          165.75,
          166.25,
          166.5,
          168,
          168.5,
          169,
          169.5,
          178.75,
          184.5,
          186,
          193,
          194.5,
          196.25,
          198.25,
          199.5,
          199.75,
          200.25,
          200.33,
          200.75,
          201,
          201.53,
          202.25,
          203.25,
          204.25,
          205.25,
          206,
          206.25,
          208,
          208.75,
          209,
          210,
          211.75,
          211.85,
          212.25,
          212.35,
          212.5,
          212.75,
          213,
          213.08,
          213.25,
          213.5,
          213.75,
          213.83,
          214.25,
          214.75,
          215,
          215.25,
          215.75,
          217.25,
          217.5,
          217.75,
          218,
          218.75,
          220,
          220.25,
          221,
          222.75,
          224.25,
          224.5,
          225,
          225.25,
          225.5,
          225.75,
          226.5,
          227.75,
          227.85,
          228.5,
          228.58,
          229,
          230,
          230.5,
          231.25,
          231.5,
          231.75,
          232,
          232.5,
          234.25,
          234.5,
          234.75,
          235,
          235.25,
          235.5,
          235.75,
          235.85,
          236.25,
          236.5,
          237,
          237.08,
          237.25,
          237.35,
          237.5,
          237.6,
          237.63,
          238,
          238.5,
          238.75,
          239.75,
          240.5,
          241.25,
          241.5,
          241.75,
          242,
          243,
          243.5,
          244,
          244.25,
          244.35,
          244.5,
          244.58,
          244.75,
          245,
          245.08,
          245.25,
          245.33,
          246,
          246.75,
          247,
          247.25,
          247.75,
          247.85,
          248,
          250,
          250.5,
          250.75,
          251,
          251.25,
          251.5,
          253.25,
          254
         ],
         "y": [
          -0.082102,
          -0.082102,
          -0.013684,
          -0.013684,
          -0.059296,
          -0.059296,
          -0.070699,
          -0.09350499999999999,
          -0.12771,
          -0.12771,
          -0.12771,
          -0.12771,
          -0.070699,
          -0.070699,
          -0.0022806,
          -0.025087,
          -0.025087,
          -0.025087,
          -0.025087,
          -0.070699,
          -0.070699,
          -0.070699,
          -0.0022806,
          -0.10490999999999999,
          -0.10490999999999999,
          -0.09350499999999999,
          -0.10490999999999999,
          -0.070699,
          -0.070699,
          -0.070699,
          0.0091224,
          0.020525,
          -0.12771,
          -0.12771,
          -0.12771,
          -0.10490999999999999,
          -0.10490999999999999,
          -0.11631,
          0.020525,
          0.020525,
          0.020525,
          0.020525,
          -0.0022806,
          -0.0022806,
          -0.16192,
          -0.047893,
          -0.047893,
          -0.036489999999999995,
          -0.13912,
          -0.13912,
          0.11175,
          0.11175,
          0.11175,
          0.11175,
          0.11175,
          -0.013684,
          -0.013684,
          -0.013684,
          -0.10490999999999999,
          -0.036489999999999995,
          -0.036489999999999995,
          -0.059296,
          -0.059296,
          -0.15052000000000001,
          -0.070699,
          -0.16192,
          -0.16192,
          -0.16192,
          -0.013684,
          -0.16192,
          -0.16192,
          -0.025087,
          -0.025087,
          -0.17332999999999998,
          -0.17332999999999998,
          -0.15052000000000001,
          -0.17332999999999998,
          -0.17332999999999998,
          -0.17332999999999998,
          -0.16192,
          -0.16192,
          -0.12771,
          -0.12771,
          -0.12771,
          -0.013684,
          -0.15052000000000001,
          -0.15052000000000001,
          -0.11631,
          -0.11631,
          -0.11631,
          -0.17332999999999998,
          -0.047893,
          -0.17332999999999998,
          -0.0022806,
          -0.0022806,
          -0.16192,
          -0.15052000000000001,
          -0.15052000000000001,
          -0.15052000000000001,
          -0.036489999999999995,
          -0.036489999999999995,
          -0.15052000000000001,
          -0.15052000000000001,
          -0.11631,
          -0.11631,
          -0.11631,
          -0.11631,
          -0.16192,
          -0.16192,
          -0.16192,
          -0.036489999999999995,
          -0.036489999999999995,
          -0.13912,
          -0.13912,
          -0.070699,
          -0.15052000000000001,
          -0.15052000000000001,
          -0.059296,
          -0.059296,
          -0.059296,
          -0.10490999999999999,
          -0.16192,
          -0.16192,
          -0.17332999999999998,
          -0.16192,
          -0.11631,
          -0.047893,
          -0.15052000000000001,
          -0.16192,
          -0.16192,
          -0.16192,
          -0.16192,
          -0.16192,
          -0.15052000000000001,
          -0.15052000000000001,
          -0.15052000000000001,
          -0.15052000000000001,
          -0.16192,
          -0.16192,
          -0.036489999999999995,
          -0.036489999999999995,
          -0.036489999999999995,
          -0.17332999999999998,
          -0.17332999999999998,
          -0.17332999999999998,
          -0.16192,
          -0.16192,
          -0.17332999999999998,
          -0.17332999999999998,
          -0.17332999999999998,
          -0.16192,
          -0.15052000000000001,
          -0.16192,
          -0.16192,
          -0.11631,
          -0.11631,
          -0.17332999999999998,
          -0.17332999999999998,
          -0.16192,
          -0.16192,
          -0.16192,
          -0.070699,
          -0.070699,
          -0.16192,
          -0.16192,
          -0.16192,
          -0.16192,
          -0.16192,
          -0.16192,
          -0.32156999999999997,
          -0.32156999999999997,
          -0.32156999999999997,
          0.043332,
          0.043332,
          0.043332,
          0.043332,
          0.043332,
          0.043332,
          -0.082102,
          -0.12771,
          -0.12771,
          -0.12771,
          -0.12771,
          -0.082102,
          -0.082102,
          -0.082102,
          -0.070699,
          -0.070699,
          -0.070699,
          0.0091224,
          0.0091224,
          -0.059296,
          -0.059296,
          -0.059296,
          -0.082102,
          -0.082102,
          -0.082102,
          -0.082102,
          -0.070699,
          -0.070699,
          -0.082102,
          -0.082102,
          -0.082102,
          -0.082102,
          -0.082102,
          -0.11631,
          -0.11631,
          -0.11631,
          -0.11631,
          0.0091224,
          0.0091224,
          0.0091224,
          0.0091224,
          0.0091224,
          -0.10490999999999999,
          -0.10490999999999999,
          -0.10490999999999999,
          -0.10490999999999999,
          -0.025087,
          -0.025087,
          -0.17332999999999998,
          -0.047893,
          -0.059296,
          -0.13912,
          -0.13912,
          -0.082102,
          -0.09350499999999999,
          -0.12771,
          -0.12771,
          -0.013684,
          -0.12771,
          -0.013684,
          -0.15052000000000001,
          -0.15052000000000001,
          -0.10490999999999999,
          -0.10490999999999999,
          -0.10490999999999999,
          -0.09350499999999999,
          -0.09350499999999999,
          -0.09350499999999999,
          -0.09350499999999999,
          -0.09350499999999999,
          -0.09350499999999999,
          -0.09350499999999999,
          -0.09350499999999999,
          -0.09350499999999999,
          -0.09350499999999999,
          -0.09350499999999999,
          -0.10490999999999999,
          -0.09350499999999999,
          -0.09350499999999999,
          -0.047893,
          -0.047893,
          -0.082102,
          -0.082102,
          -0.082102,
          -0.013684,
          -0.013684,
          -0.013684,
          -0.10490999999999999,
          -0.10490999999999999,
          -0.070699,
          -0.070699,
          -0.070699,
          -0.070699,
          -0.10490999999999999,
          -0.10490999999999999,
          -0.10490999999999999,
          -0.10490999999999999,
          -0.10490999999999999,
          -0.10490999999999999,
          -0.10490999999999999,
          -0.09350499999999999,
          -0.09350499999999999,
          -0.09350499999999999,
          -0.09350499999999999,
          -0.09350499999999999,
          -0.09350499999999999,
          -0.09350499999999999,
          -0.10490999999999999,
          -0.13912,
          -0.11631,
          -0.13912,
          0.020525,
          -0.16192,
          -0.16192,
          -0.25315,
          -0.25315,
          -0.25315,
          -0.25315,
          -0.13912,
          -0.12771,
          -0.036489999999999995,
          0.077541,
          0.043332,
          -0.059296,
          0.0091224,
          0.020525,
          0.020525,
          -0.082102,
          -0.082102,
          -0.082102,
          -0.059296,
          -0.12771,
          -0.12771,
          -0.12771,
          0.020525,
          -0.10490999999999999,
          -0.10490999999999999,
          -0.13912,
          -0.13912,
          -0.12771,
          -0.11631,
          -0.11631,
          -0.11631,
          -0.013684,
          -0.13912,
          -0.13912,
          -0.13912,
          -0.036489999999999995,
          -0.12771,
          -0.025087,
          -0.09350499999999999,
          -0.13912,
          -0.11631,
          -0.12771,
          -0.10490999999999999,
          -0.09350499999999999,
          -0.10490999999999999,
          -0.036489999999999995,
          -0.11631,
          -0.11631,
          -0.11631,
          -0.047893,
          -0.082102,
          -0.12771,
          -0.082102,
          -0.082102,
          -0.025087,
          -0.025087,
          -0.11631,
          -0.036489999999999995,
          -0.11631,
          -0.11631,
          -0.10490999999999999,
          -0.10490999999999999,
          -0.12771,
          -0.10490999999999999,
          0.031928,
          -0.10490999999999999,
          -0.036489999999999995,
          -0.047893,
          -0.11631,
          -0.10490999999999999,
          -0.10490999999999999,
          -0.12771,
          -0.11631,
          -0.10490999999999999,
          -0.025087,
          -0.025087,
          -0.11631,
          -0.11631,
          -0.12771,
          -0.12771,
          -0.12771,
          -0.11631,
          0.0091224,
          0.0091224,
          -0.082102,
          -0.12771,
          -0.12771,
          -0.0022806,
          -0.11631,
          -0.11631,
          -0.11631,
          -0.10490999999999999,
          -0.013684,
          -0.10490999999999999,
          -0.082102,
          -0.036489999999999995,
          -0.036489999999999995,
          -0.11631,
          -0.10490999999999999,
          -0.11631,
          -0.11631,
          -0.11631,
          -0.036489999999999995,
          -0.12771,
          -0.025087,
          -0.036489999999999995,
          -0.12771,
          -0.12771,
          0.020525,
          0.0091224,
          0.0091224,
          0.0091224,
          0.0091224,
          0.0091224,
          0.0091224,
          -0.11631,
          -0.11631
         ]
        }
       ],
       "layout": {
        "height": 300,
        "margin": {
         "b": 0,
         "l": 0,
         "r": 0,
         "t": 32
        },
        "template": {
         "data": {
          "bar": [
           {
            "error_x": {
             "color": "#2a3f5f"
            },
            "error_y": {
             "color": "#2a3f5f"
            },
            "marker": {
             "line": {
              "color": "#E5ECF6",
              "width": 0.5
             }
            },
            "type": "bar"
           }
          ],
          "barpolar": [
           {
            "marker": {
             "line": {
              "color": "#E5ECF6",
              "width": 0.5
             }
            },
            "type": "barpolar"
           }
          ],
          "carpet": [
           {
            "aaxis": {
             "endlinecolor": "#2a3f5f",
             "gridcolor": "white",
             "linecolor": "white",
             "minorgridcolor": "white",
             "startlinecolor": "#2a3f5f"
            },
            "baxis": {
             "endlinecolor": "#2a3f5f",
             "gridcolor": "white",
             "linecolor": "white",
             "minorgridcolor": "white",
             "startlinecolor": "#2a3f5f"
            },
            "type": "carpet"
           }
          ],
          "choropleth": [
           {
            "colorbar": {
             "outlinewidth": 0,
             "ticks": ""
            },
            "type": "choropleth"
           }
          ],
          "contour": [
           {
            "colorbar": {
             "outlinewidth": 0,
             "ticks": ""
            },
            "colorscale": [
             [
              0,
              "#0d0887"
             ],
             [
              0.1111111111111111,
              "#46039f"
             ],
             [
              0.2222222222222222,
              "#7201a8"
             ],
             [
              0.3333333333333333,
              "#9c179e"
             ],
             [
              0.4444444444444444,
              "#bd3786"
             ],
             [
              0.5555555555555556,
              "#d8576b"
             ],
             [
              0.6666666666666666,
              "#ed7953"
             ],
             [
              0.7777777777777778,
              "#fb9f3a"
             ],
             [
              0.8888888888888888,
              "#fdca26"
             ],
             [
              1,
              "#f0f921"
             ]
            ],
            "type": "contour"
           }
          ],
          "contourcarpet": [
           {
            "colorbar": {
             "outlinewidth": 0,
             "ticks": ""
            },
            "type": "contourcarpet"
           }
          ],
          "heatmap": [
           {
            "colorbar": {
             "outlinewidth": 0,
             "ticks": ""
            },
            "colorscale": [
             [
              0,
              "#0d0887"
             ],
             [
              0.1111111111111111,
              "#46039f"
             ],
             [
              0.2222222222222222,
              "#7201a8"
             ],
             [
              0.3333333333333333,
              "#9c179e"
             ],
             [
              0.4444444444444444,
              "#bd3786"
             ],
             [
              0.5555555555555556,
              "#d8576b"
             ],
             [
              0.6666666666666666,
              "#ed7953"
             ],
             [
              0.7777777777777778,
              "#fb9f3a"
             ],
             [
              0.8888888888888888,
              "#fdca26"
             ],
             [
              1,
              "#f0f921"
             ]
            ],
            "type": "heatmap"
           }
          ],
          "heatmapgl": [
           {
            "colorbar": {
             "outlinewidth": 0,
             "ticks": ""
            },
            "colorscale": [
             [
              0,
              "#0d0887"
             ],
             [
              0.1111111111111111,
              "#46039f"
             ],
             [
              0.2222222222222222,
              "#7201a8"
             ],
             [
              0.3333333333333333,
              "#9c179e"
             ],
             [
              0.4444444444444444,
              "#bd3786"
             ],
             [
              0.5555555555555556,
              "#d8576b"
             ],
             [
              0.6666666666666666,
              "#ed7953"
             ],
             [
              0.7777777777777778,
              "#fb9f3a"
             ],
             [
              0.8888888888888888,
              "#fdca26"
             ],
             [
              1,
              "#f0f921"
             ]
            ],
            "type": "heatmapgl"
           }
          ],
          "histogram": [
           {
            "marker": {
             "colorbar": {
              "outlinewidth": 0,
              "ticks": ""
             }
            },
            "type": "histogram"
           }
          ],
          "histogram2d": [
           {
            "colorbar": {
             "outlinewidth": 0,
             "ticks": ""
            },
            "colorscale": [
             [
              0,
              "#0d0887"
             ],
             [
              0.1111111111111111,
              "#46039f"
             ],
             [
              0.2222222222222222,
              "#7201a8"
             ],
             [
              0.3333333333333333,
              "#9c179e"
             ],
             [
              0.4444444444444444,
              "#bd3786"
             ],
             [
              0.5555555555555556,
              "#d8576b"
             ],
             [
              0.6666666666666666,
              "#ed7953"
             ],
             [
              0.7777777777777778,
              "#fb9f3a"
             ],
             [
              0.8888888888888888,
              "#fdca26"
             ],
             [
              1,
              "#f0f921"
             ]
            ],
            "type": "histogram2d"
           }
          ],
          "histogram2dcontour": [
           {
            "colorbar": {
             "outlinewidth": 0,
             "ticks": ""
            },
            "colorscale": [
             [
              0,
              "#0d0887"
             ],
             [
              0.1111111111111111,
              "#46039f"
             ],
             [
              0.2222222222222222,
              "#7201a8"
             ],
             [
              0.3333333333333333,
              "#9c179e"
             ],
             [
              0.4444444444444444,
              "#bd3786"
             ],
             [
              0.5555555555555556,
              "#d8576b"
             ],
             [
              0.6666666666666666,
              "#ed7953"
             ],
             [
              0.7777777777777778,
              "#fb9f3a"
             ],
             [
              0.8888888888888888,
              "#fdca26"
             ],
             [
              1,
              "#f0f921"
             ]
            ],
            "type": "histogram2dcontour"
           }
          ],
          "mesh3d": [
           {
            "colorbar": {
             "outlinewidth": 0,
             "ticks": ""
            },
            "type": "mesh3d"
           }
          ],
          "parcoords": [
           {
            "line": {
             "colorbar": {
              "outlinewidth": 0,
              "ticks": ""
             }
            },
            "type": "parcoords"
           }
          ],
          "pie": [
           {
            "automargin": true,
            "type": "pie"
           }
          ],
          "scatter": [
           {
            "marker": {
             "colorbar": {
              "outlinewidth": 0,
              "ticks": ""
             }
            },
            "type": "scatter"
           }
          ],
          "scatter3d": [
           {
            "line": {
             "colorbar": {
              "outlinewidth": 0,
              "ticks": ""
             }
            },
            "marker": {
             "colorbar": {
              "outlinewidth": 0,
              "ticks": ""
             }
            },
            "type": "scatter3d"
           }
          ],
          "scattercarpet": [
           {
            "marker": {
             "colorbar": {
              "outlinewidth": 0,
              "ticks": ""
             }
            },
            "type": "scattercarpet"
           }
          ],
          "scattergeo": [
           {
            "marker": {
             "colorbar": {
              "outlinewidth": 0,
              "ticks": ""
             }
            },
            "type": "scattergeo"
           }
          ],
          "scattergl": [
           {
            "marker": {
             "colorbar": {
              "outlinewidth": 0,
              "ticks": ""
             }
            },
            "type": "scattergl"
           }
          ],
          "scattermapbox": [
           {
            "marker": {
             "colorbar": {
              "outlinewidth": 0,
              "ticks": ""
             }
            },
            "type": "scattermapbox"
           }
          ],
          "scatterpolar": [
           {
            "marker": {
             "colorbar": {
              "outlinewidth": 0,
              "ticks": ""
             }
            },
            "type": "scatterpolar"
           }
          ],
          "scatterpolargl": [
           {
            "marker": {
             "colorbar": {
              "outlinewidth": 0,
              "ticks": ""
             }
            },
            "type": "scatterpolargl"
           }
          ],
          "scatterternary": [
           {
            "marker": {
             "colorbar": {
              "outlinewidth": 0,
              "ticks": ""
             }
            },
            "type": "scatterternary"
           }
          ],
          "surface": [
           {
            "colorbar": {
             "outlinewidth": 0,
             "ticks": ""
            },
            "colorscale": [
             [
              0,
              "#0d0887"
             ],
             [
              0.1111111111111111,
              "#46039f"
             ],
             [
              0.2222222222222222,
              "#7201a8"
             ],
             [
              0.3333333333333333,
              "#9c179e"
             ],
             [
              0.4444444444444444,
              "#bd3786"
             ],
             [
              0.5555555555555556,
              "#d8576b"
             ],
             [
              0.6666666666666666,
              "#ed7953"
             ],
             [
              0.7777777777777778,
              "#fb9f3a"
             ],
             [
              0.8888888888888888,
              "#fdca26"
             ],
             [
              1,
              "#f0f921"
             ]
            ],
            "type": "surface"
           }
          ],
          "table": [
           {
            "cells": {
             "fill": {
              "color": "#EBF0F8"
             },
             "line": {
              "color": "white"
             }
            },
            "header": {
             "fill": {
              "color": "#C8D4E3"
             },
             "line": {
              "color": "white"
             }
            },
            "type": "table"
           }
          ]
         },
         "layout": {
          "annotationdefaults": {
           "arrowcolor": "#2a3f5f",
           "arrowhead": 0,
           "arrowwidth": 1
          },
          "coloraxis": {
           "colorbar": {
            "outlinewidth": 0,
            "ticks": ""
           }
          },
          "colorscale": {
           "diverging": [
            [
             0,
             "#8e0152"
            ],
            [
             0.1,
             "#c51b7d"
            ],
            [
             0.2,
             "#de77ae"
            ],
            [
             0.3,
             "#f1b6da"
            ],
            [
             0.4,
             "#fde0ef"
            ],
            [
             0.5,
             "#f7f7f7"
            ],
            [
             0.6,
             "#e6f5d0"
            ],
            [
             0.7,
             "#b8e186"
            ],
            [
             0.8,
             "#7fbc41"
            ],
            [
             0.9,
             "#4d9221"
            ],
            [
             1,
             "#276419"
            ]
           ],
           "sequential": [
            [
             0,
             "#0d0887"
            ],
            [
             0.1111111111111111,
             "#46039f"
            ],
            [
             0.2222222222222222,
             "#7201a8"
            ],
            [
             0.3333333333333333,
             "#9c179e"
            ],
            [
             0.4444444444444444,
             "#bd3786"
            ],
            [
             0.5555555555555556,
             "#d8576b"
            ],
            [
             0.6666666666666666,
             "#ed7953"
            ],
            [
             0.7777777777777778,
             "#fb9f3a"
            ],
            [
             0.8888888888888888,
             "#fdca26"
            ],
            [
             1,
             "#f0f921"
            ]
           ],
           "sequentialminus": [
            [
             0,
             "#0d0887"
            ],
            [
             0.1111111111111111,
             "#46039f"
            ],
            [
             0.2222222222222222,
             "#7201a8"
            ],
            [
             0.3333333333333333,
             "#9c179e"
            ],
            [
             0.4444444444444444,
             "#bd3786"
            ],
            [
             0.5555555555555556,
             "#d8576b"
            ],
            [
             0.6666666666666666,
             "#ed7953"
            ],
            [
             0.7777777777777778,
             "#fb9f3a"
            ],
            [
             0.8888888888888888,
             "#fdca26"
            ],
            [
             1,
             "#f0f921"
            ]
           ]
          },
          "colorway": [
           "#636efa",
           "#EF553B",
           "#00cc96",
           "#ab63fa",
           "#FFA15A",
           "#19d3f3",
           "#FF6692",
           "#B6E880",
           "#FF97FF",
           "#FECB52"
          ],
          "font": {
           "color": "#2a3f5f"
          },
          "geo": {
           "bgcolor": "white",
           "lakecolor": "white",
           "landcolor": "#E5ECF6",
           "showlakes": true,
           "showland": true,
           "subunitcolor": "white"
          },
          "hoverlabel": {
           "align": "left"
          },
          "hovermode": "closest",
          "mapbox": {
           "style": "light"
          },
          "paper_bgcolor": "white",
          "plot_bgcolor": "#E5ECF6",
          "polar": {
           "angularaxis": {
            "gridcolor": "white",
            "linecolor": "white",
            "ticks": ""
           },
           "bgcolor": "#E5ECF6",
           "radialaxis": {
            "gridcolor": "white",
            "linecolor": "white",
            "ticks": ""
           }
          },
          "scene": {
           "xaxis": {
            "backgroundcolor": "#E5ECF6",
            "gridcolor": "white",
            "gridwidth": 2,
            "linecolor": "white",
            "showbackground": true,
            "ticks": "",
            "zerolinecolor": "white"
           },
           "yaxis": {
            "backgroundcolor": "#E5ECF6",
            "gridcolor": "white",
            "gridwidth": 2,
            "linecolor": "white",
            "showbackground": true,
            "ticks": "",
            "zerolinecolor": "white"
           },
           "zaxis": {
            "backgroundcolor": "#E5ECF6",
            "gridcolor": "white",
            "gridwidth": 2,
            "linecolor": "white",
            "showbackground": true,
            "ticks": "",
            "zerolinecolor": "white"
           }
          },
          "shapedefaults": {
           "line": {
            "color": "#2a3f5f"
           }
          },
          "ternary": {
           "aaxis": {
            "gridcolor": "white",
            "linecolor": "white",
            "ticks": ""
           },
           "baxis": {
            "gridcolor": "white",
            "linecolor": "white",
            "ticks": ""
           },
           "bgcolor": "#E5ECF6",
           "caxis": {
            "gridcolor": "white",
            "linecolor": "white",
            "ticks": ""
           }
          },
          "title": {
           "x": 0.05
          },
          "xaxis": {
           "automargin": true,
           "gridcolor": "white",
           "linecolor": "white",
           "ticks": "",
           "title": {
            "standoff": 15
           },
           "zerolinecolor": "white",
           "zerolinewidth": 2
          },
          "yaxis": {
           "automargin": true,
           "gridcolor": "white",
           "linecolor": "white",
           "ticks": "",
           "title": {
            "standoff": 15
           },
           "zerolinecolor": "white",
           "zerolinewidth": 2
          }
         }
        },
        "width": 600
       }
      },
      "text/html": [
       "<div>\n",
       "        \n",
       "        \n",
       "            <div id=\"a3b00c73-a115-4636-a607-83aa3f4057e5\" class=\"plotly-graph-div\" style=\"height:300px; width:600px;\"></div>\n",
       "            <script type=\"text/javascript\">\n",
       "                require([\"plotly\"], function(Plotly) {\n",
       "                    window.PLOTLYENV=window.PLOTLYENV || {};\n",
       "                    \n",
       "                if (document.getElementById(\"a3b00c73-a115-4636-a607-83aa3f4057e5\")) {\n",
       "                    Plotly.newPlot(\n",
       "                        'a3b00c73-a115-4636-a607-83aa3f4057e5',\n",
       "                        [{\"mode\": \"lines+markers\", \"name\": \"front\", \"type\": \"scatter\", \"x\": [0.0, 0.5, 1.5, 1.75, 2.5, 3.25, 4.0, 5.0, 5.5, 6.0, 6.5, 6.75, 7.75, 8.0, 9.0, 9.75, 10.0, 10.5, 10.75, 12.0, 12.5, 13.0, 14.0, 15.25, 15.5, 16.5, 17.5, 18.5, 18.75, 19.25, 20.0, 21.0, 22.75, 23.0, 23.25, 24.5, 26.25, 27.75, 28.5, 29.0, 29.5, 29.75, 30.5, 30.75, 31.75, 32.5, 33.0, 33.5, 34.0, 34.5, 35.5, 35.6, 35.75, 36.25, 37.0, 37.75, 38.0, 38.1, 38.5, 38.75, 38.85, 39.25, 39.35, 39.75, 40.25, 40.5, 41.5, 41.6, 42.0, 42.25, 42.5, 43.0, 43.1, 43.25, 43.35, 43.5, 44.0, 44.1, 44.25, 44.5, 44.75, 45.75, 45.85, 46.0, 46.25, 46.5, 46.575, 47.25, 47.5, 47.575, 48.0, 48.5, 48.75, 49.0, 49.1, 50.0, 50.5, 50.75, 50.825, 51.75, 52.0, 52.75, 52.85, 53.5, 53.6, 53.75, 53.825, 54.0, 54.25, 54.5, 55.0, 55.25, 55.325, 55.5, 56.0, 56.25, 56.5, 57.25, 57.35, 57.5, 58.5, 58.75, 58.825, 59.25, 60.25, 60.5, 61.75, 62.25, 62.5, 62.6, 62.75, 63.0, 63.75, 63.825, 64.0, 64.25, 64.75, 64.875, 65.0, 65.1, 65.25, 65.5, 65.6, 65.65, 65.75, 66.5, 66.75, 67.5, 67.6, 67.75, 68.0, 68.525, 68.6, 68.65, 69.0, 69.25, 70.0, 70.1, 71.625, 71.725, 71.775, 71.825, 71.85, 72.25, 72.5, 72.6, 73.5, 73.75, 74.0, 74.075, 74.125, 74.25, 76.0, 76.5, 77.25, 77.5, 77.75, 78.0, 79.0, 80.0, 80.75, 81.0, 81.5, 82.25, 82.75, 83.25, 84.5, 84.75, 85.25, 86.5, 87.0, 87.75, 88.25, 88.75, 89.75, 90.0, 90.25, 90.75, 92.0, 92.5, 93.5, 94.25, 94.75, 95.0, 95.25, 96.0, 96.5, 96.75, 97.25, 98.25, 98.5, 99.0, 99.5, 100.0, 101.25, 101.5, 102.0, 102.5, 103.25, 104.0, 106.75, 107.25, 111.5, 116.0, 116.5, 118.0, 120.5, 126.5, 127.0, 128.5, 130.25, 131.25, 132.75, 133.0, 135.0, 136.25, 137.25, 138.25, 139.0, 140.0, 140.5, 140.75, 141.25, 142.0, 142.25, 142.75, 143.0, 143.5, 145.0, 146.0, 146.75, 148.0, 148.5, 149.75, 150.5, 151.0, 152.5, 153.0, 153.5, 155.28, 156.0, 157.25, 157.5, 158.0, 158.75, 159.75, 160.5, 162.25, 163.0, 163.5, 164.0, 164.5, 165.75, 166.25, 166.5, 168.0, 168.5, 169.0, 169.5, 178.75, 184.5, 186.0, 193.0, 194.5, 196.25, 198.25, 199.5, 199.75, 200.25, 200.33, 200.75, 201.0, 201.53, 202.25, 203.25, 204.25, 205.25, 206.0, 206.25, 208.0, 208.75, 209.0, 210.0, 211.75, 211.85, 212.25, 212.35, 212.5, 212.75, 213.0, 213.08, 213.25, 213.5, 213.75, 213.83, 214.25, 214.75, 215.0, 215.25, 215.75, 217.25, 217.5, 217.75, 218.0, 218.75, 220.0, 220.25, 221.0, 222.75, 224.25, 224.5, 225.0, 225.25, 225.5, 225.75, 226.5, 227.75, 227.85, 228.5, 228.58, 229.0, 230.0, 230.5, 231.25, 231.5, 231.75, 232.0, 232.5, 234.25, 234.5, 234.75, 235.0, 235.25, 235.5, 235.75, 235.85, 236.25, 236.5, 237.0, 237.08, 237.25, 237.35, 237.5, 237.6, 237.63, 238.0, 238.5, 238.75, 239.75, 240.5, 241.25, 241.5, 241.75, 242.0, 243.0, 243.5, 244.0, 244.25, 244.35, 244.5, 244.58, 244.75, 245.0, 245.08, 245.25, 245.33, 246.0, 246.75, 247.0, 247.25, 247.75, 247.85, 248.0, 250.0, 250.5, 250.75, 251.0, 251.25, 251.5, 253.25, 254.0], \"y\": [0.27203, 0.27203, 0.44791000000000003, 0.44791000000000003, 0.34238, 0.34238, 0.30721, 0.27203, 0.23685, 0.23685, 0.23685, 0.23685, 0.31893, 0.31893, 0.47136000000000006, 0.40101, 0.40101, 0.40101, 0.40101, 0.30721, 0.30721, 0.30721, 0.41273000000000004, 0.27203, 0.27203, 0.24858000000000002, 0.2603, 0.31893, 0.31893, 0.31893, 0.43618999999999997, 0.47136000000000006, 0.2134, 0.2134, 0.2134, 0.23685, 0.23685, 0.20168, 0.50654, 0.50654, 0.50654, 0.50654, 0.42446000000000006, 0.42446000000000006, 0.24858000000000002, 0.34238, 0.34238, 0.30721, 0.15478, 0.15478, 0.56517, 0.56517, 0.56517, 0.56517, 0.56517, 1.0694, 1.0694, 1.0694, 0.8231200000000001, 1.0576, 1.0576, 1.1632, 1.1632, 0.9052, 1.1397, 0.92865, 0.9169299999999999, 0.9169299999999999, 1.3156, 0.9052, 0.9052, 1.2452, 1.2452, 0.87003, 0.87003, 0.9521, 0.87003, 0.87003, 0.87003, 0.8934799999999999, 0.8934799999999999, 1.0342, 1.0342, 1.0342, 1.3156, 0.92865, 0.92865, 1.0342, 1.0342, 1.0342, 0.9052, 1.1514, 0.9052, 1.3039, 1.3039, 0.9403799999999999, 0.92865, 0.92865, 0.92865, 1.1866, 1.1866, 0.9403799999999999, 0.9403799999999999, 1.0342, 1.0342, 1.0342, 1.0342, 0.88175, 0.88175, 0.88175, 1.1983, 1.1983, 0.9990100000000001, 0.9990100000000001, 1.1045, 0.9521, 0.9521, 1.1632, 1.1632, 1.1632, 1.0811, 0.96383, 0.96383, 0.88175, 0.88175, 1.0459, 1.1983, 0.9403799999999999, 0.8934799999999999, 0.8934799999999999, 0.8934799999999999, 0.8583, 0.9052, 0.96383, 0.96383, 0.96383, 0.92865, 0.92865, 0.92865, 1.2101, 1.2101, 1.2101, 0.8934799999999999, 0.8934799999999999, 0.8934799999999999, 0.9052, 0.9052, 0.9169299999999999, 0.9169299999999999, 0.9169299999999999, 0.8934799999999999, 0.9169299999999999, 0.88175, 0.88175, 1.0107, 1.0107, 0.9169299999999999, 0.9169299999999999, 0.88175, 0.88175, 0.88175, 1.128, 1.128, 0.9052, 0.9052, 0.9052, 0.88175, 0.88175, 0.88175, 0.9403799999999999, 0.9403799999999999, 0.9403799999999999, 0.7176, 0.7176, 0.7176, 0.7176, 0.7176, 0.7176, 0.42446000000000006, 0.23685, 0.23685, 0.23685, 0.23685, 0.29548, 0.29548, 0.29548, 0.33066, 0.33066, 0.33066, 0.5534399999999999, 0.5534399999999999, 0.37756, 0.37756, 0.37756, 0.31893, 0.31893, 0.31893, 0.31893, 0.30721, 0.30721, 0.33066, 0.33066, 0.33066, 0.33066, 0.33066, 0.28376, 0.28376, 0.28376, 0.28376, 0.54171, 0.54171, 0.54171, 0.54171, 0.54171, 0.29548, 0.29548, 0.29548, 0.29548, 0.41273000000000004, 0.41273000000000004, 0.22513000000000002, 0.60034, 0.2603, 0.83485, 0.83485, 0.88175, 0.88175, 0.8465799999999999, 0.8465799999999999, 1.0928, 0.83485, 1.0928, 0.78795, 0.78795, 0.8583, 0.8583, 0.8583, 0.8934799999999999, 0.8934799999999999, 0.88175, 0.88175, 0.88175, 0.88175, 0.88175, 0.88175, 0.88175, 0.88175, 0.88175, 0.8583, 0.9052, 0.9052, 0.96383, 0.96383, 0.88175, 0.88175, 0.88175, 1.1163, 1.1163, 1.1163, 0.8465799999999999, 0.8465799999999999, 0.88175, 0.88175, 0.88175, 0.88175, 0.87003, 0.87003, 0.87003, 0.87003, 0.87003, 0.87003, 0.87003, 0.8934799999999999, 0.8934799999999999, 0.8934799999999999, 0.88175, 0.88175, 0.88175, 0.88175, 0.88175, 0.8231200000000001, 0.87003, 0.8465799999999999, 0.77622, 0.096148, 0.096148, -0.51357, -0.51357, -0.51357, -0.51357, 0.92865, 1.2335, 1.0928, 1.2101, 1.2687, 1.0928, 1.2687, 1.2921, 1.2921, 1.0694, 1.0928, 1.0928, 1.128, 0.9169299999999999, 0.9169299999999999, 0.9521, 1.2687, 1.0107, 1.0107, 0.88175, 0.88175, 0.9169299999999999, 0.9990100000000001, 0.9990100000000001, 0.9990100000000001, 1.1397, 0.9169299999999999, 0.9169299999999999, 0.9169299999999999, 1.1632, 0.9169299999999999, 1.1514, 1.0107, 0.88175, 0.96383, 0.9052, 1.0225, 1.0342, 0.92865, 1.1163, 0.9403799999999999, 0.9169299999999999, 0.92865, 1.1045, 1.0694, 0.9169299999999999, 1.0459, 1.0459, 1.1163, 1.1163, 0.96383, 1.1045, 0.92865, 0.9169299999999999, 0.9403799999999999, 0.9403799999999999, 0.9052, 0.92865, 1.2804, 0.92865, 1.128, 1.0694, 0.9169299999999999, 0.9521, 0.9521, 0.88175, 0.9521, 0.92865, 1.1045, 1.1045, 0.9052, 0.9052, 0.9052, 0.9052, 0.88175, 0.9403799999999999, 1.2101, 1.2101, 1.0342, 0.88175, 0.8934799999999999, 1.1866, 0.92865, 0.9169299999999999, 0.97555, 0.9872799999999999, 1.1514, 0.92865, 1.0107, 1.1163, 1.1163, 0.9052, 0.9521, 0.9403799999999999, 0.9169299999999999, 0.9169299999999999, 1.1163, 0.9403799999999999, 1.1397, 1.1045, 0.8934799999999999, 0.9052, 1.2218, 0.87003, 0.87003, 0.87003, 0.87003, 0.87003, 0.87003, -0.0093803, -0.0093803]}, {\"mode\": \"lines+markers\", \"name\": \"vertical\", \"type\": \"scatter\", \"x\": [0.0, 0.5, 1.5, 1.75, 2.5, 3.25, 4.0, 5.0, 5.5, 6.0, 6.5, 6.75, 7.75, 8.0, 9.0, 9.75, 10.0, 10.5, 10.75, 12.0, 12.5, 13.0, 14.0, 15.25, 15.5, 16.5, 17.5, 18.5, 18.75, 19.25, 20.0, 21.0, 22.75, 23.0, 23.25, 24.5, 26.25, 27.75, 28.5, 29.0, 29.5, 29.75, 30.5, 30.75, 31.75, 32.5, 33.0, 33.5, 34.0, 34.5, 35.5, 35.6, 35.75, 36.25, 37.0, 37.75, 38.0, 38.1, 38.5, 38.75, 38.85, 39.25, 39.35, 39.75, 40.25, 40.5, 41.5, 41.6, 42.0, 42.25, 42.5, 43.0, 43.1, 43.25, 43.35, 43.5, 44.0, 44.1, 44.25, 44.5, 44.75, 45.75, 45.85, 46.0, 46.25, 46.5, 46.575, 47.25, 47.5, 47.575, 48.0, 48.5, 48.75, 49.0, 49.1, 50.0, 50.5, 50.75, 50.825, 51.75, 52.0, 52.75, 52.85, 53.5, 53.6, 53.75, 53.825, 54.0, 54.25, 54.5, 55.0, 55.25, 55.325, 55.5, 56.0, 56.25, 56.5, 57.25, 57.35, 57.5, 58.5, 58.75, 58.825, 59.25, 60.25, 60.5, 61.75, 62.25, 62.5, 62.6, 62.75, 63.0, 63.75, 63.825, 64.0, 64.25, 64.75, 64.875, 65.0, 65.1, 65.25, 65.5, 65.6, 65.65, 65.75, 66.5, 66.75, 67.5, 67.6, 67.75, 68.0, 68.525, 68.6, 68.65, 69.0, 69.25, 70.0, 70.1, 71.625, 71.725, 71.775, 71.825, 71.85, 72.25, 72.5, 72.6, 73.5, 73.75, 74.0, 74.075, 74.125, 74.25, 76.0, 76.5, 77.25, 77.5, 77.75, 78.0, 79.0, 80.0, 80.75, 81.0, 81.5, 82.25, 82.75, 83.25, 84.5, 84.75, 85.25, 86.5, 87.0, 87.75, 88.25, 88.75, 89.75, 90.0, 90.25, 90.75, 92.0, 92.5, 93.5, 94.25, 94.75, 95.0, 95.25, 96.0, 96.5, 96.75, 97.25, 98.25, 98.5, 99.0, 99.5, 100.0, 101.25, 101.5, 102.0, 102.5, 103.25, 104.0, 106.75, 107.25, 111.5, 116.0, 116.5, 118.0, 120.5, 126.5, 127.0, 128.5, 130.25, 131.25, 132.75, 133.0, 135.0, 136.25, 137.25, 138.25, 139.0, 140.0, 140.5, 140.75, 141.25, 142.0, 142.25, 142.75, 143.0, 143.5, 145.0, 146.0, 146.75, 148.0, 148.5, 149.75, 150.5, 151.0, 152.5, 153.0, 153.5, 155.28, 156.0, 157.25, 157.5, 158.0, 158.75, 159.75, 160.5, 162.25, 163.0, 163.5, 164.0, 164.5, 165.75, 166.25, 166.5, 168.0, 168.5, 169.0, 169.5, 178.75, 184.5, 186.0, 193.0, 194.5, 196.25, 198.25, 199.5, 199.75, 200.25, 200.33, 200.75, 201.0, 201.53, 202.25, 203.25, 204.25, 205.25, 206.0, 206.25, 208.0, 208.75, 209.0, 210.0, 211.75, 211.85, 212.25, 212.35, 212.5, 212.75, 213.0, 213.08, 213.25, 213.5, 213.75, 213.83, 214.25, 214.75, 215.0, 215.25, 215.75, 217.25, 217.5, 217.75, 218.0, 218.75, 220.0, 220.25, 221.0, 222.75, 224.25, 224.5, 225.0, 225.25, 225.5, 225.75, 226.5, 227.75, 227.85, 228.5, 228.58, 229.0, 230.0, 230.5, 231.25, 231.5, 231.75, 232.0, 232.5, 234.25, 234.5, 234.75, 235.0, 235.25, 235.5, 235.75, 235.85, 236.25, 236.5, 237.0, 237.08, 237.25, 237.35, 237.5, 237.6, 237.63, 238.0, 238.5, 238.75, 239.75, 240.5, 241.25, 241.5, 241.75, 242.0, 243.0, 243.5, 244.0, 244.25, 244.35, 244.5, 244.58, 244.75, 245.0, 245.08, 245.25, 245.33, 246.0, 246.75, 247.0, 247.25, 247.75, 247.85, 248.0, 250.0, 250.5, 250.75, 251.0, 251.25, 251.5, 253.25, 254.0], \"y\": [1.0082, 1.0082, 0.9163600000000001, 0.9163600000000001, 0.96229, 0.96229, 0.99674, 0.99674, 1.0312, 1.0312, 1.0312, 1.0312, 0.99674, 0.99674, 0.92784, 0.93932, 0.93932, 0.93932, 0.93932, 0.99674, 0.99674, 0.99674, 0.93932, 1.0082, 1.0082, 1.0312, 1.0197, 0.99674, 0.99674, 0.99674, 0.9163600000000001, 0.92784, 1.0312, 1.0312, 1.0312, 1.0197, 1.0197, 1.0312, 0.9163600000000001, 0.9163600000000001, 0.9163600000000001, 0.9163600000000001, 0.9163600000000001, 0.9163600000000001, 1.0082, 0.97377, 0.97377, 0.97377, 1.0197, 1.0197, 0.8704200000000001, 0.8704200000000001, 0.8704200000000001, 0.8704200000000001, 0.8704200000000001, 0.29627, 0.29627, 0.29627, -0.07119600000000001, -0.28938, -0.28938, -0.27789, -0.27789, -0.20899, -0.27789, -0.19751, -0.19751, -0.19751, -0.34679, -0.19751, -0.19751, -0.34679, -0.34679, -0.19751, -0.19751, -0.18603, -0.20899, -0.20899, -0.20899, -0.19751, -0.19751, -0.20899, -0.20899, -0.20899, -0.36976, -0.18603, -0.18603, -0.23196, -0.23196, -0.23196, -0.19751, -0.30086, -0.17454, -0.33531, -0.33531, -0.18603, -0.19751, -0.19751, -0.19751, -0.30086, -0.30086, -0.17454, -0.17454, -0.20899, -0.20899, -0.20899, -0.20899, -0.17454, -0.17454, -0.17454, -0.28938, -0.28938, -0.17454, -0.17454, -0.24344000000000002, -0.17454, -0.17454, -0.27789, -0.27789, -0.27789, -0.23196, -0.17454, -0.17454, -0.17454, -0.17454, -0.20899, -0.28938, -0.17454, -0.18603, -0.18603, -0.18603, -0.18603, -0.16305999999999998, -0.16305999999999998, -0.16305999999999998, -0.16305999999999998, -0.16305999999999998, -0.17454, -0.17454, -0.28938, -0.28938, -0.28938, -0.17454, -0.17454, -0.17454, -0.17454, -0.17454, -0.18603, -0.18603, -0.18603, -0.17454, -0.17454, -0.17454, -0.17454, -0.19751, -0.19751, -0.17454, -0.17454, -0.15158, -0.15158, -0.15158, -0.24344000000000002, -0.24344000000000002, -0.17454, -0.17454, -0.17454, -0.17454, -0.17454, -0.17454, 0.1355, 0.1355, 0.1355, 0.89339, 0.89339, 0.89339, 0.89339, 0.89339, 0.89339, 0.96229, 1.0082, 1.0082, 1.0082, 1.0082, 0.99674, 0.99674, 0.99674, 0.99674, 0.99674, 0.99674, 0.89339, 0.89339, 0.97377, 0.97377, 0.97377, 0.97377, 0.97377, 0.97377, 0.97377, 0.99674, 0.99674, 0.98526, 0.98526, 0.98526, 0.98526, 0.98526, 1.0082, 1.0082, 1.0082, 1.0082, 0.9048700000000001, 0.9048700000000001, 0.9048700000000001, 0.9048700000000001, 0.9048700000000001, 0.99674, 0.99674, 0.99674, 0.99674, 0.93932, 0.93932, 0.89339, 1.0082, 0.99674, 0.6752100000000001, 0.6752100000000001, 0.66373, 0.64076, 0.66373, 0.66373, 0.5489, 0.66373, 0.56038, 0.6752100000000001, 0.6752100000000001, 0.6522399999999999, 0.66373, 0.66373, 0.6292800000000001, 0.6292800000000001, 0.64076, 0.64076, 0.64076, 0.64076, 0.64076, 0.64076, 0.64076, 0.64076, 0.64076, 0.6292800000000001, 0.6292800000000001, 0.6292800000000001, 0.60631, 0.60631, 0.64076, 0.64076, 0.64076, 0.5489, 0.5489, 0.5489, 0.6522399999999999, 0.6522399999999999, 0.64076, 0.64076, 0.64076, 0.64076, 0.64076, 0.64076, 0.6522399999999999, 0.6522399999999999, 0.6522399999999999, 0.6522399999999999, 0.6522399999999999, 0.6292800000000001, 0.6292800000000001, 0.6292800000000001, 0.64076, 0.64076, 0.64076, 0.64076, 0.6292800000000001, 0.6866899999999999, 0.64076, 0.66373, 0.66373, 0.93932, 0.93932, 0.98526, 0.98526, 0.98526, 0.98526, 0.26182, -0.15158, -0.25493000000000005, -0.31234, -0.32383, -0.28938, -0.36976, -0.38124, -0.38124, -0.26641, -0.26641, -0.26641, -0.28938, -0.18603, -0.18603, -0.18603, -0.33531, -0.23196, -0.23196, -0.18603, -0.18603, -0.19751, -0.22048, -0.22048, -0.22048, -0.28938, -0.18603, -0.18603, -0.18603, -0.30086, -0.19751, -0.27789, -0.19751, -0.18603, -0.19751, -0.19751, -0.20899, -0.19751, -0.18603, -0.26641, -0.19751, -0.18603, -0.19751, -0.27789, -0.23196, -0.19751, -0.24344000000000002, -0.24344000000000002, -0.26641, -0.26641, -0.19751, -0.26641, -0.19751, -0.19751, -0.19751, -0.19751, -0.18603, -0.18603, -0.35827, -0.20899, -0.27789, -0.24344000000000002, -0.18603, -0.19751, -0.19751, -0.19751, -0.19751, -0.19751, -0.26641, -0.26641, -0.19751, -0.19751, -0.19751, -0.19751, -0.19751, -0.20899, -0.32383, -0.32383, -0.22048, -0.19751, -0.19751, -0.31234, -0.19751, -0.19751, -0.19751, -0.20899, -0.30086, -0.18603, -0.20899, -0.28938, -0.28938, -0.19751, -0.19751, -0.19751, -0.19751, -0.19751, -0.24344000000000002, -0.20899, -0.27789, -0.26641, -0.19751, -0.19751, -0.32383, 0.46851000000000004, 0.46851000000000004, 0.46851000000000004, 0.46851000000000004, 0.46851000000000004, 0.46851000000000004, 0.95081, 0.95081]}, {\"mode\": \"lines+markers\", \"name\": \"lateral\", \"type\": \"scatter\", \"x\": [0.0, 0.5, 1.5, 1.75, 2.5, 3.25, 4.0, 5.0, 5.5, 6.0, 6.5, 6.75, 7.75, 8.0, 9.0, 9.75, 10.0, 10.5, 10.75, 12.0, 12.5, 13.0, 14.0, 15.25, 15.5, 16.5, 17.5, 18.5, 18.75, 19.25, 20.0, 21.0, 22.75, 23.0, 23.25, 24.5, 26.25, 27.75, 28.5, 29.0, 29.5, 29.75, 30.5, 30.75, 31.75, 32.5, 33.0, 33.5, 34.0, 34.5, 35.5, 35.6, 35.75, 36.25, 37.0, 37.75, 38.0, 38.1, 38.5, 38.75, 38.85, 39.25, 39.35, 39.75, 40.25, 40.5, 41.5, 41.6, 42.0, 42.25, 42.5, 43.0, 43.1, 43.25, 43.35, 43.5, 44.0, 44.1, 44.25, 44.5, 44.75, 45.75, 45.85, 46.0, 46.25, 46.5, 46.575, 47.25, 47.5, 47.575, 48.0, 48.5, 48.75, 49.0, 49.1, 50.0, 50.5, 50.75, 50.825, 51.75, 52.0, 52.75, 52.85, 53.5, 53.6, 53.75, 53.825, 54.0, 54.25, 54.5, 55.0, 55.25, 55.325, 55.5, 56.0, 56.25, 56.5, 57.25, 57.35, 57.5, 58.5, 58.75, 58.825, 59.25, 60.25, 60.5, 61.75, 62.25, 62.5, 62.6, 62.75, 63.0, 63.75, 63.825, 64.0, 64.25, 64.75, 64.875, 65.0, 65.1, 65.25, 65.5, 65.6, 65.65, 65.75, 66.5, 66.75, 67.5, 67.6, 67.75, 68.0, 68.525, 68.6, 68.65, 69.0, 69.25, 70.0, 70.1, 71.625, 71.725, 71.775, 71.825, 71.85, 72.25, 72.5, 72.6, 73.5, 73.75, 74.0, 74.075, 74.125, 74.25, 76.0, 76.5, 77.25, 77.5, 77.75, 78.0, 79.0, 80.0, 80.75, 81.0, 81.5, 82.25, 82.75, 83.25, 84.5, 84.75, 85.25, 86.5, 87.0, 87.75, 88.25, 88.75, 89.75, 90.0, 90.25, 90.75, 92.0, 92.5, 93.5, 94.25, 94.75, 95.0, 95.25, 96.0, 96.5, 96.75, 97.25, 98.25, 98.5, 99.0, 99.5, 100.0, 101.25, 101.5, 102.0, 102.5, 103.25, 104.0, 106.75, 107.25, 111.5, 116.0, 116.5, 118.0, 120.5, 126.5, 127.0, 128.5, 130.25, 131.25, 132.75, 133.0, 135.0, 136.25, 137.25, 138.25, 139.0, 140.0, 140.5, 140.75, 141.25, 142.0, 142.25, 142.75, 143.0, 143.5, 145.0, 146.0, 146.75, 148.0, 148.5, 149.75, 150.5, 151.0, 152.5, 153.0, 153.5, 155.28, 156.0, 157.25, 157.5, 158.0, 158.75, 159.75, 160.5, 162.25, 163.0, 163.5, 164.0, 164.5, 165.75, 166.25, 166.5, 168.0, 168.5, 169.0, 169.5, 178.75, 184.5, 186.0, 193.0, 194.5, 196.25, 198.25, 199.5, 199.75, 200.25, 200.33, 200.75, 201.0, 201.53, 202.25, 203.25, 204.25, 205.25, 206.0, 206.25, 208.0, 208.75, 209.0, 210.0, 211.75, 211.85, 212.25, 212.35, 212.5, 212.75, 213.0, 213.08, 213.25, 213.5, 213.75, 213.83, 214.25, 214.75, 215.0, 215.25, 215.75, 217.25, 217.5, 217.75, 218.0, 218.75, 220.0, 220.25, 221.0, 222.75, 224.25, 224.5, 225.0, 225.25, 225.5, 225.75, 226.5, 227.75, 227.85, 228.5, 228.58, 229.0, 230.0, 230.5, 231.25, 231.5, 231.75, 232.0, 232.5, 234.25, 234.5, 234.75, 235.0, 235.25, 235.5, 235.75, 235.85, 236.25, 236.5, 237.0, 237.08, 237.25, 237.35, 237.5, 237.6, 237.63, 238.0, 238.5, 238.75, 239.75, 240.5, 241.25, 241.5, 241.75, 242.0, 243.0, 243.5, 244.0, 244.25, 244.35, 244.5, 244.58, 244.75, 245.0, 245.08, 245.25, 245.33, 246.0, 246.75, 247.0, 247.25, 247.75, 247.85, 248.0, 250.0, 250.5, 250.75, 251.0, 251.25, 251.5, 253.25, 254.0], \"y\": [-0.082102, -0.082102, -0.013684, -0.013684, -0.059296, -0.059296, -0.070699, -0.09350499999999999, -0.12771, -0.12771, -0.12771, -0.12771, -0.070699, -0.070699, -0.0022806, -0.025087, -0.025087, -0.025087, -0.025087, -0.070699, -0.070699, -0.070699, -0.0022806, -0.10490999999999999, -0.10490999999999999, -0.09350499999999999, -0.10490999999999999, -0.070699, -0.070699, -0.070699, 0.0091224, 0.020525, -0.12771, -0.12771, -0.12771, -0.10490999999999999, -0.10490999999999999, -0.11631, 0.020525, 0.020525, 0.020525, 0.020525, -0.0022806, -0.0022806, -0.16192, -0.047893, -0.047893, -0.036489999999999995, -0.13912, -0.13912, 0.11175, 0.11175, 0.11175, 0.11175, 0.11175, -0.013684, -0.013684, -0.013684, -0.10490999999999999, -0.036489999999999995, -0.036489999999999995, -0.059296, -0.059296, -0.15052000000000001, -0.070699, -0.16192, -0.16192, -0.16192, -0.013684, -0.16192, -0.16192, -0.025087, -0.025087, -0.17332999999999998, -0.17332999999999998, -0.15052000000000001, -0.17332999999999998, -0.17332999999999998, -0.17332999999999998, -0.16192, -0.16192, -0.12771, -0.12771, -0.12771, -0.013684, -0.15052000000000001, -0.15052000000000001, -0.11631, -0.11631, -0.11631, -0.17332999999999998, -0.047893, -0.17332999999999998, -0.0022806, -0.0022806, -0.16192, -0.15052000000000001, -0.15052000000000001, -0.15052000000000001, -0.036489999999999995, -0.036489999999999995, -0.15052000000000001, -0.15052000000000001, -0.11631, -0.11631, -0.11631, -0.11631, -0.16192, -0.16192, -0.16192, -0.036489999999999995, -0.036489999999999995, -0.13912, -0.13912, -0.070699, -0.15052000000000001, -0.15052000000000001, -0.059296, -0.059296, -0.059296, -0.10490999999999999, -0.16192, -0.16192, -0.17332999999999998, -0.16192, -0.11631, -0.047893, -0.15052000000000001, -0.16192, -0.16192, -0.16192, -0.16192, -0.16192, -0.15052000000000001, -0.15052000000000001, -0.15052000000000001, -0.15052000000000001, -0.16192, -0.16192, -0.036489999999999995, -0.036489999999999995, -0.036489999999999995, -0.17332999999999998, -0.17332999999999998, -0.17332999999999998, -0.16192, -0.16192, -0.17332999999999998, -0.17332999999999998, -0.17332999999999998, -0.16192, -0.15052000000000001, -0.16192, -0.16192, -0.11631, -0.11631, -0.17332999999999998, -0.17332999999999998, -0.16192, -0.16192, -0.16192, -0.070699, -0.070699, -0.16192, -0.16192, -0.16192, -0.16192, -0.16192, -0.16192, -0.32156999999999997, -0.32156999999999997, -0.32156999999999997, 0.043332, 0.043332, 0.043332, 0.043332, 0.043332, 0.043332, -0.082102, -0.12771, -0.12771, -0.12771, -0.12771, -0.082102, -0.082102, -0.082102, -0.070699, -0.070699, -0.070699, 0.0091224, 0.0091224, -0.059296, -0.059296, -0.059296, -0.082102, -0.082102, -0.082102, -0.082102, -0.070699, -0.070699, -0.082102, -0.082102, -0.082102, -0.082102, -0.082102, -0.11631, -0.11631, -0.11631, -0.11631, 0.0091224, 0.0091224, 0.0091224, 0.0091224, 0.0091224, -0.10490999999999999, -0.10490999999999999, -0.10490999999999999, -0.10490999999999999, -0.025087, -0.025087, -0.17332999999999998, -0.047893, -0.059296, -0.13912, -0.13912, -0.082102, -0.09350499999999999, -0.12771, -0.12771, -0.013684, -0.12771, -0.013684, -0.15052000000000001, -0.15052000000000001, -0.10490999999999999, -0.10490999999999999, -0.10490999999999999, -0.09350499999999999, -0.09350499999999999, -0.09350499999999999, -0.09350499999999999, -0.09350499999999999, -0.09350499999999999, -0.09350499999999999, -0.09350499999999999, -0.09350499999999999, -0.09350499999999999, -0.09350499999999999, -0.10490999999999999, -0.09350499999999999, -0.09350499999999999, -0.047893, -0.047893, -0.082102, -0.082102, -0.082102, -0.013684, -0.013684, -0.013684, -0.10490999999999999, -0.10490999999999999, -0.070699, -0.070699, -0.070699, -0.070699, -0.10490999999999999, -0.10490999999999999, -0.10490999999999999, -0.10490999999999999, -0.10490999999999999, -0.10490999999999999, -0.10490999999999999, -0.09350499999999999, -0.09350499999999999, -0.09350499999999999, -0.09350499999999999, -0.09350499999999999, -0.09350499999999999, -0.09350499999999999, -0.10490999999999999, -0.13912, -0.11631, -0.13912, 0.020525, -0.16192, -0.16192, -0.25315, -0.25315, -0.25315, -0.25315, -0.13912, -0.12771, -0.036489999999999995, 0.077541, 0.043332, -0.059296, 0.0091224, 0.020525, 0.020525, -0.082102, -0.082102, -0.082102, -0.059296, -0.12771, -0.12771, -0.12771, 0.020525, -0.10490999999999999, -0.10490999999999999, -0.13912, -0.13912, -0.12771, -0.11631, -0.11631, -0.11631, -0.013684, -0.13912, -0.13912, -0.13912, -0.036489999999999995, -0.12771, -0.025087, -0.09350499999999999, -0.13912, -0.11631, -0.12771, -0.10490999999999999, -0.09350499999999999, -0.10490999999999999, -0.036489999999999995, -0.11631, -0.11631, -0.11631, -0.047893, -0.082102, -0.12771, -0.082102, -0.082102, -0.025087, -0.025087, -0.11631, -0.036489999999999995, -0.11631, -0.11631, -0.10490999999999999, -0.10490999999999999, -0.12771, -0.10490999999999999, 0.031928, -0.10490999999999999, -0.036489999999999995, -0.047893, -0.11631, -0.10490999999999999, -0.10490999999999999, -0.12771, -0.11631, -0.10490999999999999, -0.025087, -0.025087, -0.11631, -0.11631, -0.12771, -0.12771, -0.12771, -0.11631, 0.0091224, 0.0091224, -0.082102, -0.12771, -0.12771, -0.0022806, -0.11631, -0.11631, -0.11631, -0.10490999999999999, -0.013684, -0.10490999999999999, -0.082102, -0.036489999999999995, -0.036489999999999995, -0.11631, -0.10490999999999999, -0.11631, -0.11631, -0.11631, -0.036489999999999995, -0.12771, -0.025087, -0.036489999999999995, -0.12771, -0.12771, 0.020525, 0.0091224, 0.0091224, 0.0091224, 0.0091224, 0.0091224, 0.0091224, -0.11631, -0.11631]}],\n",
       "                        {\"height\": 300, \"margin\": {\"b\": 0, \"l\": 0, \"r\": 0, \"t\": 32}, \"template\": {\"data\": {\"bar\": [{\"error_x\": {\"color\": \"#2a3f5f\"}, \"error_y\": {\"color\": \"#2a3f5f\"}, \"marker\": {\"line\": {\"color\": \"#E5ECF6\", \"width\": 0.5}}, \"type\": \"bar\"}], \"barpolar\": [{\"marker\": {\"line\": {\"color\": \"#E5ECF6\", \"width\": 0.5}}, \"type\": \"barpolar\"}], \"carpet\": [{\"aaxis\": {\"endlinecolor\": \"#2a3f5f\", \"gridcolor\": \"white\", \"linecolor\": \"white\", \"minorgridcolor\": \"white\", \"startlinecolor\": \"#2a3f5f\"}, \"baxis\": {\"endlinecolor\": \"#2a3f5f\", \"gridcolor\": \"white\", \"linecolor\": \"white\", \"minorgridcolor\": \"white\", \"startlinecolor\": \"#2a3f5f\"}, \"type\": \"carpet\"}], \"choropleth\": [{\"colorbar\": {\"outlinewidth\": 0, \"ticks\": \"\"}, \"type\": \"choropleth\"}], \"contour\": [{\"colorbar\": {\"outlinewidth\": 0, \"ticks\": \"\"}, \"colorscale\": [[0.0, \"#0d0887\"], [0.1111111111111111, \"#46039f\"], [0.2222222222222222, \"#7201a8\"], [0.3333333333333333, \"#9c179e\"], [0.4444444444444444, \"#bd3786\"], [0.5555555555555556, \"#d8576b\"], [0.6666666666666666, \"#ed7953\"], [0.7777777777777778, \"#fb9f3a\"], [0.8888888888888888, \"#fdca26\"], [1.0, \"#f0f921\"]], \"type\": \"contour\"}], \"contourcarpet\": [{\"colorbar\": {\"outlinewidth\": 0, \"ticks\": \"\"}, \"type\": \"contourcarpet\"}], \"heatmap\": [{\"colorbar\": {\"outlinewidth\": 0, \"ticks\": \"\"}, \"colorscale\": [[0.0, \"#0d0887\"], [0.1111111111111111, \"#46039f\"], [0.2222222222222222, \"#7201a8\"], [0.3333333333333333, \"#9c179e\"], [0.4444444444444444, \"#bd3786\"], [0.5555555555555556, \"#d8576b\"], [0.6666666666666666, \"#ed7953\"], [0.7777777777777778, \"#fb9f3a\"], [0.8888888888888888, \"#fdca26\"], [1.0, \"#f0f921\"]], \"type\": \"heatmap\"}], \"heatmapgl\": [{\"colorbar\": {\"outlinewidth\": 0, \"ticks\": \"\"}, \"colorscale\": [[0.0, \"#0d0887\"], [0.1111111111111111, \"#46039f\"], [0.2222222222222222, \"#7201a8\"], [0.3333333333333333, \"#9c179e\"], [0.4444444444444444, \"#bd3786\"], [0.5555555555555556, \"#d8576b\"], [0.6666666666666666, \"#ed7953\"], [0.7777777777777778, \"#fb9f3a\"], [0.8888888888888888, \"#fdca26\"], [1.0, \"#f0f921\"]], \"type\": \"heatmapgl\"}], \"histogram\": [{\"marker\": {\"colorbar\": {\"outlinewidth\": 0, \"ticks\": \"\"}}, \"type\": \"histogram\"}], \"histogram2d\": [{\"colorbar\": {\"outlinewidth\": 0, \"ticks\": \"\"}, \"colorscale\": [[0.0, \"#0d0887\"], [0.1111111111111111, \"#46039f\"], [0.2222222222222222, \"#7201a8\"], [0.3333333333333333, \"#9c179e\"], [0.4444444444444444, \"#bd3786\"], [0.5555555555555556, \"#d8576b\"], [0.6666666666666666, \"#ed7953\"], [0.7777777777777778, \"#fb9f3a\"], [0.8888888888888888, \"#fdca26\"], [1.0, \"#f0f921\"]], \"type\": \"histogram2d\"}], \"histogram2dcontour\": [{\"colorbar\": {\"outlinewidth\": 0, \"ticks\": \"\"}, \"colorscale\": [[0.0, \"#0d0887\"], [0.1111111111111111, \"#46039f\"], [0.2222222222222222, \"#7201a8\"], [0.3333333333333333, \"#9c179e\"], [0.4444444444444444, \"#bd3786\"], [0.5555555555555556, \"#d8576b\"], [0.6666666666666666, \"#ed7953\"], [0.7777777777777778, \"#fb9f3a\"], [0.8888888888888888, \"#fdca26\"], [1.0, \"#f0f921\"]], \"type\": \"histogram2dcontour\"}], \"mesh3d\": [{\"colorbar\": {\"outlinewidth\": 0, \"ticks\": \"\"}, \"type\": \"mesh3d\"}], \"parcoords\": [{\"line\": {\"colorbar\": {\"outlinewidth\": 0, \"ticks\": \"\"}}, \"type\": \"parcoords\"}], \"pie\": [{\"automargin\": true, \"type\": \"pie\"}], \"scatter\": [{\"marker\": {\"colorbar\": {\"outlinewidth\": 0, \"ticks\": \"\"}}, \"type\": \"scatter\"}], \"scatter3d\": [{\"line\": {\"colorbar\": {\"outlinewidth\": 0, \"ticks\": \"\"}}, \"marker\": {\"colorbar\": {\"outlinewidth\": 0, \"ticks\": \"\"}}, \"type\": \"scatter3d\"}], \"scattercarpet\": [{\"marker\": {\"colorbar\": {\"outlinewidth\": 0, \"ticks\": \"\"}}, \"type\": \"scattercarpet\"}], \"scattergeo\": [{\"marker\": {\"colorbar\": {\"outlinewidth\": 0, \"ticks\": \"\"}}, \"type\": \"scattergeo\"}], \"scattergl\": [{\"marker\": {\"colorbar\": {\"outlinewidth\": 0, \"ticks\": \"\"}}, \"type\": \"scattergl\"}], \"scattermapbox\": [{\"marker\": {\"colorbar\": {\"outlinewidth\": 0, \"ticks\": \"\"}}, \"type\": \"scattermapbox\"}], \"scatterpolar\": [{\"marker\": {\"colorbar\": {\"outlinewidth\": 0, \"ticks\": \"\"}}, \"type\": \"scatterpolar\"}], \"scatterpolargl\": [{\"marker\": {\"colorbar\": {\"outlinewidth\": 0, \"ticks\": \"\"}}, \"type\": \"scatterpolargl\"}], \"scatterternary\": [{\"marker\": {\"colorbar\": {\"outlinewidth\": 0, \"ticks\": \"\"}}, \"type\": \"scatterternary\"}], \"surface\": [{\"colorbar\": {\"outlinewidth\": 0, \"ticks\": \"\"}, \"colorscale\": [[0.0, \"#0d0887\"], [0.1111111111111111, \"#46039f\"], [0.2222222222222222, \"#7201a8\"], [0.3333333333333333, \"#9c179e\"], [0.4444444444444444, \"#bd3786\"], [0.5555555555555556, \"#d8576b\"], [0.6666666666666666, \"#ed7953\"], [0.7777777777777778, \"#fb9f3a\"], [0.8888888888888888, \"#fdca26\"], [1.0, \"#f0f921\"]], \"type\": \"surface\"}], \"table\": [{\"cells\": {\"fill\": {\"color\": \"#EBF0F8\"}, \"line\": {\"color\": \"white\"}}, \"header\": {\"fill\": {\"color\": \"#C8D4E3\"}, \"line\": {\"color\": \"white\"}}, \"type\": \"table\"}]}, \"layout\": {\"annotationdefaults\": {\"arrowcolor\": \"#2a3f5f\", \"arrowhead\": 0, \"arrowwidth\": 1}, \"coloraxis\": {\"colorbar\": {\"outlinewidth\": 0, \"ticks\": \"\"}}, \"colorscale\": {\"diverging\": [[0, \"#8e0152\"], [0.1, \"#c51b7d\"], [0.2, \"#de77ae\"], [0.3, \"#f1b6da\"], [0.4, \"#fde0ef\"], [0.5, \"#f7f7f7\"], [0.6, \"#e6f5d0\"], [0.7, \"#b8e186\"], [0.8, \"#7fbc41\"], [0.9, \"#4d9221\"], [1, \"#276419\"]], \"sequential\": [[0.0, \"#0d0887\"], [0.1111111111111111, \"#46039f\"], [0.2222222222222222, \"#7201a8\"], [0.3333333333333333, \"#9c179e\"], [0.4444444444444444, \"#bd3786\"], [0.5555555555555556, \"#d8576b\"], [0.6666666666666666, \"#ed7953\"], [0.7777777777777778, \"#fb9f3a\"], [0.8888888888888888, \"#fdca26\"], [1.0, \"#f0f921\"]], \"sequentialminus\": [[0.0, \"#0d0887\"], [0.1111111111111111, \"#46039f\"], [0.2222222222222222, \"#7201a8\"], [0.3333333333333333, \"#9c179e\"], [0.4444444444444444, \"#bd3786\"], [0.5555555555555556, \"#d8576b\"], [0.6666666666666666, \"#ed7953\"], [0.7777777777777778, \"#fb9f3a\"], [0.8888888888888888, \"#fdca26\"], [1.0, \"#f0f921\"]]}, \"colorway\": [\"#636efa\", \"#EF553B\", \"#00cc96\", \"#ab63fa\", \"#FFA15A\", \"#19d3f3\", \"#FF6692\", \"#B6E880\", \"#FF97FF\", \"#FECB52\"], \"font\": {\"color\": \"#2a3f5f\"}, \"geo\": {\"bgcolor\": \"white\", \"lakecolor\": \"white\", \"landcolor\": \"#E5ECF6\", \"showlakes\": true, \"showland\": true, \"subunitcolor\": \"white\"}, \"hoverlabel\": {\"align\": \"left\"}, \"hovermode\": \"closest\", \"mapbox\": {\"style\": \"light\"}, \"paper_bgcolor\": \"white\", \"plot_bgcolor\": \"#E5ECF6\", \"polar\": {\"angularaxis\": {\"gridcolor\": \"white\", \"linecolor\": \"white\", \"ticks\": \"\"}, \"bgcolor\": \"#E5ECF6\", \"radialaxis\": {\"gridcolor\": \"white\", \"linecolor\": \"white\", \"ticks\": \"\"}}, \"scene\": {\"xaxis\": {\"backgroundcolor\": \"#E5ECF6\", \"gridcolor\": \"white\", \"gridwidth\": 2, \"linecolor\": \"white\", \"showbackground\": true, \"ticks\": \"\", \"zerolinecolor\": \"white\"}, \"yaxis\": {\"backgroundcolor\": \"#E5ECF6\", \"gridcolor\": \"white\", \"gridwidth\": 2, \"linecolor\": \"white\", \"showbackground\": true, \"ticks\": \"\", \"zerolinecolor\": \"white\"}, \"zaxis\": {\"backgroundcolor\": \"#E5ECF6\", \"gridcolor\": \"white\", \"gridwidth\": 2, \"linecolor\": \"white\", \"showbackground\": true, \"ticks\": \"\", \"zerolinecolor\": \"white\"}}, \"shapedefaults\": {\"line\": {\"color\": \"#2a3f5f\"}}, \"ternary\": {\"aaxis\": {\"gridcolor\": \"white\", \"linecolor\": \"white\", \"ticks\": \"\"}, \"baxis\": {\"gridcolor\": \"white\", \"linecolor\": \"white\", \"ticks\": \"\"}, \"bgcolor\": \"#E5ECF6\", \"caxis\": {\"gridcolor\": \"white\", \"linecolor\": \"white\", \"ticks\": \"\"}}, \"title\": {\"x\": 0.05}, \"xaxis\": {\"automargin\": true, \"gridcolor\": \"white\", \"linecolor\": \"white\", \"ticks\": \"\", \"title\": {\"standoff\": 15}, \"zerolinecolor\": \"white\", \"zerolinewidth\": 2}, \"yaxis\": {\"automargin\": true, \"gridcolor\": \"white\", \"linecolor\": \"white\", \"ticks\": \"\", \"title\": {\"standoff\": 15}, \"zerolinecolor\": \"white\", \"zerolinewidth\": 2}}}, \"width\": 600},\n",
       "                        {\"responsive\": true}\n",
       "                    ).then(function(){\n",
       "                            \n",
       "var gd = document.getElementById('a3b00c73-a115-4636-a607-83aa3f4057e5');\n",
       "var x = new MutationObserver(function (mutations, observer) {{\n",
       "        var display = window.getComputedStyle(gd).display;\n",
       "        if (!display || display === 'none') {{\n",
       "            console.log([gd, 'removed!']);\n",
       "            Plotly.purge(gd);\n",
       "            observer.disconnect();\n",
       "        }}\n",
       "}});\n",
       "\n",
       "// Listen for the removal of the full notebook cells\n",
       "var notebookContainer = gd.closest('#notebook-container');\n",
       "if (notebookContainer) {{\n",
       "    x.observe(notebookContainer, {childList: true});\n",
       "}}\n",
       "\n",
       "// Listen for the clearing of the current output cell\n",
       "var outputEl = gd.closest('.output');\n",
       "if (outputEl) {{\n",
       "    x.observe(outputEl, {childList: true});\n",
       "}}\n",
       "\n",
       "                        })\n",
       "                };\n",
       "                });\n",
       "            </script>\n",
       "        </div>"
      ]
     },
     "metadata": {},
     "output_type": "display_data"
    }
   ],
   "source": [
    "fig = go.Figure(layout={**layout, 'width': 600})\n",
    "for sensor in ['front', 'vertical', 'lateral']:\n",
    "    fig.add_trace(go.Scatter(x=df['time'], y=df[sensor], mode='lines+markers', name=sensor))\n",
    "\n",
    "fig.show()"
   ]
  },
  {
   "cell_type": "markdown",
   "metadata": {},
   "source": [
    "So now we can plot the sensor data. However, the sensor data is collected for different activities and we would like to indicate the different activities. For this, we will simply plot a rectangle in the background for each activity. Again, we can use the `Scatter` class, and set the `x` and `y` values to the corners of the rectangle:"
   ]
  },
  {
   "cell_type": "code",
   "execution_count": 47,
   "metadata": {},
   "outputs": [
    {
     "data": {
      "application/vnd.plotly.v1+json": {
       "config": {
        "plotlyServerURL": "https://plot.ly"
       },
       "data": [
        {
         "mode": "lines",
         "name": "bed",
         "type": "scatter",
         "x": [
          0,
          0,
          37,
          37
         ],
         "y": [
          -2,
          2,
          2,
          -2
         ]
        },
        {
         "mode": "lines",
         "name": "lying",
         "type": "scatter",
         "x": [
          37.75,
          37.75,
          74.25,
          74.25
         ],
         "y": [
          -2,
          2,
          2,
          -2
         ]
        },
        {
         "mode": "lines",
         "name": "bed",
         "type": "scatter",
         "x": [
          76,
          76,
          103.25,
          103.25
         ],
         "y": [
          -2,
          2,
          2,
          -2
         ]
        },
        {
         "mode": "lines",
         "name": "ambulating",
         "type": "scatter",
         "x": [
          104,
          104,
          111.5,
          111.5
         ],
         "y": [
          -2,
          2,
          2,
          -2
         ]
        },
        {
         "mode": "lines",
         "name": "chair",
         "type": "scatter",
         "x": [
          116,
          116,
          193,
          193
         ],
         "y": [
          -2,
          2,
          2,
          -2
         ]
        },
        {
         "mode": "lines",
         "name": "ambulating",
         "type": "scatter",
         "x": [
          194.5,
          194.5,
          198.25,
          198.25
         ],
         "y": [
          -2,
          2,
          2,
          -2
         ]
        },
        {
         "mode": "lines",
         "name": "bed",
         "type": "scatter",
         "x": [
          199.5,
          199.5,
          200.33,
          200.33
         ],
         "y": [
          -2,
          2,
          2,
          -2
         ]
        },
        {
         "mode": "lines",
         "name": "lying",
         "type": "scatter",
         "x": [
          200.75,
          200.75,
          248,
          248
         ],
         "y": [
          -2,
          2,
          2,
          -2
         ]
        },
        {
         "mode": "lines",
         "name": "bed",
         "type": "scatter",
         "x": [
          250,
          250,
          254,
          254
         ],
         "y": [
          -2,
          2,
          2,
          -2
         ]
        }
       ],
       "layout": {
        "height": 300,
        "margin": {
         "b": 0,
         "l": 0,
         "r": 0,
         "t": 32
        },
        "template": {
         "data": {
          "bar": [
           {
            "error_x": {
             "color": "#2a3f5f"
            },
            "error_y": {
             "color": "#2a3f5f"
            },
            "marker": {
             "line": {
              "color": "#E5ECF6",
              "width": 0.5
             }
            },
            "type": "bar"
           }
          ],
          "barpolar": [
           {
            "marker": {
             "line": {
              "color": "#E5ECF6",
              "width": 0.5
             }
            },
            "type": "barpolar"
           }
          ],
          "carpet": [
           {
            "aaxis": {
             "endlinecolor": "#2a3f5f",
             "gridcolor": "white",
             "linecolor": "white",
             "minorgridcolor": "white",
             "startlinecolor": "#2a3f5f"
            },
            "baxis": {
             "endlinecolor": "#2a3f5f",
             "gridcolor": "white",
             "linecolor": "white",
             "minorgridcolor": "white",
             "startlinecolor": "#2a3f5f"
            },
            "type": "carpet"
           }
          ],
          "choropleth": [
           {
            "colorbar": {
             "outlinewidth": 0,
             "ticks": ""
            },
            "type": "choropleth"
           }
          ],
          "contour": [
           {
            "colorbar": {
             "outlinewidth": 0,
             "ticks": ""
            },
            "colorscale": [
             [
              0,
              "#0d0887"
             ],
             [
              0.1111111111111111,
              "#46039f"
             ],
             [
              0.2222222222222222,
              "#7201a8"
             ],
             [
              0.3333333333333333,
              "#9c179e"
             ],
             [
              0.4444444444444444,
              "#bd3786"
             ],
             [
              0.5555555555555556,
              "#d8576b"
             ],
             [
              0.6666666666666666,
              "#ed7953"
             ],
             [
              0.7777777777777778,
              "#fb9f3a"
             ],
             [
              0.8888888888888888,
              "#fdca26"
             ],
             [
              1,
              "#f0f921"
             ]
            ],
            "type": "contour"
           }
          ],
          "contourcarpet": [
           {
            "colorbar": {
             "outlinewidth": 0,
             "ticks": ""
            },
            "type": "contourcarpet"
           }
          ],
          "heatmap": [
           {
            "colorbar": {
             "outlinewidth": 0,
             "ticks": ""
            },
            "colorscale": [
             [
              0,
              "#0d0887"
             ],
             [
              0.1111111111111111,
              "#46039f"
             ],
             [
              0.2222222222222222,
              "#7201a8"
             ],
             [
              0.3333333333333333,
              "#9c179e"
             ],
             [
              0.4444444444444444,
              "#bd3786"
             ],
             [
              0.5555555555555556,
              "#d8576b"
             ],
             [
              0.6666666666666666,
              "#ed7953"
             ],
             [
              0.7777777777777778,
              "#fb9f3a"
             ],
             [
              0.8888888888888888,
              "#fdca26"
             ],
             [
              1,
              "#f0f921"
             ]
            ],
            "type": "heatmap"
           }
          ],
          "heatmapgl": [
           {
            "colorbar": {
             "outlinewidth": 0,
             "ticks": ""
            },
            "colorscale": [
             [
              0,
              "#0d0887"
             ],
             [
              0.1111111111111111,
              "#46039f"
             ],
             [
              0.2222222222222222,
              "#7201a8"
             ],
             [
              0.3333333333333333,
              "#9c179e"
             ],
             [
              0.4444444444444444,
              "#bd3786"
             ],
             [
              0.5555555555555556,
              "#d8576b"
             ],
             [
              0.6666666666666666,
              "#ed7953"
             ],
             [
              0.7777777777777778,
              "#fb9f3a"
             ],
             [
              0.8888888888888888,
              "#fdca26"
             ],
             [
              1,
              "#f0f921"
             ]
            ],
            "type": "heatmapgl"
           }
          ],
          "histogram": [
           {
            "marker": {
             "colorbar": {
              "outlinewidth": 0,
              "ticks": ""
             }
            },
            "type": "histogram"
           }
          ],
          "histogram2d": [
           {
            "colorbar": {
             "outlinewidth": 0,
             "ticks": ""
            },
            "colorscale": [
             [
              0,
              "#0d0887"
             ],
             [
              0.1111111111111111,
              "#46039f"
             ],
             [
              0.2222222222222222,
              "#7201a8"
             ],
             [
              0.3333333333333333,
              "#9c179e"
             ],
             [
              0.4444444444444444,
              "#bd3786"
             ],
             [
              0.5555555555555556,
              "#d8576b"
             ],
             [
              0.6666666666666666,
              "#ed7953"
             ],
             [
              0.7777777777777778,
              "#fb9f3a"
             ],
             [
              0.8888888888888888,
              "#fdca26"
             ],
             [
              1,
              "#f0f921"
             ]
            ],
            "type": "histogram2d"
           }
          ],
          "histogram2dcontour": [
           {
            "colorbar": {
             "outlinewidth": 0,
             "ticks": ""
            },
            "colorscale": [
             [
              0,
              "#0d0887"
             ],
             [
              0.1111111111111111,
              "#46039f"
             ],
             [
              0.2222222222222222,
              "#7201a8"
             ],
             [
              0.3333333333333333,
              "#9c179e"
             ],
             [
              0.4444444444444444,
              "#bd3786"
             ],
             [
              0.5555555555555556,
              "#d8576b"
             ],
             [
              0.6666666666666666,
              "#ed7953"
             ],
             [
              0.7777777777777778,
              "#fb9f3a"
             ],
             [
              0.8888888888888888,
              "#fdca26"
             ],
             [
              1,
              "#f0f921"
             ]
            ],
            "type": "histogram2dcontour"
           }
          ],
          "mesh3d": [
           {
            "colorbar": {
             "outlinewidth": 0,
             "ticks": ""
            },
            "type": "mesh3d"
           }
          ],
          "parcoords": [
           {
            "line": {
             "colorbar": {
              "outlinewidth": 0,
              "ticks": ""
             }
            },
            "type": "parcoords"
           }
          ],
          "pie": [
           {
            "automargin": true,
            "type": "pie"
           }
          ],
          "scatter": [
           {
            "marker": {
             "colorbar": {
              "outlinewidth": 0,
              "ticks": ""
             }
            },
            "type": "scatter"
           }
          ],
          "scatter3d": [
           {
            "line": {
             "colorbar": {
              "outlinewidth": 0,
              "ticks": ""
             }
            },
            "marker": {
             "colorbar": {
              "outlinewidth": 0,
              "ticks": ""
             }
            },
            "type": "scatter3d"
           }
          ],
          "scattercarpet": [
           {
            "marker": {
             "colorbar": {
              "outlinewidth": 0,
              "ticks": ""
             }
            },
            "type": "scattercarpet"
           }
          ],
          "scattergeo": [
           {
            "marker": {
             "colorbar": {
              "outlinewidth": 0,
              "ticks": ""
             }
            },
            "type": "scattergeo"
           }
          ],
          "scattergl": [
           {
            "marker": {
             "colorbar": {
              "outlinewidth": 0,
              "ticks": ""
             }
            },
            "type": "scattergl"
           }
          ],
          "scattermapbox": [
           {
            "marker": {
             "colorbar": {
              "outlinewidth": 0,
              "ticks": ""
             }
            },
            "type": "scattermapbox"
           }
          ],
          "scatterpolar": [
           {
            "marker": {
             "colorbar": {
              "outlinewidth": 0,
              "ticks": ""
             }
            },
            "type": "scatterpolar"
           }
          ],
          "scatterpolargl": [
           {
            "marker": {
             "colorbar": {
              "outlinewidth": 0,
              "ticks": ""
             }
            },
            "type": "scatterpolargl"
           }
          ],
          "scatterternary": [
           {
            "marker": {
             "colorbar": {
              "outlinewidth": 0,
              "ticks": ""
             }
            },
            "type": "scatterternary"
           }
          ],
          "surface": [
           {
            "colorbar": {
             "outlinewidth": 0,
             "ticks": ""
            },
            "colorscale": [
             [
              0,
              "#0d0887"
             ],
             [
              0.1111111111111111,
              "#46039f"
             ],
             [
              0.2222222222222222,
              "#7201a8"
             ],
             [
              0.3333333333333333,
              "#9c179e"
             ],
             [
              0.4444444444444444,
              "#bd3786"
             ],
             [
              0.5555555555555556,
              "#d8576b"
             ],
             [
              0.6666666666666666,
              "#ed7953"
             ],
             [
              0.7777777777777778,
              "#fb9f3a"
             ],
             [
              0.8888888888888888,
              "#fdca26"
             ],
             [
              1,
              "#f0f921"
             ]
            ],
            "type": "surface"
           }
          ],
          "table": [
           {
            "cells": {
             "fill": {
              "color": "#EBF0F8"
             },
             "line": {
              "color": "white"
             }
            },
            "header": {
             "fill": {
              "color": "#C8D4E3"
             },
             "line": {
              "color": "white"
             }
            },
            "type": "table"
           }
          ]
         },
         "layout": {
          "annotationdefaults": {
           "arrowcolor": "#2a3f5f",
           "arrowhead": 0,
           "arrowwidth": 1
          },
          "coloraxis": {
           "colorbar": {
            "outlinewidth": 0,
            "ticks": ""
           }
          },
          "colorscale": {
           "diverging": [
            [
             0,
             "#8e0152"
            ],
            [
             0.1,
             "#c51b7d"
            ],
            [
             0.2,
             "#de77ae"
            ],
            [
             0.3,
             "#f1b6da"
            ],
            [
             0.4,
             "#fde0ef"
            ],
            [
             0.5,
             "#f7f7f7"
            ],
            [
             0.6,
             "#e6f5d0"
            ],
            [
             0.7,
             "#b8e186"
            ],
            [
             0.8,
             "#7fbc41"
            ],
            [
             0.9,
             "#4d9221"
            ],
            [
             1,
             "#276419"
            ]
           ],
           "sequential": [
            [
             0,
             "#0d0887"
            ],
            [
             0.1111111111111111,
             "#46039f"
            ],
            [
             0.2222222222222222,
             "#7201a8"
            ],
            [
             0.3333333333333333,
             "#9c179e"
            ],
            [
             0.4444444444444444,
             "#bd3786"
            ],
            [
             0.5555555555555556,
             "#d8576b"
            ],
            [
             0.6666666666666666,
             "#ed7953"
            ],
            [
             0.7777777777777778,
             "#fb9f3a"
            ],
            [
             0.8888888888888888,
             "#fdca26"
            ],
            [
             1,
             "#f0f921"
            ]
           ],
           "sequentialminus": [
            [
             0,
             "#0d0887"
            ],
            [
             0.1111111111111111,
             "#46039f"
            ],
            [
             0.2222222222222222,
             "#7201a8"
            ],
            [
             0.3333333333333333,
             "#9c179e"
            ],
            [
             0.4444444444444444,
             "#bd3786"
            ],
            [
             0.5555555555555556,
             "#d8576b"
            ],
            [
             0.6666666666666666,
             "#ed7953"
            ],
            [
             0.7777777777777778,
             "#fb9f3a"
            ],
            [
             0.8888888888888888,
             "#fdca26"
            ],
            [
             1,
             "#f0f921"
            ]
           ]
          },
          "colorway": [
           "#636efa",
           "#EF553B",
           "#00cc96",
           "#ab63fa",
           "#FFA15A",
           "#19d3f3",
           "#FF6692",
           "#B6E880",
           "#FF97FF",
           "#FECB52"
          ],
          "font": {
           "color": "#2a3f5f"
          },
          "geo": {
           "bgcolor": "white",
           "lakecolor": "white",
           "landcolor": "#E5ECF6",
           "showlakes": true,
           "showland": true,
           "subunitcolor": "white"
          },
          "hoverlabel": {
           "align": "left"
          },
          "hovermode": "closest",
          "mapbox": {
           "style": "light"
          },
          "paper_bgcolor": "white",
          "plot_bgcolor": "#E5ECF6",
          "polar": {
           "angularaxis": {
            "gridcolor": "white",
            "linecolor": "white",
            "ticks": ""
           },
           "bgcolor": "#E5ECF6",
           "radialaxis": {
            "gridcolor": "white",
            "linecolor": "white",
            "ticks": ""
           }
          },
          "scene": {
           "xaxis": {
            "backgroundcolor": "#E5ECF6",
            "gridcolor": "white",
            "gridwidth": 2,
            "linecolor": "white",
            "showbackground": true,
            "ticks": "",
            "zerolinecolor": "white"
           },
           "yaxis": {
            "backgroundcolor": "#E5ECF6",
            "gridcolor": "white",
            "gridwidth": 2,
            "linecolor": "white",
            "showbackground": true,
            "ticks": "",
            "zerolinecolor": "white"
           },
           "zaxis": {
            "backgroundcolor": "#E5ECF6",
            "gridcolor": "white",
            "gridwidth": 2,
            "linecolor": "white",
            "showbackground": true,
            "ticks": "",
            "zerolinecolor": "white"
           }
          },
          "shapedefaults": {
           "line": {
            "color": "#2a3f5f"
           }
          },
          "ternary": {
           "aaxis": {
            "gridcolor": "white",
            "linecolor": "white",
            "ticks": ""
           },
           "baxis": {
            "gridcolor": "white",
            "linecolor": "white",
            "ticks": ""
           },
           "bgcolor": "#E5ECF6",
           "caxis": {
            "gridcolor": "white",
            "linecolor": "white",
            "ticks": ""
           }
          },
          "title": {
           "x": 0.05
          },
          "xaxis": {
           "automargin": true,
           "gridcolor": "white",
           "linecolor": "white",
           "ticks": "",
           "title": {
            "standoff": 15
           },
           "zerolinecolor": "white",
           "zerolinewidth": 2
          },
          "yaxis": {
           "automargin": true,
           "gridcolor": "white",
           "linecolor": "white",
           "ticks": "",
           "title": {
            "standoff": 15
           },
           "zerolinecolor": "white",
           "zerolinewidth": 2
          }
         }
        },
        "width": 600
       }
      },
      "text/html": [
       "<div>\n",
       "        \n",
       "        \n",
       "            <div id=\"fb80a609-7100-41ff-a1f5-3c6bc35295d3\" class=\"plotly-graph-div\" style=\"height:300px; width:600px;\"></div>\n",
       "            <script type=\"text/javascript\">\n",
       "                require([\"plotly\"], function(Plotly) {\n",
       "                    window.PLOTLYENV=window.PLOTLYENV || {};\n",
       "                    \n",
       "                if (document.getElementById(\"fb80a609-7100-41ff-a1f5-3c6bc35295d3\")) {\n",
       "                    Plotly.newPlot(\n",
       "                        'fb80a609-7100-41ff-a1f5-3c6bc35295d3',\n",
       "                        [{\"mode\": \"lines\", \"name\": \"bed\", \"type\": \"scatter\", \"x\": [0.0, 0.0, 37.0, 37.0], \"y\": [-2, 2, 2, -2]}, {\"mode\": \"lines\", \"name\": \"lying\", \"type\": \"scatter\", \"x\": [37.75, 37.75, 74.25, 74.25], \"y\": [-2, 2, 2, -2]}, {\"mode\": \"lines\", \"name\": \"bed\", \"type\": \"scatter\", \"x\": [76.0, 76.0, 103.25, 103.25], \"y\": [-2, 2, 2, -2]}, {\"mode\": \"lines\", \"name\": \"ambulating\", \"type\": \"scatter\", \"x\": [104.0, 104.0, 111.5, 111.5], \"y\": [-2, 2, 2, -2]}, {\"mode\": \"lines\", \"name\": \"chair\", \"type\": \"scatter\", \"x\": [116.0, 116.0, 193.0, 193.0], \"y\": [-2, 2, 2, -2]}, {\"mode\": \"lines\", \"name\": \"ambulating\", \"type\": \"scatter\", \"x\": [194.5, 194.5, 198.25, 198.25], \"y\": [-2, 2, 2, -2]}, {\"mode\": \"lines\", \"name\": \"bed\", \"type\": \"scatter\", \"x\": [199.5, 199.5, 200.33, 200.33], \"y\": [-2, 2, 2, -2]}, {\"mode\": \"lines\", \"name\": \"lying\", \"type\": \"scatter\", \"x\": [200.75, 200.75, 248.0, 248.0], \"y\": [-2, 2, 2, -2]}, {\"mode\": \"lines\", \"name\": \"bed\", \"type\": \"scatter\", \"x\": [250.0, 250.0, 254.0, 254.0], \"y\": [-2, 2, 2, -2]}],\n",
       "                        {\"height\": 300, \"margin\": {\"b\": 0, \"l\": 0, \"r\": 0, \"t\": 32}, \"template\": {\"data\": {\"bar\": [{\"error_x\": {\"color\": \"#2a3f5f\"}, \"error_y\": {\"color\": \"#2a3f5f\"}, \"marker\": {\"line\": {\"color\": \"#E5ECF6\", \"width\": 0.5}}, \"type\": \"bar\"}], \"barpolar\": [{\"marker\": {\"line\": {\"color\": \"#E5ECF6\", \"width\": 0.5}}, \"type\": \"barpolar\"}], \"carpet\": [{\"aaxis\": {\"endlinecolor\": \"#2a3f5f\", \"gridcolor\": \"white\", \"linecolor\": \"white\", \"minorgridcolor\": \"white\", \"startlinecolor\": \"#2a3f5f\"}, \"baxis\": {\"endlinecolor\": \"#2a3f5f\", \"gridcolor\": \"white\", \"linecolor\": \"white\", \"minorgridcolor\": \"white\", \"startlinecolor\": \"#2a3f5f\"}, \"type\": \"carpet\"}], \"choropleth\": [{\"colorbar\": {\"outlinewidth\": 0, \"ticks\": \"\"}, \"type\": \"choropleth\"}], \"contour\": [{\"colorbar\": {\"outlinewidth\": 0, \"ticks\": \"\"}, \"colorscale\": [[0.0, \"#0d0887\"], [0.1111111111111111, \"#46039f\"], [0.2222222222222222, \"#7201a8\"], [0.3333333333333333, \"#9c179e\"], [0.4444444444444444, \"#bd3786\"], [0.5555555555555556, \"#d8576b\"], [0.6666666666666666, \"#ed7953\"], [0.7777777777777778, \"#fb9f3a\"], [0.8888888888888888, \"#fdca26\"], [1.0, \"#f0f921\"]], \"type\": \"contour\"}], \"contourcarpet\": [{\"colorbar\": {\"outlinewidth\": 0, \"ticks\": \"\"}, \"type\": \"contourcarpet\"}], \"heatmap\": [{\"colorbar\": {\"outlinewidth\": 0, \"ticks\": \"\"}, \"colorscale\": [[0.0, \"#0d0887\"], [0.1111111111111111, \"#46039f\"], [0.2222222222222222, \"#7201a8\"], [0.3333333333333333, \"#9c179e\"], [0.4444444444444444, \"#bd3786\"], [0.5555555555555556, \"#d8576b\"], [0.6666666666666666, \"#ed7953\"], [0.7777777777777778, \"#fb9f3a\"], [0.8888888888888888, \"#fdca26\"], [1.0, \"#f0f921\"]], \"type\": \"heatmap\"}], \"heatmapgl\": [{\"colorbar\": {\"outlinewidth\": 0, \"ticks\": \"\"}, \"colorscale\": [[0.0, \"#0d0887\"], [0.1111111111111111, \"#46039f\"], [0.2222222222222222, \"#7201a8\"], [0.3333333333333333, \"#9c179e\"], [0.4444444444444444, \"#bd3786\"], [0.5555555555555556, \"#d8576b\"], [0.6666666666666666, \"#ed7953\"], [0.7777777777777778, \"#fb9f3a\"], [0.8888888888888888, \"#fdca26\"], [1.0, \"#f0f921\"]], \"type\": \"heatmapgl\"}], \"histogram\": [{\"marker\": {\"colorbar\": {\"outlinewidth\": 0, \"ticks\": \"\"}}, \"type\": \"histogram\"}], \"histogram2d\": [{\"colorbar\": {\"outlinewidth\": 0, \"ticks\": \"\"}, \"colorscale\": [[0.0, \"#0d0887\"], [0.1111111111111111, \"#46039f\"], [0.2222222222222222, \"#7201a8\"], [0.3333333333333333, \"#9c179e\"], [0.4444444444444444, \"#bd3786\"], [0.5555555555555556, \"#d8576b\"], [0.6666666666666666, \"#ed7953\"], [0.7777777777777778, \"#fb9f3a\"], [0.8888888888888888, \"#fdca26\"], [1.0, \"#f0f921\"]], \"type\": \"histogram2d\"}], \"histogram2dcontour\": [{\"colorbar\": {\"outlinewidth\": 0, \"ticks\": \"\"}, \"colorscale\": [[0.0, \"#0d0887\"], [0.1111111111111111, \"#46039f\"], [0.2222222222222222, \"#7201a8\"], [0.3333333333333333, \"#9c179e\"], [0.4444444444444444, \"#bd3786\"], [0.5555555555555556, \"#d8576b\"], [0.6666666666666666, \"#ed7953\"], [0.7777777777777778, \"#fb9f3a\"], [0.8888888888888888, \"#fdca26\"], [1.0, \"#f0f921\"]], \"type\": \"histogram2dcontour\"}], \"mesh3d\": [{\"colorbar\": {\"outlinewidth\": 0, \"ticks\": \"\"}, \"type\": \"mesh3d\"}], \"parcoords\": [{\"line\": {\"colorbar\": {\"outlinewidth\": 0, \"ticks\": \"\"}}, \"type\": \"parcoords\"}], \"pie\": [{\"automargin\": true, \"type\": \"pie\"}], \"scatter\": [{\"marker\": {\"colorbar\": {\"outlinewidth\": 0, \"ticks\": \"\"}}, \"type\": \"scatter\"}], \"scatter3d\": [{\"line\": {\"colorbar\": {\"outlinewidth\": 0, \"ticks\": \"\"}}, \"marker\": {\"colorbar\": {\"outlinewidth\": 0, \"ticks\": \"\"}}, \"type\": \"scatter3d\"}], \"scattercarpet\": [{\"marker\": {\"colorbar\": {\"outlinewidth\": 0, \"ticks\": \"\"}}, \"type\": \"scattercarpet\"}], \"scattergeo\": [{\"marker\": {\"colorbar\": {\"outlinewidth\": 0, \"ticks\": \"\"}}, \"type\": \"scattergeo\"}], \"scattergl\": [{\"marker\": {\"colorbar\": {\"outlinewidth\": 0, \"ticks\": \"\"}}, \"type\": \"scattergl\"}], \"scattermapbox\": [{\"marker\": {\"colorbar\": {\"outlinewidth\": 0, \"ticks\": \"\"}}, \"type\": \"scattermapbox\"}], \"scatterpolar\": [{\"marker\": {\"colorbar\": {\"outlinewidth\": 0, \"ticks\": \"\"}}, \"type\": \"scatterpolar\"}], \"scatterpolargl\": [{\"marker\": {\"colorbar\": {\"outlinewidth\": 0, \"ticks\": \"\"}}, \"type\": \"scatterpolargl\"}], \"scatterternary\": [{\"marker\": {\"colorbar\": {\"outlinewidth\": 0, \"ticks\": \"\"}}, \"type\": \"scatterternary\"}], \"surface\": [{\"colorbar\": {\"outlinewidth\": 0, \"ticks\": \"\"}, \"colorscale\": [[0.0, \"#0d0887\"], [0.1111111111111111, \"#46039f\"], [0.2222222222222222, \"#7201a8\"], [0.3333333333333333, \"#9c179e\"], [0.4444444444444444, \"#bd3786\"], [0.5555555555555556, \"#d8576b\"], [0.6666666666666666, \"#ed7953\"], [0.7777777777777778, \"#fb9f3a\"], [0.8888888888888888, \"#fdca26\"], [1.0, \"#f0f921\"]], \"type\": \"surface\"}], \"table\": [{\"cells\": {\"fill\": {\"color\": \"#EBF0F8\"}, \"line\": {\"color\": \"white\"}}, \"header\": {\"fill\": {\"color\": \"#C8D4E3\"}, \"line\": {\"color\": \"white\"}}, \"type\": \"table\"}]}, \"layout\": {\"annotationdefaults\": {\"arrowcolor\": \"#2a3f5f\", \"arrowhead\": 0, \"arrowwidth\": 1}, \"coloraxis\": {\"colorbar\": {\"outlinewidth\": 0, \"ticks\": \"\"}}, \"colorscale\": {\"diverging\": [[0, \"#8e0152\"], [0.1, \"#c51b7d\"], [0.2, \"#de77ae\"], [0.3, \"#f1b6da\"], [0.4, \"#fde0ef\"], [0.5, \"#f7f7f7\"], [0.6, \"#e6f5d0\"], [0.7, \"#b8e186\"], [0.8, \"#7fbc41\"], [0.9, \"#4d9221\"], [1, \"#276419\"]], \"sequential\": [[0.0, \"#0d0887\"], [0.1111111111111111, \"#46039f\"], [0.2222222222222222, \"#7201a8\"], [0.3333333333333333, \"#9c179e\"], [0.4444444444444444, \"#bd3786\"], [0.5555555555555556, \"#d8576b\"], [0.6666666666666666, \"#ed7953\"], [0.7777777777777778, \"#fb9f3a\"], [0.8888888888888888, \"#fdca26\"], [1.0, \"#f0f921\"]], \"sequentialminus\": [[0.0, \"#0d0887\"], [0.1111111111111111, \"#46039f\"], [0.2222222222222222, \"#7201a8\"], [0.3333333333333333, \"#9c179e\"], [0.4444444444444444, \"#bd3786\"], [0.5555555555555556, \"#d8576b\"], [0.6666666666666666, \"#ed7953\"], [0.7777777777777778, \"#fb9f3a\"], [0.8888888888888888, \"#fdca26\"], [1.0, \"#f0f921\"]]}, \"colorway\": [\"#636efa\", \"#EF553B\", \"#00cc96\", \"#ab63fa\", \"#FFA15A\", \"#19d3f3\", \"#FF6692\", \"#B6E880\", \"#FF97FF\", \"#FECB52\"], \"font\": {\"color\": \"#2a3f5f\"}, \"geo\": {\"bgcolor\": \"white\", \"lakecolor\": \"white\", \"landcolor\": \"#E5ECF6\", \"showlakes\": true, \"showland\": true, \"subunitcolor\": \"white\"}, \"hoverlabel\": {\"align\": \"left\"}, \"hovermode\": \"closest\", \"mapbox\": {\"style\": \"light\"}, \"paper_bgcolor\": \"white\", \"plot_bgcolor\": \"#E5ECF6\", \"polar\": {\"angularaxis\": {\"gridcolor\": \"white\", \"linecolor\": \"white\", \"ticks\": \"\"}, \"bgcolor\": \"#E5ECF6\", \"radialaxis\": {\"gridcolor\": \"white\", \"linecolor\": \"white\", \"ticks\": \"\"}}, \"scene\": {\"xaxis\": {\"backgroundcolor\": \"#E5ECF6\", \"gridcolor\": \"white\", \"gridwidth\": 2, \"linecolor\": \"white\", \"showbackground\": true, \"ticks\": \"\", \"zerolinecolor\": \"white\"}, \"yaxis\": {\"backgroundcolor\": \"#E5ECF6\", \"gridcolor\": \"white\", \"gridwidth\": 2, \"linecolor\": \"white\", \"showbackground\": true, \"ticks\": \"\", \"zerolinecolor\": \"white\"}, \"zaxis\": {\"backgroundcolor\": \"#E5ECF6\", \"gridcolor\": \"white\", \"gridwidth\": 2, \"linecolor\": \"white\", \"showbackground\": true, \"ticks\": \"\", \"zerolinecolor\": \"white\"}}, \"shapedefaults\": {\"line\": {\"color\": \"#2a3f5f\"}}, \"ternary\": {\"aaxis\": {\"gridcolor\": \"white\", \"linecolor\": \"white\", \"ticks\": \"\"}, \"baxis\": {\"gridcolor\": \"white\", \"linecolor\": \"white\", \"ticks\": \"\"}, \"bgcolor\": \"#E5ECF6\", \"caxis\": {\"gridcolor\": \"white\", \"linecolor\": \"white\", \"ticks\": \"\"}}, \"title\": {\"x\": 0.05}, \"xaxis\": {\"automargin\": true, \"gridcolor\": \"white\", \"linecolor\": \"white\", \"ticks\": \"\", \"title\": {\"standoff\": 15}, \"zerolinecolor\": \"white\", \"zerolinewidth\": 2}, \"yaxis\": {\"automargin\": true, \"gridcolor\": \"white\", \"linecolor\": \"white\", \"ticks\": \"\", \"title\": {\"standoff\": 15}, \"zerolinecolor\": \"white\", \"zerolinewidth\": 2}}}, \"width\": 600},\n",
       "                        {\"responsive\": true}\n",
       "                    ).then(function(){\n",
       "                            \n",
       "var gd = document.getElementById('fb80a609-7100-41ff-a1f5-3c6bc35295d3');\n",
       "var x = new MutationObserver(function (mutations, observer) {{\n",
       "        var display = window.getComputedStyle(gd).display;\n",
       "        if (!display || display === 'none') {{\n",
       "            console.log([gd, 'removed!']);\n",
       "            Plotly.purge(gd);\n",
       "            observer.disconnect();\n",
       "        }}\n",
       "}});\n",
       "\n",
       "// Listen for the removal of the full notebook cells\n",
       "var notebookContainer = gd.closest('#notebook-container');\n",
       "if (notebookContainer) {{\n",
       "    x.observe(notebookContainer, {childList: true});\n",
       "}}\n",
       "\n",
       "// Listen for the clearing of the current output cell\n",
       "var outputEl = gd.closest('.output');\n",
       "if (outputEl) {{\n",
       "    x.observe(outputEl, {childList: true});\n",
       "}}\n",
       "\n",
       "                        })\n",
       "                };\n",
       "                });\n",
       "            </script>\n",
       "        </div>"
      ]
     },
     "metadata": {},
     "output_type": "display_data"
    }
   ],
   "source": [
    "fig = go.Figure(layout={**layout, 'width': 600})\n",
    "for _, activity_df in df.groupby('activity_sequence'):\n",
    "    start = activity_df['time'].min()\n",
    "    end = activity_df['time'].max()\n",
    "    name = activity_df['activity_label'].unique()[0]\n",
    "    fig.add_trace(\n",
    "        go.Scatter(\n",
    "            x=[start, start, end, end], \n",
    "            y=[-2, 2, 2, -2], # Chosen arbitrarily\n",
    "            mode='lines', \n",
    "            name=name))\n",
    "\n",
    "fig.show()"
   ]
  },
  {
   "cell_type": "markdown",
   "metadata": {},
   "source": [
    "This plot has some problems, the rectangles are not joined up, and actually we don't really want the lines, just the rectangles filled in. To overcome these problems, we can add `mode='none'` and `fill='toself'` to the `Scatter` constructor. \n",
    "\n",
    "In addition the colors are different for activities with the same name. We can define a dictionary containing the colors for each activity and pass the `fillcolor` keyword argument to the `Scatter` constructor. We also use the `opacity` keyword so we can see the grid lines through the rectangles. For simplicity, we use colors conviniently defined in the `plotly.express` API: "
   ]
  },
  {
   "cell_type": "code",
   "execution_count": 73,
   "metadata": {},
   "outputs": [
    {
     "data": {
      "application/vnd.plotly.v1+json": {
       "config": {
        "plotlyServerURL": "https://plot.ly"
       },
       "data": [
        {
         "fill": "toself",
         "fillcolor": "rgb(102, 197, 204)",
         "mode": "none",
         "name": "bed",
         "opacity": 0.333,
         "type": "scatter",
         "x": [
          0,
          0,
          37,
          37
         ],
         "y": [
          -2,
          2,
          2,
          -2
         ]
        },
        {
         "fill": "toself",
         "fillcolor": "rgb(248, 156, 116)",
         "mode": "none",
         "name": "lying",
         "opacity": 0.333,
         "type": "scatter",
         "x": [
          37.75,
          37.75,
          74.25,
          74.25
         ],
         "y": [
          -2,
          2,
          2,
          -2
         ]
        },
        {
         "fill": "toself",
         "fillcolor": "rgb(102, 197, 204)",
         "mode": "none",
         "name": "bed",
         "opacity": 0.333,
         "type": "scatter",
         "x": [
          76,
          76,
          103.25,
          103.25
         ],
         "y": [
          -2,
          2,
          2,
          -2
         ]
        },
        {
         "fill": "toself",
         "fillcolor": "rgb(246, 207, 113)",
         "mode": "none",
         "name": "ambulating",
         "opacity": 0.333,
         "type": "scatter",
         "x": [
          104,
          104,
          111.5,
          111.5
         ],
         "y": [
          -2,
          2,
          2,
          -2
         ]
        },
        {
         "fill": "toself",
         "fillcolor": "rgb(220, 176, 242)",
         "mode": "none",
         "name": "chair",
         "opacity": 0.333,
         "type": "scatter",
         "x": [
          116,
          116,
          193,
          193
         ],
         "y": [
          -2,
          2,
          2,
          -2
         ]
        },
        {
         "fill": "toself",
         "fillcolor": "rgb(246, 207, 113)",
         "mode": "none",
         "name": "ambulating",
         "opacity": 0.333,
         "type": "scatter",
         "x": [
          194.5,
          194.5,
          198.25,
          198.25
         ],
         "y": [
          -2,
          2,
          2,
          -2
         ]
        },
        {
         "fill": "toself",
         "fillcolor": "rgb(102, 197, 204)",
         "mode": "none",
         "name": "bed",
         "opacity": 0.333,
         "type": "scatter",
         "x": [
          199.5,
          199.5,
          200.33,
          200.33
         ],
         "y": [
          -2,
          2,
          2,
          -2
         ]
        },
        {
         "fill": "toself",
         "fillcolor": "rgb(248, 156, 116)",
         "mode": "none",
         "name": "lying",
         "opacity": 0.333,
         "type": "scatter",
         "x": [
          200.75,
          200.75,
          248,
          248
         ],
         "y": [
          -2,
          2,
          2,
          -2
         ]
        },
        {
         "fill": "toself",
         "fillcolor": "rgb(102, 197, 204)",
         "mode": "none",
         "name": "bed",
         "opacity": 0.333,
         "type": "scatter",
         "x": [
          250,
          250,
          254,
          254
         ],
         "y": [
          -2,
          2,
          2,
          -2
         ]
        }
       ],
       "layout": {
        "height": 300,
        "margin": {
         "b": 0,
         "l": 0,
         "r": 0,
         "t": 32
        },
        "template": {
         "data": {
          "bar": [
           {
            "error_x": {
             "color": "#2a3f5f"
            },
            "error_y": {
             "color": "#2a3f5f"
            },
            "marker": {
             "line": {
              "color": "#E5ECF6",
              "width": 0.5
             }
            },
            "type": "bar"
           }
          ],
          "barpolar": [
           {
            "marker": {
             "line": {
              "color": "#E5ECF6",
              "width": 0.5
             }
            },
            "type": "barpolar"
           }
          ],
          "carpet": [
           {
            "aaxis": {
             "endlinecolor": "#2a3f5f",
             "gridcolor": "white",
             "linecolor": "white",
             "minorgridcolor": "white",
             "startlinecolor": "#2a3f5f"
            },
            "baxis": {
             "endlinecolor": "#2a3f5f",
             "gridcolor": "white",
             "linecolor": "white",
             "minorgridcolor": "white",
             "startlinecolor": "#2a3f5f"
            },
            "type": "carpet"
           }
          ],
          "choropleth": [
           {
            "colorbar": {
             "outlinewidth": 0,
             "ticks": ""
            },
            "type": "choropleth"
           }
          ],
          "contour": [
           {
            "colorbar": {
             "outlinewidth": 0,
             "ticks": ""
            },
            "colorscale": [
             [
              0,
              "#0d0887"
             ],
             [
              0.1111111111111111,
              "#46039f"
             ],
             [
              0.2222222222222222,
              "#7201a8"
             ],
             [
              0.3333333333333333,
              "#9c179e"
             ],
             [
              0.4444444444444444,
              "#bd3786"
             ],
             [
              0.5555555555555556,
              "#d8576b"
             ],
             [
              0.6666666666666666,
              "#ed7953"
             ],
             [
              0.7777777777777778,
              "#fb9f3a"
             ],
             [
              0.8888888888888888,
              "#fdca26"
             ],
             [
              1,
              "#f0f921"
             ]
            ],
            "type": "contour"
           }
          ],
          "contourcarpet": [
           {
            "colorbar": {
             "outlinewidth": 0,
             "ticks": ""
            },
            "type": "contourcarpet"
           }
          ],
          "heatmap": [
           {
            "colorbar": {
             "outlinewidth": 0,
             "ticks": ""
            },
            "colorscale": [
             [
              0,
              "#0d0887"
             ],
             [
              0.1111111111111111,
              "#46039f"
             ],
             [
              0.2222222222222222,
              "#7201a8"
             ],
             [
              0.3333333333333333,
              "#9c179e"
             ],
             [
              0.4444444444444444,
              "#bd3786"
             ],
             [
              0.5555555555555556,
              "#d8576b"
             ],
             [
              0.6666666666666666,
              "#ed7953"
             ],
             [
              0.7777777777777778,
              "#fb9f3a"
             ],
             [
              0.8888888888888888,
              "#fdca26"
             ],
             [
              1,
              "#f0f921"
             ]
            ],
            "type": "heatmap"
           }
          ],
          "heatmapgl": [
           {
            "colorbar": {
             "outlinewidth": 0,
             "ticks": ""
            },
            "colorscale": [
             [
              0,
              "#0d0887"
             ],
             [
              0.1111111111111111,
              "#46039f"
             ],
             [
              0.2222222222222222,
              "#7201a8"
             ],
             [
              0.3333333333333333,
              "#9c179e"
             ],
             [
              0.4444444444444444,
              "#bd3786"
             ],
             [
              0.5555555555555556,
              "#d8576b"
             ],
             [
              0.6666666666666666,
              "#ed7953"
             ],
             [
              0.7777777777777778,
              "#fb9f3a"
             ],
             [
              0.8888888888888888,
              "#fdca26"
             ],
             [
              1,
              "#f0f921"
             ]
            ],
            "type": "heatmapgl"
           }
          ],
          "histogram": [
           {
            "marker": {
             "colorbar": {
              "outlinewidth": 0,
              "ticks": ""
             }
            },
            "type": "histogram"
           }
          ],
          "histogram2d": [
           {
            "colorbar": {
             "outlinewidth": 0,
             "ticks": ""
            },
            "colorscale": [
             [
              0,
              "#0d0887"
             ],
             [
              0.1111111111111111,
              "#46039f"
             ],
             [
              0.2222222222222222,
              "#7201a8"
             ],
             [
              0.3333333333333333,
              "#9c179e"
             ],
             [
              0.4444444444444444,
              "#bd3786"
             ],
             [
              0.5555555555555556,
              "#d8576b"
             ],
             [
              0.6666666666666666,
              "#ed7953"
             ],
             [
              0.7777777777777778,
              "#fb9f3a"
             ],
             [
              0.8888888888888888,
              "#fdca26"
             ],
             [
              1,
              "#f0f921"
             ]
            ],
            "type": "histogram2d"
           }
          ],
          "histogram2dcontour": [
           {
            "colorbar": {
             "outlinewidth": 0,
             "ticks": ""
            },
            "colorscale": [
             [
              0,
              "#0d0887"
             ],
             [
              0.1111111111111111,
              "#46039f"
             ],
             [
              0.2222222222222222,
              "#7201a8"
             ],
             [
              0.3333333333333333,
              "#9c179e"
             ],
             [
              0.4444444444444444,
              "#bd3786"
             ],
             [
              0.5555555555555556,
              "#d8576b"
             ],
             [
              0.6666666666666666,
              "#ed7953"
             ],
             [
              0.7777777777777778,
              "#fb9f3a"
             ],
             [
              0.8888888888888888,
              "#fdca26"
             ],
             [
              1,
              "#f0f921"
             ]
            ],
            "type": "histogram2dcontour"
           }
          ],
          "mesh3d": [
           {
            "colorbar": {
             "outlinewidth": 0,
             "ticks": ""
            },
            "type": "mesh3d"
           }
          ],
          "parcoords": [
           {
            "line": {
             "colorbar": {
              "outlinewidth": 0,
              "ticks": ""
             }
            },
            "type": "parcoords"
           }
          ],
          "pie": [
           {
            "automargin": true,
            "type": "pie"
           }
          ],
          "scatter": [
           {
            "marker": {
             "colorbar": {
              "outlinewidth": 0,
              "ticks": ""
             }
            },
            "type": "scatter"
           }
          ],
          "scatter3d": [
           {
            "line": {
             "colorbar": {
              "outlinewidth": 0,
              "ticks": ""
             }
            },
            "marker": {
             "colorbar": {
              "outlinewidth": 0,
              "ticks": ""
             }
            },
            "type": "scatter3d"
           }
          ],
          "scattercarpet": [
           {
            "marker": {
             "colorbar": {
              "outlinewidth": 0,
              "ticks": ""
             }
            },
            "type": "scattercarpet"
           }
          ],
          "scattergeo": [
           {
            "marker": {
             "colorbar": {
              "outlinewidth": 0,
              "ticks": ""
             }
            },
            "type": "scattergeo"
           }
          ],
          "scattergl": [
           {
            "marker": {
             "colorbar": {
              "outlinewidth": 0,
              "ticks": ""
             }
            },
            "type": "scattergl"
           }
          ],
          "scattermapbox": [
           {
            "marker": {
             "colorbar": {
              "outlinewidth": 0,
              "ticks": ""
             }
            },
            "type": "scattermapbox"
           }
          ],
          "scatterpolar": [
           {
            "marker": {
             "colorbar": {
              "outlinewidth": 0,
              "ticks": ""
             }
            },
            "type": "scatterpolar"
           }
          ],
          "scatterpolargl": [
           {
            "marker": {
             "colorbar": {
              "outlinewidth": 0,
              "ticks": ""
             }
            },
            "type": "scatterpolargl"
           }
          ],
          "scatterternary": [
           {
            "marker": {
             "colorbar": {
              "outlinewidth": 0,
              "ticks": ""
             }
            },
            "type": "scatterternary"
           }
          ],
          "surface": [
           {
            "colorbar": {
             "outlinewidth": 0,
             "ticks": ""
            },
            "colorscale": [
             [
              0,
              "#0d0887"
             ],
             [
              0.1111111111111111,
              "#46039f"
             ],
             [
              0.2222222222222222,
              "#7201a8"
             ],
             [
              0.3333333333333333,
              "#9c179e"
             ],
             [
              0.4444444444444444,
              "#bd3786"
             ],
             [
              0.5555555555555556,
              "#d8576b"
             ],
             [
              0.6666666666666666,
              "#ed7953"
             ],
             [
              0.7777777777777778,
              "#fb9f3a"
             ],
             [
              0.8888888888888888,
              "#fdca26"
             ],
             [
              1,
              "#f0f921"
             ]
            ],
            "type": "surface"
           }
          ],
          "table": [
           {
            "cells": {
             "fill": {
              "color": "#EBF0F8"
             },
             "line": {
              "color": "white"
             }
            },
            "header": {
             "fill": {
              "color": "#C8D4E3"
             },
             "line": {
              "color": "white"
             }
            },
            "type": "table"
           }
          ]
         },
         "layout": {
          "annotationdefaults": {
           "arrowcolor": "#2a3f5f",
           "arrowhead": 0,
           "arrowwidth": 1
          },
          "coloraxis": {
           "colorbar": {
            "outlinewidth": 0,
            "ticks": ""
           }
          },
          "colorscale": {
           "diverging": [
            [
             0,
             "#8e0152"
            ],
            [
             0.1,
             "#c51b7d"
            ],
            [
             0.2,
             "#de77ae"
            ],
            [
             0.3,
             "#f1b6da"
            ],
            [
             0.4,
             "#fde0ef"
            ],
            [
             0.5,
             "#f7f7f7"
            ],
            [
             0.6,
             "#e6f5d0"
            ],
            [
             0.7,
             "#b8e186"
            ],
            [
             0.8,
             "#7fbc41"
            ],
            [
             0.9,
             "#4d9221"
            ],
            [
             1,
             "#276419"
            ]
           ],
           "sequential": [
            [
             0,
             "#0d0887"
            ],
            [
             0.1111111111111111,
             "#46039f"
            ],
            [
             0.2222222222222222,
             "#7201a8"
            ],
            [
             0.3333333333333333,
             "#9c179e"
            ],
            [
             0.4444444444444444,
             "#bd3786"
            ],
            [
             0.5555555555555556,
             "#d8576b"
            ],
            [
             0.6666666666666666,
             "#ed7953"
            ],
            [
             0.7777777777777778,
             "#fb9f3a"
            ],
            [
             0.8888888888888888,
             "#fdca26"
            ],
            [
             1,
             "#f0f921"
            ]
           ],
           "sequentialminus": [
            [
             0,
             "#0d0887"
            ],
            [
             0.1111111111111111,
             "#46039f"
            ],
            [
             0.2222222222222222,
             "#7201a8"
            ],
            [
             0.3333333333333333,
             "#9c179e"
            ],
            [
             0.4444444444444444,
             "#bd3786"
            ],
            [
             0.5555555555555556,
             "#d8576b"
            ],
            [
             0.6666666666666666,
             "#ed7953"
            ],
            [
             0.7777777777777778,
             "#fb9f3a"
            ],
            [
             0.8888888888888888,
             "#fdca26"
            ],
            [
             1,
             "#f0f921"
            ]
           ]
          },
          "colorway": [
           "#636efa",
           "#EF553B",
           "#00cc96",
           "#ab63fa",
           "#FFA15A",
           "#19d3f3",
           "#FF6692",
           "#B6E880",
           "#FF97FF",
           "#FECB52"
          ],
          "font": {
           "color": "#2a3f5f"
          },
          "geo": {
           "bgcolor": "white",
           "lakecolor": "white",
           "landcolor": "#E5ECF6",
           "showlakes": true,
           "showland": true,
           "subunitcolor": "white"
          },
          "hoverlabel": {
           "align": "left"
          },
          "hovermode": "closest",
          "mapbox": {
           "style": "light"
          },
          "paper_bgcolor": "white",
          "plot_bgcolor": "#E5ECF6",
          "polar": {
           "angularaxis": {
            "gridcolor": "white",
            "linecolor": "white",
            "ticks": ""
           },
           "bgcolor": "#E5ECF6",
           "radialaxis": {
            "gridcolor": "white",
            "linecolor": "white",
            "ticks": ""
           }
          },
          "scene": {
           "xaxis": {
            "backgroundcolor": "#E5ECF6",
            "gridcolor": "white",
            "gridwidth": 2,
            "linecolor": "white",
            "showbackground": true,
            "ticks": "",
            "zerolinecolor": "white"
           },
           "yaxis": {
            "backgroundcolor": "#E5ECF6",
            "gridcolor": "white",
            "gridwidth": 2,
            "linecolor": "white",
            "showbackground": true,
            "ticks": "",
            "zerolinecolor": "white"
           },
           "zaxis": {
            "backgroundcolor": "#E5ECF6",
            "gridcolor": "white",
            "gridwidth": 2,
            "linecolor": "white",
            "showbackground": true,
            "ticks": "",
            "zerolinecolor": "white"
           }
          },
          "shapedefaults": {
           "line": {
            "color": "#2a3f5f"
           }
          },
          "ternary": {
           "aaxis": {
            "gridcolor": "white",
            "linecolor": "white",
            "ticks": ""
           },
           "baxis": {
            "gridcolor": "white",
            "linecolor": "white",
            "ticks": ""
           },
           "bgcolor": "#E5ECF6",
           "caxis": {
            "gridcolor": "white",
            "linecolor": "white",
            "ticks": ""
           }
          },
          "title": {
           "x": 0.05
          },
          "xaxis": {
           "automargin": true,
           "gridcolor": "white",
           "linecolor": "white",
           "ticks": "",
           "title": {
            "standoff": 15
           },
           "zerolinecolor": "white",
           "zerolinewidth": 2
          },
          "yaxis": {
           "automargin": true,
           "gridcolor": "white",
           "linecolor": "white",
           "ticks": "",
           "title": {
            "standoff": 15
           },
           "zerolinecolor": "white",
           "zerolinewidth": 2
          }
         }
        },
        "width": 600
       }
      },
      "text/html": [
       "<div>\n",
       "        \n",
       "        \n",
       "            <div id=\"55636ad3-ffad-4fec-8fc8-d24e6bf362b1\" class=\"plotly-graph-div\" style=\"height:300px; width:600px;\"></div>\n",
       "            <script type=\"text/javascript\">\n",
       "                require([\"plotly\"], function(Plotly) {\n",
       "                    window.PLOTLYENV=window.PLOTLYENV || {};\n",
       "                    \n",
       "                if (document.getElementById(\"55636ad3-ffad-4fec-8fc8-d24e6bf362b1\")) {\n",
       "                    Plotly.newPlot(\n",
       "                        '55636ad3-ffad-4fec-8fc8-d24e6bf362b1',\n",
       "                        [{\"fill\": \"toself\", \"fillcolor\": \"rgb(102, 197, 204)\", \"mode\": \"none\", \"name\": \"bed\", \"opacity\": 0.333, \"type\": \"scatter\", \"x\": [0.0, 0.0, 37.0, 37.0], \"y\": [-2, 2, 2, -2]}, {\"fill\": \"toself\", \"fillcolor\": \"rgb(248, 156, 116)\", \"mode\": \"none\", \"name\": \"lying\", \"opacity\": 0.333, \"type\": \"scatter\", \"x\": [37.75, 37.75, 74.25, 74.25], \"y\": [-2, 2, 2, -2]}, {\"fill\": \"toself\", \"fillcolor\": \"rgb(102, 197, 204)\", \"mode\": \"none\", \"name\": \"bed\", \"opacity\": 0.333, \"type\": \"scatter\", \"x\": [76.0, 76.0, 103.25, 103.25], \"y\": [-2, 2, 2, -2]}, {\"fill\": \"toself\", \"fillcolor\": \"rgb(246, 207, 113)\", \"mode\": \"none\", \"name\": \"ambulating\", \"opacity\": 0.333, \"type\": \"scatter\", \"x\": [104.0, 104.0, 111.5, 111.5], \"y\": [-2, 2, 2, -2]}, {\"fill\": \"toself\", \"fillcolor\": \"rgb(220, 176, 242)\", \"mode\": \"none\", \"name\": \"chair\", \"opacity\": 0.333, \"type\": \"scatter\", \"x\": [116.0, 116.0, 193.0, 193.0], \"y\": [-2, 2, 2, -2]}, {\"fill\": \"toself\", \"fillcolor\": \"rgb(246, 207, 113)\", \"mode\": \"none\", \"name\": \"ambulating\", \"opacity\": 0.333, \"type\": \"scatter\", \"x\": [194.5, 194.5, 198.25, 198.25], \"y\": [-2, 2, 2, -2]}, {\"fill\": \"toself\", \"fillcolor\": \"rgb(102, 197, 204)\", \"mode\": \"none\", \"name\": \"bed\", \"opacity\": 0.333, \"type\": \"scatter\", \"x\": [199.5, 199.5, 200.33, 200.33], \"y\": [-2, 2, 2, -2]}, {\"fill\": \"toself\", \"fillcolor\": \"rgb(248, 156, 116)\", \"mode\": \"none\", \"name\": \"lying\", \"opacity\": 0.333, \"type\": \"scatter\", \"x\": [200.75, 200.75, 248.0, 248.0], \"y\": [-2, 2, 2, -2]}, {\"fill\": \"toself\", \"fillcolor\": \"rgb(102, 197, 204)\", \"mode\": \"none\", \"name\": \"bed\", \"opacity\": 0.333, \"type\": \"scatter\", \"x\": [250.0, 250.0, 254.0, 254.0], \"y\": [-2, 2, 2, -2]}],\n",
       "                        {\"height\": 300, \"margin\": {\"b\": 0, \"l\": 0, \"r\": 0, \"t\": 32}, \"template\": {\"data\": {\"bar\": [{\"error_x\": {\"color\": \"#2a3f5f\"}, \"error_y\": {\"color\": \"#2a3f5f\"}, \"marker\": {\"line\": {\"color\": \"#E5ECF6\", \"width\": 0.5}}, \"type\": \"bar\"}], \"barpolar\": [{\"marker\": {\"line\": {\"color\": \"#E5ECF6\", \"width\": 0.5}}, \"type\": \"barpolar\"}], \"carpet\": [{\"aaxis\": {\"endlinecolor\": \"#2a3f5f\", \"gridcolor\": \"white\", \"linecolor\": \"white\", \"minorgridcolor\": \"white\", \"startlinecolor\": \"#2a3f5f\"}, \"baxis\": {\"endlinecolor\": \"#2a3f5f\", \"gridcolor\": \"white\", \"linecolor\": \"white\", \"minorgridcolor\": \"white\", \"startlinecolor\": \"#2a3f5f\"}, \"type\": \"carpet\"}], \"choropleth\": [{\"colorbar\": {\"outlinewidth\": 0, \"ticks\": \"\"}, \"type\": \"choropleth\"}], \"contour\": [{\"colorbar\": {\"outlinewidth\": 0, \"ticks\": \"\"}, \"colorscale\": [[0.0, \"#0d0887\"], [0.1111111111111111, \"#46039f\"], [0.2222222222222222, \"#7201a8\"], [0.3333333333333333, \"#9c179e\"], [0.4444444444444444, \"#bd3786\"], [0.5555555555555556, \"#d8576b\"], [0.6666666666666666, \"#ed7953\"], [0.7777777777777778, \"#fb9f3a\"], [0.8888888888888888, \"#fdca26\"], [1.0, \"#f0f921\"]], \"type\": \"contour\"}], \"contourcarpet\": [{\"colorbar\": {\"outlinewidth\": 0, \"ticks\": \"\"}, \"type\": \"contourcarpet\"}], \"heatmap\": [{\"colorbar\": {\"outlinewidth\": 0, \"ticks\": \"\"}, \"colorscale\": [[0.0, \"#0d0887\"], [0.1111111111111111, \"#46039f\"], [0.2222222222222222, \"#7201a8\"], [0.3333333333333333, \"#9c179e\"], [0.4444444444444444, \"#bd3786\"], [0.5555555555555556, \"#d8576b\"], [0.6666666666666666, \"#ed7953\"], [0.7777777777777778, \"#fb9f3a\"], [0.8888888888888888, \"#fdca26\"], [1.0, \"#f0f921\"]], \"type\": \"heatmap\"}], \"heatmapgl\": [{\"colorbar\": {\"outlinewidth\": 0, \"ticks\": \"\"}, \"colorscale\": [[0.0, \"#0d0887\"], [0.1111111111111111, \"#46039f\"], [0.2222222222222222, \"#7201a8\"], [0.3333333333333333, \"#9c179e\"], [0.4444444444444444, \"#bd3786\"], [0.5555555555555556, \"#d8576b\"], [0.6666666666666666, \"#ed7953\"], [0.7777777777777778, \"#fb9f3a\"], [0.8888888888888888, \"#fdca26\"], [1.0, \"#f0f921\"]], \"type\": \"heatmapgl\"}], \"histogram\": [{\"marker\": {\"colorbar\": {\"outlinewidth\": 0, \"ticks\": \"\"}}, \"type\": \"histogram\"}], \"histogram2d\": [{\"colorbar\": {\"outlinewidth\": 0, \"ticks\": \"\"}, \"colorscale\": [[0.0, \"#0d0887\"], [0.1111111111111111, \"#46039f\"], [0.2222222222222222, \"#7201a8\"], [0.3333333333333333, \"#9c179e\"], [0.4444444444444444, \"#bd3786\"], [0.5555555555555556, \"#d8576b\"], [0.6666666666666666, \"#ed7953\"], [0.7777777777777778, \"#fb9f3a\"], [0.8888888888888888, \"#fdca26\"], [1.0, \"#f0f921\"]], \"type\": \"histogram2d\"}], \"histogram2dcontour\": [{\"colorbar\": {\"outlinewidth\": 0, \"ticks\": \"\"}, \"colorscale\": [[0.0, \"#0d0887\"], [0.1111111111111111, \"#46039f\"], [0.2222222222222222, \"#7201a8\"], [0.3333333333333333, \"#9c179e\"], [0.4444444444444444, \"#bd3786\"], [0.5555555555555556, \"#d8576b\"], [0.6666666666666666, \"#ed7953\"], [0.7777777777777778, \"#fb9f3a\"], [0.8888888888888888, \"#fdca26\"], [1.0, \"#f0f921\"]], \"type\": \"histogram2dcontour\"}], \"mesh3d\": [{\"colorbar\": {\"outlinewidth\": 0, \"ticks\": \"\"}, \"type\": \"mesh3d\"}], \"parcoords\": [{\"line\": {\"colorbar\": {\"outlinewidth\": 0, \"ticks\": \"\"}}, \"type\": \"parcoords\"}], \"pie\": [{\"automargin\": true, \"type\": \"pie\"}], \"scatter\": [{\"marker\": {\"colorbar\": {\"outlinewidth\": 0, \"ticks\": \"\"}}, \"type\": \"scatter\"}], \"scatter3d\": [{\"line\": {\"colorbar\": {\"outlinewidth\": 0, \"ticks\": \"\"}}, \"marker\": {\"colorbar\": {\"outlinewidth\": 0, \"ticks\": \"\"}}, \"type\": \"scatter3d\"}], \"scattercarpet\": [{\"marker\": {\"colorbar\": {\"outlinewidth\": 0, \"ticks\": \"\"}}, \"type\": \"scattercarpet\"}], \"scattergeo\": [{\"marker\": {\"colorbar\": {\"outlinewidth\": 0, \"ticks\": \"\"}}, \"type\": \"scattergeo\"}], \"scattergl\": [{\"marker\": {\"colorbar\": {\"outlinewidth\": 0, \"ticks\": \"\"}}, \"type\": \"scattergl\"}], \"scattermapbox\": [{\"marker\": {\"colorbar\": {\"outlinewidth\": 0, \"ticks\": \"\"}}, \"type\": \"scattermapbox\"}], \"scatterpolar\": [{\"marker\": {\"colorbar\": {\"outlinewidth\": 0, \"ticks\": \"\"}}, \"type\": \"scatterpolar\"}], \"scatterpolargl\": [{\"marker\": {\"colorbar\": {\"outlinewidth\": 0, \"ticks\": \"\"}}, \"type\": \"scatterpolargl\"}], \"scatterternary\": [{\"marker\": {\"colorbar\": {\"outlinewidth\": 0, \"ticks\": \"\"}}, \"type\": \"scatterternary\"}], \"surface\": [{\"colorbar\": {\"outlinewidth\": 0, \"ticks\": \"\"}, \"colorscale\": [[0.0, \"#0d0887\"], [0.1111111111111111, \"#46039f\"], [0.2222222222222222, \"#7201a8\"], [0.3333333333333333, \"#9c179e\"], [0.4444444444444444, \"#bd3786\"], [0.5555555555555556, \"#d8576b\"], [0.6666666666666666, \"#ed7953\"], [0.7777777777777778, \"#fb9f3a\"], [0.8888888888888888, \"#fdca26\"], [1.0, \"#f0f921\"]], \"type\": \"surface\"}], \"table\": [{\"cells\": {\"fill\": {\"color\": \"#EBF0F8\"}, \"line\": {\"color\": \"white\"}}, \"header\": {\"fill\": {\"color\": \"#C8D4E3\"}, \"line\": {\"color\": \"white\"}}, \"type\": \"table\"}]}, \"layout\": {\"annotationdefaults\": {\"arrowcolor\": \"#2a3f5f\", \"arrowhead\": 0, \"arrowwidth\": 1}, \"coloraxis\": {\"colorbar\": {\"outlinewidth\": 0, \"ticks\": \"\"}}, \"colorscale\": {\"diverging\": [[0, \"#8e0152\"], [0.1, \"#c51b7d\"], [0.2, \"#de77ae\"], [0.3, \"#f1b6da\"], [0.4, \"#fde0ef\"], [0.5, \"#f7f7f7\"], [0.6, \"#e6f5d0\"], [0.7, \"#b8e186\"], [0.8, \"#7fbc41\"], [0.9, \"#4d9221\"], [1, \"#276419\"]], \"sequential\": [[0.0, \"#0d0887\"], [0.1111111111111111, \"#46039f\"], [0.2222222222222222, \"#7201a8\"], [0.3333333333333333, \"#9c179e\"], [0.4444444444444444, \"#bd3786\"], [0.5555555555555556, \"#d8576b\"], [0.6666666666666666, \"#ed7953\"], [0.7777777777777778, \"#fb9f3a\"], [0.8888888888888888, \"#fdca26\"], [1.0, \"#f0f921\"]], \"sequentialminus\": [[0.0, \"#0d0887\"], [0.1111111111111111, \"#46039f\"], [0.2222222222222222, \"#7201a8\"], [0.3333333333333333, \"#9c179e\"], [0.4444444444444444, \"#bd3786\"], [0.5555555555555556, \"#d8576b\"], [0.6666666666666666, \"#ed7953\"], [0.7777777777777778, \"#fb9f3a\"], [0.8888888888888888, \"#fdca26\"], [1.0, \"#f0f921\"]]}, \"colorway\": [\"#636efa\", \"#EF553B\", \"#00cc96\", \"#ab63fa\", \"#FFA15A\", \"#19d3f3\", \"#FF6692\", \"#B6E880\", \"#FF97FF\", \"#FECB52\"], \"font\": {\"color\": \"#2a3f5f\"}, \"geo\": {\"bgcolor\": \"white\", \"lakecolor\": \"white\", \"landcolor\": \"#E5ECF6\", \"showlakes\": true, \"showland\": true, \"subunitcolor\": \"white\"}, \"hoverlabel\": {\"align\": \"left\"}, \"hovermode\": \"closest\", \"mapbox\": {\"style\": \"light\"}, \"paper_bgcolor\": \"white\", \"plot_bgcolor\": \"#E5ECF6\", \"polar\": {\"angularaxis\": {\"gridcolor\": \"white\", \"linecolor\": \"white\", \"ticks\": \"\"}, \"bgcolor\": \"#E5ECF6\", \"radialaxis\": {\"gridcolor\": \"white\", \"linecolor\": \"white\", \"ticks\": \"\"}}, \"scene\": {\"xaxis\": {\"backgroundcolor\": \"#E5ECF6\", \"gridcolor\": \"white\", \"gridwidth\": 2, \"linecolor\": \"white\", \"showbackground\": true, \"ticks\": \"\", \"zerolinecolor\": \"white\"}, \"yaxis\": {\"backgroundcolor\": \"#E5ECF6\", \"gridcolor\": \"white\", \"gridwidth\": 2, \"linecolor\": \"white\", \"showbackground\": true, \"ticks\": \"\", \"zerolinecolor\": \"white\"}, \"zaxis\": {\"backgroundcolor\": \"#E5ECF6\", \"gridcolor\": \"white\", \"gridwidth\": 2, \"linecolor\": \"white\", \"showbackground\": true, \"ticks\": \"\", \"zerolinecolor\": \"white\"}}, \"shapedefaults\": {\"line\": {\"color\": \"#2a3f5f\"}}, \"ternary\": {\"aaxis\": {\"gridcolor\": \"white\", \"linecolor\": \"white\", \"ticks\": \"\"}, \"baxis\": {\"gridcolor\": \"white\", \"linecolor\": \"white\", \"ticks\": \"\"}, \"bgcolor\": \"#E5ECF6\", \"caxis\": {\"gridcolor\": \"white\", \"linecolor\": \"white\", \"ticks\": \"\"}}, \"title\": {\"x\": 0.05}, \"xaxis\": {\"automargin\": true, \"gridcolor\": \"white\", \"linecolor\": \"white\", \"ticks\": \"\", \"title\": {\"standoff\": 15}, \"zerolinecolor\": \"white\", \"zerolinewidth\": 2}, \"yaxis\": {\"automargin\": true, \"gridcolor\": \"white\", \"linecolor\": \"white\", \"ticks\": \"\", \"title\": {\"standoff\": 15}, \"zerolinecolor\": \"white\", \"zerolinewidth\": 2}}}, \"width\": 600},\n",
       "                        {\"responsive\": true}\n",
       "                    ).then(function(){\n",
       "                            \n",
       "var gd = document.getElementById('55636ad3-ffad-4fec-8fc8-d24e6bf362b1');\n",
       "var x = new MutationObserver(function (mutations, observer) {{\n",
       "        var display = window.getComputedStyle(gd).display;\n",
       "        if (!display || display === 'none') {{\n",
       "            console.log([gd, 'removed!']);\n",
       "            Plotly.purge(gd);\n",
       "            observer.disconnect();\n",
       "        }}\n",
       "}});\n",
       "\n",
       "// Listen for the removal of the full notebook cells\n",
       "var notebookContainer = gd.closest('#notebook-container');\n",
       "if (notebookContainer) {{\n",
       "    x.observe(notebookContainer, {childList: true});\n",
       "}}\n",
       "\n",
       "// Listen for the clearing of the current output cell\n",
       "var outputEl = gd.closest('.output');\n",
       "if (outputEl) {{\n",
       "    x.observe(outputEl, {childList: true});\n",
       "}}\n",
       "\n",
       "                        })\n",
       "                };\n",
       "                });\n",
       "            </script>\n",
       "        </div>"
      ]
     },
     "metadata": {},
     "output_type": "display_data"
    }
   ],
   "source": [
    "import plotly.express as px\n",
    "\n",
    "colors = px.colors.qualitative.Pastel\n",
    "\n",
    "activity_colors = {\n",
    "    'bed': colors[0],\n",
    "    'ambulating': colors[1],\n",
    "    'lying': colors[2],\n",
    "    'chair': colors[3],\n",
    "}\n",
    "\n",
    "fig = go.Figure(layout={**layout, 'width': 600})\n",
    "for _, activity_df in df.groupby('activity_sequence'):\n",
    "    start = activity_df['time'].min()\n",
    "    end = activity_df['time'].max()\n",
    "    name = activity_df['activity_label'].unique()[0]\n",
    "    fig.add_trace(\n",
    "        go.Scatter(\n",
    "            x=[start, start, end, end], \n",
    "            y=[-2, 2, 2, -2], \n",
    "            mode='none', \n",
    "            fill='toself',\n",
    "            fillcolor=activity_colors[name],\n",
    "            opacity=0.333,\n",
    "            name=name))\n",
    "   \n",
    "\n",
    "fig.show()"
   ]
  },
  {
   "cell_type": "markdown",
   "metadata": {},
   "source": [
    "This is an improvement, but there multiple legend entries for the same type of activity. We must keep track of which activities have already been added to the legend using a `set`, and use the `showlegend` keyword argument in the `Scatter` constructor to determine if the name of a trace should be added to the legend. We must also add the `legendgroup` keyword to ensure that all activities are shown or hidden when the corresponding legend entry is clicked."
   ]
  },
  {
   "cell_type": "code",
   "execution_count": 77,
   "metadata": {},
   "outputs": [
    {
     "data": {
      "application/vnd.plotly.v1+json": {
       "config": {
        "plotlyServerURL": "https://plot.ly"
       },
       "data": [
        {
         "fill": "toself",
         "fillcolor": "rgb(102, 197, 204)",
         "legendgroup": "bed",
         "mode": "none",
         "name": "bed",
         "opacity": 0.333,
         "showlegend": true,
         "type": "scatter",
         "x": [
          0,
          0,
          37,
          37
         ],
         "y": [
          -2,
          2,
          2,
          -2
         ]
        },
        {
         "fill": "toself",
         "fillcolor": "rgb(248, 156, 116)",
         "legendgroup": "lying",
         "mode": "none",
         "name": "lying",
         "opacity": 0.333,
         "showlegend": true,
         "type": "scatter",
         "x": [
          37.75,
          37.75,
          74.25,
          74.25
         ],
         "y": [
          -2,
          2,
          2,
          -2
         ]
        },
        {
         "fill": "toself",
         "fillcolor": "rgb(102, 197, 204)",
         "legendgroup": "bed",
         "mode": "none",
         "name": "bed",
         "opacity": 0.333,
         "showlegend": false,
         "type": "scatter",
         "x": [
          76,
          76,
          103.25,
          103.25
         ],
         "y": [
          -2,
          2,
          2,
          -2
         ]
        },
        {
         "fill": "toself",
         "fillcolor": "rgb(246, 207, 113)",
         "legendgroup": "ambulating",
         "mode": "none",
         "name": "ambulating",
         "opacity": 0.333,
         "showlegend": true,
         "type": "scatter",
         "x": [
          104,
          104,
          111.5,
          111.5
         ],
         "y": [
          -2,
          2,
          2,
          -2
         ]
        },
        {
         "fill": "toself",
         "fillcolor": "rgb(220, 176, 242)",
         "legendgroup": "chair",
         "mode": "none",
         "name": "chair",
         "opacity": 0.333,
         "showlegend": true,
         "type": "scatter",
         "x": [
          116,
          116,
          193,
          193
         ],
         "y": [
          -2,
          2,
          2,
          -2
         ]
        },
        {
         "fill": "toself",
         "fillcolor": "rgb(246, 207, 113)",
         "legendgroup": "ambulating",
         "mode": "none",
         "name": "ambulating",
         "opacity": 0.333,
         "showlegend": false,
         "type": "scatter",
         "x": [
          194.5,
          194.5,
          198.25,
          198.25
         ],
         "y": [
          -2,
          2,
          2,
          -2
         ]
        },
        {
         "fill": "toself",
         "fillcolor": "rgb(102, 197, 204)",
         "legendgroup": "bed",
         "mode": "none",
         "name": "bed",
         "opacity": 0.333,
         "showlegend": false,
         "type": "scatter",
         "x": [
          199.5,
          199.5,
          200.33,
          200.33
         ],
         "y": [
          -2,
          2,
          2,
          -2
         ]
        },
        {
         "fill": "toself",
         "fillcolor": "rgb(248, 156, 116)",
         "legendgroup": "lying",
         "mode": "none",
         "name": "lying",
         "opacity": 0.333,
         "showlegend": false,
         "type": "scatter",
         "x": [
          200.75,
          200.75,
          248,
          248
         ],
         "y": [
          -2,
          2,
          2,
          -2
         ]
        },
        {
         "fill": "toself",
         "fillcolor": "rgb(102, 197, 204)",
         "legendgroup": "bed",
         "mode": "none",
         "name": "bed",
         "opacity": 0.333,
         "showlegend": false,
         "type": "scatter",
         "x": [
          250,
          250,
          254,
          254
         ],
         "y": [
          -2,
          2,
          2,
          -2
         ]
        }
       ],
       "layout": {
        "height": 300,
        "margin": {
         "b": 0,
         "l": 0,
         "r": 0,
         "t": 32
        },
        "template": {
         "data": {
          "bar": [
           {
            "error_x": {
             "color": "#2a3f5f"
            },
            "error_y": {
             "color": "#2a3f5f"
            },
            "marker": {
             "line": {
              "color": "#E5ECF6",
              "width": 0.5
             }
            },
            "type": "bar"
           }
          ],
          "barpolar": [
           {
            "marker": {
             "line": {
              "color": "#E5ECF6",
              "width": 0.5
             }
            },
            "type": "barpolar"
           }
          ],
          "carpet": [
           {
            "aaxis": {
             "endlinecolor": "#2a3f5f",
             "gridcolor": "white",
             "linecolor": "white",
             "minorgridcolor": "white",
             "startlinecolor": "#2a3f5f"
            },
            "baxis": {
             "endlinecolor": "#2a3f5f",
             "gridcolor": "white",
             "linecolor": "white",
             "minorgridcolor": "white",
             "startlinecolor": "#2a3f5f"
            },
            "type": "carpet"
           }
          ],
          "choropleth": [
           {
            "colorbar": {
             "outlinewidth": 0,
             "ticks": ""
            },
            "type": "choropleth"
           }
          ],
          "contour": [
           {
            "colorbar": {
             "outlinewidth": 0,
             "ticks": ""
            },
            "colorscale": [
             [
              0,
              "#0d0887"
             ],
             [
              0.1111111111111111,
              "#46039f"
             ],
             [
              0.2222222222222222,
              "#7201a8"
             ],
             [
              0.3333333333333333,
              "#9c179e"
             ],
             [
              0.4444444444444444,
              "#bd3786"
             ],
             [
              0.5555555555555556,
              "#d8576b"
             ],
             [
              0.6666666666666666,
              "#ed7953"
             ],
             [
              0.7777777777777778,
              "#fb9f3a"
             ],
             [
              0.8888888888888888,
              "#fdca26"
             ],
             [
              1,
              "#f0f921"
             ]
            ],
            "type": "contour"
           }
          ],
          "contourcarpet": [
           {
            "colorbar": {
             "outlinewidth": 0,
             "ticks": ""
            },
            "type": "contourcarpet"
           }
          ],
          "heatmap": [
           {
            "colorbar": {
             "outlinewidth": 0,
             "ticks": ""
            },
            "colorscale": [
             [
              0,
              "#0d0887"
             ],
             [
              0.1111111111111111,
              "#46039f"
             ],
             [
              0.2222222222222222,
              "#7201a8"
             ],
             [
              0.3333333333333333,
              "#9c179e"
             ],
             [
              0.4444444444444444,
              "#bd3786"
             ],
             [
              0.5555555555555556,
              "#d8576b"
             ],
             [
              0.6666666666666666,
              "#ed7953"
             ],
             [
              0.7777777777777778,
              "#fb9f3a"
             ],
             [
              0.8888888888888888,
              "#fdca26"
             ],
             [
              1,
              "#f0f921"
             ]
            ],
            "type": "heatmap"
           }
          ],
          "heatmapgl": [
           {
            "colorbar": {
             "outlinewidth": 0,
             "ticks": ""
            },
            "colorscale": [
             [
              0,
              "#0d0887"
             ],
             [
              0.1111111111111111,
              "#46039f"
             ],
             [
              0.2222222222222222,
              "#7201a8"
             ],
             [
              0.3333333333333333,
              "#9c179e"
             ],
             [
              0.4444444444444444,
              "#bd3786"
             ],
             [
              0.5555555555555556,
              "#d8576b"
             ],
             [
              0.6666666666666666,
              "#ed7953"
             ],
             [
              0.7777777777777778,
              "#fb9f3a"
             ],
             [
              0.8888888888888888,
              "#fdca26"
             ],
             [
              1,
              "#f0f921"
             ]
            ],
            "type": "heatmapgl"
           }
          ],
          "histogram": [
           {
            "marker": {
             "colorbar": {
              "outlinewidth": 0,
              "ticks": ""
             }
            },
            "type": "histogram"
           }
          ],
          "histogram2d": [
           {
            "colorbar": {
             "outlinewidth": 0,
             "ticks": ""
            },
            "colorscale": [
             [
              0,
              "#0d0887"
             ],
             [
              0.1111111111111111,
              "#46039f"
             ],
             [
              0.2222222222222222,
              "#7201a8"
             ],
             [
              0.3333333333333333,
              "#9c179e"
             ],
             [
              0.4444444444444444,
              "#bd3786"
             ],
             [
              0.5555555555555556,
              "#d8576b"
             ],
             [
              0.6666666666666666,
              "#ed7953"
             ],
             [
              0.7777777777777778,
              "#fb9f3a"
             ],
             [
              0.8888888888888888,
              "#fdca26"
             ],
             [
              1,
              "#f0f921"
             ]
            ],
            "type": "histogram2d"
           }
          ],
          "histogram2dcontour": [
           {
            "colorbar": {
             "outlinewidth": 0,
             "ticks": ""
            },
            "colorscale": [
             [
              0,
              "#0d0887"
             ],
             [
              0.1111111111111111,
              "#46039f"
             ],
             [
              0.2222222222222222,
              "#7201a8"
             ],
             [
              0.3333333333333333,
              "#9c179e"
             ],
             [
              0.4444444444444444,
              "#bd3786"
             ],
             [
              0.5555555555555556,
              "#d8576b"
             ],
             [
              0.6666666666666666,
              "#ed7953"
             ],
             [
              0.7777777777777778,
              "#fb9f3a"
             ],
             [
              0.8888888888888888,
              "#fdca26"
             ],
             [
              1,
              "#f0f921"
             ]
            ],
            "type": "histogram2dcontour"
           }
          ],
          "mesh3d": [
           {
            "colorbar": {
             "outlinewidth": 0,
             "ticks": ""
            },
            "type": "mesh3d"
           }
          ],
          "parcoords": [
           {
            "line": {
             "colorbar": {
              "outlinewidth": 0,
              "ticks": ""
             }
            },
            "type": "parcoords"
           }
          ],
          "pie": [
           {
            "automargin": true,
            "type": "pie"
           }
          ],
          "scatter": [
           {
            "marker": {
             "colorbar": {
              "outlinewidth": 0,
              "ticks": ""
             }
            },
            "type": "scatter"
           }
          ],
          "scatter3d": [
           {
            "line": {
             "colorbar": {
              "outlinewidth": 0,
              "ticks": ""
             }
            },
            "marker": {
             "colorbar": {
              "outlinewidth": 0,
              "ticks": ""
             }
            },
            "type": "scatter3d"
           }
          ],
          "scattercarpet": [
           {
            "marker": {
             "colorbar": {
              "outlinewidth": 0,
              "ticks": ""
             }
            },
            "type": "scattercarpet"
           }
          ],
          "scattergeo": [
           {
            "marker": {
             "colorbar": {
              "outlinewidth": 0,
              "ticks": ""
             }
            },
            "type": "scattergeo"
           }
          ],
          "scattergl": [
           {
            "marker": {
             "colorbar": {
              "outlinewidth": 0,
              "ticks": ""
             }
            },
            "type": "scattergl"
           }
          ],
          "scattermapbox": [
           {
            "marker": {
             "colorbar": {
              "outlinewidth": 0,
              "ticks": ""
             }
            },
            "type": "scattermapbox"
           }
          ],
          "scatterpolar": [
           {
            "marker": {
             "colorbar": {
              "outlinewidth": 0,
              "ticks": ""
             }
            },
            "type": "scatterpolar"
           }
          ],
          "scatterpolargl": [
           {
            "marker": {
             "colorbar": {
              "outlinewidth": 0,
              "ticks": ""
             }
            },
            "type": "scatterpolargl"
           }
          ],
          "scatterternary": [
           {
            "marker": {
             "colorbar": {
              "outlinewidth": 0,
              "ticks": ""
             }
            },
            "type": "scatterternary"
           }
          ],
          "surface": [
           {
            "colorbar": {
             "outlinewidth": 0,
             "ticks": ""
            },
            "colorscale": [
             [
              0,
              "#0d0887"
             ],
             [
              0.1111111111111111,
              "#46039f"
             ],
             [
              0.2222222222222222,
              "#7201a8"
             ],
             [
              0.3333333333333333,
              "#9c179e"
             ],
             [
              0.4444444444444444,
              "#bd3786"
             ],
             [
              0.5555555555555556,
              "#d8576b"
             ],
             [
              0.6666666666666666,
              "#ed7953"
             ],
             [
              0.7777777777777778,
              "#fb9f3a"
             ],
             [
              0.8888888888888888,
              "#fdca26"
             ],
             [
              1,
              "#f0f921"
             ]
            ],
            "type": "surface"
           }
          ],
          "table": [
           {
            "cells": {
             "fill": {
              "color": "#EBF0F8"
             },
             "line": {
              "color": "white"
             }
            },
            "header": {
             "fill": {
              "color": "#C8D4E3"
             },
             "line": {
              "color": "white"
             }
            },
            "type": "table"
           }
          ]
         },
         "layout": {
          "annotationdefaults": {
           "arrowcolor": "#2a3f5f",
           "arrowhead": 0,
           "arrowwidth": 1
          },
          "coloraxis": {
           "colorbar": {
            "outlinewidth": 0,
            "ticks": ""
           }
          },
          "colorscale": {
           "diverging": [
            [
             0,
             "#8e0152"
            ],
            [
             0.1,
             "#c51b7d"
            ],
            [
             0.2,
             "#de77ae"
            ],
            [
             0.3,
             "#f1b6da"
            ],
            [
             0.4,
             "#fde0ef"
            ],
            [
             0.5,
             "#f7f7f7"
            ],
            [
             0.6,
             "#e6f5d0"
            ],
            [
             0.7,
             "#b8e186"
            ],
            [
             0.8,
             "#7fbc41"
            ],
            [
             0.9,
             "#4d9221"
            ],
            [
             1,
             "#276419"
            ]
           ],
           "sequential": [
            [
             0,
             "#0d0887"
            ],
            [
             0.1111111111111111,
             "#46039f"
            ],
            [
             0.2222222222222222,
             "#7201a8"
            ],
            [
             0.3333333333333333,
             "#9c179e"
            ],
            [
             0.4444444444444444,
             "#bd3786"
            ],
            [
             0.5555555555555556,
             "#d8576b"
            ],
            [
             0.6666666666666666,
             "#ed7953"
            ],
            [
             0.7777777777777778,
             "#fb9f3a"
            ],
            [
             0.8888888888888888,
             "#fdca26"
            ],
            [
             1,
             "#f0f921"
            ]
           ],
           "sequentialminus": [
            [
             0,
             "#0d0887"
            ],
            [
             0.1111111111111111,
             "#46039f"
            ],
            [
             0.2222222222222222,
             "#7201a8"
            ],
            [
             0.3333333333333333,
             "#9c179e"
            ],
            [
             0.4444444444444444,
             "#bd3786"
            ],
            [
             0.5555555555555556,
             "#d8576b"
            ],
            [
             0.6666666666666666,
             "#ed7953"
            ],
            [
             0.7777777777777778,
             "#fb9f3a"
            ],
            [
             0.8888888888888888,
             "#fdca26"
            ],
            [
             1,
             "#f0f921"
            ]
           ]
          },
          "colorway": [
           "#636efa",
           "#EF553B",
           "#00cc96",
           "#ab63fa",
           "#FFA15A",
           "#19d3f3",
           "#FF6692",
           "#B6E880",
           "#FF97FF",
           "#FECB52"
          ],
          "font": {
           "color": "#2a3f5f"
          },
          "geo": {
           "bgcolor": "white",
           "lakecolor": "white",
           "landcolor": "#E5ECF6",
           "showlakes": true,
           "showland": true,
           "subunitcolor": "white"
          },
          "hoverlabel": {
           "align": "left"
          },
          "hovermode": "closest",
          "mapbox": {
           "style": "light"
          },
          "paper_bgcolor": "white",
          "plot_bgcolor": "#E5ECF6",
          "polar": {
           "angularaxis": {
            "gridcolor": "white",
            "linecolor": "white",
            "ticks": ""
           },
           "bgcolor": "#E5ECF6",
           "radialaxis": {
            "gridcolor": "white",
            "linecolor": "white",
            "ticks": ""
           }
          },
          "scene": {
           "xaxis": {
            "backgroundcolor": "#E5ECF6",
            "gridcolor": "white",
            "gridwidth": 2,
            "linecolor": "white",
            "showbackground": true,
            "ticks": "",
            "zerolinecolor": "white"
           },
           "yaxis": {
            "backgroundcolor": "#E5ECF6",
            "gridcolor": "white",
            "gridwidth": 2,
            "linecolor": "white",
            "showbackground": true,
            "ticks": "",
            "zerolinecolor": "white"
           },
           "zaxis": {
            "backgroundcolor": "#E5ECF6",
            "gridcolor": "white",
            "gridwidth": 2,
            "linecolor": "white",
            "showbackground": true,
            "ticks": "",
            "zerolinecolor": "white"
           }
          },
          "shapedefaults": {
           "line": {
            "color": "#2a3f5f"
           }
          },
          "ternary": {
           "aaxis": {
            "gridcolor": "white",
            "linecolor": "white",
            "ticks": ""
           },
           "baxis": {
            "gridcolor": "white",
            "linecolor": "white",
            "ticks": ""
           },
           "bgcolor": "#E5ECF6",
           "caxis": {
            "gridcolor": "white",
            "linecolor": "white",
            "ticks": ""
           }
          },
          "title": {
           "x": 0.05
          },
          "xaxis": {
           "automargin": true,
           "gridcolor": "white",
           "linecolor": "white",
           "ticks": "",
           "title": {
            "standoff": 15
           },
           "zerolinecolor": "white",
           "zerolinewidth": 2
          },
          "yaxis": {
           "automargin": true,
           "gridcolor": "white",
           "linecolor": "white",
           "ticks": "",
           "title": {
            "standoff": 15
           },
           "zerolinecolor": "white",
           "zerolinewidth": 2
          }
         }
        },
        "width": 600
       }
      },
      "text/html": [
       "<div>\n",
       "        \n",
       "        \n",
       "            <div id=\"5c2d1cf9-8073-45d2-aa2b-1fce8877a581\" class=\"plotly-graph-div\" style=\"height:300px; width:600px;\"></div>\n",
       "            <script type=\"text/javascript\">\n",
       "                require([\"plotly\"], function(Plotly) {\n",
       "                    window.PLOTLYENV=window.PLOTLYENV || {};\n",
       "                    \n",
       "                if (document.getElementById(\"5c2d1cf9-8073-45d2-aa2b-1fce8877a581\")) {\n",
       "                    Plotly.newPlot(\n",
       "                        '5c2d1cf9-8073-45d2-aa2b-1fce8877a581',\n",
       "                        [{\"fill\": \"toself\", \"fillcolor\": \"rgb(102, 197, 204)\", \"legendgroup\": \"bed\", \"mode\": \"none\", \"name\": \"bed\", \"opacity\": 0.333, \"showlegend\": true, \"type\": \"scatter\", \"x\": [0.0, 0.0, 37.0, 37.0], \"y\": [-2, 2, 2, -2]}, {\"fill\": \"toself\", \"fillcolor\": \"rgb(248, 156, 116)\", \"legendgroup\": \"lying\", \"mode\": \"none\", \"name\": \"lying\", \"opacity\": 0.333, \"showlegend\": true, \"type\": \"scatter\", \"x\": [37.75, 37.75, 74.25, 74.25], \"y\": [-2, 2, 2, -2]}, {\"fill\": \"toself\", \"fillcolor\": \"rgb(102, 197, 204)\", \"legendgroup\": \"bed\", \"mode\": \"none\", \"name\": \"bed\", \"opacity\": 0.333, \"showlegend\": false, \"type\": \"scatter\", \"x\": [76.0, 76.0, 103.25, 103.25], \"y\": [-2, 2, 2, -2]}, {\"fill\": \"toself\", \"fillcolor\": \"rgb(246, 207, 113)\", \"legendgroup\": \"ambulating\", \"mode\": \"none\", \"name\": \"ambulating\", \"opacity\": 0.333, \"showlegend\": true, \"type\": \"scatter\", \"x\": [104.0, 104.0, 111.5, 111.5], \"y\": [-2, 2, 2, -2]}, {\"fill\": \"toself\", \"fillcolor\": \"rgb(220, 176, 242)\", \"legendgroup\": \"chair\", \"mode\": \"none\", \"name\": \"chair\", \"opacity\": 0.333, \"showlegend\": true, \"type\": \"scatter\", \"x\": [116.0, 116.0, 193.0, 193.0], \"y\": [-2, 2, 2, -2]}, {\"fill\": \"toself\", \"fillcolor\": \"rgb(246, 207, 113)\", \"legendgroup\": \"ambulating\", \"mode\": \"none\", \"name\": \"ambulating\", \"opacity\": 0.333, \"showlegend\": false, \"type\": \"scatter\", \"x\": [194.5, 194.5, 198.25, 198.25], \"y\": [-2, 2, 2, -2]}, {\"fill\": \"toself\", \"fillcolor\": \"rgb(102, 197, 204)\", \"legendgroup\": \"bed\", \"mode\": \"none\", \"name\": \"bed\", \"opacity\": 0.333, \"showlegend\": false, \"type\": \"scatter\", \"x\": [199.5, 199.5, 200.33, 200.33], \"y\": [-2, 2, 2, -2]}, {\"fill\": \"toself\", \"fillcolor\": \"rgb(248, 156, 116)\", \"legendgroup\": \"lying\", \"mode\": \"none\", \"name\": \"lying\", \"opacity\": 0.333, \"showlegend\": false, \"type\": \"scatter\", \"x\": [200.75, 200.75, 248.0, 248.0], \"y\": [-2, 2, 2, -2]}, {\"fill\": \"toself\", \"fillcolor\": \"rgb(102, 197, 204)\", \"legendgroup\": \"bed\", \"mode\": \"none\", \"name\": \"bed\", \"opacity\": 0.333, \"showlegend\": false, \"type\": \"scatter\", \"x\": [250.0, 250.0, 254.0, 254.0], \"y\": [-2, 2, 2, -2]}],\n",
       "                        {\"height\": 300, \"margin\": {\"b\": 0, \"l\": 0, \"r\": 0, \"t\": 32}, \"template\": {\"data\": {\"bar\": [{\"error_x\": {\"color\": \"#2a3f5f\"}, \"error_y\": {\"color\": \"#2a3f5f\"}, \"marker\": {\"line\": {\"color\": \"#E5ECF6\", \"width\": 0.5}}, \"type\": \"bar\"}], \"barpolar\": [{\"marker\": {\"line\": {\"color\": \"#E5ECF6\", \"width\": 0.5}}, \"type\": \"barpolar\"}], \"carpet\": [{\"aaxis\": {\"endlinecolor\": \"#2a3f5f\", \"gridcolor\": \"white\", \"linecolor\": \"white\", \"minorgridcolor\": \"white\", \"startlinecolor\": \"#2a3f5f\"}, \"baxis\": {\"endlinecolor\": \"#2a3f5f\", \"gridcolor\": \"white\", \"linecolor\": \"white\", \"minorgridcolor\": \"white\", \"startlinecolor\": \"#2a3f5f\"}, \"type\": \"carpet\"}], \"choropleth\": [{\"colorbar\": {\"outlinewidth\": 0, \"ticks\": \"\"}, \"type\": \"choropleth\"}], \"contour\": [{\"colorbar\": {\"outlinewidth\": 0, \"ticks\": \"\"}, \"colorscale\": [[0.0, \"#0d0887\"], [0.1111111111111111, \"#46039f\"], [0.2222222222222222, \"#7201a8\"], [0.3333333333333333, \"#9c179e\"], [0.4444444444444444, \"#bd3786\"], [0.5555555555555556, \"#d8576b\"], [0.6666666666666666, \"#ed7953\"], [0.7777777777777778, \"#fb9f3a\"], [0.8888888888888888, \"#fdca26\"], [1.0, \"#f0f921\"]], \"type\": \"contour\"}], \"contourcarpet\": [{\"colorbar\": {\"outlinewidth\": 0, \"ticks\": \"\"}, \"type\": \"contourcarpet\"}], \"heatmap\": [{\"colorbar\": {\"outlinewidth\": 0, \"ticks\": \"\"}, \"colorscale\": [[0.0, \"#0d0887\"], [0.1111111111111111, \"#46039f\"], [0.2222222222222222, \"#7201a8\"], [0.3333333333333333, \"#9c179e\"], [0.4444444444444444, \"#bd3786\"], [0.5555555555555556, \"#d8576b\"], [0.6666666666666666, \"#ed7953\"], [0.7777777777777778, \"#fb9f3a\"], [0.8888888888888888, \"#fdca26\"], [1.0, \"#f0f921\"]], \"type\": \"heatmap\"}], \"heatmapgl\": [{\"colorbar\": {\"outlinewidth\": 0, \"ticks\": \"\"}, \"colorscale\": [[0.0, \"#0d0887\"], [0.1111111111111111, \"#46039f\"], [0.2222222222222222, \"#7201a8\"], [0.3333333333333333, \"#9c179e\"], [0.4444444444444444, \"#bd3786\"], [0.5555555555555556, \"#d8576b\"], [0.6666666666666666, \"#ed7953\"], [0.7777777777777778, \"#fb9f3a\"], [0.8888888888888888, \"#fdca26\"], [1.0, \"#f0f921\"]], \"type\": \"heatmapgl\"}], \"histogram\": [{\"marker\": {\"colorbar\": {\"outlinewidth\": 0, \"ticks\": \"\"}}, \"type\": \"histogram\"}], \"histogram2d\": [{\"colorbar\": {\"outlinewidth\": 0, \"ticks\": \"\"}, \"colorscale\": [[0.0, \"#0d0887\"], [0.1111111111111111, \"#46039f\"], [0.2222222222222222, \"#7201a8\"], [0.3333333333333333, \"#9c179e\"], [0.4444444444444444, \"#bd3786\"], [0.5555555555555556, \"#d8576b\"], [0.6666666666666666, \"#ed7953\"], [0.7777777777777778, \"#fb9f3a\"], [0.8888888888888888, \"#fdca26\"], [1.0, \"#f0f921\"]], \"type\": \"histogram2d\"}], \"histogram2dcontour\": [{\"colorbar\": {\"outlinewidth\": 0, \"ticks\": \"\"}, \"colorscale\": [[0.0, \"#0d0887\"], [0.1111111111111111, \"#46039f\"], [0.2222222222222222, \"#7201a8\"], [0.3333333333333333, \"#9c179e\"], [0.4444444444444444, \"#bd3786\"], [0.5555555555555556, \"#d8576b\"], [0.6666666666666666, \"#ed7953\"], [0.7777777777777778, \"#fb9f3a\"], [0.8888888888888888, \"#fdca26\"], [1.0, \"#f0f921\"]], \"type\": \"histogram2dcontour\"}], \"mesh3d\": [{\"colorbar\": {\"outlinewidth\": 0, \"ticks\": \"\"}, \"type\": \"mesh3d\"}], \"parcoords\": [{\"line\": {\"colorbar\": {\"outlinewidth\": 0, \"ticks\": \"\"}}, \"type\": \"parcoords\"}], \"pie\": [{\"automargin\": true, \"type\": \"pie\"}], \"scatter\": [{\"marker\": {\"colorbar\": {\"outlinewidth\": 0, \"ticks\": \"\"}}, \"type\": \"scatter\"}], \"scatter3d\": [{\"line\": {\"colorbar\": {\"outlinewidth\": 0, \"ticks\": \"\"}}, \"marker\": {\"colorbar\": {\"outlinewidth\": 0, \"ticks\": \"\"}}, \"type\": \"scatter3d\"}], \"scattercarpet\": [{\"marker\": {\"colorbar\": {\"outlinewidth\": 0, \"ticks\": \"\"}}, \"type\": \"scattercarpet\"}], \"scattergeo\": [{\"marker\": {\"colorbar\": {\"outlinewidth\": 0, \"ticks\": \"\"}}, \"type\": \"scattergeo\"}], \"scattergl\": [{\"marker\": {\"colorbar\": {\"outlinewidth\": 0, \"ticks\": \"\"}}, \"type\": \"scattergl\"}], \"scattermapbox\": [{\"marker\": {\"colorbar\": {\"outlinewidth\": 0, \"ticks\": \"\"}}, \"type\": \"scattermapbox\"}], \"scatterpolar\": [{\"marker\": {\"colorbar\": {\"outlinewidth\": 0, \"ticks\": \"\"}}, \"type\": \"scatterpolar\"}], \"scatterpolargl\": [{\"marker\": {\"colorbar\": {\"outlinewidth\": 0, \"ticks\": \"\"}}, \"type\": \"scatterpolargl\"}], \"scatterternary\": [{\"marker\": {\"colorbar\": {\"outlinewidth\": 0, \"ticks\": \"\"}}, \"type\": \"scatterternary\"}], \"surface\": [{\"colorbar\": {\"outlinewidth\": 0, \"ticks\": \"\"}, \"colorscale\": [[0.0, \"#0d0887\"], [0.1111111111111111, \"#46039f\"], [0.2222222222222222, \"#7201a8\"], [0.3333333333333333, \"#9c179e\"], [0.4444444444444444, \"#bd3786\"], [0.5555555555555556, \"#d8576b\"], [0.6666666666666666, \"#ed7953\"], [0.7777777777777778, \"#fb9f3a\"], [0.8888888888888888, \"#fdca26\"], [1.0, \"#f0f921\"]], \"type\": \"surface\"}], \"table\": [{\"cells\": {\"fill\": {\"color\": \"#EBF0F8\"}, \"line\": {\"color\": \"white\"}}, \"header\": {\"fill\": {\"color\": \"#C8D4E3\"}, \"line\": {\"color\": \"white\"}}, \"type\": \"table\"}]}, \"layout\": {\"annotationdefaults\": {\"arrowcolor\": \"#2a3f5f\", \"arrowhead\": 0, \"arrowwidth\": 1}, \"coloraxis\": {\"colorbar\": {\"outlinewidth\": 0, \"ticks\": \"\"}}, \"colorscale\": {\"diverging\": [[0, \"#8e0152\"], [0.1, \"#c51b7d\"], [0.2, \"#de77ae\"], [0.3, \"#f1b6da\"], [0.4, \"#fde0ef\"], [0.5, \"#f7f7f7\"], [0.6, \"#e6f5d0\"], [0.7, \"#b8e186\"], [0.8, \"#7fbc41\"], [0.9, \"#4d9221\"], [1, \"#276419\"]], \"sequential\": [[0.0, \"#0d0887\"], [0.1111111111111111, \"#46039f\"], [0.2222222222222222, \"#7201a8\"], [0.3333333333333333, \"#9c179e\"], [0.4444444444444444, \"#bd3786\"], [0.5555555555555556, \"#d8576b\"], [0.6666666666666666, \"#ed7953\"], [0.7777777777777778, \"#fb9f3a\"], [0.8888888888888888, \"#fdca26\"], [1.0, \"#f0f921\"]], \"sequentialminus\": [[0.0, \"#0d0887\"], [0.1111111111111111, \"#46039f\"], [0.2222222222222222, \"#7201a8\"], [0.3333333333333333, \"#9c179e\"], [0.4444444444444444, \"#bd3786\"], [0.5555555555555556, \"#d8576b\"], [0.6666666666666666, \"#ed7953\"], [0.7777777777777778, \"#fb9f3a\"], [0.8888888888888888, \"#fdca26\"], [1.0, \"#f0f921\"]]}, \"colorway\": [\"#636efa\", \"#EF553B\", \"#00cc96\", \"#ab63fa\", \"#FFA15A\", \"#19d3f3\", \"#FF6692\", \"#B6E880\", \"#FF97FF\", \"#FECB52\"], \"font\": {\"color\": \"#2a3f5f\"}, \"geo\": {\"bgcolor\": \"white\", \"lakecolor\": \"white\", \"landcolor\": \"#E5ECF6\", \"showlakes\": true, \"showland\": true, \"subunitcolor\": \"white\"}, \"hoverlabel\": {\"align\": \"left\"}, \"hovermode\": \"closest\", \"mapbox\": {\"style\": \"light\"}, \"paper_bgcolor\": \"white\", \"plot_bgcolor\": \"#E5ECF6\", \"polar\": {\"angularaxis\": {\"gridcolor\": \"white\", \"linecolor\": \"white\", \"ticks\": \"\"}, \"bgcolor\": \"#E5ECF6\", \"radialaxis\": {\"gridcolor\": \"white\", \"linecolor\": \"white\", \"ticks\": \"\"}}, \"scene\": {\"xaxis\": {\"backgroundcolor\": \"#E5ECF6\", \"gridcolor\": \"white\", \"gridwidth\": 2, \"linecolor\": \"white\", \"showbackground\": true, \"ticks\": \"\", \"zerolinecolor\": \"white\"}, \"yaxis\": {\"backgroundcolor\": \"#E5ECF6\", \"gridcolor\": \"white\", \"gridwidth\": 2, \"linecolor\": \"white\", \"showbackground\": true, \"ticks\": \"\", \"zerolinecolor\": \"white\"}, \"zaxis\": {\"backgroundcolor\": \"#E5ECF6\", \"gridcolor\": \"white\", \"gridwidth\": 2, \"linecolor\": \"white\", \"showbackground\": true, \"ticks\": \"\", \"zerolinecolor\": \"white\"}}, \"shapedefaults\": {\"line\": {\"color\": \"#2a3f5f\"}}, \"ternary\": {\"aaxis\": {\"gridcolor\": \"white\", \"linecolor\": \"white\", \"ticks\": \"\"}, \"baxis\": {\"gridcolor\": \"white\", \"linecolor\": \"white\", \"ticks\": \"\"}, \"bgcolor\": \"#E5ECF6\", \"caxis\": {\"gridcolor\": \"white\", \"linecolor\": \"white\", \"ticks\": \"\"}}, \"title\": {\"x\": 0.05}, \"xaxis\": {\"automargin\": true, \"gridcolor\": \"white\", \"linecolor\": \"white\", \"ticks\": \"\", \"title\": {\"standoff\": 15}, \"zerolinecolor\": \"white\", \"zerolinewidth\": 2}, \"yaxis\": {\"automargin\": true, \"gridcolor\": \"white\", \"linecolor\": \"white\", \"ticks\": \"\", \"title\": {\"standoff\": 15}, \"zerolinecolor\": \"white\", \"zerolinewidth\": 2}}}, \"width\": 600},\n",
       "                        {\"responsive\": true}\n",
       "                    ).then(function(){\n",
       "                            \n",
       "var gd = document.getElementById('5c2d1cf9-8073-45d2-aa2b-1fce8877a581');\n",
       "var x = new MutationObserver(function (mutations, observer) {{\n",
       "        var display = window.getComputedStyle(gd).display;\n",
       "        if (!display || display === 'none') {{\n",
       "            console.log([gd, 'removed!']);\n",
       "            Plotly.purge(gd);\n",
       "            observer.disconnect();\n",
       "        }}\n",
       "}});\n",
       "\n",
       "// Listen for the removal of the full notebook cells\n",
       "var notebookContainer = gd.closest('#notebook-container');\n",
       "if (notebookContainer) {{\n",
       "    x.observe(notebookContainer, {childList: true});\n",
       "}}\n",
       "\n",
       "// Listen for the clearing of the current output cell\n",
       "var outputEl = gd.closest('.output');\n",
       "if (outputEl) {{\n",
       "    x.observe(outputEl, {childList: true});\n",
       "}}\n",
       "\n",
       "                        })\n",
       "                };\n",
       "                });\n",
       "            </script>\n",
       "        </div>"
      ]
     },
     "metadata": {},
     "output_type": "display_data"
    }
   ],
   "source": [
    "fig = go.Figure(layout={**layout, 'width': 600})\n",
    "\n",
    "# Create the empty set\n",
    "activity_legend = set()\n",
    "for _, activity_df in df.groupby('activity_sequence'):\n",
    "    start = activity_df['time'].min()\n",
    "    end = activity_df['time'].max()\n",
    "    name = activity_df['activity_label'].unique()[0]\n",
    "    fig.add_trace(\n",
    "        go.Scatter(\n",
    "            x=[start, start, end, end], \n",
    "            y=[-2, 2, 2, -2], \n",
    "            mode='none', \n",
    "            fill='toself',\n",
    "            fillcolor=activity_colors[name],\n",
    "            opacity=0.333,\n",
    "            name=name,\n",
    "            legendgroup=name,\n",
    "            showlegend=not name in activity_legend))\n",
    "    \n",
    "    # Add the anme to the set.\n",
    "    activity_legend.add(name)\n",
    "\n",
    "fig.show()"
   ]
  },
  {
   "cell_type": "markdown",
   "metadata": {},
   "source": [
    "Now, we can add the sensor data over the top of the activity rectangles:\n"
   ]
  },
  {
   "cell_type": "code",
   "execution_count": 88,
   "metadata": {},
   "outputs": [
    {
     "data": {
      "application/vnd.plotly.v1+json": {
       "config": {
        "plotlyServerURL": "https://plot.ly"
       },
       "data": [
        {
         "fill": "toself",
         "fillcolor": "rgb(102, 197, 204)",
         "legendgroup": "activity",
         "mode": "none",
         "name": "bed",
         "opacity": 0.333,
         "showlegend": true,
         "type": "scatter",
         "x": [
          0,
          0,
          37,
          37
         ],
         "y": [
          -2,
          2,
          2,
          -2
         ]
        },
        {
         "legendgroup": "sensor",
         "line": {
          "color": "#1F77B4"
         },
         "mode": "lines+markers",
         "name": "front",
         "showlegend": true,
         "type": "scatter",
         "x": [
          0,
          0.5,
          1.5,
          1.75,
          2.5,
          3.25,
          4,
          5,
          5.5,
          6,
          6.5,
          6.75,
          7.75,
          8,
          9,
          9.75,
          10,
          10.5,
          10.75,
          12,
          12.5,
          13,
          14,
          15.25,
          15.5,
          16.5,
          17.5,
          18.5,
          18.75,
          19.25,
          20,
          21,
          22.75,
          23,
          23.25,
          24.5,
          26.25,
          27.75,
          28.5,
          29,
          29.5,
          29.75,
          30.5,
          30.75,
          31.75,
          32.5,
          33,
          33.5,
          34,
          34.5,
          35.5,
          35.6,
          35.75,
          36.25,
          37
         ],
         "y": [
          0.27203,
          0.27203,
          0.44791000000000003,
          0.44791000000000003,
          0.34238,
          0.34238,
          0.30721,
          0.27203,
          0.23685,
          0.23685,
          0.23685,
          0.23685,
          0.31893,
          0.31893,
          0.47136000000000006,
          0.40101,
          0.40101,
          0.40101,
          0.40101,
          0.30721,
          0.30721,
          0.30721,
          0.41273000000000004,
          0.27203,
          0.27203,
          0.24858000000000002,
          0.2603,
          0.31893,
          0.31893,
          0.31893,
          0.43618999999999997,
          0.47136000000000006,
          0.2134,
          0.2134,
          0.2134,
          0.23685,
          0.23685,
          0.20168,
          0.50654,
          0.50654,
          0.50654,
          0.50654,
          0.42446000000000006,
          0.42446000000000006,
          0.24858000000000002,
          0.34238,
          0.34238,
          0.30721,
          0.15478,
          0.15478,
          0.56517,
          0.56517,
          0.56517,
          0.56517,
          0.56517
         ]
        },
        {
         "legendgroup": "sensor",
         "line": {
          "color": "#FF7F0E"
         },
         "mode": "lines+markers",
         "name": "lateral",
         "showlegend": true,
         "type": "scatter",
         "x": [
          0,
          0.5,
          1.5,
          1.75,
          2.5,
          3.25,
          4,
          5,
          5.5,
          6,
          6.5,
          6.75,
          7.75,
          8,
          9,
          9.75,
          10,
          10.5,
          10.75,
          12,
          12.5,
          13,
          14,
          15.25,
          15.5,
          16.5,
          17.5,
          18.5,
          18.75,
          19.25,
          20,
          21,
          22.75,
          23,
          23.25,
          24.5,
          26.25,
          27.75,
          28.5,
          29,
          29.5,
          29.75,
          30.5,
          30.75,
          31.75,
          32.5,
          33,
          33.5,
          34,
          34.5,
          35.5,
          35.6,
          35.75,
          36.25,
          37
         ],
         "y": [
          -0.082102,
          -0.082102,
          -0.013684,
          -0.013684,
          -0.059296,
          -0.059296,
          -0.070699,
          -0.09350499999999999,
          -0.12771,
          -0.12771,
          -0.12771,
          -0.12771,
          -0.070699,
          -0.070699,
          -0.0022806,
          -0.025087,
          -0.025087,
          -0.025087,
          -0.025087,
          -0.070699,
          -0.070699,
          -0.070699,
          -0.0022806,
          -0.10490999999999999,
          -0.10490999999999999,
          -0.09350499999999999,
          -0.10490999999999999,
          -0.070699,
          -0.070699,
          -0.070699,
          0.0091224,
          0.020525,
          -0.12771,
          -0.12771,
          -0.12771,
          -0.10490999999999999,
          -0.10490999999999999,
          -0.11631,
          0.020525,
          0.020525,
          0.020525,
          0.020525,
          -0.0022806,
          -0.0022806,
          -0.16192,
          -0.047893,
          -0.047893,
          -0.036489999999999995,
          -0.13912,
          -0.13912,
          0.11175,
          0.11175,
          0.11175,
          0.11175,
          0.11175
         ]
        },
        {
         "legendgroup": "sensor",
         "line": {
          "color": "#2CA02C"
         },
         "mode": "lines+markers",
         "name": "vertical",
         "showlegend": true,
         "type": "scatter",
         "x": [
          0,
          0.5,
          1.5,
          1.75,
          2.5,
          3.25,
          4,
          5,
          5.5,
          6,
          6.5,
          6.75,
          7.75,
          8,
          9,
          9.75,
          10,
          10.5,
          10.75,
          12,
          12.5,
          13,
          14,
          15.25,
          15.5,
          16.5,
          17.5,
          18.5,
          18.75,
          19.25,
          20,
          21,
          22.75,
          23,
          23.25,
          24.5,
          26.25,
          27.75,
          28.5,
          29,
          29.5,
          29.75,
          30.5,
          30.75,
          31.75,
          32.5,
          33,
          33.5,
          34,
          34.5,
          35.5,
          35.6,
          35.75,
          36.25,
          37
         ],
         "y": [
          1.0082,
          1.0082,
          0.9163600000000001,
          0.9163600000000001,
          0.96229,
          0.96229,
          0.99674,
          0.99674,
          1.0312,
          1.0312,
          1.0312,
          1.0312,
          0.99674,
          0.99674,
          0.92784,
          0.93932,
          0.93932,
          0.93932,
          0.93932,
          0.99674,
          0.99674,
          0.99674,
          0.93932,
          1.0082,
          1.0082,
          1.0312,
          1.0197,
          0.99674,
          0.99674,
          0.99674,
          0.9163600000000001,
          0.92784,
          1.0312,
          1.0312,
          1.0312,
          1.0197,
          1.0197,
          1.0312,
          0.9163600000000001,
          0.9163600000000001,
          0.9163600000000001,
          0.9163600000000001,
          0.9163600000000001,
          0.9163600000000001,
          1.0082,
          0.97377,
          0.97377,
          0.97377,
          1.0197,
          1.0197,
          0.8704200000000001,
          0.8704200000000001,
          0.8704200000000001,
          0.8704200000000001,
          0.8704200000000001
         ]
        },
        {
         "fill": "toself",
         "fillcolor": "rgb(248, 156, 116)",
         "legendgroup": "activity",
         "mode": "none",
         "name": "lying",
         "opacity": 0.333,
         "showlegend": true,
         "type": "scatter",
         "x": [
          37.75,
          37.75,
          74.25,
          74.25
         ],
         "y": [
          -2,
          2,
          2,
          -2
         ]
        },
        {
         "legendgroup": "sensor",
         "line": {
          "color": "#1F77B4"
         },
         "mode": "lines+markers",
         "name": "front",
         "showlegend": false,
         "type": "scatter",
         "x": [
          37.75,
          38,
          38.1,
          38.5,
          38.75,
          38.85,
          39.25,
          39.35,
          39.75,
          40.25,
          40.5,
          41.5,
          41.6,
          42,
          42.25,
          42.5,
          43,
          43.1,
          43.25,
          43.35,
          43.5,
          44,
          44.1,
          44.25,
          44.5,
          44.75,
          45.75,
          45.85,
          46,
          46.25,
          46.5,
          46.575,
          47.25,
          47.5,
          47.575,
          48,
          48.5,
          48.75,
          49,
          49.1,
          50,
          50.5,
          50.75,
          50.825,
          51.75,
          52,
          52.75,
          52.85,
          53.5,
          53.6,
          53.75,
          53.825,
          54,
          54.25,
          54.5,
          55,
          55.25,
          55.325,
          55.5,
          56,
          56.25,
          56.5,
          57.25,
          57.35,
          57.5,
          58.5,
          58.75,
          58.825,
          59.25,
          60.25,
          60.5,
          61.75,
          62.25,
          62.5,
          62.6,
          62.75,
          63,
          63.75,
          63.825,
          64,
          64.25,
          64.75,
          64.875,
          65,
          65.1,
          65.25,
          65.5,
          65.6,
          65.65,
          65.75,
          66.5,
          66.75,
          67.5,
          67.6,
          67.75,
          68,
          68.525,
          68.6,
          68.65,
          69,
          69.25,
          70,
          70.1,
          71.625,
          71.725,
          71.775,
          71.825,
          71.85,
          72.25,
          72.5,
          72.6,
          73.5,
          73.75,
          74,
          74.075,
          74.125,
          74.25
         ],
         "y": [
          1.0694,
          1.0694,
          1.0694,
          0.8231200000000001,
          1.0576,
          1.0576,
          1.1632,
          1.1632,
          0.9052,
          1.1397,
          0.92865,
          0.9169299999999999,
          0.9169299999999999,
          1.3156,
          0.9052,
          0.9052,
          1.2452,
          1.2452,
          0.87003,
          0.87003,
          0.9521,
          0.87003,
          0.87003,
          0.87003,
          0.8934799999999999,
          0.8934799999999999,
          1.0342,
          1.0342,
          1.0342,
          1.3156,
          0.92865,
          0.92865,
          1.0342,
          1.0342,
          1.0342,
          0.9052,
          1.1514,
          0.9052,
          1.3039,
          1.3039,
          0.9403799999999999,
          0.92865,
          0.92865,
          0.92865,
          1.1866,
          1.1866,
          0.9403799999999999,
          0.9403799999999999,
          1.0342,
          1.0342,
          1.0342,
          1.0342,
          0.88175,
          0.88175,
          0.88175,
          1.1983,
          1.1983,
          0.9990100000000001,
          0.9990100000000001,
          1.1045,
          0.9521,
          0.9521,
          1.1632,
          1.1632,
          1.1632,
          1.0811,
          0.96383,
          0.96383,
          0.88175,
          0.88175,
          1.0459,
          1.1983,
          0.9403799999999999,
          0.8934799999999999,
          0.8934799999999999,
          0.8934799999999999,
          0.8583,
          0.9052,
          0.96383,
          0.96383,
          0.96383,
          0.92865,
          0.92865,
          0.92865,
          1.2101,
          1.2101,
          1.2101,
          0.8934799999999999,
          0.8934799999999999,
          0.8934799999999999,
          0.9052,
          0.9052,
          0.9169299999999999,
          0.9169299999999999,
          0.9169299999999999,
          0.8934799999999999,
          0.9169299999999999,
          0.88175,
          0.88175,
          1.0107,
          1.0107,
          0.9169299999999999,
          0.9169299999999999,
          0.88175,
          0.88175,
          0.88175,
          1.128,
          1.128,
          0.9052,
          0.9052,
          0.9052,
          0.88175,
          0.88175,
          0.88175,
          0.9403799999999999,
          0.9403799999999999,
          0.9403799999999999
         ]
        },
        {
         "legendgroup": "sensor",
         "line": {
          "color": "#FF7F0E"
         },
         "mode": "lines+markers",
         "name": "lateral",
         "showlegend": false,
         "type": "scatter",
         "x": [
          37.75,
          38,
          38.1,
          38.5,
          38.75,
          38.85,
          39.25,
          39.35,
          39.75,
          40.25,
          40.5,
          41.5,
          41.6,
          42,
          42.25,
          42.5,
          43,
          43.1,
          43.25,
          43.35,
          43.5,
          44,
          44.1,
          44.25,
          44.5,
          44.75,
          45.75,
          45.85,
          46,
          46.25,
          46.5,
          46.575,
          47.25,
          47.5,
          47.575,
          48,
          48.5,
          48.75,
          49,
          49.1,
          50,
          50.5,
          50.75,
          50.825,
          51.75,
          52,
          52.75,
          52.85,
          53.5,
          53.6,
          53.75,
          53.825,
          54,
          54.25,
          54.5,
          55,
          55.25,
          55.325,
          55.5,
          56,
          56.25,
          56.5,
          57.25,
          57.35,
          57.5,
          58.5,
          58.75,
          58.825,
          59.25,
          60.25,
          60.5,
          61.75,
          62.25,
          62.5,
          62.6,
          62.75,
          63,
          63.75,
          63.825,
          64,
          64.25,
          64.75,
          64.875,
          65,
          65.1,
          65.25,
          65.5,
          65.6,
          65.65,
          65.75,
          66.5,
          66.75,
          67.5,
          67.6,
          67.75,
          68,
          68.525,
          68.6,
          68.65,
          69,
          69.25,
          70,
          70.1,
          71.625,
          71.725,
          71.775,
          71.825,
          71.85,
          72.25,
          72.5,
          72.6,
          73.5,
          73.75,
          74,
          74.075,
          74.125,
          74.25
         ],
         "y": [
          -0.013684,
          -0.013684,
          -0.013684,
          -0.10490999999999999,
          -0.036489999999999995,
          -0.036489999999999995,
          -0.059296,
          -0.059296,
          -0.15052000000000001,
          -0.070699,
          -0.16192,
          -0.16192,
          -0.16192,
          -0.013684,
          -0.16192,
          -0.16192,
          -0.025087,
          -0.025087,
          -0.17332999999999998,
          -0.17332999999999998,
          -0.15052000000000001,
          -0.17332999999999998,
          -0.17332999999999998,
          -0.17332999999999998,
          -0.16192,
          -0.16192,
          -0.12771,
          -0.12771,
          -0.12771,
          -0.013684,
          -0.15052000000000001,
          -0.15052000000000001,
          -0.11631,
          -0.11631,
          -0.11631,
          -0.17332999999999998,
          -0.047893,
          -0.17332999999999998,
          -0.0022806,
          -0.0022806,
          -0.16192,
          -0.15052000000000001,
          -0.15052000000000001,
          -0.15052000000000001,
          -0.036489999999999995,
          -0.036489999999999995,
          -0.15052000000000001,
          -0.15052000000000001,
          -0.11631,
          -0.11631,
          -0.11631,
          -0.11631,
          -0.16192,
          -0.16192,
          -0.16192,
          -0.036489999999999995,
          -0.036489999999999995,
          -0.13912,
          -0.13912,
          -0.070699,
          -0.15052000000000001,
          -0.15052000000000001,
          -0.059296,
          -0.059296,
          -0.059296,
          -0.10490999999999999,
          -0.16192,
          -0.16192,
          -0.17332999999999998,
          -0.16192,
          -0.11631,
          -0.047893,
          -0.15052000000000001,
          -0.16192,
          -0.16192,
          -0.16192,
          -0.16192,
          -0.16192,
          -0.15052000000000001,
          -0.15052000000000001,
          -0.15052000000000001,
          -0.15052000000000001,
          -0.16192,
          -0.16192,
          -0.036489999999999995,
          -0.036489999999999995,
          -0.036489999999999995,
          -0.17332999999999998,
          -0.17332999999999998,
          -0.17332999999999998,
          -0.16192,
          -0.16192,
          -0.17332999999999998,
          -0.17332999999999998,
          -0.17332999999999998,
          -0.16192,
          -0.15052000000000001,
          -0.16192,
          -0.16192,
          -0.11631,
          -0.11631,
          -0.17332999999999998,
          -0.17332999999999998,
          -0.16192,
          -0.16192,
          -0.16192,
          -0.070699,
          -0.070699,
          -0.16192,
          -0.16192,
          -0.16192,
          -0.16192,
          -0.16192,
          -0.16192,
          -0.32156999999999997,
          -0.32156999999999997,
          -0.32156999999999997
         ]
        },
        {
         "legendgroup": "sensor",
         "line": {
          "color": "#2CA02C"
         },
         "mode": "lines+markers",
         "name": "vertical",
         "showlegend": false,
         "type": "scatter",
         "x": [
          37.75,
          38,
          38.1,
          38.5,
          38.75,
          38.85,
          39.25,
          39.35,
          39.75,
          40.25,
          40.5,
          41.5,
          41.6,
          42,
          42.25,
          42.5,
          43,
          43.1,
          43.25,
          43.35,
          43.5,
          44,
          44.1,
          44.25,
          44.5,
          44.75,
          45.75,
          45.85,
          46,
          46.25,
          46.5,
          46.575,
          47.25,
          47.5,
          47.575,
          48,
          48.5,
          48.75,
          49,
          49.1,
          50,
          50.5,
          50.75,
          50.825,
          51.75,
          52,
          52.75,
          52.85,
          53.5,
          53.6,
          53.75,
          53.825,
          54,
          54.25,
          54.5,
          55,
          55.25,
          55.325,
          55.5,
          56,
          56.25,
          56.5,
          57.25,
          57.35,
          57.5,
          58.5,
          58.75,
          58.825,
          59.25,
          60.25,
          60.5,
          61.75,
          62.25,
          62.5,
          62.6,
          62.75,
          63,
          63.75,
          63.825,
          64,
          64.25,
          64.75,
          64.875,
          65,
          65.1,
          65.25,
          65.5,
          65.6,
          65.65,
          65.75,
          66.5,
          66.75,
          67.5,
          67.6,
          67.75,
          68,
          68.525,
          68.6,
          68.65,
          69,
          69.25,
          70,
          70.1,
          71.625,
          71.725,
          71.775,
          71.825,
          71.85,
          72.25,
          72.5,
          72.6,
          73.5,
          73.75,
          74,
          74.075,
          74.125,
          74.25
         ],
         "y": [
          0.29627,
          0.29627,
          0.29627,
          -0.07119600000000001,
          -0.28938,
          -0.28938,
          -0.27789,
          -0.27789,
          -0.20899,
          -0.27789,
          -0.19751,
          -0.19751,
          -0.19751,
          -0.34679,
          -0.19751,
          -0.19751,
          -0.34679,
          -0.34679,
          -0.19751,
          -0.19751,
          -0.18603,
          -0.20899,
          -0.20899,
          -0.20899,
          -0.19751,
          -0.19751,
          -0.20899,
          -0.20899,
          -0.20899,
          -0.36976,
          -0.18603,
          -0.18603,
          -0.23196,
          -0.23196,
          -0.23196,
          -0.19751,
          -0.30086,
          -0.17454,
          -0.33531,
          -0.33531,
          -0.18603,
          -0.19751,
          -0.19751,
          -0.19751,
          -0.30086,
          -0.30086,
          -0.17454,
          -0.17454,
          -0.20899,
          -0.20899,
          -0.20899,
          -0.20899,
          -0.17454,
          -0.17454,
          -0.17454,
          -0.28938,
          -0.28938,
          -0.17454,
          -0.17454,
          -0.24344000000000002,
          -0.17454,
          -0.17454,
          -0.27789,
          -0.27789,
          -0.27789,
          -0.23196,
          -0.17454,
          -0.17454,
          -0.17454,
          -0.17454,
          -0.20899,
          -0.28938,
          -0.17454,
          -0.18603,
          -0.18603,
          -0.18603,
          -0.18603,
          -0.16305999999999998,
          -0.16305999999999998,
          -0.16305999999999998,
          -0.16305999999999998,
          -0.16305999999999998,
          -0.17454,
          -0.17454,
          -0.28938,
          -0.28938,
          -0.28938,
          -0.17454,
          -0.17454,
          -0.17454,
          -0.17454,
          -0.17454,
          -0.18603,
          -0.18603,
          -0.18603,
          -0.17454,
          -0.17454,
          -0.17454,
          -0.17454,
          -0.19751,
          -0.19751,
          -0.17454,
          -0.17454,
          -0.15158,
          -0.15158,
          -0.15158,
          -0.24344000000000002,
          -0.24344000000000002,
          -0.17454,
          -0.17454,
          -0.17454,
          -0.17454,
          -0.17454,
          -0.17454,
          0.1355,
          0.1355,
          0.1355
         ]
        },
        {
         "fill": "toself",
         "fillcolor": "rgb(102, 197, 204)",
         "legendgroup": "activity",
         "mode": "none",
         "name": "bed",
         "opacity": 0.333,
         "showlegend": false,
         "type": "scatter",
         "x": [
          76,
          76,
          103.25,
          103.25
         ],
         "y": [
          -2,
          2,
          2,
          -2
         ]
        },
        {
         "legendgroup": "sensor",
         "line": {
          "color": "#1F77B4"
         },
         "mode": "lines+markers",
         "name": "front",
         "showlegend": false,
         "type": "scatter",
         "x": [
          76,
          76.5,
          77.25,
          77.5,
          77.75,
          78,
          79,
          80,
          80.75,
          81,
          81.5,
          82.25,
          82.75,
          83.25,
          84.5,
          84.75,
          85.25,
          86.5,
          87,
          87.75,
          88.25,
          88.75,
          89.75,
          90,
          90.25,
          90.75,
          92,
          92.5,
          93.5,
          94.25,
          94.75,
          95,
          95.25,
          96,
          96.5,
          96.75,
          97.25,
          98.25,
          98.5,
          99,
          99.5,
          100,
          101.25,
          101.5,
          102,
          102.5,
          103.25
         ],
         "y": [
          0.7176,
          0.7176,
          0.7176,
          0.7176,
          0.7176,
          0.7176,
          0.42446000000000006,
          0.23685,
          0.23685,
          0.23685,
          0.23685,
          0.29548,
          0.29548,
          0.29548,
          0.33066,
          0.33066,
          0.33066,
          0.5534399999999999,
          0.5534399999999999,
          0.37756,
          0.37756,
          0.37756,
          0.31893,
          0.31893,
          0.31893,
          0.31893,
          0.30721,
          0.30721,
          0.33066,
          0.33066,
          0.33066,
          0.33066,
          0.33066,
          0.28376,
          0.28376,
          0.28376,
          0.28376,
          0.54171,
          0.54171,
          0.54171,
          0.54171,
          0.54171,
          0.29548,
          0.29548,
          0.29548,
          0.29548,
          0.41273000000000004
         ]
        },
        {
         "legendgroup": "sensor",
         "line": {
          "color": "#FF7F0E"
         },
         "mode": "lines+markers",
         "name": "lateral",
         "showlegend": false,
         "type": "scatter",
         "x": [
          76,
          76.5,
          77.25,
          77.5,
          77.75,
          78,
          79,
          80,
          80.75,
          81,
          81.5,
          82.25,
          82.75,
          83.25,
          84.5,
          84.75,
          85.25,
          86.5,
          87,
          87.75,
          88.25,
          88.75,
          89.75,
          90,
          90.25,
          90.75,
          92,
          92.5,
          93.5,
          94.25,
          94.75,
          95,
          95.25,
          96,
          96.5,
          96.75,
          97.25,
          98.25,
          98.5,
          99,
          99.5,
          100,
          101.25,
          101.5,
          102,
          102.5,
          103.25
         ],
         "y": [
          0.043332,
          0.043332,
          0.043332,
          0.043332,
          0.043332,
          0.043332,
          -0.082102,
          -0.12771,
          -0.12771,
          -0.12771,
          -0.12771,
          -0.082102,
          -0.082102,
          -0.082102,
          -0.070699,
          -0.070699,
          -0.070699,
          0.0091224,
          0.0091224,
          -0.059296,
          -0.059296,
          -0.059296,
          -0.082102,
          -0.082102,
          -0.082102,
          -0.082102,
          -0.070699,
          -0.070699,
          -0.082102,
          -0.082102,
          -0.082102,
          -0.082102,
          -0.082102,
          -0.11631,
          -0.11631,
          -0.11631,
          -0.11631,
          0.0091224,
          0.0091224,
          0.0091224,
          0.0091224,
          0.0091224,
          -0.10490999999999999,
          -0.10490999999999999,
          -0.10490999999999999,
          -0.10490999999999999,
          -0.025087
         ]
        },
        {
         "legendgroup": "sensor",
         "line": {
          "color": "#2CA02C"
         },
         "mode": "lines+markers",
         "name": "vertical",
         "showlegend": false,
         "type": "scatter",
         "x": [
          76,
          76.5,
          77.25,
          77.5,
          77.75,
          78,
          79,
          80,
          80.75,
          81,
          81.5,
          82.25,
          82.75,
          83.25,
          84.5,
          84.75,
          85.25,
          86.5,
          87,
          87.75,
          88.25,
          88.75,
          89.75,
          90,
          90.25,
          90.75,
          92,
          92.5,
          93.5,
          94.25,
          94.75,
          95,
          95.25,
          96,
          96.5,
          96.75,
          97.25,
          98.25,
          98.5,
          99,
          99.5,
          100,
          101.25,
          101.5,
          102,
          102.5,
          103.25
         ],
         "y": [
          0.89339,
          0.89339,
          0.89339,
          0.89339,
          0.89339,
          0.89339,
          0.96229,
          1.0082,
          1.0082,
          1.0082,
          1.0082,
          0.99674,
          0.99674,
          0.99674,
          0.99674,
          0.99674,
          0.99674,
          0.89339,
          0.89339,
          0.97377,
          0.97377,
          0.97377,
          0.97377,
          0.97377,
          0.97377,
          0.97377,
          0.99674,
          0.99674,
          0.98526,
          0.98526,
          0.98526,
          0.98526,
          0.98526,
          1.0082,
          1.0082,
          1.0082,
          1.0082,
          0.9048700000000001,
          0.9048700000000001,
          0.9048700000000001,
          0.9048700000000001,
          0.9048700000000001,
          0.99674,
          0.99674,
          0.99674,
          0.99674,
          0.93932
         ]
        },
        {
         "fill": "toself",
         "fillcolor": "rgb(246, 207, 113)",
         "legendgroup": "activity",
         "mode": "none",
         "name": "ambulating",
         "opacity": 0.333,
         "showlegend": true,
         "type": "scatter",
         "x": [
          104,
          104,
          111.5,
          111.5
         ],
         "y": [
          -2,
          2,
          2,
          -2
         ]
        },
        {
         "legendgroup": "sensor",
         "line": {
          "color": "#1F77B4"
         },
         "mode": "lines+markers",
         "name": "front",
         "showlegend": false,
         "type": "scatter",
         "x": [
          104,
          106.75,
          107.25,
          111.5
         ],
         "y": [
          0.41273000000000004,
          0.22513000000000002,
          0.60034,
          0.2603
         ]
        },
        {
         "legendgroup": "sensor",
         "line": {
          "color": "#FF7F0E"
         },
         "mode": "lines+markers",
         "name": "lateral",
         "showlegend": false,
         "type": "scatter",
         "x": [
          104,
          106.75,
          107.25,
          111.5
         ],
         "y": [
          -0.025087,
          -0.17332999999999998,
          -0.047893,
          -0.059296
         ]
        },
        {
         "legendgroup": "sensor",
         "line": {
          "color": "#2CA02C"
         },
         "mode": "lines+markers",
         "name": "vertical",
         "showlegend": false,
         "type": "scatter",
         "x": [
          104,
          106.75,
          107.25,
          111.5
         ],
         "y": [
          0.93932,
          0.89339,
          1.0082,
          0.99674
         ]
        },
        {
         "fill": "toself",
         "fillcolor": "rgb(220, 176, 242)",
         "legendgroup": "activity",
         "mode": "none",
         "name": "chair",
         "opacity": 0.333,
         "showlegend": true,
         "type": "scatter",
         "x": [
          116,
          116,
          193,
          193
         ],
         "y": [
          -2,
          2,
          2,
          -2
         ]
        },
        {
         "legendgroup": "sensor",
         "line": {
          "color": "#1F77B4"
         },
         "mode": "lines+markers",
         "name": "front",
         "showlegend": false,
         "type": "scatter",
         "x": [
          116,
          116.5,
          118,
          120.5,
          126.5,
          127,
          128.5,
          130.25,
          131.25,
          132.75,
          133,
          135,
          136.25,
          137.25,
          138.25,
          139,
          140,
          140.5,
          140.75,
          141.25,
          142,
          142.25,
          142.75,
          143,
          143.5,
          145,
          146,
          146.75,
          148,
          148.5,
          149.75,
          150.5,
          151,
          152.5,
          153,
          153.5,
          155.28,
          156,
          157.25,
          157.5,
          158,
          158.75,
          159.75,
          160.5,
          162.25,
          163,
          163.5,
          164,
          164.5,
          165.75,
          166.25,
          166.5,
          168,
          168.5,
          169,
          169.5,
          178.75,
          184.5,
          186,
          193
         ],
         "y": [
          0.83485,
          0.83485,
          0.88175,
          0.88175,
          0.8465799999999999,
          0.8465799999999999,
          1.0928,
          0.83485,
          1.0928,
          0.78795,
          0.78795,
          0.8583,
          0.8583,
          0.8583,
          0.8934799999999999,
          0.8934799999999999,
          0.88175,
          0.88175,
          0.88175,
          0.88175,
          0.88175,
          0.88175,
          0.88175,
          0.88175,
          0.88175,
          0.8583,
          0.9052,
          0.9052,
          0.96383,
          0.96383,
          0.88175,
          0.88175,
          0.88175,
          1.1163,
          1.1163,
          1.1163,
          0.8465799999999999,
          0.8465799999999999,
          0.88175,
          0.88175,
          0.88175,
          0.88175,
          0.87003,
          0.87003,
          0.87003,
          0.87003,
          0.87003,
          0.87003,
          0.87003,
          0.8934799999999999,
          0.8934799999999999,
          0.8934799999999999,
          0.88175,
          0.88175,
          0.88175,
          0.88175,
          0.88175,
          0.8231200000000001,
          0.87003,
          0.8465799999999999
         ]
        },
        {
         "legendgroup": "sensor",
         "line": {
          "color": "#FF7F0E"
         },
         "mode": "lines+markers",
         "name": "lateral",
         "showlegend": false,
         "type": "scatter",
         "x": [
          116,
          116.5,
          118,
          120.5,
          126.5,
          127,
          128.5,
          130.25,
          131.25,
          132.75,
          133,
          135,
          136.25,
          137.25,
          138.25,
          139,
          140,
          140.5,
          140.75,
          141.25,
          142,
          142.25,
          142.75,
          143,
          143.5,
          145,
          146,
          146.75,
          148,
          148.5,
          149.75,
          150.5,
          151,
          152.5,
          153,
          153.5,
          155.28,
          156,
          157.25,
          157.5,
          158,
          158.75,
          159.75,
          160.5,
          162.25,
          163,
          163.5,
          164,
          164.5,
          165.75,
          166.25,
          166.5,
          168,
          168.5,
          169,
          169.5,
          178.75,
          184.5,
          186,
          193
         ],
         "y": [
          -0.13912,
          -0.13912,
          -0.082102,
          -0.09350499999999999,
          -0.12771,
          -0.12771,
          -0.013684,
          -0.12771,
          -0.013684,
          -0.15052000000000001,
          -0.15052000000000001,
          -0.10490999999999999,
          -0.10490999999999999,
          -0.10490999999999999,
          -0.09350499999999999,
          -0.09350499999999999,
          -0.09350499999999999,
          -0.09350499999999999,
          -0.09350499999999999,
          -0.09350499999999999,
          -0.09350499999999999,
          -0.09350499999999999,
          -0.09350499999999999,
          -0.09350499999999999,
          -0.09350499999999999,
          -0.10490999999999999,
          -0.09350499999999999,
          -0.09350499999999999,
          -0.047893,
          -0.047893,
          -0.082102,
          -0.082102,
          -0.082102,
          -0.013684,
          -0.013684,
          -0.013684,
          -0.10490999999999999,
          -0.10490999999999999,
          -0.070699,
          -0.070699,
          -0.070699,
          -0.070699,
          -0.10490999999999999,
          -0.10490999999999999,
          -0.10490999999999999,
          -0.10490999999999999,
          -0.10490999999999999,
          -0.10490999999999999,
          -0.10490999999999999,
          -0.09350499999999999,
          -0.09350499999999999,
          -0.09350499999999999,
          -0.09350499999999999,
          -0.09350499999999999,
          -0.09350499999999999,
          -0.09350499999999999,
          -0.10490999999999999,
          -0.13912,
          -0.11631,
          -0.13912
         ]
        },
        {
         "legendgroup": "sensor",
         "line": {
          "color": "#2CA02C"
         },
         "mode": "lines+markers",
         "name": "vertical",
         "showlegend": false,
         "type": "scatter",
         "x": [
          116,
          116.5,
          118,
          120.5,
          126.5,
          127,
          128.5,
          130.25,
          131.25,
          132.75,
          133,
          135,
          136.25,
          137.25,
          138.25,
          139,
          140,
          140.5,
          140.75,
          141.25,
          142,
          142.25,
          142.75,
          143,
          143.5,
          145,
          146,
          146.75,
          148,
          148.5,
          149.75,
          150.5,
          151,
          152.5,
          153,
          153.5,
          155.28,
          156,
          157.25,
          157.5,
          158,
          158.75,
          159.75,
          160.5,
          162.25,
          163,
          163.5,
          164,
          164.5,
          165.75,
          166.25,
          166.5,
          168,
          168.5,
          169,
          169.5,
          178.75,
          184.5,
          186,
          193
         ],
         "y": [
          0.6752100000000001,
          0.6752100000000001,
          0.66373,
          0.64076,
          0.66373,
          0.66373,
          0.5489,
          0.66373,
          0.56038,
          0.6752100000000001,
          0.6752100000000001,
          0.6522399999999999,
          0.66373,
          0.66373,
          0.6292800000000001,
          0.6292800000000001,
          0.64076,
          0.64076,
          0.64076,
          0.64076,
          0.64076,
          0.64076,
          0.64076,
          0.64076,
          0.64076,
          0.6292800000000001,
          0.6292800000000001,
          0.6292800000000001,
          0.60631,
          0.60631,
          0.64076,
          0.64076,
          0.64076,
          0.5489,
          0.5489,
          0.5489,
          0.6522399999999999,
          0.6522399999999999,
          0.64076,
          0.64076,
          0.64076,
          0.64076,
          0.64076,
          0.64076,
          0.6522399999999999,
          0.6522399999999999,
          0.6522399999999999,
          0.6522399999999999,
          0.6522399999999999,
          0.6292800000000001,
          0.6292800000000001,
          0.6292800000000001,
          0.64076,
          0.64076,
          0.64076,
          0.64076,
          0.6292800000000001,
          0.6866899999999999,
          0.64076,
          0.66373
         ]
        },
        {
         "fill": "toself",
         "fillcolor": "rgb(246, 207, 113)",
         "legendgroup": "activity",
         "mode": "none",
         "name": "ambulating",
         "opacity": 0.333,
         "showlegend": false,
         "type": "scatter",
         "x": [
          194.5,
          194.5,
          198.25,
          198.25
         ],
         "y": [
          -2,
          2,
          2,
          -2
         ]
        },
        {
         "legendgroup": "sensor",
         "line": {
          "color": "#1F77B4"
         },
         "mode": "lines+markers",
         "name": "front",
         "showlegend": false,
         "type": "scatter",
         "x": [
          194.5,
          196.25,
          198.25
         ],
         "y": [
          0.77622,
          0.096148,
          0.096148
         ]
        },
        {
         "legendgroup": "sensor",
         "line": {
          "color": "#FF7F0E"
         },
         "mode": "lines+markers",
         "name": "lateral",
         "showlegend": false,
         "type": "scatter",
         "x": [
          194.5,
          196.25,
          198.25
         ],
         "y": [
          0.020525,
          -0.16192,
          -0.16192
         ]
        },
        {
         "legendgroup": "sensor",
         "line": {
          "color": "#2CA02C"
         },
         "mode": "lines+markers",
         "name": "vertical",
         "showlegend": false,
         "type": "scatter",
         "x": [
          194.5,
          196.25,
          198.25
         ],
         "y": [
          0.66373,
          0.93932,
          0.93932
         ]
        },
        {
         "fill": "toself",
         "fillcolor": "rgb(102, 197, 204)",
         "legendgroup": "activity",
         "mode": "none",
         "name": "bed",
         "opacity": 0.333,
         "showlegend": false,
         "type": "scatter",
         "x": [
          199.5,
          199.5,
          200.33,
          200.33
         ],
         "y": [
          -2,
          2,
          2,
          -2
         ]
        },
        {
         "legendgroup": "sensor",
         "line": {
          "color": "#1F77B4"
         },
         "mode": "lines+markers",
         "name": "front",
         "showlegend": false,
         "type": "scatter",
         "x": [
          199.5,
          199.75,
          200.25,
          200.33
         ],
         "y": [
          -0.51357,
          -0.51357,
          -0.51357,
          -0.51357
         ]
        },
        {
         "legendgroup": "sensor",
         "line": {
          "color": "#FF7F0E"
         },
         "mode": "lines+markers",
         "name": "lateral",
         "showlegend": false,
         "type": "scatter",
         "x": [
          199.5,
          199.75,
          200.25,
          200.33
         ],
         "y": [
          -0.25315,
          -0.25315,
          -0.25315,
          -0.25315
         ]
        },
        {
         "legendgroup": "sensor",
         "line": {
          "color": "#2CA02C"
         },
         "mode": "lines+markers",
         "name": "vertical",
         "showlegend": false,
         "type": "scatter",
         "x": [
          199.5,
          199.75,
          200.25,
          200.33
         ],
         "y": [
          0.98526,
          0.98526,
          0.98526,
          0.98526
         ]
        },
        {
         "fill": "toself",
         "fillcolor": "rgb(248, 156, 116)",
         "legendgroup": "activity",
         "mode": "none",
         "name": "lying",
         "opacity": 0.333,
         "showlegend": false,
         "type": "scatter",
         "x": [
          200.75,
          200.75,
          248,
          248
         ],
         "y": [
          -2,
          2,
          2,
          -2
         ]
        },
        {
         "legendgroup": "sensor",
         "line": {
          "color": "#1F77B4"
         },
         "mode": "lines+markers",
         "name": "front",
         "showlegend": false,
         "type": "scatter",
         "x": [
          200.75,
          201,
          201.53,
          202.25,
          203.25,
          204.25,
          205.25,
          206,
          206.25,
          208,
          208.75,
          209,
          210,
          211.75,
          211.85,
          212.25,
          212.35,
          212.5,
          212.75,
          213,
          213.08,
          213.25,
          213.5,
          213.75,
          213.83,
          214.25,
          214.75,
          215,
          215.25,
          215.75,
          217.25,
          217.5,
          217.75,
          218,
          218.75,
          220,
          220.25,
          221,
          222.75,
          224.25,
          224.5,
          225,
          225.25,
          225.5,
          225.75,
          226.5,
          227.75,
          227.85,
          228.5,
          228.58,
          229,
          230,
          230.5,
          231.25,
          231.5,
          231.75,
          232,
          232.5,
          234.25,
          234.5,
          234.75,
          235,
          235.25,
          235.5,
          235.75,
          235.85,
          236.25,
          236.5,
          237,
          237.08,
          237.25,
          237.35,
          237.5,
          237.6,
          237.63,
          238,
          238.5,
          238.75,
          239.75,
          240.5,
          241.25,
          241.5,
          241.75,
          242,
          243,
          243.5,
          244,
          244.25,
          244.35,
          244.5,
          244.58,
          244.75,
          245,
          245.08,
          245.25,
          245.33,
          246,
          246.75,
          247,
          247.25,
          247.75,
          247.85,
          248
         ],
         "y": [
          0.92865,
          1.2335,
          1.0928,
          1.2101,
          1.2687,
          1.0928,
          1.2687,
          1.2921,
          1.2921,
          1.0694,
          1.0928,
          1.0928,
          1.128,
          0.9169299999999999,
          0.9169299999999999,
          0.9521,
          1.2687,
          1.0107,
          1.0107,
          0.88175,
          0.88175,
          0.9169299999999999,
          0.9990100000000001,
          0.9990100000000001,
          0.9990100000000001,
          1.1397,
          0.9169299999999999,
          0.9169299999999999,
          0.9169299999999999,
          1.1632,
          0.9169299999999999,
          1.1514,
          1.0107,
          0.88175,
          0.96383,
          0.9052,
          1.0225,
          1.0342,
          0.92865,
          1.1163,
          0.9403799999999999,
          0.9169299999999999,
          0.92865,
          1.1045,
          1.0694,
          0.9169299999999999,
          1.0459,
          1.0459,
          1.1163,
          1.1163,
          0.96383,
          1.1045,
          0.92865,
          0.9169299999999999,
          0.9403799999999999,
          0.9403799999999999,
          0.9052,
          0.92865,
          1.2804,
          0.92865,
          1.128,
          1.0694,
          0.9169299999999999,
          0.9521,
          0.9521,
          0.88175,
          0.9521,
          0.92865,
          1.1045,
          1.1045,
          0.9052,
          0.9052,
          0.9052,
          0.9052,
          0.88175,
          0.9403799999999999,
          1.2101,
          1.2101,
          1.0342,
          0.88175,
          0.8934799999999999,
          1.1866,
          0.92865,
          0.9169299999999999,
          0.97555,
          0.9872799999999999,
          1.1514,
          0.92865,
          1.0107,
          1.1163,
          1.1163,
          0.9052,
          0.9521,
          0.9403799999999999,
          0.9169299999999999,
          0.9169299999999999,
          1.1163,
          0.9403799999999999,
          1.1397,
          1.1045,
          0.8934799999999999,
          0.9052,
          1.2218
         ]
        },
        {
         "legendgroup": "sensor",
         "line": {
          "color": "#FF7F0E"
         },
         "mode": "lines+markers",
         "name": "lateral",
         "showlegend": false,
         "type": "scatter",
         "x": [
          200.75,
          201,
          201.53,
          202.25,
          203.25,
          204.25,
          205.25,
          206,
          206.25,
          208,
          208.75,
          209,
          210,
          211.75,
          211.85,
          212.25,
          212.35,
          212.5,
          212.75,
          213,
          213.08,
          213.25,
          213.5,
          213.75,
          213.83,
          214.25,
          214.75,
          215,
          215.25,
          215.75,
          217.25,
          217.5,
          217.75,
          218,
          218.75,
          220,
          220.25,
          221,
          222.75,
          224.25,
          224.5,
          225,
          225.25,
          225.5,
          225.75,
          226.5,
          227.75,
          227.85,
          228.5,
          228.58,
          229,
          230,
          230.5,
          231.25,
          231.5,
          231.75,
          232,
          232.5,
          234.25,
          234.5,
          234.75,
          235,
          235.25,
          235.5,
          235.75,
          235.85,
          236.25,
          236.5,
          237,
          237.08,
          237.25,
          237.35,
          237.5,
          237.6,
          237.63,
          238,
          238.5,
          238.75,
          239.75,
          240.5,
          241.25,
          241.5,
          241.75,
          242,
          243,
          243.5,
          244,
          244.25,
          244.35,
          244.5,
          244.58,
          244.75,
          245,
          245.08,
          245.25,
          245.33,
          246,
          246.75,
          247,
          247.25,
          247.75,
          247.85,
          248
         ],
         "y": [
          -0.13912,
          -0.12771,
          -0.036489999999999995,
          0.077541,
          0.043332,
          -0.059296,
          0.0091224,
          0.020525,
          0.020525,
          -0.082102,
          -0.082102,
          -0.082102,
          -0.059296,
          -0.12771,
          -0.12771,
          -0.12771,
          0.020525,
          -0.10490999999999999,
          -0.10490999999999999,
          -0.13912,
          -0.13912,
          -0.12771,
          -0.11631,
          -0.11631,
          -0.11631,
          -0.013684,
          -0.13912,
          -0.13912,
          -0.13912,
          -0.036489999999999995,
          -0.12771,
          -0.025087,
          -0.09350499999999999,
          -0.13912,
          -0.11631,
          -0.12771,
          -0.10490999999999999,
          -0.09350499999999999,
          -0.10490999999999999,
          -0.036489999999999995,
          -0.11631,
          -0.11631,
          -0.11631,
          -0.047893,
          -0.082102,
          -0.12771,
          -0.082102,
          -0.082102,
          -0.025087,
          -0.025087,
          -0.11631,
          -0.036489999999999995,
          -0.11631,
          -0.11631,
          -0.10490999999999999,
          -0.10490999999999999,
          -0.12771,
          -0.10490999999999999,
          0.031928,
          -0.10490999999999999,
          -0.036489999999999995,
          -0.047893,
          -0.11631,
          -0.10490999999999999,
          -0.10490999999999999,
          -0.12771,
          -0.11631,
          -0.10490999999999999,
          -0.025087,
          -0.025087,
          -0.11631,
          -0.11631,
          -0.12771,
          -0.12771,
          -0.12771,
          -0.11631,
          0.0091224,
          0.0091224,
          -0.082102,
          -0.12771,
          -0.12771,
          -0.0022806,
          -0.11631,
          -0.11631,
          -0.11631,
          -0.10490999999999999,
          -0.013684,
          -0.10490999999999999,
          -0.082102,
          -0.036489999999999995,
          -0.036489999999999995,
          -0.11631,
          -0.10490999999999999,
          -0.11631,
          -0.11631,
          -0.11631,
          -0.036489999999999995,
          -0.12771,
          -0.025087,
          -0.036489999999999995,
          -0.12771,
          -0.12771,
          0.020525
         ]
        },
        {
         "legendgroup": "sensor",
         "line": {
          "color": "#2CA02C"
         },
         "mode": "lines+markers",
         "name": "vertical",
         "showlegend": false,
         "type": "scatter",
         "x": [
          200.75,
          201,
          201.53,
          202.25,
          203.25,
          204.25,
          205.25,
          206,
          206.25,
          208,
          208.75,
          209,
          210,
          211.75,
          211.85,
          212.25,
          212.35,
          212.5,
          212.75,
          213,
          213.08,
          213.25,
          213.5,
          213.75,
          213.83,
          214.25,
          214.75,
          215,
          215.25,
          215.75,
          217.25,
          217.5,
          217.75,
          218,
          218.75,
          220,
          220.25,
          221,
          222.75,
          224.25,
          224.5,
          225,
          225.25,
          225.5,
          225.75,
          226.5,
          227.75,
          227.85,
          228.5,
          228.58,
          229,
          230,
          230.5,
          231.25,
          231.5,
          231.75,
          232,
          232.5,
          234.25,
          234.5,
          234.75,
          235,
          235.25,
          235.5,
          235.75,
          235.85,
          236.25,
          236.5,
          237,
          237.08,
          237.25,
          237.35,
          237.5,
          237.6,
          237.63,
          238,
          238.5,
          238.75,
          239.75,
          240.5,
          241.25,
          241.5,
          241.75,
          242,
          243,
          243.5,
          244,
          244.25,
          244.35,
          244.5,
          244.58,
          244.75,
          245,
          245.08,
          245.25,
          245.33,
          246,
          246.75,
          247,
          247.25,
          247.75,
          247.85,
          248
         ],
         "y": [
          0.26182,
          -0.15158,
          -0.25493000000000005,
          -0.31234,
          -0.32383,
          -0.28938,
          -0.36976,
          -0.38124,
          -0.38124,
          -0.26641,
          -0.26641,
          -0.26641,
          -0.28938,
          -0.18603,
          -0.18603,
          -0.18603,
          -0.33531,
          -0.23196,
          -0.23196,
          -0.18603,
          -0.18603,
          -0.19751,
          -0.22048,
          -0.22048,
          -0.22048,
          -0.28938,
          -0.18603,
          -0.18603,
          -0.18603,
          -0.30086,
          -0.19751,
          -0.27789,
          -0.19751,
          -0.18603,
          -0.19751,
          -0.19751,
          -0.20899,
          -0.19751,
          -0.18603,
          -0.26641,
          -0.19751,
          -0.18603,
          -0.19751,
          -0.27789,
          -0.23196,
          -0.19751,
          -0.24344000000000002,
          -0.24344000000000002,
          -0.26641,
          -0.26641,
          -0.19751,
          -0.26641,
          -0.19751,
          -0.19751,
          -0.19751,
          -0.19751,
          -0.18603,
          -0.18603,
          -0.35827,
          -0.20899,
          -0.27789,
          -0.24344000000000002,
          -0.18603,
          -0.19751,
          -0.19751,
          -0.19751,
          -0.19751,
          -0.19751,
          -0.26641,
          -0.26641,
          -0.19751,
          -0.19751,
          -0.19751,
          -0.19751,
          -0.19751,
          -0.20899,
          -0.32383,
          -0.32383,
          -0.22048,
          -0.19751,
          -0.19751,
          -0.31234,
          -0.19751,
          -0.19751,
          -0.19751,
          -0.20899,
          -0.30086,
          -0.18603,
          -0.20899,
          -0.28938,
          -0.28938,
          -0.19751,
          -0.19751,
          -0.19751,
          -0.19751,
          -0.19751,
          -0.24344000000000002,
          -0.20899,
          -0.27789,
          -0.26641,
          -0.19751,
          -0.19751,
          -0.32383
         ]
        },
        {
         "fill": "toself",
         "fillcolor": "rgb(102, 197, 204)",
         "legendgroup": "activity",
         "mode": "none",
         "name": "bed",
         "opacity": 0.333,
         "showlegend": false,
         "type": "scatter",
         "x": [
          250,
          250,
          254,
          254
         ],
         "y": [
          -2,
          2,
          2,
          -2
         ]
        },
        {
         "legendgroup": "sensor",
         "line": {
          "color": "#1F77B4"
         },
         "mode": "lines+markers",
         "name": "front",
         "showlegend": false,
         "type": "scatter",
         "x": [
          250,
          250.5,
          250.75,
          251,
          251.25,
          251.5,
          253.25,
          254
         ],
         "y": [
          0.87003,
          0.87003,
          0.87003,
          0.87003,
          0.87003,
          0.87003,
          -0.0093803,
          -0.0093803
         ]
        },
        {
         "legendgroup": "sensor",
         "line": {
          "color": "#FF7F0E"
         },
         "mode": "lines+markers",
         "name": "lateral",
         "showlegend": false,
         "type": "scatter",
         "x": [
          250,
          250.5,
          250.75,
          251,
          251.25,
          251.5,
          253.25,
          254
         ],
         "y": [
          0.0091224,
          0.0091224,
          0.0091224,
          0.0091224,
          0.0091224,
          0.0091224,
          -0.11631,
          -0.11631
         ]
        },
        {
         "legendgroup": "sensor",
         "line": {
          "color": "#2CA02C"
         },
         "mode": "lines+markers",
         "name": "vertical",
         "showlegend": false,
         "type": "scatter",
         "x": [
          250,
          250.5,
          250.75,
          251,
          251.25,
          251.5,
          253.25,
          254
         ],
         "y": [
          0.46851000000000004,
          0.46851000000000004,
          0.46851000000000004,
          0.46851000000000004,
          0.46851000000000004,
          0.46851000000000004,
          0.95081,
          0.95081
         ]
        }
       ],
       "layout": {
        "height": 500,
        "margin": {
         "b": 0,
         "l": 0,
         "r": 0,
         "t": 32
        },
        "template": {
         "data": {
          "bar": [
           {
            "error_x": {
             "color": "#2a3f5f"
            },
            "error_y": {
             "color": "#2a3f5f"
            },
            "marker": {
             "line": {
              "color": "#E5ECF6",
              "width": 0.5
             }
            },
            "type": "bar"
           }
          ],
          "barpolar": [
           {
            "marker": {
             "line": {
              "color": "#E5ECF6",
              "width": 0.5
             }
            },
            "type": "barpolar"
           }
          ],
          "carpet": [
           {
            "aaxis": {
             "endlinecolor": "#2a3f5f",
             "gridcolor": "white",
             "linecolor": "white",
             "minorgridcolor": "white",
             "startlinecolor": "#2a3f5f"
            },
            "baxis": {
             "endlinecolor": "#2a3f5f",
             "gridcolor": "white",
             "linecolor": "white",
             "minorgridcolor": "white",
             "startlinecolor": "#2a3f5f"
            },
            "type": "carpet"
           }
          ],
          "choropleth": [
           {
            "colorbar": {
             "outlinewidth": 0,
             "ticks": ""
            },
            "type": "choropleth"
           }
          ],
          "contour": [
           {
            "colorbar": {
             "outlinewidth": 0,
             "ticks": ""
            },
            "colorscale": [
             [
              0,
              "#0d0887"
             ],
             [
              0.1111111111111111,
              "#46039f"
             ],
             [
              0.2222222222222222,
              "#7201a8"
             ],
             [
              0.3333333333333333,
              "#9c179e"
             ],
             [
              0.4444444444444444,
              "#bd3786"
             ],
             [
              0.5555555555555556,
              "#d8576b"
             ],
             [
              0.6666666666666666,
              "#ed7953"
             ],
             [
              0.7777777777777778,
              "#fb9f3a"
             ],
             [
              0.8888888888888888,
              "#fdca26"
             ],
             [
              1,
              "#f0f921"
             ]
            ],
            "type": "contour"
           }
          ],
          "contourcarpet": [
           {
            "colorbar": {
             "outlinewidth": 0,
             "ticks": ""
            },
            "type": "contourcarpet"
           }
          ],
          "heatmap": [
           {
            "colorbar": {
             "outlinewidth": 0,
             "ticks": ""
            },
            "colorscale": [
             [
              0,
              "#0d0887"
             ],
             [
              0.1111111111111111,
              "#46039f"
             ],
             [
              0.2222222222222222,
              "#7201a8"
             ],
             [
              0.3333333333333333,
              "#9c179e"
             ],
             [
              0.4444444444444444,
              "#bd3786"
             ],
             [
              0.5555555555555556,
              "#d8576b"
             ],
             [
              0.6666666666666666,
              "#ed7953"
             ],
             [
              0.7777777777777778,
              "#fb9f3a"
             ],
             [
              0.8888888888888888,
              "#fdca26"
             ],
             [
              1,
              "#f0f921"
             ]
            ],
            "type": "heatmap"
           }
          ],
          "heatmapgl": [
           {
            "colorbar": {
             "outlinewidth": 0,
             "ticks": ""
            },
            "colorscale": [
             [
              0,
              "#0d0887"
             ],
             [
              0.1111111111111111,
              "#46039f"
             ],
             [
              0.2222222222222222,
              "#7201a8"
             ],
             [
              0.3333333333333333,
              "#9c179e"
             ],
             [
              0.4444444444444444,
              "#bd3786"
             ],
             [
              0.5555555555555556,
              "#d8576b"
             ],
             [
              0.6666666666666666,
              "#ed7953"
             ],
             [
              0.7777777777777778,
              "#fb9f3a"
             ],
             [
              0.8888888888888888,
              "#fdca26"
             ],
             [
              1,
              "#f0f921"
             ]
            ],
            "type": "heatmapgl"
           }
          ],
          "histogram": [
           {
            "marker": {
             "colorbar": {
              "outlinewidth": 0,
              "ticks": ""
             }
            },
            "type": "histogram"
           }
          ],
          "histogram2d": [
           {
            "colorbar": {
             "outlinewidth": 0,
             "ticks": ""
            },
            "colorscale": [
             [
              0,
              "#0d0887"
             ],
             [
              0.1111111111111111,
              "#46039f"
             ],
             [
              0.2222222222222222,
              "#7201a8"
             ],
             [
              0.3333333333333333,
              "#9c179e"
             ],
             [
              0.4444444444444444,
              "#bd3786"
             ],
             [
              0.5555555555555556,
              "#d8576b"
             ],
             [
              0.6666666666666666,
              "#ed7953"
             ],
             [
              0.7777777777777778,
              "#fb9f3a"
             ],
             [
              0.8888888888888888,
              "#fdca26"
             ],
             [
              1,
              "#f0f921"
             ]
            ],
            "type": "histogram2d"
           }
          ],
          "histogram2dcontour": [
           {
            "colorbar": {
             "outlinewidth": 0,
             "ticks": ""
            },
            "colorscale": [
             [
              0,
              "#0d0887"
             ],
             [
              0.1111111111111111,
              "#46039f"
             ],
             [
              0.2222222222222222,
              "#7201a8"
             ],
             [
              0.3333333333333333,
              "#9c179e"
             ],
             [
              0.4444444444444444,
              "#bd3786"
             ],
             [
              0.5555555555555556,
              "#d8576b"
             ],
             [
              0.6666666666666666,
              "#ed7953"
             ],
             [
              0.7777777777777778,
              "#fb9f3a"
             ],
             [
              0.8888888888888888,
              "#fdca26"
             ],
             [
              1,
              "#f0f921"
             ]
            ],
            "type": "histogram2dcontour"
           }
          ],
          "mesh3d": [
           {
            "colorbar": {
             "outlinewidth": 0,
             "ticks": ""
            },
            "type": "mesh3d"
           }
          ],
          "parcoords": [
           {
            "line": {
             "colorbar": {
              "outlinewidth": 0,
              "ticks": ""
             }
            },
            "type": "parcoords"
           }
          ],
          "pie": [
           {
            "automargin": true,
            "type": "pie"
           }
          ],
          "scatter": [
           {
            "marker": {
             "colorbar": {
              "outlinewidth": 0,
              "ticks": ""
             }
            },
            "type": "scatter"
           }
          ],
          "scatter3d": [
           {
            "line": {
             "colorbar": {
              "outlinewidth": 0,
              "ticks": ""
             }
            },
            "marker": {
             "colorbar": {
              "outlinewidth": 0,
              "ticks": ""
             }
            },
            "type": "scatter3d"
           }
          ],
          "scattercarpet": [
           {
            "marker": {
             "colorbar": {
              "outlinewidth": 0,
              "ticks": ""
             }
            },
            "type": "scattercarpet"
           }
          ],
          "scattergeo": [
           {
            "marker": {
             "colorbar": {
              "outlinewidth": 0,
              "ticks": ""
             }
            },
            "type": "scattergeo"
           }
          ],
          "scattergl": [
           {
            "marker": {
             "colorbar": {
              "outlinewidth": 0,
              "ticks": ""
             }
            },
            "type": "scattergl"
           }
          ],
          "scattermapbox": [
           {
            "marker": {
             "colorbar": {
              "outlinewidth": 0,
              "ticks": ""
             }
            },
            "type": "scattermapbox"
           }
          ],
          "scatterpolar": [
           {
            "marker": {
             "colorbar": {
              "outlinewidth": 0,
              "ticks": ""
             }
            },
            "type": "scatterpolar"
           }
          ],
          "scatterpolargl": [
           {
            "marker": {
             "colorbar": {
              "outlinewidth": 0,
              "ticks": ""
             }
            },
            "type": "scatterpolargl"
           }
          ],
          "scatterternary": [
           {
            "marker": {
             "colorbar": {
              "outlinewidth": 0,
              "ticks": ""
             }
            },
            "type": "scatterternary"
           }
          ],
          "surface": [
           {
            "colorbar": {
             "outlinewidth": 0,
             "ticks": ""
            },
            "colorscale": [
             [
              0,
              "#0d0887"
             ],
             [
              0.1111111111111111,
              "#46039f"
             ],
             [
              0.2222222222222222,
              "#7201a8"
             ],
             [
              0.3333333333333333,
              "#9c179e"
             ],
             [
              0.4444444444444444,
              "#bd3786"
             ],
             [
              0.5555555555555556,
              "#d8576b"
             ],
             [
              0.6666666666666666,
              "#ed7953"
             ],
             [
              0.7777777777777778,
              "#fb9f3a"
             ],
             [
              0.8888888888888888,
              "#fdca26"
             ],
             [
              1,
              "#f0f921"
             ]
            ],
            "type": "surface"
           }
          ],
          "table": [
           {
            "cells": {
             "fill": {
              "color": "#EBF0F8"
             },
             "line": {
              "color": "white"
             }
            },
            "header": {
             "fill": {
              "color": "#C8D4E3"
             },
             "line": {
              "color": "white"
             }
            },
            "type": "table"
           }
          ]
         },
         "layout": {
          "annotationdefaults": {
           "arrowcolor": "#2a3f5f",
           "arrowhead": 0,
           "arrowwidth": 1
          },
          "coloraxis": {
           "colorbar": {
            "outlinewidth": 0,
            "ticks": ""
           }
          },
          "colorscale": {
           "diverging": [
            [
             0,
             "#8e0152"
            ],
            [
             0.1,
             "#c51b7d"
            ],
            [
             0.2,
             "#de77ae"
            ],
            [
             0.3,
             "#f1b6da"
            ],
            [
             0.4,
             "#fde0ef"
            ],
            [
             0.5,
             "#f7f7f7"
            ],
            [
             0.6,
             "#e6f5d0"
            ],
            [
             0.7,
             "#b8e186"
            ],
            [
             0.8,
             "#7fbc41"
            ],
            [
             0.9,
             "#4d9221"
            ],
            [
             1,
             "#276419"
            ]
           ],
           "sequential": [
            [
             0,
             "#0d0887"
            ],
            [
             0.1111111111111111,
             "#46039f"
            ],
            [
             0.2222222222222222,
             "#7201a8"
            ],
            [
             0.3333333333333333,
             "#9c179e"
            ],
            [
             0.4444444444444444,
             "#bd3786"
            ],
            [
             0.5555555555555556,
             "#d8576b"
            ],
            [
             0.6666666666666666,
             "#ed7953"
            ],
            [
             0.7777777777777778,
             "#fb9f3a"
            ],
            [
             0.8888888888888888,
             "#fdca26"
            ],
            [
             1,
             "#f0f921"
            ]
           ],
           "sequentialminus": [
            [
             0,
             "#0d0887"
            ],
            [
             0.1111111111111111,
             "#46039f"
            ],
            [
             0.2222222222222222,
             "#7201a8"
            ],
            [
             0.3333333333333333,
             "#9c179e"
            ],
            [
             0.4444444444444444,
             "#bd3786"
            ],
            [
             0.5555555555555556,
             "#d8576b"
            ],
            [
             0.6666666666666666,
             "#ed7953"
            ],
            [
             0.7777777777777778,
             "#fb9f3a"
            ],
            [
             0.8888888888888888,
             "#fdca26"
            ],
            [
             1,
             "#f0f921"
            ]
           ]
          },
          "colorway": [
           "#636efa",
           "#EF553B",
           "#00cc96",
           "#ab63fa",
           "#FFA15A",
           "#19d3f3",
           "#FF6692",
           "#B6E880",
           "#FF97FF",
           "#FECB52"
          ],
          "font": {
           "color": "#2a3f5f"
          },
          "geo": {
           "bgcolor": "white",
           "lakecolor": "white",
           "landcolor": "#E5ECF6",
           "showlakes": true,
           "showland": true,
           "subunitcolor": "white"
          },
          "hoverlabel": {
           "align": "left"
          },
          "hovermode": "closest",
          "mapbox": {
           "style": "light"
          },
          "paper_bgcolor": "white",
          "plot_bgcolor": "#E5ECF6",
          "polar": {
           "angularaxis": {
            "gridcolor": "white",
            "linecolor": "white",
            "ticks": ""
           },
           "bgcolor": "#E5ECF6",
           "radialaxis": {
            "gridcolor": "white",
            "linecolor": "white",
            "ticks": ""
           }
          },
          "scene": {
           "xaxis": {
            "backgroundcolor": "#E5ECF6",
            "gridcolor": "white",
            "gridwidth": 2,
            "linecolor": "white",
            "showbackground": true,
            "ticks": "",
            "zerolinecolor": "white"
           },
           "yaxis": {
            "backgroundcolor": "#E5ECF6",
            "gridcolor": "white",
            "gridwidth": 2,
            "linecolor": "white",
            "showbackground": true,
            "ticks": "",
            "zerolinecolor": "white"
           },
           "zaxis": {
            "backgroundcolor": "#E5ECF6",
            "gridcolor": "white",
            "gridwidth": 2,
            "linecolor": "white",
            "showbackground": true,
            "ticks": "",
            "zerolinecolor": "white"
           }
          },
          "shapedefaults": {
           "line": {
            "color": "#2a3f5f"
           }
          },
          "ternary": {
           "aaxis": {
            "gridcolor": "white",
            "linecolor": "white",
            "ticks": ""
           },
           "baxis": {
            "gridcolor": "white",
            "linecolor": "white",
            "ticks": ""
           },
           "bgcolor": "#E5ECF6",
           "caxis": {
            "gridcolor": "white",
            "linecolor": "white",
            "ticks": ""
           }
          },
          "title": {
           "x": 0.05
          },
          "xaxis": {
           "automargin": true,
           "gridcolor": "white",
           "linecolor": "white",
           "ticks": "",
           "title": {
            "standoff": 15
           },
           "zerolinecolor": "white",
           "zerolinewidth": 2
          },
          "yaxis": {
           "automargin": true,
           "gridcolor": "white",
           "linecolor": "white",
           "ticks": "",
           "title": {
            "standoff": 15
           },
           "zerolinecolor": "white",
           "zerolinewidth": 2
          }
         }
        },
        "width": 900
       }
      },
      "text/html": [
       "<div>\n",
       "        \n",
       "        \n",
       "            <div id=\"ac92f5bb-41b6-49e8-998a-ddad30368844\" class=\"plotly-graph-div\" style=\"height:500px; width:900px;\"></div>\n",
       "            <script type=\"text/javascript\">\n",
       "                require([\"plotly\"], function(Plotly) {\n",
       "                    window.PLOTLYENV=window.PLOTLYENV || {};\n",
       "                    \n",
       "                if (document.getElementById(\"ac92f5bb-41b6-49e8-998a-ddad30368844\")) {\n",
       "                    Plotly.newPlot(\n",
       "                        'ac92f5bb-41b6-49e8-998a-ddad30368844',\n",
       "                        [{\"fill\": \"toself\", \"fillcolor\": \"rgb(102, 197, 204)\", \"legendgroup\": \"activity\", \"mode\": \"none\", \"name\": \"bed\", \"opacity\": 0.333, \"showlegend\": true, \"type\": \"scatter\", \"x\": [0.0, 0.0, 37.0, 37.0], \"y\": [-2, 2, 2, -2]}, {\"legendgroup\": \"sensor\", \"line\": {\"color\": \"#1F77B4\"}, \"mode\": \"lines+markers\", \"name\": \"front\", \"showlegend\": true, \"type\": \"scatter\", \"x\": [0.0, 0.5, 1.5, 1.75, 2.5, 3.25, 4.0, 5.0, 5.5, 6.0, 6.5, 6.75, 7.75, 8.0, 9.0, 9.75, 10.0, 10.5, 10.75, 12.0, 12.5, 13.0, 14.0, 15.25, 15.5, 16.5, 17.5, 18.5, 18.75, 19.25, 20.0, 21.0, 22.75, 23.0, 23.25, 24.5, 26.25, 27.75, 28.5, 29.0, 29.5, 29.75, 30.5, 30.75, 31.75, 32.5, 33.0, 33.5, 34.0, 34.5, 35.5, 35.6, 35.75, 36.25, 37.0], \"y\": [0.27203, 0.27203, 0.44791000000000003, 0.44791000000000003, 0.34238, 0.34238, 0.30721, 0.27203, 0.23685, 0.23685, 0.23685, 0.23685, 0.31893, 0.31893, 0.47136000000000006, 0.40101, 0.40101, 0.40101, 0.40101, 0.30721, 0.30721, 0.30721, 0.41273000000000004, 0.27203, 0.27203, 0.24858000000000002, 0.2603, 0.31893, 0.31893, 0.31893, 0.43618999999999997, 0.47136000000000006, 0.2134, 0.2134, 0.2134, 0.23685, 0.23685, 0.20168, 0.50654, 0.50654, 0.50654, 0.50654, 0.42446000000000006, 0.42446000000000006, 0.24858000000000002, 0.34238, 0.34238, 0.30721, 0.15478, 0.15478, 0.56517, 0.56517, 0.56517, 0.56517, 0.56517]}, {\"legendgroup\": \"sensor\", \"line\": {\"color\": \"#FF7F0E\"}, \"mode\": \"lines+markers\", \"name\": \"lateral\", \"showlegend\": true, \"type\": \"scatter\", \"x\": [0.0, 0.5, 1.5, 1.75, 2.5, 3.25, 4.0, 5.0, 5.5, 6.0, 6.5, 6.75, 7.75, 8.0, 9.0, 9.75, 10.0, 10.5, 10.75, 12.0, 12.5, 13.0, 14.0, 15.25, 15.5, 16.5, 17.5, 18.5, 18.75, 19.25, 20.0, 21.0, 22.75, 23.0, 23.25, 24.5, 26.25, 27.75, 28.5, 29.0, 29.5, 29.75, 30.5, 30.75, 31.75, 32.5, 33.0, 33.5, 34.0, 34.5, 35.5, 35.6, 35.75, 36.25, 37.0], \"y\": [-0.082102, -0.082102, -0.013684, -0.013684, -0.059296, -0.059296, -0.070699, -0.09350499999999999, -0.12771, -0.12771, -0.12771, -0.12771, -0.070699, -0.070699, -0.0022806, -0.025087, -0.025087, -0.025087, -0.025087, -0.070699, -0.070699, -0.070699, -0.0022806, -0.10490999999999999, -0.10490999999999999, -0.09350499999999999, -0.10490999999999999, -0.070699, -0.070699, -0.070699, 0.0091224, 0.020525, -0.12771, -0.12771, -0.12771, -0.10490999999999999, -0.10490999999999999, -0.11631, 0.020525, 0.020525, 0.020525, 0.020525, -0.0022806, -0.0022806, -0.16192, -0.047893, -0.047893, -0.036489999999999995, -0.13912, -0.13912, 0.11175, 0.11175, 0.11175, 0.11175, 0.11175]}, {\"legendgroup\": \"sensor\", \"line\": {\"color\": \"#2CA02C\"}, \"mode\": \"lines+markers\", \"name\": \"vertical\", \"showlegend\": true, \"type\": \"scatter\", \"x\": [0.0, 0.5, 1.5, 1.75, 2.5, 3.25, 4.0, 5.0, 5.5, 6.0, 6.5, 6.75, 7.75, 8.0, 9.0, 9.75, 10.0, 10.5, 10.75, 12.0, 12.5, 13.0, 14.0, 15.25, 15.5, 16.5, 17.5, 18.5, 18.75, 19.25, 20.0, 21.0, 22.75, 23.0, 23.25, 24.5, 26.25, 27.75, 28.5, 29.0, 29.5, 29.75, 30.5, 30.75, 31.75, 32.5, 33.0, 33.5, 34.0, 34.5, 35.5, 35.6, 35.75, 36.25, 37.0], \"y\": [1.0082, 1.0082, 0.9163600000000001, 0.9163600000000001, 0.96229, 0.96229, 0.99674, 0.99674, 1.0312, 1.0312, 1.0312, 1.0312, 0.99674, 0.99674, 0.92784, 0.93932, 0.93932, 0.93932, 0.93932, 0.99674, 0.99674, 0.99674, 0.93932, 1.0082, 1.0082, 1.0312, 1.0197, 0.99674, 0.99674, 0.99674, 0.9163600000000001, 0.92784, 1.0312, 1.0312, 1.0312, 1.0197, 1.0197, 1.0312, 0.9163600000000001, 0.9163600000000001, 0.9163600000000001, 0.9163600000000001, 0.9163600000000001, 0.9163600000000001, 1.0082, 0.97377, 0.97377, 0.97377, 1.0197, 1.0197, 0.8704200000000001, 0.8704200000000001, 0.8704200000000001, 0.8704200000000001, 0.8704200000000001]}, {\"fill\": \"toself\", \"fillcolor\": \"rgb(248, 156, 116)\", \"legendgroup\": \"activity\", \"mode\": \"none\", \"name\": \"lying\", \"opacity\": 0.333, \"showlegend\": true, \"type\": \"scatter\", \"x\": [37.75, 37.75, 74.25, 74.25], \"y\": [-2, 2, 2, -2]}, {\"legendgroup\": \"sensor\", \"line\": {\"color\": \"#1F77B4\"}, \"mode\": \"lines+markers\", \"name\": \"front\", \"showlegend\": false, \"type\": \"scatter\", \"x\": [37.75, 38.0, 38.1, 38.5, 38.75, 38.85, 39.25, 39.35, 39.75, 40.25, 40.5, 41.5, 41.6, 42.0, 42.25, 42.5, 43.0, 43.1, 43.25, 43.35, 43.5, 44.0, 44.1, 44.25, 44.5, 44.75, 45.75, 45.85, 46.0, 46.25, 46.5, 46.575, 47.25, 47.5, 47.575, 48.0, 48.5, 48.75, 49.0, 49.1, 50.0, 50.5, 50.75, 50.825, 51.75, 52.0, 52.75, 52.85, 53.5, 53.6, 53.75, 53.825, 54.0, 54.25, 54.5, 55.0, 55.25, 55.325, 55.5, 56.0, 56.25, 56.5, 57.25, 57.35, 57.5, 58.5, 58.75, 58.825, 59.25, 60.25, 60.5, 61.75, 62.25, 62.5, 62.6, 62.75, 63.0, 63.75, 63.825, 64.0, 64.25, 64.75, 64.875, 65.0, 65.1, 65.25, 65.5, 65.6, 65.65, 65.75, 66.5, 66.75, 67.5, 67.6, 67.75, 68.0, 68.525, 68.6, 68.65, 69.0, 69.25, 70.0, 70.1, 71.625, 71.725, 71.775, 71.825, 71.85, 72.25, 72.5, 72.6, 73.5, 73.75, 74.0, 74.075, 74.125, 74.25], \"y\": [1.0694, 1.0694, 1.0694, 0.8231200000000001, 1.0576, 1.0576, 1.1632, 1.1632, 0.9052, 1.1397, 0.92865, 0.9169299999999999, 0.9169299999999999, 1.3156, 0.9052, 0.9052, 1.2452, 1.2452, 0.87003, 0.87003, 0.9521, 0.87003, 0.87003, 0.87003, 0.8934799999999999, 0.8934799999999999, 1.0342, 1.0342, 1.0342, 1.3156, 0.92865, 0.92865, 1.0342, 1.0342, 1.0342, 0.9052, 1.1514, 0.9052, 1.3039, 1.3039, 0.9403799999999999, 0.92865, 0.92865, 0.92865, 1.1866, 1.1866, 0.9403799999999999, 0.9403799999999999, 1.0342, 1.0342, 1.0342, 1.0342, 0.88175, 0.88175, 0.88175, 1.1983, 1.1983, 0.9990100000000001, 0.9990100000000001, 1.1045, 0.9521, 0.9521, 1.1632, 1.1632, 1.1632, 1.0811, 0.96383, 0.96383, 0.88175, 0.88175, 1.0459, 1.1983, 0.9403799999999999, 0.8934799999999999, 0.8934799999999999, 0.8934799999999999, 0.8583, 0.9052, 0.96383, 0.96383, 0.96383, 0.92865, 0.92865, 0.92865, 1.2101, 1.2101, 1.2101, 0.8934799999999999, 0.8934799999999999, 0.8934799999999999, 0.9052, 0.9052, 0.9169299999999999, 0.9169299999999999, 0.9169299999999999, 0.8934799999999999, 0.9169299999999999, 0.88175, 0.88175, 1.0107, 1.0107, 0.9169299999999999, 0.9169299999999999, 0.88175, 0.88175, 0.88175, 1.128, 1.128, 0.9052, 0.9052, 0.9052, 0.88175, 0.88175, 0.88175, 0.9403799999999999, 0.9403799999999999, 0.9403799999999999]}, {\"legendgroup\": \"sensor\", \"line\": {\"color\": \"#FF7F0E\"}, \"mode\": \"lines+markers\", \"name\": \"lateral\", \"showlegend\": false, \"type\": \"scatter\", \"x\": [37.75, 38.0, 38.1, 38.5, 38.75, 38.85, 39.25, 39.35, 39.75, 40.25, 40.5, 41.5, 41.6, 42.0, 42.25, 42.5, 43.0, 43.1, 43.25, 43.35, 43.5, 44.0, 44.1, 44.25, 44.5, 44.75, 45.75, 45.85, 46.0, 46.25, 46.5, 46.575, 47.25, 47.5, 47.575, 48.0, 48.5, 48.75, 49.0, 49.1, 50.0, 50.5, 50.75, 50.825, 51.75, 52.0, 52.75, 52.85, 53.5, 53.6, 53.75, 53.825, 54.0, 54.25, 54.5, 55.0, 55.25, 55.325, 55.5, 56.0, 56.25, 56.5, 57.25, 57.35, 57.5, 58.5, 58.75, 58.825, 59.25, 60.25, 60.5, 61.75, 62.25, 62.5, 62.6, 62.75, 63.0, 63.75, 63.825, 64.0, 64.25, 64.75, 64.875, 65.0, 65.1, 65.25, 65.5, 65.6, 65.65, 65.75, 66.5, 66.75, 67.5, 67.6, 67.75, 68.0, 68.525, 68.6, 68.65, 69.0, 69.25, 70.0, 70.1, 71.625, 71.725, 71.775, 71.825, 71.85, 72.25, 72.5, 72.6, 73.5, 73.75, 74.0, 74.075, 74.125, 74.25], \"y\": [-0.013684, -0.013684, -0.013684, -0.10490999999999999, -0.036489999999999995, -0.036489999999999995, -0.059296, -0.059296, -0.15052000000000001, -0.070699, -0.16192, -0.16192, -0.16192, -0.013684, -0.16192, -0.16192, -0.025087, -0.025087, -0.17332999999999998, -0.17332999999999998, -0.15052000000000001, -0.17332999999999998, -0.17332999999999998, -0.17332999999999998, -0.16192, -0.16192, -0.12771, -0.12771, -0.12771, -0.013684, -0.15052000000000001, -0.15052000000000001, -0.11631, -0.11631, -0.11631, -0.17332999999999998, -0.047893, -0.17332999999999998, -0.0022806, -0.0022806, -0.16192, -0.15052000000000001, -0.15052000000000001, -0.15052000000000001, -0.036489999999999995, -0.036489999999999995, -0.15052000000000001, -0.15052000000000001, -0.11631, -0.11631, -0.11631, -0.11631, -0.16192, -0.16192, -0.16192, -0.036489999999999995, -0.036489999999999995, -0.13912, -0.13912, -0.070699, -0.15052000000000001, -0.15052000000000001, -0.059296, -0.059296, -0.059296, -0.10490999999999999, -0.16192, -0.16192, -0.17332999999999998, -0.16192, -0.11631, -0.047893, -0.15052000000000001, -0.16192, -0.16192, -0.16192, -0.16192, -0.16192, -0.15052000000000001, -0.15052000000000001, -0.15052000000000001, -0.15052000000000001, -0.16192, -0.16192, -0.036489999999999995, -0.036489999999999995, -0.036489999999999995, -0.17332999999999998, -0.17332999999999998, -0.17332999999999998, -0.16192, -0.16192, -0.17332999999999998, -0.17332999999999998, -0.17332999999999998, -0.16192, -0.15052000000000001, -0.16192, -0.16192, -0.11631, -0.11631, -0.17332999999999998, -0.17332999999999998, -0.16192, -0.16192, -0.16192, -0.070699, -0.070699, -0.16192, -0.16192, -0.16192, -0.16192, -0.16192, -0.16192, -0.32156999999999997, -0.32156999999999997, -0.32156999999999997]}, {\"legendgroup\": \"sensor\", \"line\": {\"color\": \"#2CA02C\"}, \"mode\": \"lines+markers\", \"name\": \"vertical\", \"showlegend\": false, \"type\": \"scatter\", \"x\": [37.75, 38.0, 38.1, 38.5, 38.75, 38.85, 39.25, 39.35, 39.75, 40.25, 40.5, 41.5, 41.6, 42.0, 42.25, 42.5, 43.0, 43.1, 43.25, 43.35, 43.5, 44.0, 44.1, 44.25, 44.5, 44.75, 45.75, 45.85, 46.0, 46.25, 46.5, 46.575, 47.25, 47.5, 47.575, 48.0, 48.5, 48.75, 49.0, 49.1, 50.0, 50.5, 50.75, 50.825, 51.75, 52.0, 52.75, 52.85, 53.5, 53.6, 53.75, 53.825, 54.0, 54.25, 54.5, 55.0, 55.25, 55.325, 55.5, 56.0, 56.25, 56.5, 57.25, 57.35, 57.5, 58.5, 58.75, 58.825, 59.25, 60.25, 60.5, 61.75, 62.25, 62.5, 62.6, 62.75, 63.0, 63.75, 63.825, 64.0, 64.25, 64.75, 64.875, 65.0, 65.1, 65.25, 65.5, 65.6, 65.65, 65.75, 66.5, 66.75, 67.5, 67.6, 67.75, 68.0, 68.525, 68.6, 68.65, 69.0, 69.25, 70.0, 70.1, 71.625, 71.725, 71.775, 71.825, 71.85, 72.25, 72.5, 72.6, 73.5, 73.75, 74.0, 74.075, 74.125, 74.25], \"y\": [0.29627, 0.29627, 0.29627, -0.07119600000000001, -0.28938, -0.28938, -0.27789, -0.27789, -0.20899, -0.27789, -0.19751, -0.19751, -0.19751, -0.34679, -0.19751, -0.19751, -0.34679, -0.34679, -0.19751, -0.19751, -0.18603, -0.20899, -0.20899, -0.20899, -0.19751, -0.19751, -0.20899, -0.20899, -0.20899, -0.36976, -0.18603, -0.18603, -0.23196, -0.23196, -0.23196, -0.19751, -0.30086, -0.17454, -0.33531, -0.33531, -0.18603, -0.19751, -0.19751, -0.19751, -0.30086, -0.30086, -0.17454, -0.17454, -0.20899, -0.20899, -0.20899, -0.20899, -0.17454, -0.17454, -0.17454, -0.28938, -0.28938, -0.17454, -0.17454, -0.24344000000000002, -0.17454, -0.17454, -0.27789, -0.27789, -0.27789, -0.23196, -0.17454, -0.17454, -0.17454, -0.17454, -0.20899, -0.28938, -0.17454, -0.18603, -0.18603, -0.18603, -0.18603, -0.16305999999999998, -0.16305999999999998, -0.16305999999999998, -0.16305999999999998, -0.16305999999999998, -0.17454, -0.17454, -0.28938, -0.28938, -0.28938, -0.17454, -0.17454, -0.17454, -0.17454, -0.17454, -0.18603, -0.18603, -0.18603, -0.17454, -0.17454, -0.17454, -0.17454, -0.19751, -0.19751, -0.17454, -0.17454, -0.15158, -0.15158, -0.15158, -0.24344000000000002, -0.24344000000000002, -0.17454, -0.17454, -0.17454, -0.17454, -0.17454, -0.17454, 0.1355, 0.1355, 0.1355]}, {\"fill\": \"toself\", \"fillcolor\": \"rgb(102, 197, 204)\", \"legendgroup\": \"activity\", \"mode\": \"none\", \"name\": \"bed\", \"opacity\": 0.333, \"showlegend\": false, \"type\": \"scatter\", \"x\": [76.0, 76.0, 103.25, 103.25], \"y\": [-2, 2, 2, -2]}, {\"legendgroup\": \"sensor\", \"line\": {\"color\": \"#1F77B4\"}, \"mode\": \"lines+markers\", \"name\": \"front\", \"showlegend\": false, \"type\": \"scatter\", \"x\": [76.0, 76.5, 77.25, 77.5, 77.75, 78.0, 79.0, 80.0, 80.75, 81.0, 81.5, 82.25, 82.75, 83.25, 84.5, 84.75, 85.25, 86.5, 87.0, 87.75, 88.25, 88.75, 89.75, 90.0, 90.25, 90.75, 92.0, 92.5, 93.5, 94.25, 94.75, 95.0, 95.25, 96.0, 96.5, 96.75, 97.25, 98.25, 98.5, 99.0, 99.5, 100.0, 101.25, 101.5, 102.0, 102.5, 103.25], \"y\": [0.7176, 0.7176, 0.7176, 0.7176, 0.7176, 0.7176, 0.42446000000000006, 0.23685, 0.23685, 0.23685, 0.23685, 0.29548, 0.29548, 0.29548, 0.33066, 0.33066, 0.33066, 0.5534399999999999, 0.5534399999999999, 0.37756, 0.37756, 0.37756, 0.31893, 0.31893, 0.31893, 0.31893, 0.30721, 0.30721, 0.33066, 0.33066, 0.33066, 0.33066, 0.33066, 0.28376, 0.28376, 0.28376, 0.28376, 0.54171, 0.54171, 0.54171, 0.54171, 0.54171, 0.29548, 0.29548, 0.29548, 0.29548, 0.41273000000000004]}, {\"legendgroup\": \"sensor\", \"line\": {\"color\": \"#FF7F0E\"}, \"mode\": \"lines+markers\", \"name\": \"lateral\", \"showlegend\": false, \"type\": \"scatter\", \"x\": [76.0, 76.5, 77.25, 77.5, 77.75, 78.0, 79.0, 80.0, 80.75, 81.0, 81.5, 82.25, 82.75, 83.25, 84.5, 84.75, 85.25, 86.5, 87.0, 87.75, 88.25, 88.75, 89.75, 90.0, 90.25, 90.75, 92.0, 92.5, 93.5, 94.25, 94.75, 95.0, 95.25, 96.0, 96.5, 96.75, 97.25, 98.25, 98.5, 99.0, 99.5, 100.0, 101.25, 101.5, 102.0, 102.5, 103.25], \"y\": [0.043332, 0.043332, 0.043332, 0.043332, 0.043332, 0.043332, -0.082102, -0.12771, -0.12771, -0.12771, -0.12771, -0.082102, -0.082102, -0.082102, -0.070699, -0.070699, -0.070699, 0.0091224, 0.0091224, -0.059296, -0.059296, -0.059296, -0.082102, -0.082102, -0.082102, -0.082102, -0.070699, -0.070699, -0.082102, -0.082102, -0.082102, -0.082102, -0.082102, -0.11631, -0.11631, -0.11631, -0.11631, 0.0091224, 0.0091224, 0.0091224, 0.0091224, 0.0091224, -0.10490999999999999, -0.10490999999999999, -0.10490999999999999, -0.10490999999999999, -0.025087]}, {\"legendgroup\": \"sensor\", \"line\": {\"color\": \"#2CA02C\"}, \"mode\": \"lines+markers\", \"name\": \"vertical\", \"showlegend\": false, \"type\": \"scatter\", \"x\": [76.0, 76.5, 77.25, 77.5, 77.75, 78.0, 79.0, 80.0, 80.75, 81.0, 81.5, 82.25, 82.75, 83.25, 84.5, 84.75, 85.25, 86.5, 87.0, 87.75, 88.25, 88.75, 89.75, 90.0, 90.25, 90.75, 92.0, 92.5, 93.5, 94.25, 94.75, 95.0, 95.25, 96.0, 96.5, 96.75, 97.25, 98.25, 98.5, 99.0, 99.5, 100.0, 101.25, 101.5, 102.0, 102.5, 103.25], \"y\": [0.89339, 0.89339, 0.89339, 0.89339, 0.89339, 0.89339, 0.96229, 1.0082, 1.0082, 1.0082, 1.0082, 0.99674, 0.99674, 0.99674, 0.99674, 0.99674, 0.99674, 0.89339, 0.89339, 0.97377, 0.97377, 0.97377, 0.97377, 0.97377, 0.97377, 0.97377, 0.99674, 0.99674, 0.98526, 0.98526, 0.98526, 0.98526, 0.98526, 1.0082, 1.0082, 1.0082, 1.0082, 0.9048700000000001, 0.9048700000000001, 0.9048700000000001, 0.9048700000000001, 0.9048700000000001, 0.99674, 0.99674, 0.99674, 0.99674, 0.93932]}, {\"fill\": \"toself\", \"fillcolor\": \"rgb(246, 207, 113)\", \"legendgroup\": \"activity\", \"mode\": \"none\", \"name\": \"ambulating\", \"opacity\": 0.333, \"showlegend\": true, \"type\": \"scatter\", \"x\": [104.0, 104.0, 111.5, 111.5], \"y\": [-2, 2, 2, -2]}, {\"legendgroup\": \"sensor\", \"line\": {\"color\": \"#1F77B4\"}, \"mode\": \"lines+markers\", \"name\": \"front\", \"showlegend\": false, \"type\": \"scatter\", \"x\": [104.0, 106.75, 107.25, 111.5], \"y\": [0.41273000000000004, 0.22513000000000002, 0.60034, 0.2603]}, {\"legendgroup\": \"sensor\", \"line\": {\"color\": \"#FF7F0E\"}, \"mode\": \"lines+markers\", \"name\": \"lateral\", \"showlegend\": false, \"type\": \"scatter\", \"x\": [104.0, 106.75, 107.25, 111.5], \"y\": [-0.025087, -0.17332999999999998, -0.047893, -0.059296]}, {\"legendgroup\": \"sensor\", \"line\": {\"color\": \"#2CA02C\"}, \"mode\": \"lines+markers\", \"name\": \"vertical\", \"showlegend\": false, \"type\": \"scatter\", \"x\": [104.0, 106.75, 107.25, 111.5], \"y\": [0.93932, 0.89339, 1.0082, 0.99674]}, {\"fill\": \"toself\", \"fillcolor\": \"rgb(220, 176, 242)\", \"legendgroup\": \"activity\", \"mode\": \"none\", \"name\": \"chair\", \"opacity\": 0.333, \"showlegend\": true, \"type\": \"scatter\", \"x\": [116.0, 116.0, 193.0, 193.0], \"y\": [-2, 2, 2, -2]}, {\"legendgroup\": \"sensor\", \"line\": {\"color\": \"#1F77B4\"}, \"mode\": \"lines+markers\", \"name\": \"front\", \"showlegend\": false, \"type\": \"scatter\", \"x\": [116.0, 116.5, 118.0, 120.5, 126.5, 127.0, 128.5, 130.25, 131.25, 132.75, 133.0, 135.0, 136.25, 137.25, 138.25, 139.0, 140.0, 140.5, 140.75, 141.25, 142.0, 142.25, 142.75, 143.0, 143.5, 145.0, 146.0, 146.75, 148.0, 148.5, 149.75, 150.5, 151.0, 152.5, 153.0, 153.5, 155.28, 156.0, 157.25, 157.5, 158.0, 158.75, 159.75, 160.5, 162.25, 163.0, 163.5, 164.0, 164.5, 165.75, 166.25, 166.5, 168.0, 168.5, 169.0, 169.5, 178.75, 184.5, 186.0, 193.0], \"y\": [0.83485, 0.83485, 0.88175, 0.88175, 0.8465799999999999, 0.8465799999999999, 1.0928, 0.83485, 1.0928, 0.78795, 0.78795, 0.8583, 0.8583, 0.8583, 0.8934799999999999, 0.8934799999999999, 0.88175, 0.88175, 0.88175, 0.88175, 0.88175, 0.88175, 0.88175, 0.88175, 0.88175, 0.8583, 0.9052, 0.9052, 0.96383, 0.96383, 0.88175, 0.88175, 0.88175, 1.1163, 1.1163, 1.1163, 0.8465799999999999, 0.8465799999999999, 0.88175, 0.88175, 0.88175, 0.88175, 0.87003, 0.87003, 0.87003, 0.87003, 0.87003, 0.87003, 0.87003, 0.8934799999999999, 0.8934799999999999, 0.8934799999999999, 0.88175, 0.88175, 0.88175, 0.88175, 0.88175, 0.8231200000000001, 0.87003, 0.8465799999999999]}, {\"legendgroup\": \"sensor\", \"line\": {\"color\": \"#FF7F0E\"}, \"mode\": \"lines+markers\", \"name\": \"lateral\", \"showlegend\": false, \"type\": \"scatter\", \"x\": [116.0, 116.5, 118.0, 120.5, 126.5, 127.0, 128.5, 130.25, 131.25, 132.75, 133.0, 135.0, 136.25, 137.25, 138.25, 139.0, 140.0, 140.5, 140.75, 141.25, 142.0, 142.25, 142.75, 143.0, 143.5, 145.0, 146.0, 146.75, 148.0, 148.5, 149.75, 150.5, 151.0, 152.5, 153.0, 153.5, 155.28, 156.0, 157.25, 157.5, 158.0, 158.75, 159.75, 160.5, 162.25, 163.0, 163.5, 164.0, 164.5, 165.75, 166.25, 166.5, 168.0, 168.5, 169.0, 169.5, 178.75, 184.5, 186.0, 193.0], \"y\": [-0.13912, -0.13912, -0.082102, -0.09350499999999999, -0.12771, -0.12771, -0.013684, -0.12771, -0.013684, -0.15052000000000001, -0.15052000000000001, -0.10490999999999999, -0.10490999999999999, -0.10490999999999999, -0.09350499999999999, -0.09350499999999999, -0.09350499999999999, -0.09350499999999999, -0.09350499999999999, -0.09350499999999999, -0.09350499999999999, -0.09350499999999999, -0.09350499999999999, -0.09350499999999999, -0.09350499999999999, -0.10490999999999999, -0.09350499999999999, -0.09350499999999999, -0.047893, -0.047893, -0.082102, -0.082102, -0.082102, -0.013684, -0.013684, -0.013684, -0.10490999999999999, -0.10490999999999999, -0.070699, -0.070699, -0.070699, -0.070699, -0.10490999999999999, -0.10490999999999999, -0.10490999999999999, -0.10490999999999999, -0.10490999999999999, -0.10490999999999999, -0.10490999999999999, -0.09350499999999999, -0.09350499999999999, -0.09350499999999999, -0.09350499999999999, -0.09350499999999999, -0.09350499999999999, -0.09350499999999999, -0.10490999999999999, -0.13912, -0.11631, -0.13912]}, {\"legendgroup\": \"sensor\", \"line\": {\"color\": \"#2CA02C\"}, \"mode\": \"lines+markers\", \"name\": \"vertical\", \"showlegend\": false, \"type\": \"scatter\", \"x\": [116.0, 116.5, 118.0, 120.5, 126.5, 127.0, 128.5, 130.25, 131.25, 132.75, 133.0, 135.0, 136.25, 137.25, 138.25, 139.0, 140.0, 140.5, 140.75, 141.25, 142.0, 142.25, 142.75, 143.0, 143.5, 145.0, 146.0, 146.75, 148.0, 148.5, 149.75, 150.5, 151.0, 152.5, 153.0, 153.5, 155.28, 156.0, 157.25, 157.5, 158.0, 158.75, 159.75, 160.5, 162.25, 163.0, 163.5, 164.0, 164.5, 165.75, 166.25, 166.5, 168.0, 168.5, 169.0, 169.5, 178.75, 184.5, 186.0, 193.0], \"y\": [0.6752100000000001, 0.6752100000000001, 0.66373, 0.64076, 0.66373, 0.66373, 0.5489, 0.66373, 0.56038, 0.6752100000000001, 0.6752100000000001, 0.6522399999999999, 0.66373, 0.66373, 0.6292800000000001, 0.6292800000000001, 0.64076, 0.64076, 0.64076, 0.64076, 0.64076, 0.64076, 0.64076, 0.64076, 0.64076, 0.6292800000000001, 0.6292800000000001, 0.6292800000000001, 0.60631, 0.60631, 0.64076, 0.64076, 0.64076, 0.5489, 0.5489, 0.5489, 0.6522399999999999, 0.6522399999999999, 0.64076, 0.64076, 0.64076, 0.64076, 0.64076, 0.64076, 0.6522399999999999, 0.6522399999999999, 0.6522399999999999, 0.6522399999999999, 0.6522399999999999, 0.6292800000000001, 0.6292800000000001, 0.6292800000000001, 0.64076, 0.64076, 0.64076, 0.64076, 0.6292800000000001, 0.6866899999999999, 0.64076, 0.66373]}, {\"fill\": \"toself\", \"fillcolor\": \"rgb(246, 207, 113)\", \"legendgroup\": \"activity\", \"mode\": \"none\", \"name\": \"ambulating\", \"opacity\": 0.333, \"showlegend\": false, \"type\": \"scatter\", \"x\": [194.5, 194.5, 198.25, 198.25], \"y\": [-2, 2, 2, -2]}, {\"legendgroup\": \"sensor\", \"line\": {\"color\": \"#1F77B4\"}, \"mode\": \"lines+markers\", \"name\": \"front\", \"showlegend\": false, \"type\": \"scatter\", \"x\": [194.5, 196.25, 198.25], \"y\": [0.77622, 0.096148, 0.096148]}, {\"legendgroup\": \"sensor\", \"line\": {\"color\": \"#FF7F0E\"}, \"mode\": \"lines+markers\", \"name\": \"lateral\", \"showlegend\": false, \"type\": \"scatter\", \"x\": [194.5, 196.25, 198.25], \"y\": [0.020525, -0.16192, -0.16192]}, {\"legendgroup\": \"sensor\", \"line\": {\"color\": \"#2CA02C\"}, \"mode\": \"lines+markers\", \"name\": \"vertical\", \"showlegend\": false, \"type\": \"scatter\", \"x\": [194.5, 196.25, 198.25], \"y\": [0.66373, 0.93932, 0.93932]}, {\"fill\": \"toself\", \"fillcolor\": \"rgb(102, 197, 204)\", \"legendgroup\": \"activity\", \"mode\": \"none\", \"name\": \"bed\", \"opacity\": 0.333, \"showlegend\": false, \"type\": \"scatter\", \"x\": [199.5, 199.5, 200.33, 200.33], \"y\": [-2, 2, 2, -2]}, {\"legendgroup\": \"sensor\", \"line\": {\"color\": \"#1F77B4\"}, \"mode\": \"lines+markers\", \"name\": \"front\", \"showlegend\": false, \"type\": \"scatter\", \"x\": [199.5, 199.75, 200.25, 200.33], \"y\": [-0.51357, -0.51357, -0.51357, -0.51357]}, {\"legendgroup\": \"sensor\", \"line\": {\"color\": \"#FF7F0E\"}, \"mode\": \"lines+markers\", \"name\": \"lateral\", \"showlegend\": false, \"type\": \"scatter\", \"x\": [199.5, 199.75, 200.25, 200.33], \"y\": [-0.25315, -0.25315, -0.25315, -0.25315]}, {\"legendgroup\": \"sensor\", \"line\": {\"color\": \"#2CA02C\"}, \"mode\": \"lines+markers\", \"name\": \"vertical\", \"showlegend\": false, \"type\": \"scatter\", \"x\": [199.5, 199.75, 200.25, 200.33], \"y\": [0.98526, 0.98526, 0.98526, 0.98526]}, {\"fill\": \"toself\", \"fillcolor\": \"rgb(248, 156, 116)\", \"legendgroup\": \"activity\", \"mode\": \"none\", \"name\": \"lying\", \"opacity\": 0.333, \"showlegend\": false, \"type\": \"scatter\", \"x\": [200.75, 200.75, 248.0, 248.0], \"y\": [-2, 2, 2, -2]}, {\"legendgroup\": \"sensor\", \"line\": {\"color\": \"#1F77B4\"}, \"mode\": \"lines+markers\", \"name\": \"front\", \"showlegend\": false, \"type\": \"scatter\", \"x\": [200.75, 201.0, 201.53, 202.25, 203.25, 204.25, 205.25, 206.0, 206.25, 208.0, 208.75, 209.0, 210.0, 211.75, 211.85, 212.25, 212.35, 212.5, 212.75, 213.0, 213.08, 213.25, 213.5, 213.75, 213.83, 214.25, 214.75, 215.0, 215.25, 215.75, 217.25, 217.5, 217.75, 218.0, 218.75, 220.0, 220.25, 221.0, 222.75, 224.25, 224.5, 225.0, 225.25, 225.5, 225.75, 226.5, 227.75, 227.85, 228.5, 228.58, 229.0, 230.0, 230.5, 231.25, 231.5, 231.75, 232.0, 232.5, 234.25, 234.5, 234.75, 235.0, 235.25, 235.5, 235.75, 235.85, 236.25, 236.5, 237.0, 237.08, 237.25, 237.35, 237.5, 237.6, 237.63, 238.0, 238.5, 238.75, 239.75, 240.5, 241.25, 241.5, 241.75, 242.0, 243.0, 243.5, 244.0, 244.25, 244.35, 244.5, 244.58, 244.75, 245.0, 245.08, 245.25, 245.33, 246.0, 246.75, 247.0, 247.25, 247.75, 247.85, 248.0], \"y\": [0.92865, 1.2335, 1.0928, 1.2101, 1.2687, 1.0928, 1.2687, 1.2921, 1.2921, 1.0694, 1.0928, 1.0928, 1.128, 0.9169299999999999, 0.9169299999999999, 0.9521, 1.2687, 1.0107, 1.0107, 0.88175, 0.88175, 0.9169299999999999, 0.9990100000000001, 0.9990100000000001, 0.9990100000000001, 1.1397, 0.9169299999999999, 0.9169299999999999, 0.9169299999999999, 1.1632, 0.9169299999999999, 1.1514, 1.0107, 0.88175, 0.96383, 0.9052, 1.0225, 1.0342, 0.92865, 1.1163, 0.9403799999999999, 0.9169299999999999, 0.92865, 1.1045, 1.0694, 0.9169299999999999, 1.0459, 1.0459, 1.1163, 1.1163, 0.96383, 1.1045, 0.92865, 0.9169299999999999, 0.9403799999999999, 0.9403799999999999, 0.9052, 0.92865, 1.2804, 0.92865, 1.128, 1.0694, 0.9169299999999999, 0.9521, 0.9521, 0.88175, 0.9521, 0.92865, 1.1045, 1.1045, 0.9052, 0.9052, 0.9052, 0.9052, 0.88175, 0.9403799999999999, 1.2101, 1.2101, 1.0342, 0.88175, 0.8934799999999999, 1.1866, 0.92865, 0.9169299999999999, 0.97555, 0.9872799999999999, 1.1514, 0.92865, 1.0107, 1.1163, 1.1163, 0.9052, 0.9521, 0.9403799999999999, 0.9169299999999999, 0.9169299999999999, 1.1163, 0.9403799999999999, 1.1397, 1.1045, 0.8934799999999999, 0.9052, 1.2218]}, {\"legendgroup\": \"sensor\", \"line\": {\"color\": \"#FF7F0E\"}, \"mode\": \"lines+markers\", \"name\": \"lateral\", \"showlegend\": false, \"type\": \"scatter\", \"x\": [200.75, 201.0, 201.53, 202.25, 203.25, 204.25, 205.25, 206.0, 206.25, 208.0, 208.75, 209.0, 210.0, 211.75, 211.85, 212.25, 212.35, 212.5, 212.75, 213.0, 213.08, 213.25, 213.5, 213.75, 213.83, 214.25, 214.75, 215.0, 215.25, 215.75, 217.25, 217.5, 217.75, 218.0, 218.75, 220.0, 220.25, 221.0, 222.75, 224.25, 224.5, 225.0, 225.25, 225.5, 225.75, 226.5, 227.75, 227.85, 228.5, 228.58, 229.0, 230.0, 230.5, 231.25, 231.5, 231.75, 232.0, 232.5, 234.25, 234.5, 234.75, 235.0, 235.25, 235.5, 235.75, 235.85, 236.25, 236.5, 237.0, 237.08, 237.25, 237.35, 237.5, 237.6, 237.63, 238.0, 238.5, 238.75, 239.75, 240.5, 241.25, 241.5, 241.75, 242.0, 243.0, 243.5, 244.0, 244.25, 244.35, 244.5, 244.58, 244.75, 245.0, 245.08, 245.25, 245.33, 246.0, 246.75, 247.0, 247.25, 247.75, 247.85, 248.0], \"y\": [-0.13912, -0.12771, -0.036489999999999995, 0.077541, 0.043332, -0.059296, 0.0091224, 0.020525, 0.020525, -0.082102, -0.082102, -0.082102, -0.059296, -0.12771, -0.12771, -0.12771, 0.020525, -0.10490999999999999, -0.10490999999999999, -0.13912, -0.13912, -0.12771, -0.11631, -0.11631, -0.11631, -0.013684, -0.13912, -0.13912, -0.13912, -0.036489999999999995, -0.12771, -0.025087, -0.09350499999999999, -0.13912, -0.11631, -0.12771, -0.10490999999999999, -0.09350499999999999, -0.10490999999999999, -0.036489999999999995, -0.11631, -0.11631, -0.11631, -0.047893, -0.082102, -0.12771, -0.082102, -0.082102, -0.025087, -0.025087, -0.11631, -0.036489999999999995, -0.11631, -0.11631, -0.10490999999999999, -0.10490999999999999, -0.12771, -0.10490999999999999, 0.031928, -0.10490999999999999, -0.036489999999999995, -0.047893, -0.11631, -0.10490999999999999, -0.10490999999999999, -0.12771, -0.11631, -0.10490999999999999, -0.025087, -0.025087, -0.11631, -0.11631, -0.12771, -0.12771, -0.12771, -0.11631, 0.0091224, 0.0091224, -0.082102, -0.12771, -0.12771, -0.0022806, -0.11631, -0.11631, -0.11631, -0.10490999999999999, -0.013684, -0.10490999999999999, -0.082102, -0.036489999999999995, -0.036489999999999995, -0.11631, -0.10490999999999999, -0.11631, -0.11631, -0.11631, -0.036489999999999995, -0.12771, -0.025087, -0.036489999999999995, -0.12771, -0.12771, 0.020525]}, {\"legendgroup\": \"sensor\", \"line\": {\"color\": \"#2CA02C\"}, \"mode\": \"lines+markers\", \"name\": \"vertical\", \"showlegend\": false, \"type\": \"scatter\", \"x\": [200.75, 201.0, 201.53, 202.25, 203.25, 204.25, 205.25, 206.0, 206.25, 208.0, 208.75, 209.0, 210.0, 211.75, 211.85, 212.25, 212.35, 212.5, 212.75, 213.0, 213.08, 213.25, 213.5, 213.75, 213.83, 214.25, 214.75, 215.0, 215.25, 215.75, 217.25, 217.5, 217.75, 218.0, 218.75, 220.0, 220.25, 221.0, 222.75, 224.25, 224.5, 225.0, 225.25, 225.5, 225.75, 226.5, 227.75, 227.85, 228.5, 228.58, 229.0, 230.0, 230.5, 231.25, 231.5, 231.75, 232.0, 232.5, 234.25, 234.5, 234.75, 235.0, 235.25, 235.5, 235.75, 235.85, 236.25, 236.5, 237.0, 237.08, 237.25, 237.35, 237.5, 237.6, 237.63, 238.0, 238.5, 238.75, 239.75, 240.5, 241.25, 241.5, 241.75, 242.0, 243.0, 243.5, 244.0, 244.25, 244.35, 244.5, 244.58, 244.75, 245.0, 245.08, 245.25, 245.33, 246.0, 246.75, 247.0, 247.25, 247.75, 247.85, 248.0], \"y\": [0.26182, -0.15158, -0.25493000000000005, -0.31234, -0.32383, -0.28938, -0.36976, -0.38124, -0.38124, -0.26641, -0.26641, -0.26641, -0.28938, -0.18603, -0.18603, -0.18603, -0.33531, -0.23196, -0.23196, -0.18603, -0.18603, -0.19751, -0.22048, -0.22048, -0.22048, -0.28938, -0.18603, -0.18603, -0.18603, -0.30086, -0.19751, -0.27789, -0.19751, -0.18603, -0.19751, -0.19751, -0.20899, -0.19751, -0.18603, -0.26641, -0.19751, -0.18603, -0.19751, -0.27789, -0.23196, -0.19751, -0.24344000000000002, -0.24344000000000002, -0.26641, -0.26641, -0.19751, -0.26641, -0.19751, -0.19751, -0.19751, -0.19751, -0.18603, -0.18603, -0.35827, -0.20899, -0.27789, -0.24344000000000002, -0.18603, -0.19751, -0.19751, -0.19751, -0.19751, -0.19751, -0.26641, -0.26641, -0.19751, -0.19751, -0.19751, -0.19751, -0.19751, -0.20899, -0.32383, -0.32383, -0.22048, -0.19751, -0.19751, -0.31234, -0.19751, -0.19751, -0.19751, -0.20899, -0.30086, -0.18603, -0.20899, -0.28938, -0.28938, -0.19751, -0.19751, -0.19751, -0.19751, -0.19751, -0.24344000000000002, -0.20899, -0.27789, -0.26641, -0.19751, -0.19751, -0.32383]}, {\"fill\": \"toself\", \"fillcolor\": \"rgb(102, 197, 204)\", \"legendgroup\": \"activity\", \"mode\": \"none\", \"name\": \"bed\", \"opacity\": 0.333, \"showlegend\": false, \"type\": \"scatter\", \"x\": [250.0, 250.0, 254.0, 254.0], \"y\": [-2, 2, 2, -2]}, {\"legendgroup\": \"sensor\", \"line\": {\"color\": \"#1F77B4\"}, \"mode\": \"lines+markers\", \"name\": \"front\", \"showlegend\": false, \"type\": \"scatter\", \"x\": [250.0, 250.5, 250.75, 251.0, 251.25, 251.5, 253.25, 254.0], \"y\": [0.87003, 0.87003, 0.87003, 0.87003, 0.87003, 0.87003, -0.0093803, -0.0093803]}, {\"legendgroup\": \"sensor\", \"line\": {\"color\": \"#FF7F0E\"}, \"mode\": \"lines+markers\", \"name\": \"lateral\", \"showlegend\": false, \"type\": \"scatter\", \"x\": [250.0, 250.5, 250.75, 251.0, 251.25, 251.5, 253.25, 254.0], \"y\": [0.0091224, 0.0091224, 0.0091224, 0.0091224, 0.0091224, 0.0091224, -0.11631, -0.11631]}, {\"legendgroup\": \"sensor\", \"line\": {\"color\": \"#2CA02C\"}, \"mode\": \"lines+markers\", \"name\": \"vertical\", \"showlegend\": false, \"type\": \"scatter\", \"x\": [250.0, 250.5, 250.75, 251.0, 251.25, 251.5, 253.25, 254.0], \"y\": [0.46851000000000004, 0.46851000000000004, 0.46851000000000004, 0.46851000000000004, 0.46851000000000004, 0.46851000000000004, 0.95081, 0.95081]}],\n",
       "                        {\"height\": 500, \"margin\": {\"b\": 0, \"l\": 0, \"r\": 0, \"t\": 32}, \"template\": {\"data\": {\"bar\": [{\"error_x\": {\"color\": \"#2a3f5f\"}, \"error_y\": {\"color\": \"#2a3f5f\"}, \"marker\": {\"line\": {\"color\": \"#E5ECF6\", \"width\": 0.5}}, \"type\": \"bar\"}], \"barpolar\": [{\"marker\": {\"line\": {\"color\": \"#E5ECF6\", \"width\": 0.5}}, \"type\": \"barpolar\"}], \"carpet\": [{\"aaxis\": {\"endlinecolor\": \"#2a3f5f\", \"gridcolor\": \"white\", \"linecolor\": \"white\", \"minorgridcolor\": \"white\", \"startlinecolor\": \"#2a3f5f\"}, \"baxis\": {\"endlinecolor\": \"#2a3f5f\", \"gridcolor\": \"white\", \"linecolor\": \"white\", \"minorgridcolor\": \"white\", \"startlinecolor\": \"#2a3f5f\"}, \"type\": \"carpet\"}], \"choropleth\": [{\"colorbar\": {\"outlinewidth\": 0, \"ticks\": \"\"}, \"type\": \"choropleth\"}], \"contour\": [{\"colorbar\": {\"outlinewidth\": 0, \"ticks\": \"\"}, \"colorscale\": [[0.0, \"#0d0887\"], [0.1111111111111111, \"#46039f\"], [0.2222222222222222, \"#7201a8\"], [0.3333333333333333, \"#9c179e\"], [0.4444444444444444, \"#bd3786\"], [0.5555555555555556, \"#d8576b\"], [0.6666666666666666, \"#ed7953\"], [0.7777777777777778, \"#fb9f3a\"], [0.8888888888888888, \"#fdca26\"], [1.0, \"#f0f921\"]], \"type\": \"contour\"}], \"contourcarpet\": [{\"colorbar\": {\"outlinewidth\": 0, \"ticks\": \"\"}, \"type\": \"contourcarpet\"}], \"heatmap\": [{\"colorbar\": {\"outlinewidth\": 0, \"ticks\": \"\"}, \"colorscale\": [[0.0, \"#0d0887\"], [0.1111111111111111, \"#46039f\"], [0.2222222222222222, \"#7201a8\"], [0.3333333333333333, \"#9c179e\"], [0.4444444444444444, \"#bd3786\"], [0.5555555555555556, \"#d8576b\"], [0.6666666666666666, \"#ed7953\"], [0.7777777777777778, \"#fb9f3a\"], [0.8888888888888888, \"#fdca26\"], [1.0, \"#f0f921\"]], \"type\": \"heatmap\"}], \"heatmapgl\": [{\"colorbar\": {\"outlinewidth\": 0, \"ticks\": \"\"}, \"colorscale\": [[0.0, \"#0d0887\"], [0.1111111111111111, \"#46039f\"], [0.2222222222222222, \"#7201a8\"], [0.3333333333333333, \"#9c179e\"], [0.4444444444444444, \"#bd3786\"], [0.5555555555555556, \"#d8576b\"], [0.6666666666666666, \"#ed7953\"], [0.7777777777777778, \"#fb9f3a\"], [0.8888888888888888, \"#fdca26\"], [1.0, \"#f0f921\"]], \"type\": \"heatmapgl\"}], \"histogram\": [{\"marker\": {\"colorbar\": {\"outlinewidth\": 0, \"ticks\": \"\"}}, \"type\": \"histogram\"}], \"histogram2d\": [{\"colorbar\": {\"outlinewidth\": 0, \"ticks\": \"\"}, \"colorscale\": [[0.0, \"#0d0887\"], [0.1111111111111111, \"#46039f\"], [0.2222222222222222, \"#7201a8\"], [0.3333333333333333, \"#9c179e\"], [0.4444444444444444, \"#bd3786\"], [0.5555555555555556, \"#d8576b\"], [0.6666666666666666, \"#ed7953\"], [0.7777777777777778, \"#fb9f3a\"], [0.8888888888888888, \"#fdca26\"], [1.0, \"#f0f921\"]], \"type\": \"histogram2d\"}], \"histogram2dcontour\": [{\"colorbar\": {\"outlinewidth\": 0, \"ticks\": \"\"}, \"colorscale\": [[0.0, \"#0d0887\"], [0.1111111111111111, \"#46039f\"], [0.2222222222222222, \"#7201a8\"], [0.3333333333333333, \"#9c179e\"], [0.4444444444444444, \"#bd3786\"], [0.5555555555555556, \"#d8576b\"], [0.6666666666666666, \"#ed7953\"], [0.7777777777777778, \"#fb9f3a\"], [0.8888888888888888, \"#fdca26\"], [1.0, \"#f0f921\"]], \"type\": \"histogram2dcontour\"}], \"mesh3d\": [{\"colorbar\": {\"outlinewidth\": 0, \"ticks\": \"\"}, \"type\": \"mesh3d\"}], \"parcoords\": [{\"line\": {\"colorbar\": {\"outlinewidth\": 0, \"ticks\": \"\"}}, \"type\": \"parcoords\"}], \"pie\": [{\"automargin\": true, \"type\": \"pie\"}], \"scatter\": [{\"marker\": {\"colorbar\": {\"outlinewidth\": 0, \"ticks\": \"\"}}, \"type\": \"scatter\"}], \"scatter3d\": [{\"line\": {\"colorbar\": {\"outlinewidth\": 0, \"ticks\": \"\"}}, \"marker\": {\"colorbar\": {\"outlinewidth\": 0, \"ticks\": \"\"}}, \"type\": \"scatter3d\"}], \"scattercarpet\": [{\"marker\": {\"colorbar\": {\"outlinewidth\": 0, \"ticks\": \"\"}}, \"type\": \"scattercarpet\"}], \"scattergeo\": [{\"marker\": {\"colorbar\": {\"outlinewidth\": 0, \"ticks\": \"\"}}, \"type\": \"scattergeo\"}], \"scattergl\": [{\"marker\": {\"colorbar\": {\"outlinewidth\": 0, \"ticks\": \"\"}}, \"type\": \"scattergl\"}], \"scattermapbox\": [{\"marker\": {\"colorbar\": {\"outlinewidth\": 0, \"ticks\": \"\"}}, \"type\": \"scattermapbox\"}], \"scatterpolar\": [{\"marker\": {\"colorbar\": {\"outlinewidth\": 0, \"ticks\": \"\"}}, \"type\": \"scatterpolar\"}], \"scatterpolargl\": [{\"marker\": {\"colorbar\": {\"outlinewidth\": 0, \"ticks\": \"\"}}, \"type\": \"scatterpolargl\"}], \"scatterternary\": [{\"marker\": {\"colorbar\": {\"outlinewidth\": 0, \"ticks\": \"\"}}, \"type\": \"scatterternary\"}], \"surface\": [{\"colorbar\": {\"outlinewidth\": 0, \"ticks\": \"\"}, \"colorscale\": [[0.0, \"#0d0887\"], [0.1111111111111111, \"#46039f\"], [0.2222222222222222, \"#7201a8\"], [0.3333333333333333, \"#9c179e\"], [0.4444444444444444, \"#bd3786\"], [0.5555555555555556, \"#d8576b\"], [0.6666666666666666, \"#ed7953\"], [0.7777777777777778, \"#fb9f3a\"], [0.8888888888888888, \"#fdca26\"], [1.0, \"#f0f921\"]], \"type\": \"surface\"}], \"table\": [{\"cells\": {\"fill\": {\"color\": \"#EBF0F8\"}, \"line\": {\"color\": \"white\"}}, \"header\": {\"fill\": {\"color\": \"#C8D4E3\"}, \"line\": {\"color\": \"white\"}}, \"type\": \"table\"}]}, \"layout\": {\"annotationdefaults\": {\"arrowcolor\": \"#2a3f5f\", \"arrowhead\": 0, \"arrowwidth\": 1}, \"coloraxis\": {\"colorbar\": {\"outlinewidth\": 0, \"ticks\": \"\"}}, \"colorscale\": {\"diverging\": [[0, \"#8e0152\"], [0.1, \"#c51b7d\"], [0.2, \"#de77ae\"], [0.3, \"#f1b6da\"], [0.4, \"#fde0ef\"], [0.5, \"#f7f7f7\"], [0.6, \"#e6f5d0\"], [0.7, \"#b8e186\"], [0.8, \"#7fbc41\"], [0.9, \"#4d9221\"], [1, \"#276419\"]], \"sequential\": [[0.0, \"#0d0887\"], [0.1111111111111111, \"#46039f\"], [0.2222222222222222, \"#7201a8\"], [0.3333333333333333, \"#9c179e\"], [0.4444444444444444, \"#bd3786\"], [0.5555555555555556, \"#d8576b\"], [0.6666666666666666, \"#ed7953\"], [0.7777777777777778, \"#fb9f3a\"], [0.8888888888888888, \"#fdca26\"], [1.0, \"#f0f921\"]], \"sequentialminus\": [[0.0, \"#0d0887\"], [0.1111111111111111, \"#46039f\"], [0.2222222222222222, \"#7201a8\"], [0.3333333333333333, \"#9c179e\"], [0.4444444444444444, \"#bd3786\"], [0.5555555555555556, \"#d8576b\"], [0.6666666666666666, \"#ed7953\"], [0.7777777777777778, \"#fb9f3a\"], [0.8888888888888888, \"#fdca26\"], [1.0, \"#f0f921\"]]}, \"colorway\": [\"#636efa\", \"#EF553B\", \"#00cc96\", \"#ab63fa\", \"#FFA15A\", \"#19d3f3\", \"#FF6692\", \"#B6E880\", \"#FF97FF\", \"#FECB52\"], \"font\": {\"color\": \"#2a3f5f\"}, \"geo\": {\"bgcolor\": \"white\", \"lakecolor\": \"white\", \"landcolor\": \"#E5ECF6\", \"showlakes\": true, \"showland\": true, \"subunitcolor\": \"white\"}, \"hoverlabel\": {\"align\": \"left\"}, \"hovermode\": \"closest\", \"mapbox\": {\"style\": \"light\"}, \"paper_bgcolor\": \"white\", \"plot_bgcolor\": \"#E5ECF6\", \"polar\": {\"angularaxis\": {\"gridcolor\": \"white\", \"linecolor\": \"white\", \"ticks\": \"\"}, \"bgcolor\": \"#E5ECF6\", \"radialaxis\": {\"gridcolor\": \"white\", \"linecolor\": \"white\", \"ticks\": \"\"}}, \"scene\": {\"xaxis\": {\"backgroundcolor\": \"#E5ECF6\", \"gridcolor\": \"white\", \"gridwidth\": 2, \"linecolor\": \"white\", \"showbackground\": true, \"ticks\": \"\", \"zerolinecolor\": \"white\"}, \"yaxis\": {\"backgroundcolor\": \"#E5ECF6\", \"gridcolor\": \"white\", \"gridwidth\": 2, \"linecolor\": \"white\", \"showbackground\": true, \"ticks\": \"\", \"zerolinecolor\": \"white\"}, \"zaxis\": {\"backgroundcolor\": \"#E5ECF6\", \"gridcolor\": \"white\", \"gridwidth\": 2, \"linecolor\": \"white\", \"showbackground\": true, \"ticks\": \"\", \"zerolinecolor\": \"white\"}}, \"shapedefaults\": {\"line\": {\"color\": \"#2a3f5f\"}}, \"ternary\": {\"aaxis\": {\"gridcolor\": \"white\", \"linecolor\": \"white\", \"ticks\": \"\"}, \"baxis\": {\"gridcolor\": \"white\", \"linecolor\": \"white\", \"ticks\": \"\"}, \"bgcolor\": \"#E5ECF6\", \"caxis\": {\"gridcolor\": \"white\", \"linecolor\": \"white\", \"ticks\": \"\"}}, \"title\": {\"x\": 0.05}, \"xaxis\": {\"automargin\": true, \"gridcolor\": \"white\", \"linecolor\": \"white\", \"ticks\": \"\", \"title\": {\"standoff\": 15}, \"zerolinecolor\": \"white\", \"zerolinewidth\": 2}, \"yaxis\": {\"automargin\": true, \"gridcolor\": \"white\", \"linecolor\": \"white\", \"ticks\": \"\", \"title\": {\"standoff\": 15}, \"zerolinecolor\": \"white\", \"zerolinewidth\": 2}}}, \"width\": 900},\n",
       "                        {\"responsive\": true}\n",
       "                    ).then(function(){\n",
       "                            \n",
       "var gd = document.getElementById('ac92f5bb-41b6-49e8-998a-ddad30368844');\n",
       "var x = new MutationObserver(function (mutations, observer) {{\n",
       "        var display = window.getComputedStyle(gd).display;\n",
       "        if (!display || display === 'none') {{\n",
       "            console.log([gd, 'removed!']);\n",
       "            Plotly.purge(gd);\n",
       "            observer.disconnect();\n",
       "        }}\n",
       "}});\n",
       "\n",
       "// Listen for the removal of the full notebook cells\n",
       "var notebookContainer = gd.closest('#notebook-container');\n",
       "if (notebookContainer) {{\n",
       "    x.observe(notebookContainer, {childList: true});\n",
       "}}\n",
       "\n",
       "// Listen for the clearing of the current output cell\n",
       "var outputEl = gd.closest('.output');\n",
       "if (outputEl) {{\n",
       "    x.observe(outputEl, {childList: true});\n",
       "}}\n",
       "\n",
       "                        })\n",
       "                };\n",
       "                });\n",
       "            </script>\n",
       "        </div>"
      ]
     },
     "metadata": {},
     "output_type": "display_data"
    }
   ],
   "source": [
    "fig = go.Figure(layout={**layout, 'width': 900, 'height': 500})\n",
    "\n",
    "colors = px.colors.qualitative.D3\n",
    "\n",
    "sensor_colors = {\n",
    "    'front': colors[0],\n",
    "    'lateral': colors[1],\n",
    "    'vertical': colors[2],\n",
    "}\n",
    "\n",
    "activity_legend = set()\n",
    "\n",
    "for index, group in enumerate(df.groupby('activity_sequence')):\n",
    "    _, activity_df = group\n",
    "    start = activity_df['time'].min()\n",
    "    end = activity_df['time'].max()\n",
    "    name = activity_df['activity_label'].unique()[0]\n",
    "    fig.add_trace(\n",
    "        go.Scatter(\n",
    "            x=[start, start, end, end], \n",
    "            y=[-2, 2, 2, -2], \n",
    "            mode='none', \n",
    "            fill='toself',\n",
    "            fillcolor=activity_colors[name],\n",
    "            opacity=0.333,\n",
    "            name=name,\n",
    "            # Group activity legend entries together\n",
    "            legendgroup='activity',\n",
    "            showlegend=not name in activity_legend))\n",
    "    \n",
    "    for sensor in ['front', 'lateral', 'vertical']:\n",
    "        fig.add_trace(\n",
    "            go.Scatter(\n",
    "                x=activity_df['time'], \n",
    "                y=activity_df[sensor], \n",
    "                mode='lines+markers', \n",
    "                line_color=sensor_colors[sensor], \n",
    "                # Group sensor legend entries together\n",
    "                legendgroup='sensor',\n",
    "                name=sensor, \n",
    "                # Only add to the legend if this is the first iteration\n",
    "                showlegend=index == 0))\n",
    "    \n",
    "    activity_legend.add(name)\n",
    "\n",
    "fig.show()"
   ]
  },
  {
   "cell_type": "code",
   "execution_count": null,
   "metadata": {},
   "outputs": [],
   "source": []
  }
 ],
 "metadata": {
  "kernelspec": {
   "display_name": "Python 3",
   "language": "python",
   "name": "python3"
  },
  "language_info": {
   "codemirror_mode": {
    "name": "ipython",
    "version": 3
   },
   "file_extension": ".py",
   "mimetype": "text/x-python",
   "name": "python",
   "nbconvert_exporter": "python",
   "pygments_lexer": "ipython3",
   "version": "3.8.5"
  }
 },
 "nbformat": 4,
 "nbformat_minor": 4
}
