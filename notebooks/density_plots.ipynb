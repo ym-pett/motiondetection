{
 "cells": [
  {
   "cell_type": "code",
   "execution_count": 1,
   "metadata": {},
   "outputs": [],
   "source": [
    "from pathlib import Path\n",
    "\n",
    "import dash\n",
    "import dash_core_components as dcc\n",
    "import dash_html_components as html\n",
    "from jupyter_dash import JupyterDash\n",
    "import numpy as np\n",
    "import pandas as pd\n",
    "import plotly.express as px\n",
    "import plotly.graph_objects as go\n",
    "from plotly.subplots import make_subplots\n",
    "from scipy.stats import gaussian_kde"
   ]
  },
  {
   "cell_type": "code",
   "execution_count": 2,
   "metadata": {},
   "outputs": [],
   "source": [
    "DATA_ROOT = Path('..') / 'data'\n",
    "\n",
    "dfs = []\n",
    "activity_labels = ['bed', 'chair', 'lying', 'ambulating']\n",
    "default_names = ['time', 'front', 'vertical', 'lateral', 'sensor_id', 'rssi', 'phase', 'frequency', 'activity']\n",
    "for data_file in Path(DATA_ROOT).rglob('d[12]p??[FM]'):\n",
    "    df = pd.read_csv(data_file, names=default_names)\n",
    "    df['activity_label'] = df['activity'].apply(lambda i: activity_labels[i - 1])\n",
    "    df['gender_label'] = str(data_file)[-1]\n",
    "    df['participant'] = data_file.name\n",
    "    \n",
    "    # Add a column indicating order of the activities for a particiapnt.\n",
    "    df = df.sort_values(by=['time'])\n",
    "    df['activity_sequence'] = (df['activity'].shift(1) != df['activity']).cumsum()\n",
    "    dfs.append(df)\n",
    "\n",
    "sensor_df = pd.concat(dfs, axis='index')\n",
    "sensor_df = sensor_df.sort_values(by=['participant', 'time'])\n",
    "\n"
   ]
  },
  {
   "cell_type": "code",
   "execution_count": 3,
   "metadata": {},
   "outputs": [],
   "source": [
    "# Set up some colors for the sensors and the activities.\n",
    "\n",
    "colors = px.colors.qualitative.D3\n",
    "values = ['front', 'lateral', 'vertical']\n",
    "SENSOR_COLORS = {\n",
    "    value: colors[i] for i, value in enumerate(values)}\n",
    "\n",
    "colors = px.colors.qualitative.Pastel\n",
    "values = (sensor_df[['activity', 'activity_label']]\n",
    "          .drop_duplicates()\n",
    "          .to_dict(orient='records'))\n",
    "ACTIVITY_COLORS = {}\n",
    "for i, value in enumerate(values):\n",
    "    ACTIVITY_COLORS[value['activity']] = ACTIVITY_COLORS[value['activity_label']] = colors[i]"
   ]
  },
  {
   "cell_type": "markdown",
   "metadata": {},
   "source": [
    "### Sensor densities by activity\n",
    "\n",
    "We plot probability densities from the raw data showing all sensors for each activity.\n",
    "Plotly provides an interactive legend which can be clicked to show or hide the data\n",
    "for each sensor."
   ]
  },
  {
   "cell_type": "code",
   "execution_count": 6,
   "metadata": {},
   "outputs": [
    {
     "data": {
      "text/html": [
       "\n",
       "        <iframe\n",
       "            width=\"100%\"\n",
       "            height=\"650\"\n",
       "            src=\"http://127.0.0.1:8050/\"\n",
       "            frameborder=\"0\"\n",
       "            allowfullscreen\n",
       "        ></iframe>\n",
       "        "
      ],
      "text/plain": [
       "<IPython.lib.display.IFrame at 0x11fad7b50>"
      ]
     },
     "metadata": {},
     "output_type": "display_data"
    }
   ],
   "source": [
    "def plot():\n",
    "    sensors = ['front', 'lateral', 'vertical']\n",
    "    activity_labels = sorted(sensor_df['activity_label'].unique())\n",
    "    fig = make_subplots(\n",
    "        rows=2, \n",
    "        cols=2, \n",
    "        vertical_spacing=0.1,\n",
    "        horizontal_spacing=0.1,\n",
    "        subplot_titles=[label.capitalize() for label in activity_labels])\n",
    "    \n",
    "    for index, activity_label in enumerate(activity_labels):\n",
    "        df = sensor_df[sensor_df['activity_label'] == activity_label]\n",
    "        for sensor in sensors:\n",
    "            data = df[sensor]\n",
    "            density = gaussian_kde(data)\n",
    "            x = np.linspace(data.min(), data.max(), 250)\n",
    "            y = density(x)\n",
    "            fig.add_trace(\n",
    "                go.Scatter(\n",
    "                    x=x, \n",
    "                    y=y, \n",
    "                    line_color=SENSOR_COLORS[sensor],\n",
    "                    mode='lines', \n",
    "                    name=sensor, \n",
    "                    showlegend=index == 0,\n",
    "                    fill='toself',\n",
    "                    opacity=1.0,\n",
    "                    legendgroup=sensor),\n",
    "                col=(index % 2) + 1, row=index // 2 + 1)\n",
    "    fig.update_layout(\n",
    "        height=600, \n",
    "        width=800,\n",
    "        margin=dict(l=24, r=24, t=64, b=0),\n",
    "        legend_title_text='<b>Sensor</b>',\n",
    "        title='<b>Sensor densities for different activities</b>')\n",
    "    return fig\n",
    "\n",
    "app = JupyterDash(__name__)\n",
    "app.layout = html.Div(children=[\n",
    "    dcc.Graph(id='plot', figure=plot(), config={'displayModeBar': False})\n",
    "])\n",
    "\n",
    "app.run_server(debug=True, mode='inline')"
   ]
  },
  {
   "cell_type": "markdown",
   "metadata": {},
   "source": [
    "### Activity densities for each sensor\n",
    "\n",
    "We plot densities again, this time showing each activity for a single sensor.\n",
    "Again, the legend is interactive and clicking on an activity will\n",
    "show or hide the density for that activty on all plots."
   ]
  },
  {
   "cell_type": "code",
   "execution_count": 5,
   "metadata": {},
   "outputs": [
    {
     "data": {
      "text/html": [
       "\n",
       "        <iframe\n",
       "            width=\"100%\"\n",
       "            height=\"650\"\n",
       "            src=\"http://127.0.0.1:8050/\"\n",
       "            frameborder=\"0\"\n",
       "            allowfullscreen\n",
       "        ></iframe>\n",
       "        "
      ],
      "text/plain": [
       "<IPython.lib.display.IFrame at 0x11faa27f0>"
      ]
     },
     "metadata": {},
     "output_type": "display_data"
    }
   ],
   "source": [
    "def plot():\n",
    "    sensors = ['front', 'lateral', 'vertical']\n",
    "    activity_labels = sorted(sensor_df['activity_label'].unique())\n",
    "    fig = make_subplots(\n",
    "        rows=3, \n",
    "        cols=1, \n",
    "        vertical_spacing=0.1,\n",
    "        subplot_titles=[sensor.capitalize() for sensor in sensors])\n",
    "    \n",
    "\n",
    "    for activity_label, activity_df in sensor_df.groupby('activity_label'):\n",
    "        for index, sensor in enumerate(sensors):\n",
    "            data = activity_df[sensor]\n",
    "            density = gaussian_kde(data)\n",
    "            x = np.linspace(data.min(), data.max(), 250)\n",
    "            y = density(x)\n",
    "            fig.add_trace(\n",
    "                go.Scatter(\n",
    "                    x=x, \n",
    "                    y=y, \n",
    "                    line_color=ACTIVITY_COLORS[activity_label], \n",
    "                    mode='lines', \n",
    "                    name=activity_label, \n",
    "                    showlegend=index == 0,\n",
    "                    fill='toself',\n",
    "                    legendgroup=activity_label),\n",
    "                row=index + 1, col=1)\n",
    "    fig.update_layout(\n",
    "        height=600, \n",
    "        width=500,\n",
    "        margin=dict(l=24, r=24, t=64, b=32),\n",
    "        legend_title_text='<b>Activity</b>',\n",
    "        title='<b>Activity densities for different sensors</b>')\n",
    "    return fig\n",
    "\n",
    "app = JupyterDash(__name__)\n",
    "app.layout = html.Div(children=[\n",
    "    dcc.Graph(id='plot', figure=plot(), config={'displayModeBar': False}),\n",
    "])\n",
    "\n",
    "app.run_server(debug=True, mode='inline')"
   ]
  },
  {
   "cell_type": "code",
   "execution_count": null,
   "metadata": {},
   "outputs": [],
   "source": []
  }
 ],
 "metadata": {
  "kernelspec": {
   "display_name": "Python 3",
   "language": "python",
   "name": "python3"
  },
  "language_info": {
   "codemirror_mode": {
    "name": "ipython",
    "version": 3
   },
   "file_extension": ".py",
   "mimetype": "text/x-python",
   "name": "python",
   "nbconvert_exporter": "python",
   "pygments_lexer": "ipython3",
   "version": "3.8.5"
  }
 },
 "nbformat": 4,
 "nbformat_minor": 4
}
