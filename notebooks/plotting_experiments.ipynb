{
 "cells": [
  {
   "cell_type": "code",
   "execution_count": 1,
   "metadata": {},
   "outputs": [],
   "source": [
    "from pathlib import Path\n",
    "\n",
    "from matplotlib.cm import get_cmap\n",
    "import matplotlib.patches as mpatches\n",
    "import matplotlib.pyplot as plt\n",
    "\n",
    "import numpy as np\n",
    "import pandas as pd"
   ]
  },
  {
   "cell_type": "code",
   "execution_count": 2,
   "metadata": {},
   "outputs": [],
   "source": [
    "# define constants\n",
    "\n",
    "DATA = Path.home() / 'devel/motiondetection'\n",
    "DATA_ROOT = DATA / 'data'\n"
   ]
  },
  {
   "cell_type": "code",
   "execution_count": 3,
   "metadata": {},
   "outputs": [
    {
     "name": "stdout",
     "output_type": "stream",
     "text": [
      "/home/michele/devel/motiondetection/data\n"
     ]
    }
   ],
   "source": [
    "print(DATA_ROOT)"
   ]
  },
  {
   "cell_type": "markdown",
   "metadata": {},
   "source": [
    "### Load data\n",
    "\n",
    "**Data description**\n",
    "- Column 1: Time in seconds\n",
    "- Column 2: Acceleration reading in G for frontal axis\n",
    "- Column 3: Acceleration reading in G for vertical axis\n",
    "- Column 4: Acceleration reading in G for lateral axis\n",
    "- Column 5: Id of antenna reading sensor\n",
    "- Column 6: Received signal strength indicator (RSSI)\n",
    "- Column 7: Phase\n",
    "- Column 8: Frequency\n",
    "- Column 9: Label of activity, 1: sit on bed, 2: sit on chair, 3: lying, 4: ambulating"
   ]
  },
  {
   "cell_type": "code",
   "execution_count": 4,
   "metadata": {},
   "outputs": [],
   "source": [
    "dfs = []\n",
    "activities = ['bed', 'chair', 'lying', 'ambulating']\n",
    "default_names = ['time', 'front', 'vertical', 'lateral', 'sensor_id', 'rssi', 'phase', 'frequency', 'activity']\n",
    "for data_file in DATA_ROOT.rglob('d[12]p??[FM]'):\n",
    "    df = pd.read_csv(data_file, names=default_names)\n",
    "    df['activity_label'] = df['activity'].apply(lambda i: activities[i - 1])\n",
    "    df['gender_label'] = str(data_file)[-1]\n",
    "    df['participant'] = data_file.name\n",
    "    dfs.append(df)\n",
    "\n",
    "activity_df = pd.concat(dfs, axis='index')\n",
    "# activity_df.to_csv('activity_df.csv')"
   ]
  },
  {
   "cell_type": "code",
   "execution_count": 5,
   "metadata": {},
   "outputs": [
    {
     "data": {
      "text/html": [
       "<div>\n",
       "<style scoped>\n",
       "    .dataframe tbody tr th:only-of-type {\n",
       "        vertical-align: middle;\n",
       "    }\n",
       "\n",
       "    .dataframe tbody tr th {\n",
       "        vertical-align: top;\n",
       "    }\n",
       "\n",
       "    .dataframe thead th {\n",
       "        text-align: right;\n",
       "    }\n",
       "</style>\n",
       "<table border=\"1\" class=\"dataframe\">\n",
       "  <thead>\n",
       "    <tr style=\"text-align: right;\">\n",
       "      <th></th>\n",
       "      <th>time</th>\n",
       "      <th>front</th>\n",
       "      <th>vertical</th>\n",
       "      <th>lateral</th>\n",
       "      <th>sensor_id</th>\n",
       "      <th>rssi</th>\n",
       "      <th>phase</th>\n",
       "      <th>frequency</th>\n",
       "      <th>activity</th>\n",
       "      <th>activity_label</th>\n",
       "      <th>gender_label</th>\n",
       "      <th>participant</th>\n",
       "    </tr>\n",
       "  </thead>\n",
       "  <tbody>\n",
       "    <tr>\n",
       "      <th>0</th>\n",
       "      <td>0.000</td>\n",
       "      <td>0.037521</td>\n",
       "      <td>0.91636</td>\n",
       "      <td>-0.367180</td>\n",
       "      <td>2</td>\n",
       "      <td>-47.0</td>\n",
       "      <td>4.401000</td>\n",
       "      <td>923.25</td>\n",
       "      <td>4</td>\n",
       "      <td>ambulating</td>\n",
       "      <td>F</td>\n",
       "      <td>d1p26F</td>\n",
       "    </tr>\n",
       "    <tr>\n",
       "      <th>1</th>\n",
       "      <td>0.025</td>\n",
       "      <td>0.037521</td>\n",
       "      <td>0.91636</td>\n",
       "      <td>-0.367180</td>\n",
       "      <td>2</td>\n",
       "      <td>-47.0</td>\n",
       "      <td>4.158600</td>\n",
       "      <td>923.25</td>\n",
       "      <td>4</td>\n",
       "      <td>ambulating</td>\n",
       "      <td>F</td>\n",
       "      <td>d1p26F</td>\n",
       "    </tr>\n",
       "    <tr>\n",
       "      <th>2</th>\n",
       "      <td>0.075</td>\n",
       "      <td>0.037521</td>\n",
       "      <td>0.91636</td>\n",
       "      <td>-0.367180</td>\n",
       "      <td>2</td>\n",
       "      <td>-48.0</td>\n",
       "      <td>0.072097</td>\n",
       "      <td>923.25</td>\n",
       "      <td>4</td>\n",
       "      <td>ambulating</td>\n",
       "      <td>F</td>\n",
       "      <td>d1p26F</td>\n",
       "    </tr>\n",
       "    <tr>\n",
       "      <th>3</th>\n",
       "      <td>0.100</td>\n",
       "      <td>0.236850</td>\n",
       "      <td>1.05420</td>\n",
       "      <td>0.168760</td>\n",
       "      <td>2</td>\n",
       "      <td>-48.0</td>\n",
       "      <td>1.998800</td>\n",
       "      <td>923.25</td>\n",
       "      <td>4</td>\n",
       "      <td>ambulating</td>\n",
       "      <td>F</td>\n",
       "      <td>d1p26F</td>\n",
       "    </tr>\n",
       "    <tr>\n",
       "      <th>4</th>\n",
       "      <td>0.500</td>\n",
       "      <td>0.049247</td>\n",
       "      <td>1.00820</td>\n",
       "      <td>0.088944</td>\n",
       "      <td>2</td>\n",
       "      <td>-58.0</td>\n",
       "      <td>1.572300</td>\n",
       "      <td>921.25</td>\n",
       "      <td>4</td>\n",
       "      <td>ambulating</td>\n",
       "      <td>F</td>\n",
       "      <td>d1p26F</td>\n",
       "    </tr>\n",
       "  </tbody>\n",
       "</table>\n",
       "</div>"
      ],
      "text/plain": [
       "    time     front  vertical   lateral  sensor_id  rssi     phase  frequency  \\\n",
       "0  0.000  0.037521   0.91636 -0.367180          2 -47.0  4.401000     923.25   \n",
       "1  0.025  0.037521   0.91636 -0.367180          2 -47.0  4.158600     923.25   \n",
       "2  0.075  0.037521   0.91636 -0.367180          2 -48.0  0.072097     923.25   \n",
       "3  0.100  0.236850   1.05420  0.168760          2 -48.0  1.998800     923.25   \n",
       "4  0.500  0.049247   1.00820  0.088944          2 -58.0  1.572300     921.25   \n",
       "\n",
       "   activity activity_label gender_label participant  \n",
       "0         4     ambulating            F      d1p26F  \n",
       "1         4     ambulating            F      d1p26F  \n",
       "2         4     ambulating            F      d1p26F  \n",
       "3         4     ambulating            F      d1p26F  \n",
       "4         4     ambulating            F      d1p26F  "
      ]
     },
     "execution_count": 5,
     "metadata": {},
     "output_type": "execute_result"
    }
   ],
   "source": [
    "activity_df.head()"
   ]
  },
  {
   "cell_type": "code",
   "execution_count": null,
   "metadata": {},
   "outputs": [],
   "source": [
    "len(activity_df.participant.unique())"
   ]
  },
  {
   "cell_type": "code",
   "execution_count": null,
   "metadata": {},
   "outputs": [],
   "source": [
    "participant = 'd1p44M'\n",
    "df = activity_df[activity_df['participant'] == participant]\n",
    "df.head()"
   ]
  },
  {
   "cell_type": "code",
   "execution_count": null,
   "metadata": {},
   "outputs": [],
   "source": [
    "part = df['participant'].unique()[0]\n",
    "\n",
    "fig, ax = plt.subplots()\n",
    "ax.plot(df['front'], color='aqua')\n",
    "ax.plot(df['vertical'], color='blue')\n",
    "ax.plot(df['lateral'], color='lime')\n",
    "ax.set_title(part)\n",
    "\n",
    "fig.savefig('{}.png'.format(part))\n"
   ]
  },
  {
   "cell_type": "code",
   "execution_count": null,
   "metadata": {},
   "outputs": [],
   "source": []
  },
  {
   "cell_type": "markdown",
   "metadata": {},
   "source": [
    "hmm it looks like some of the participants' data is very sparse. better get an indication of data points for each participant"
   ]
  },
  {
   "cell_type": "code",
   "execution_count": null,
   "metadata": {},
   "outputs": [],
   "source": [
    "data_points = activity_df.groupby('participant').size()"
   ]
  },
  {
   "cell_type": "code",
   "execution_count": null,
   "metadata": {},
   "outputs": [],
   "source": [
    "data_points.min()"
   ]
  },
  {
   "cell_type": "code",
   "execution_count": null,
   "metadata": {},
   "outputs": [],
   "source": [
    "len(data_points[data_points < 100])"
   ]
  },
  {
   "cell_type": "markdown",
   "metadata": {},
   "source": [
    "let's plot the figure without lables for all the participants!"
   ]
  },
  {
   "cell_type": "code",
   "execution_count": 10,
   "metadata": {},
   "outputs": [],
   "source": [
    "def plotter(name, group):\n",
    "    fig, ax = plt.subplots()\n",
    "    ax.plot(group['front'], color='aqua')\n",
    "    ax.plot(group['vertical'], color='blue')\n",
    "    ax.plot(group['lateral'], color='lime')\n",
    "    ax.set_title(name)\n",
    "    fig.savefig('{}.png'.format(name))\n",
    "    plt.close(fig)"
   ]
  },
  {
   "cell_type": "code",
   "execution_count": 11,
   "metadata": {},
   "outputs": [],
   "source": [
    "for name, group in activity_df.groupby('participant'):\n",
    "    plotter(name, group)"
   ]
  },
  {
   "cell_type": "code",
   "execution_count": null,
   "metadata": {},
   "outputs": [],
   "source": []
  }
 ],
 "metadata": {
  "kernelspec": {
   "display_name": "Python 3",
   "language": "python",
   "name": "python3"
  },
  "language_info": {
   "codemirror_mode": {
    "name": "ipython",
    "version": 3
   },
   "file_extension": ".py",
   "mimetype": "text/x-python",
   "name": "python",
   "nbconvert_exporter": "python",
   "pygments_lexer": "ipython3",
   "version": "3.8.2"
  }
 },
 "nbformat": 4,
 "nbformat_minor": 4
}
