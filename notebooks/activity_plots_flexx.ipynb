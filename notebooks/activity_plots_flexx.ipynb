{
 "cells": [
  {
   "cell_type": "code",
   "execution_count": 2,
   "metadata": {},
   "outputs": [
    {
     "name": "stdout",
     "output_type": "stream",
     "text": [
      "[I 14:47:18 flexx.app] Asset store collected 2 new modules.\n"
     ]
    }
   ],
   "source": [
    "from pathlib import Path\n",
    "\n",
    "import matplotlib\n",
    "from matplotlib.cm import get_cmap\n",
    "from matplotlib.colors import  to_hex\n",
    "\n",
    "from flexx import flx\n",
    "import numpy as np\n",
    "import pandas as pd\n",
    "from pscript import RawJS\n",
    "from pscript.stubs import Math, d3, window"
   ]
  },
  {
   "cell_type": "code",
   "execution_count": 3,
   "metadata": {},
   "outputs": [],
   "source": [
    "try:\n",
    "    flx.assets.associate_asset(__name__, 'https://d3js.org/d3.v5.min.js')\n",
    "except ValueError:\n",
    "    pass"
   ]
  },
  {
   "cell_type": "code",
   "execution_count": 4,
   "metadata": {},
   "outputs": [],
   "source": [
    "DATA_ROOT = Path('..') / 'data'"
   ]
  },
  {
   "cell_type": "code",
   "execution_count": 5,
   "metadata": {},
   "outputs": [],
   "source": [
    "dfs = []\n",
    "activity_labels = ['bed', 'chair', 'lying', 'ambulating']\n",
    "default_names = ['time', 'front', 'vertical', 'lateral', 'sensor_id', 'rssi', 'phase', 'frequency', 'activity']\n",
    "for data_file in Path(DATA_ROOT).rglob('d[12]p??[FM]'):\n",
    "    df = pd.read_csv(data_file, names=default_names)\n",
    "    df['activity_label'] = df['activity'].apply(lambda i: activity_labels[i - 1])\n",
    "    df['gender_label'] = str(data_file)[-1]\n",
    "    df['participant'] = data_file.name\n",
    "    dfs.append(df)\n",
    "\n",
    "sensor_df = pd.concat(dfs, axis='index')\n",
    "sensor_df = sensor_df.sort_values(by=['participant', 'time'])\n",
    "\n",
    "sensor_df.to_csv('sensor_df.csv')"
   ]
  },
  {
   "cell_type": "markdown",
   "metadata": {},
   "source": [
    "### Make data for plotting"
   ]
  },
  {
   "cell_type": "code",
   "execution_count": 6,
   "metadata": {},
   "outputs": [],
   "source": [
    "# We join the participant name with the activity label of the row\n",
    "# to get ['d1p01M-bed', 'd1p01M-bed', ...] etc.\n",
    "values = sensor_df['participant'].str.cat(sensor_df['activity_label'], sep='-')\n",
    "\n",
    "# Using shift to compare consecutive values we can obtain a boolean series\n",
    "# which is `True` at the start of every activity, and `False` otherwise.\n",
    "activity_start = values.shift(1) != values\n",
    "\n",
    "# The cumsum trick converts the boolean values to integers,\n",
    "# so `True` becomes `1` and `False` becomes `0`. \n",
    "# As `activity_start` is `True` at the start of every activity and `False`\n",
    "# otherwise, successive activities in the data get an different (increasing)\n",
    "# number:\n",
    "#\n",
    "#    list(pd.Series([True, False, True, True]).cumsum()) # <- [1, 1, 2, 3]\n",
    "#\n",
    "sensor_df['activity_block'] = activity_start.cumsum()\n",
    "\n",
    "# Create a data structure for plotting.\n",
    "# Must make sure all data types are python native.\n",
    "plot_data = {}\n",
    "for participant, participant_df in sensor_df.groupby(['participant']):\n",
    "\n",
    "    plot_data[participant] = {\n",
    "        'activities': [],\n",
    "        'time': [participant_df['time'].min(), participant_df['time'].max()]\n",
    "    }\n",
    "    for _, activity_df in participant_df.groupby(['activity_block']):\n",
    "        activity = {\n",
    "            'start': activity_df['time'].min(),\n",
    "            'end': activity_df['time'].max(),\n",
    "            'duration': activity_df['time'].max() - activity_df['time'].min(),\n",
    "            'activity': int(activity_df['activity'].unique()[0]),\n",
    "            'activity_label': activity_df['activity_label'].unique()[0],\n",
    "            'sensor_data': {\n",
    "                'time': list(activity_df['time']),\n",
    "                'front': list(activity_df['front']),\n",
    "                'lateral': list(activity_df['lateral']),\n",
    "                'vertical': list(activity_df['vertical'])\n",
    "            }\n",
    "        }\n",
    "        plot_data[participant]['activities'].append(activity)\n",
    "            \n"
   ]
  },
  {
   "cell_type": "code",
   "execution_count": 58,
   "metadata": {},
   "outputs": [],
   "source": [
    "### Create a widget for the plot"
   ]
  },
  {
   "cell_type": "code",
   "execution_count": 59,
   "metadata": {},
   "outputs": [],
   "source": [
    "SENSOR_COLORS = {\n",
    "  'front': '#1f77b4',\n",
    "  'vertical': '#ff7f0e',\n",
    "  'lateral': '#2ca02c',\n",
    "}\n",
    "\n",
    "ACTIVITY_COLORS = {\n",
    "  '4': '#fed9a6',\n",
    "  '1': '#b3cde3',\n",
    "  '2': '#ccebc5',\n",
    "  '3': '#decbe4',\n",
    "};\n",
    "\n",
    "class ActivityPlot(flx.Widget):\n",
    "    \n",
    "   \n",
    "    def init(self):\n",
    "        self.node.id = self.id\n",
    "        window.setTimeout(self.load_viz, 500)\n",
    "        \n",
    "    def load_viz(self):\n",
    "        w, h = self.size\n",
    "        \n",
    "        root = d3.select('#' + self.id)\n",
    "        \n",
    "        svg = root.append('svg').attr('width', w).attr('height', h)\n",
    "        \n",
    "        participants = list(plot_data.keys())\n",
    "        data = plot_data[participants[0]]\n",
    "        print(data)\n",
    "        x = d3.scaleLinear().domain([0, max(data['time'])]).range([0, w])\n",
    "        xAxis = svg.append('g').call(d3.axisBottom(x))\n",
    "        \n",
    "        y = d3.scaleLinear().domain([-2, 2]).range([h, 0])\n",
    "        yAxis = svg.append('g').call(d3.axisLeft(y))\n",
    "        \n",
    "                \n",
    "       \n",
    "        paths = []\n",
    "        markers = []\n",
    "        rectangles = []\n",
    "        labels = []\n",
    "        \n",
    "        nactivities = len(data['activities'])\n",
    "        for i, activity_data in enumerate(data['activities']):\n",
    "            \n",
    "            # Plot activity rectangles\n",
    "            rectangle = (svg.datum(activity_data)\n",
    "                    .append('rect')\n",
    "                    .attr('x', lambda d: x(d['start']))\n",
    "                    .attr('y', 0)\n",
    "                    .attr('width', lambda d: x(d['end']) - x(d['start']))\n",
    "                    .attr('height', h)\n",
    "                    .attr('fill', lambda d: ACTIVITY_COLORS[d['activity']])\n",
    "                    .attr('opacity', 0.333)\n",
    "                    )\n",
    "            rectangles.append(rectangle)\n",
    "            \n",
    "            # Plot activity_labels\n",
    "            label = (svg.datum(activity_data)\n",
    "                   .append('text')\n",
    "                   .attr('x', lambda d: (x(d['end']) + x(d['start'])) / 2)\n",
    "                   .attr('y',  h - (i + 0.5) / nactivities * h)\n",
    "                   .attr('text-anchor', 'middle')\n",
    "                   .style('font-size', 10)\n",
    "                   .text(lambda d: d['activity_label']))\n",
    "            labels.append(label)\n",
    "       \n",
    "            # Plot sensor data\n",
    "            for sensor in ['front', 'lateral', 'vertical']:\n",
    "                points = list(zip(activity_data['sensor_data']['time'], activity_data['sensor_data'][sensor]))\n",
    "                path = (svg.append('path')\n",
    "                    .datum(points)\n",
    "                    .attr('fill', 'none')\n",
    "                    .attr('stroke', SENSOR_COLORS[sensor])\n",
    "                    .attr('stroke-width', 1.5)\n",
    "                    .attr('d', d3.line().x(lambda d: x(d[0])).y(lambda d: y(d[1])) ))\n",
    "                paths.append(path)\n",
    "                \n",
    "                marks = (svg.selectAll('dot')\n",
    "                    .data(points)\n",
    "                    .enter()\n",
    "                    .append('circle')\n",
    "                    .attr('cx', lambda d: x(d[0]))\n",
    "                    .attr('cy', lambda d: y(d[1]))\n",
    "                    .attr('r', 2)\n",
    "                    .style('fill', SENSOR_COLORS[sensor]))\n",
    "                markers.append(marks)\n",
    "            \n",
    "            \n",
    "        def update_chart():\n",
    "            \n",
    "            newX = d3.event.transform.rescaleX(x)\n",
    "            newY = y\n",
    "            xAxis.call(d3.axisBottom(newX))\n",
    "            yAxis.call(d3.axisLeft(newY))\n",
    "            \n",
    "            for path in paths:\n",
    "                path.attr('d', d3.line().x(lambda d: newX(d[0])).y(lambda d:y(d[1])))\n",
    "                \n",
    "            for marks in markers:\n",
    "                marks.attr('cx', lambda d: newX(d[0])).attr('cy', lambda d:y(d[1]))\n",
    "            \n",
    "            for rectangle in rectangles:\n",
    "                (rectangle.attr('x', lambda d: newX(d['start']))\n",
    "                 .attr('width', lambda d: newX(d['end']) - newX(d['start'])))\n",
    "            \n",
    "            for label in labels:\n",
    "                (label.attr('x',  lambda d: (newX(d['end']) + newX(d['start'])) / 2))\n",
    "\n",
    "        zoom = (d3.zoom()\n",
    "            .scaleExtent([0.5, 20]) \n",
    "            .extent([[0, 0], [w, h]])\n",
    "            .on('zoom', update_chart))\n",
    "        \n",
    "        (svg.append('rect')\n",
    "            .attr('width', w)\n",
    "            .attr('height', h)\n",
    "            .style('fill', 'none')\n",
    "            .style('pointer-events', 'all')\n",
    "            .attr('transform', 'translate(0,0)')\n",
    "            .call(zoom))"
   ]
  },
  {
   "cell_type": "code",
   "execution_count": 60,
   "metadata": {},
   "outputs": [
    {
     "name": "stdout",
     "output_type": "stream",
     "text": [
      "[I 15:14:27 flexx.app] Exported standalone app to '/Users/mwibrow/github/motiondetection/notebooks/ActivityPlot.html'\n"
     ]
    },
    {
     "data": {
      "text/html": [
       "\n",
       "        <iframe\n",
       "            width=\"800\"\n",
       "            height=\"400\"\n",
       "            src=\"ActivityPlot.html\"\n",
       "            frameborder=\"0\"\n",
       "            allowfullscreen\n",
       "        ></iframe>\n",
       "        "
      ],
      "text/plain": [
       "<IPython.lib.display.IFrame at 0x1158d5bb0>"
      ]
     },
     "execution_count": 60,
     "metadata": {},
     "output_type": "execute_result"
    }
   ],
   "source": [
    "# Save the app as a self-contained HTML page\n",
    "# and then load in to jupyter using an iframe:\n",
    "app = flx.App(ActivityPlot)\n",
    "html = f'{app.cls.__name__}.html'\n",
    "app.export(html, link=0)\n",
    "from IPython.display import IFrame\n",
    "\n",
    "IFrame(html, width=800, height=400)"
   ]
  },
  {
   "cell_type": "code",
   "execution_count": null,
   "metadata": {},
   "outputs": [],
   "source": []
  }
 ],
 "metadata": {
  "kernelspec": {
   "display_name": "Python 3",
   "language": "python",
   "name": "python3"
  },
  "language_info": {
   "codemirror_mode": {
    "name": "ipython",
    "version": 3
   },
   "file_extension": ".py",
   "mimetype": "text/x-python",
   "name": "python",
   "nbconvert_exporter": "python",
   "pygments_lexer": "ipython3",
   "version": "3.8.3"
  }
 },
 "nbformat": 4,
 "nbformat_minor": 4
}
